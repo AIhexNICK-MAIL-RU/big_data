{
  "nbformat": 4,
  "nbformat_minor": 0,
  "metadata": {
    "colab": {
      "provenance": [],
      "toc_visible": true,
      "authorship_tag": "ABX9TyNzhiNP/V/wQcSs+4uNjZ3s",
      "include_colab_link": true
    },
    "kernelspec": {
      "name": "python3",
      "display_name": "Python 3"
    },
    "language_info": {
      "name": "python"
    }
  },
  "cells": [
    {
      "cell_type": "markdown",
      "metadata": {
        "id": "view-in-github",
        "colab_type": "text"
      },
      "source": [
        "<a href=\"https://colab.research.google.com/github/AIhexNICK-MAIL-RU/big_data/blob/main/%D0%9B%D0%B5%D0%BA%D1%86%D0%B8%D1%8F_7.ipynb\" target=\"_parent\"><img src=\"https://colab.research.google.com/assets/colab-badge.svg\" alt=\"Open In Colab\"/></a>"
      ]
    },
    {
      "cell_type": "markdown",
      "source": [],
      "metadata": {
        "id": "MWUuImh5DS-x"
      }
    },
    {
      "cell_type": "markdown",
      "source": [
        "# Машиное обучние PySpark"
      ],
      "metadata": {
        "id": "Ei50kBKa4t6K"
      }
    },
    {
      "cell_type": "markdown",
      "source": [
        "Установка PySpark"
      ],
      "metadata": {
        "id": "cREhwrKKDZqy"
      }
    },
    {
      "cell_type": "code",
      "execution_count": 9,
      "metadata": {
        "colab": {
          "base_uri": "https://localhost:8080/"
        },
        "id": "9sDxcbaVDR_e",
        "outputId": "858e43b9-be0e-4dc0-f0b7-61e88f4612e1"
      },
      "outputs": [
        {
          "output_type": "stream",
          "name": "stdout",
          "text": [
            "Hit:1 https://cloud.r-project.org/bin/linux/ubuntu focal-cran40/ InRelease\n",
            "Hit:2 https://developer.download.nvidia.com/compute/cuda/repos/ubuntu2004/x86_64  InRelease\n",
            "Hit:3 http://ppa.launchpad.net/c2d4u.team/c2d4u4.0+/ubuntu focal InRelease\n",
            "Hit:4 http://security.ubuntu.com/ubuntu focal-security InRelease\n",
            "Hit:5 http://archive.ubuntu.com/ubuntu focal InRelease\n",
            "Hit:6 http://ppa.launchpad.net/cran/libgit2/ubuntu focal InRelease\n",
            "Hit:7 http://archive.ubuntu.com/ubuntu focal-updates InRelease\n",
            "Hit:8 http://archive.ubuntu.com/ubuntu focal-backports InRelease\n",
            "Hit:9 http://ppa.launchpad.net/deadsnakes/ppa/ubuntu focal InRelease\n",
            "Hit:10 http://ppa.launchpad.net/graphics-drivers/ppa/ubuntu focal InRelease\n",
            "Hit:11 http://ppa.launchpad.net/ubuntugis/ppa/ubuntu focal InRelease\n",
            "Reading package lists... Done\n"
          ]
        }
      ],
      "source": [
        "!apt-get update"
      ]
    },
    {
      "cell_type": "code",
      "source": [
        "!apt-get install openjdk-8-jdk-headless -qq > /dev/null"
      ],
      "metadata": {
        "id": "J5bFhlOxDvGH"
      },
      "execution_count": 11,
      "outputs": []
    },
    {
      "cell_type": "code",
      "source": [
        "!wget -q https://downloads.apache.org/spark/spark-3.4.0/spark-3.4.0-bin-hadoop3.tgz"
      ],
      "metadata": {
        "id": "_OLuu34-EeEE"
      },
      "execution_count": 12,
      "outputs": []
    },
    {
      "cell_type": "code",
      "source": [
        "!tar -xvf spark-3.4.0-bin-hadoop3.tgz"
      ],
      "metadata": {
        "colab": {
          "base_uri": "https://localhost:8080/"
        },
        "id": "WU3ahPd8Ekt6",
        "outputId": "9ad9caab-e01e-4597-f04b-509da224cbfd"
      },
      "execution_count": 13,
      "outputs": [
        {
          "output_type": "stream",
          "name": "stdout",
          "text": [
            "spark-3.4.0-bin-hadoop3/\n",
            "spark-3.4.0-bin-hadoop3/data/\n",
            "spark-3.4.0-bin-hadoop3/data/streaming/\n",
            "spark-3.4.0-bin-hadoop3/data/streaming/AFINN-111.txt\n",
            "spark-3.4.0-bin-hadoop3/data/graphx/\n",
            "spark-3.4.0-bin-hadoop3/data/graphx/followers.txt\n",
            "spark-3.4.0-bin-hadoop3/data/graphx/users.txt\n",
            "spark-3.4.0-bin-hadoop3/data/mllib/\n",
            "spark-3.4.0-bin-hadoop3/data/mllib/als/\n",
            "spark-3.4.0-bin-hadoop3/data/mllib/als/test.data\n",
            "spark-3.4.0-bin-hadoop3/data/mllib/als/sample_movielens_ratings.txt\n",
            "spark-3.4.0-bin-hadoop3/data/mllib/gmm_data.txt\n",
            "spark-3.4.0-bin-hadoop3/data/mllib/sample_libsvm_data.txt\n",
            "spark-3.4.0-bin-hadoop3/data/mllib/sample_svm_data.txt\n",
            "spark-3.4.0-bin-hadoop3/data/mllib/sample_fpgrowth.txt\n",
            "spark-3.4.0-bin-hadoop3/data/mllib/kmeans_data.txt\n",
            "spark-3.4.0-bin-hadoop3/data/mllib/pic_data.txt\n",
            "spark-3.4.0-bin-hadoop3/data/mllib/streaming_kmeans_data_test.txt\n",
            "spark-3.4.0-bin-hadoop3/data/mllib/sample_linear_regression_data.txt\n",
            "spark-3.4.0-bin-hadoop3/data/mllib/ridge-data/\n",
            "spark-3.4.0-bin-hadoop3/data/mllib/ridge-data/lpsa.data\n",
            "spark-3.4.0-bin-hadoop3/data/mllib/sample_binary_classification_data.txt\n",
            "spark-3.4.0-bin-hadoop3/data/mllib/pagerank_data.txt\n",
            "spark-3.4.0-bin-hadoop3/data/mllib/sample_isotonic_regression_libsvm_data.txt\n",
            "spark-3.4.0-bin-hadoop3/data/mllib/sample_kmeans_data.txt\n",
            "spark-3.4.0-bin-hadoop3/data/mllib/sample_lda_libsvm_data.txt\n",
            "spark-3.4.0-bin-hadoop3/data/mllib/images/\n",
            "spark-3.4.0-bin-hadoop3/data/mllib/images/license.txt\n",
            "spark-3.4.0-bin-hadoop3/data/mllib/images/origin/\n",
            "spark-3.4.0-bin-hadoop3/data/mllib/images/origin/multi-channel/\n",
            "spark-3.4.0-bin-hadoop3/data/mllib/images/origin/multi-channel/chr30.4.184.jpg\n",
            "spark-3.4.0-bin-hadoop3/data/mllib/images/origin/multi-channel/BGRA_alpha_60.png\n",
            "spark-3.4.0-bin-hadoop3/data/mllib/images/origin/multi-channel/grayscale.jpg\n",
            "spark-3.4.0-bin-hadoop3/data/mllib/images/origin/multi-channel/BGRA.png\n",
            "spark-3.4.0-bin-hadoop3/data/mllib/images/origin/license.txt\n",
            "spark-3.4.0-bin-hadoop3/data/mllib/images/origin/kittens/\n",
            "spark-3.4.0-bin-hadoop3/data/mllib/images/origin/kittens/DP802813.jpg\n",
            "spark-3.4.0-bin-hadoop3/data/mllib/images/origin/kittens/54893.jpg\n",
            "spark-3.4.0-bin-hadoop3/data/mllib/images/origin/kittens/not-image.txt\n",
            "spark-3.4.0-bin-hadoop3/data/mllib/images/origin/kittens/DP153539.jpg\n",
            "spark-3.4.0-bin-hadoop3/data/mllib/images/origin/kittens/29.5.a_b_EGDP022204.jpg\n",
            "spark-3.4.0-bin-hadoop3/data/mllib/sample_lda_data.txt\n",
            "spark-3.4.0-bin-hadoop3/data/mllib/sample_movielens_data.txt\n",
            "spark-3.4.0-bin-hadoop3/data/mllib/sample_multiclass_classification_data.txt\n",
            "spark-3.4.0-bin-hadoop3/LICENSE\n",
            "spark-3.4.0-bin-hadoop3/jars/\n",
            "spark-3.4.0-bin-hadoop3/jars/zookeeper-jute-3.6.3.jar\n",
            "spark-3.4.0-bin-hadoop3/jars/derby-10.14.2.0.jar\n",
            "spark-3.4.0-bin-hadoop3/jars/hive-shims-0.23-2.3.9.jar\n",
            "spark-3.4.0-bin-hadoop3/jars/oro-2.0.8.jar\n",
            "spark-3.4.0-bin-hadoop3/jars/jline-2.14.6.jar\n",
            "spark-3.4.0-bin-hadoop3/jars/netty-buffer-4.1.87.Final.jar\n",
            "spark-3.4.0-bin-hadoop3/jars/libthrift-0.12.0.jar\n",
            "spark-3.4.0-bin-hadoop3/jars/json-1.8.jar\n",
            "spark-3.4.0-bin-hadoop3/jars/kubernetes-model-events-6.4.1.jar\n",
            "spark-3.4.0-bin-hadoop3/jars/avro-ipc-1.11.1.jar\n",
            "spark-3.4.0-bin-hadoop3/jars/jodd-core-3.5.2.jar\n",
            "spark-3.4.0-bin-hadoop3/jars/jackson-dataformat-yaml-2.14.2.jar\n",
            "spark-3.4.0-bin-hadoop3/jars/kubernetes-model-node-6.4.1.jar\n",
            "spark-3.4.0-bin-hadoop3/jars/spark-graphx_2.12-3.4.0.jar\n",
            "spark-3.4.0-bin-hadoop3/jars/commons-compiler-3.1.9.jar\n",
            "spark-3.4.0-bin-hadoop3/jars/javolution-5.5.1.jar\n",
            "spark-3.4.0-bin-hadoop3/jars/jersey-hk2-2.36.jar\n",
            "spark-3.4.0-bin-hadoop3/jars/netty-transport-native-epoll-4.1.87.Final-linux-x86_64.jar\n",
            "spark-3.4.0-bin-hadoop3/jars/opencsv-2.3.jar\n",
            "spark-3.4.0-bin-hadoop3/jars/orc-core-1.8.3-shaded-protobuf.jar\n",
            "spark-3.4.0-bin-hadoop3/jars/netty-transport-native-epoll-4.1.87.Final-linux-aarch_64.jar\n",
            "spark-3.4.0-bin-hadoop3/jars/zjsonpatch-0.3.0.jar\n",
            "spark-3.4.0-bin-hadoop3/jars/commons-collections-3.2.2.jar\n",
            "spark-3.4.0-bin-hadoop3/jars/json4s-scalap_2.12-3.7.0-M11.jar\n",
            "spark-3.4.0-bin-hadoop3/jars/jackson-core-asl-1.9.13.jar\n",
            "spark-3.4.0-bin-hadoop3/jars/jersey-container-servlet-2.36.jar\n",
            "spark-3.4.0-bin-hadoop3/jars/jackson-annotations-2.14.2.jar\n",
            "spark-3.4.0-bin-hadoop3/jars/JLargeArrays-1.5.jar\n",
            "spark-3.4.0-bin-hadoop3/jars/antlr-runtime-3.5.2.jar\n",
            "spark-3.4.0-bin-hadoop3/jars/arpack-3.0.3.jar\n",
            "spark-3.4.0-bin-hadoop3/jars/annotations-17.0.0.jar\n",
            "spark-3.4.0-bin-hadoop3/jars/spark-mllib-local_2.12-3.4.0.jar\n",
            "spark-3.4.0-bin-hadoop3/jars/jul-to-slf4j-2.0.6.jar\n",
            "spark-3.4.0-bin-hadoop3/jars/guava-14.0.1.jar\n",
            "spark-3.4.0-bin-hadoop3/jars/mesos-1.4.3-shaded-protobuf.jar\n",
            "spark-3.4.0-bin-hadoop3/jars/orc-shims-1.8.3.jar\n",
            "spark-3.4.0-bin-hadoop3/jars/hive-storage-api-2.8.1.jar\n",
            "spark-3.4.0-bin-hadoop3/jars/jackson-datatype-jsr310-2.14.2.jar\n",
            "spark-3.4.0-bin-hadoop3/jars/xbean-asm9-shaded-4.22.jar\n",
            "spark-3.4.0-bin-hadoop3/jars/breeze_2.12-2.1.0.jar\n",
            "spark-3.4.0-bin-hadoop3/jars/zookeeper-3.6.3.jar\n",
            "spark-3.4.0-bin-hadoop3/jars/parquet-column-1.12.3.jar\n",
            "spark-3.4.0-bin-hadoop3/jars/spark-mllib_2.12-3.4.0.jar\n",
            "spark-3.4.0-bin-hadoop3/jars/spire-macros_2.12-0.17.0.jar\n",
            "spark-3.4.0-bin-hadoop3/jars/commons-compress-1.22.jar\n",
            "spark-3.4.0-bin-hadoop3/jars/ST4-4.0.4.jar\n",
            "spark-3.4.0-bin-hadoop3/jars/hadoop-client-api-3.3.4.jar\n",
            "spark-3.4.0-bin-hadoop3/jars/arrow-vector-11.0.0.jar\n",
            "spark-3.4.0-bin-hadoop3/jars/curator-framework-2.13.0.jar\n",
            "spark-3.4.0-bin-hadoop3/jars/antlr4-runtime-4.9.3.jar\n",
            "spark-3.4.0-bin-hadoop3/jars/log4j-slf4j2-impl-2.19.0.jar\n",
            "spark-3.4.0-bin-hadoop3/jars/jersey-client-2.36.jar\n",
            "spark-3.4.0-bin-hadoop3/jars/jackson-databind-2.14.2.jar\n",
            "spark-3.4.0-bin-hadoop3/jars/scala-library-2.12.17.jar\n",
            "spark-3.4.0-bin-hadoop3/jars/kubernetes-model-networking-6.4.1.jar\n",
            "spark-3.4.0-bin-hadoop3/jars/hive-llap-common-2.3.9.jar\n",
            "spark-3.4.0-bin-hadoop3/jars/scala-compiler-2.12.17.jar\n",
            "spark-3.4.0-bin-hadoop3/jars/bonecp-0.8.0.RELEASE.jar\n",
            "spark-3.4.0-bin-hadoop3/jars/spark-mesos_2.12-3.4.0.jar\n",
            "spark-3.4.0-bin-hadoop3/jars/snappy-java-1.1.9.1.jar\n",
            "spark-3.4.0-bin-hadoop3/jars/netty-codec-http2-4.1.87.Final.jar\n",
            "spark-3.4.0-bin-hadoop3/jars/netty-common-4.1.87.Final.jar\n",
            "spark-3.4.0-bin-hadoop3/jars/spire-platform_2.12-0.17.0.jar\n",
            "spark-3.4.0-bin-hadoop3/jars/parquet-jackson-1.12.3.jar\n",
            "spark-3.4.0-bin-hadoop3/jars/lz4-java-1.8.0.jar\n",
            "spark-3.4.0-bin-hadoop3/jars/curator-client-2.13.0.jar\n",
            "spark-3.4.0-bin-hadoop3/jars/jdo-api-3.0.1.jar\n",
            "spark-3.4.0-bin-hadoop3/jars/hive-serde-2.3.9.jar\n",
            "spark-3.4.0-bin-hadoop3/jars/httpcore-4.4.16.jar\n",
            "spark-3.4.0-bin-hadoop3/jars/transaction-api-1.1.jar\n",
            "spark-3.4.0-bin-hadoop3/jars/netty-handler-proxy-4.1.87.Final.jar\n",
            "spark-3.4.0-bin-hadoop3/jars/univocity-parsers-2.9.1.jar\n",
            "spark-3.4.0-bin-hadoop3/jars/kubernetes-model-flowcontrol-6.4.1.jar\n",
            "spark-3.4.0-bin-hadoop3/jars/commons-lang-2.6.jar\n",
            "spark-3.4.0-bin-hadoop3/jars/commons-collections4-4.4.jar\n",
            "spark-3.4.0-bin-hadoop3/jars/spark-sketch_2.12-3.4.0.jar\n",
            "spark-3.4.0-bin-hadoop3/jars/netty-transport-native-kqueue-4.1.87.Final-osx-x86_64.jar\n",
            "spark-3.4.0-bin-hadoop3/jars/metrics-jvm-4.2.15.jar\n",
            "spark-3.4.0-bin-hadoop3/jars/jsr305-3.0.0.jar\n",
            "spark-3.4.0-bin-hadoop3/jars/spark-network-shuffle_2.12-3.4.0.jar\n",
            "spark-3.4.0-bin-hadoop3/jars/py4j-0.10.9.7.jar\n",
            "spark-3.4.0-bin-hadoop3/jars/jta-1.1.jar\n",
            "spark-3.4.0-bin-hadoop3/jars/HikariCP-2.5.1.jar\n",
            "spark-3.4.0-bin-hadoop3/jars/spark-catalyst_2.12-3.4.0.jar\n",
            "spark-3.4.0-bin-hadoop3/jars/scala-reflect-2.12.17.jar\n",
            "spark-3.4.0-bin-hadoop3/jars/commons-pool-1.5.4.jar\n",
            "spark-3.4.0-bin-hadoop3/jars/JTransforms-3.1.jar\n",
            "spark-3.4.0-bin-hadoop3/jars/commons-math3-3.6.1.jar\n",
            "spark-3.4.0-bin-hadoop3/jars/flatbuffers-java-1.12.0.jar\n",
            "spark-3.4.0-bin-hadoop3/jars/rocksdbjni-7.9.2.jar\n",
            "spark-3.4.0-bin-hadoop3/jars/okio-1.15.0.jar\n",
            "spark-3.4.0-bin-hadoop3/jars/jersey-server-2.36.jar\n",
            "spark-3.4.0-bin-hadoop3/jars/json4s-core_2.12-3.7.0-M11.jar\n",
            "spark-3.4.0-bin-hadoop3/jars/datanucleus-core-4.1.17.jar\n",
            "spark-3.4.0-bin-hadoop3/jars/threeten-extra-1.7.1.jar\n",
            "spark-3.4.0-bin-hadoop3/jars/spire_2.12-0.17.0.jar\n",
            "spark-3.4.0-bin-hadoop3/jars/jackson-core-2.14.2.jar\n",
            "spark-3.4.0-bin-hadoop3/jars/hadoop-client-runtime-3.3.4.jar\n",
            "spark-3.4.0-bin-hadoop3/jars/osgi-resource-locator-1.0.3.jar\n",
            "spark-3.4.0-bin-hadoop3/jars/cats-kernel_2.12-2.1.1.jar\n",
            "spark-3.4.0-bin-hadoop3/jars/paranamer-2.8.jar\n",
            "spark-3.4.0-bin-hadoop3/jars/pickle-1.3.jar\n",
            "spark-3.4.0-bin-hadoop3/jars/netty-all-4.1.87.Final.jar\n",
            "spark-3.4.0-bin-hadoop3/jars/spark-streaming_2.12-3.4.0.jar\n",
            "spark-3.4.0-bin-hadoop3/jars/spire-util_2.12-0.17.0.jar\n",
            "spark-3.4.0-bin-hadoop3/jars/janino-3.1.9.jar\n",
            "spark-3.4.0-bin-hadoop3/jars/curator-recipes-2.13.0.jar\n",
            "spark-3.4.0-bin-hadoop3/jars/jersey-common-2.36.jar\n",
            "spark-3.4.0-bin-hadoop3/jars/hive-common-2.3.9.jar\n",
            "spark-3.4.0-bin-hadoop3/jars/hk2-locator-2.6.1.jar\n",
            "spark-3.4.0-bin-hadoop3/jars/jakarta.annotation-api-1.3.5.jar\n",
            "spark-3.4.0-bin-hadoop3/jars/jpam-1.1.jar\n",
            "spark-3.4.0-bin-hadoop3/jars/netty-transport-native-kqueue-4.1.87.Final-osx-aarch_64.jar\n",
            "spark-3.4.0-bin-hadoop3/jars/kubernetes-client-6.4.1.jar\n",
            "spark-3.4.0-bin-hadoop3/jars/orc-mapreduce-1.8.3-shaded-protobuf.jar\n",
            "spark-3.4.0-bin-hadoop3/jars/metrics-core-4.2.15.jar\n",
            "spark-3.4.0-bin-hadoop3/jars/datanucleus-rdbms-4.1.19.jar\n",
            "spark-3.4.0-bin-hadoop3/jars/spark-repl_2.12-3.4.0.jar\n",
            "spark-3.4.0-bin-hadoop3/jars/jakarta.inject-2.6.1.jar\n",
            "spark-3.4.0-bin-hadoop3/jars/snakeyaml-1.33.jar\n",
            "spark-3.4.0-bin-hadoop3/jars/minlog-1.3.0.jar\n",
            "spark-3.4.0-bin-hadoop3/jars/httpclient-4.5.14.jar\n",
            "spark-3.4.0-bin-hadoop3/jars/parquet-format-structures-1.12.3.jar\n",
            "spark-3.4.0-bin-hadoop3/jars/hk2-utils-2.6.1.jar\n",
            "spark-3.4.0-bin-hadoop3/jars/hive-cli-2.3.9.jar\n",
            "spark-3.4.0-bin-hadoop3/jars/netty-codec-http-4.1.87.Final.jar\n",
            "spark-3.4.0-bin-hadoop3/jars/kubernetes-httpclient-okhttp-6.4.1.jar\n",
            "spark-3.4.0-bin-hadoop3/jars/jackson-module-scala_2.12-2.14.2.jar\n",
            "spark-3.4.0-bin-hadoop3/jars/audience-annotations-0.5.0.jar\n",
            "spark-3.4.0-bin-hadoop3/jars/arrow-memory-netty-11.0.0.jar\n",
            "spark-3.4.0-bin-hadoop3/jars/kubernetes-model-common-6.4.1.jar\n",
            "spark-3.4.0-bin-hadoop3/jars/netty-transport-classes-epoll-4.1.87.Final.jar\n",
            "spark-3.4.0-bin-hadoop3/jars/kubernetes-model-certificates-6.4.1.jar\n",
            "spark-3.4.0-bin-hadoop3/jars/parquet-hadoop-1.12.3.jar\n",
            "spark-3.4.0-bin-hadoop3/jars/kubernetes-model-core-6.4.1.jar\n",
            "spark-3.4.0-bin-hadoop3/jars/hive-service-rpc-3.1.3.jar\n",
            "spark-3.4.0-bin-hadoop3/jars/spark-kubernetes_2.12-3.4.0.jar\n",
            "spark-3.4.0-bin-hadoop3/jars/kubernetes-model-admissionregistration-6.4.1.jar\n",
            "spark-3.4.0-bin-hadoop3/jars/commons-codec-1.15.jar\n",
            "spark-3.4.0-bin-hadoop3/jars/objenesis-3.2.jar\n",
            "spark-3.4.0-bin-hadoop3/jars/jackson-mapper-asl-1.9.13.jar\n",
            "spark-3.4.0-bin-hadoop3/jars/commons-crypto-1.1.0.jar\n",
            "spark-3.4.0-bin-hadoop3/jars/spark-network-common_2.12-3.4.0.jar\n",
            "spark-3.4.0-bin-hadoop3/jars/hive-shims-2.3.9.jar\n",
            "spark-3.4.0-bin-hadoop3/jars/aircompressor-0.21.jar\n",
            "spark-3.4.0-bin-hadoop3/jars/xz-1.9.jar\n",
            "spark-3.4.0-bin-hadoop3/jars/kubernetes-model-policy-6.4.1.jar\n",
            "spark-3.4.0-bin-hadoop3/jars/kubernetes-model-rbac-6.4.1.jar\n",
            "spark-3.4.0-bin-hadoop3/jars/scala-parser-combinators_2.12-2.1.1.jar\n",
            "spark-3.4.0-bin-hadoop3/jars/arrow-memory-core-11.0.0.jar\n",
            "spark-3.4.0-bin-hadoop3/jars/kubernetes-model-apiextensions-6.4.1.jar\n",
            "spark-3.4.0-bin-hadoop3/jars/jersey-container-servlet-core-2.36.jar\n",
            "spark-3.4.0-bin-hadoop3/jars/protobuf-java-2.5.0.jar\n",
            "spark-3.4.0-bin-hadoop3/jars/commons-logging-1.1.3.jar\n",
            "spark-3.4.0-bin-hadoop3/jars/commons-cli-1.5.0.jar\n",
            "spark-3.4.0-bin-hadoop3/jars/spark-unsafe_2.12-3.4.0.jar\n",
            "spark-3.4.0-bin-hadoop3/jars/log4j-1.2-api-2.19.0.jar\n",
            "spark-3.4.0-bin-hadoop3/jars/jakarta.validation-api-2.0.2.jar\n",
            "spark-3.4.0-bin-hadoop3/jars/spark-kvstore_2.12-3.4.0.jar\n",
            "spark-3.4.0-bin-hadoop3/jars/blas-3.0.3.jar\n",
            "spark-3.4.0-bin-hadoop3/jars/stax-api-1.0.1.jar\n",
            "spark-3.4.0-bin-hadoop3/jars/kubernetes-model-autoscaling-6.4.1.jar\n",
            "spark-3.4.0-bin-hadoop3/jars/commons-dbcp-1.4.jar\n",
            "spark-3.4.0-bin-hadoop3/jars/RoaringBitmap-0.9.38.jar\n",
            "spark-3.4.0-bin-hadoop3/jars/slf4j-api-2.0.6.jar\n",
            "spark-3.4.0-bin-hadoop3/jars/parquet-encoding-1.12.3.jar\n",
            "spark-3.4.0-bin-hadoop3/jars/netty-codec-4.1.87.Final.jar\n",
            "spark-3.4.0-bin-hadoop3/jars/kubernetes-model-batch-6.4.1.jar\n",
            "spark-3.4.0-bin-hadoop3/jars/activation-1.1.1.jar\n",
            "spark-3.4.0-bin-hadoop3/jars/aopalliance-repackaged-2.6.1.jar\n",
            "spark-3.4.0-bin-hadoop3/jars/metrics-jmx-4.2.15.jar\n",
            "spark-3.4.0-bin-hadoop3/jars/ivy-2.5.1.jar\n",
            "spark-3.4.0-bin-hadoop3/jars/spark-sql_2.12-3.4.0.jar\n",
            "spark-3.4.0-bin-hadoop3/jars/jakarta.servlet-api-4.0.3.jar\n",
            "spark-3.4.0-bin-hadoop3/jars/kubernetes-model-extensions-6.4.1.jar\n",
            "spark-3.4.0-bin-hadoop3/jars/hive-metastore-2.3.9.jar\n",
            "spark-3.4.0-bin-hadoop3/jars/tink-1.7.0.jar\n",
            "spark-3.4.0-bin-hadoop3/jars/gson-2.2.4.jar\n",
            "spark-3.4.0-bin-hadoop3/jars/zstd-jni-1.5.2-5.jar\n",
            "spark-3.4.0-bin-hadoop3/jars/hive-shims-scheduler-2.3.9.jar\n",
            "spark-3.4.0-bin-hadoop3/jars/spark-core_2.12-3.4.0.jar\n",
            "spark-3.4.0-bin-hadoop3/jars/netty-transport-native-unix-common-4.1.87.Final.jar\n",
            "spark-3.4.0-bin-hadoop3/jars/hadoop-shaded-guava-1.1.1.jar\n",
            "spark-3.4.0-bin-hadoop3/jars/compress-lzf-1.1.2.jar\n",
            "spark-3.4.0-bin-hadoop3/jars/arrow-format-11.0.0.jar\n",
            "spark-3.4.0-bin-hadoop3/jars/logging-interceptor-3.12.12.jar\n",
            "spark-3.4.0-bin-hadoop3/jars/hive-beeline-2.3.9.jar\n",
            "spark-3.4.0-bin-hadoop3/jars/spark-launcher_2.12-3.4.0.jar\n",
            "spark-3.4.0-bin-hadoop3/jars/jakarta.ws.rs-api-2.1.6.jar\n",
            "spark-3.4.0-bin-hadoop3/jars/kubernetes-model-apps-6.4.1.jar\n",
            "spark-3.4.0-bin-hadoop3/jars/json4s-jackson_2.12-3.7.0-M11.jar\n",
            "spark-3.4.0-bin-hadoop3/jars/spark-tags_2.12-3.4.0.jar\n",
            "spark-3.4.0-bin-hadoop3/jars/okhttp-3.12.12.jar\n",
            "spark-3.4.0-bin-hadoop3/jars/jcl-over-slf4j-2.0.6.jar\n",
            "spark-3.4.0-bin-hadoop3/jars/kubernetes-model-metrics-6.4.1.jar\n",
            "spark-3.4.0-bin-hadoop3/jars/istack-commons-runtime-3.0.8.jar\n",
            "spark-3.4.0-bin-hadoop3/jars/hive-jdbc-2.3.9.jar\n",
            "spark-3.4.0-bin-hadoop3/jars/log4j-api-2.19.0.jar\n",
            "spark-3.4.0-bin-hadoop3/jars/javax.jdo-3.2.0-m3.jar\n",
            "spark-3.4.0-bin-hadoop3/jars/netty-codec-socks-4.1.87.Final.jar\n",
            "spark-3.4.0-bin-hadoop3/jars/leveldbjni-all-1.8.jar\n",
            "spark-3.4.0-bin-hadoop3/jars/stream-2.9.6.jar\n",
            "spark-3.4.0-bin-hadoop3/jars/avro-mapred-1.11.1.jar\n",
            "spark-3.4.0-bin-hadoop3/jars/avro-1.11.1.jar\n",
            "spark-3.4.0-bin-hadoop3/jars/libfb303-0.9.3.jar\n",
            "spark-3.4.0-bin-hadoop3/jars/super-csv-2.2.0.jar\n",
            "spark-3.4.0-bin-hadoop3/jars/kubernetes-model-storageclass-6.4.1.jar\n",
            "spark-3.4.0-bin-hadoop3/jars/netty-transport-4.1.87.Final.jar\n",
            "spark-3.4.0-bin-hadoop3/jars/netty-resolver-4.1.87.Final.jar\n",
            "spark-3.4.0-bin-hadoop3/jars/jaxb-runtime-2.3.2.jar\n",
            "spark-3.4.0-bin-hadoop3/jars/scala-xml_2.12-2.1.0.jar\n",
            "spark-3.4.0-bin-hadoop3/jars/kubernetes-model-coordination-6.4.1.jar\n",
            "spark-3.4.0-bin-hadoop3/jars/kubernetes-model-scheduling-6.4.1.jar\n",
            "spark-3.4.0-bin-hadoop3/jars/chill-java-0.10.0.jar\n",
            "spark-3.4.0-bin-hadoop3/jars/kubernetes-client-api-6.4.1.jar\n",
            "spark-3.4.0-bin-hadoop3/jars/netty-handler-4.1.87.Final.jar\n",
            "spark-3.4.0-bin-hadoop3/jars/breeze-macros_2.12-2.1.0.jar\n",
            "spark-3.4.0-bin-hadoop3/jars/algebra_2.12-2.0.1.jar\n",
            "spark-3.4.0-bin-hadoop3/jars/commons-lang3-3.12.0.jar\n",
            "spark-3.4.0-bin-hadoop3/jars/scala-collection-compat_2.12-2.7.0.jar\n",
            "spark-3.4.0-bin-hadoop3/jars/commons-io-2.11.0.jar\n",
            "spark-3.4.0-bin-hadoop3/jars/spark-yarn_2.12-3.4.0.jar\n",
            "spark-3.4.0-bin-hadoop3/jars/jakarta.xml.bind-api-2.3.2.jar\n",
            "spark-3.4.0-bin-hadoop3/jars/kryo-shaded-4.0.2.jar\n",
            "spark-3.4.0-bin-hadoop3/jars/hk2-api-2.6.1.jar\n",
            "spark-3.4.0-bin-hadoop3/jars/spark-hive_2.12-3.4.0.jar\n",
            "spark-3.4.0-bin-hadoop3/jars/hive-shims-common-2.3.9.jar\n",
            "spark-3.4.0-bin-hadoop3/jars/hive-exec-2.3.9-core.jar\n",
            "spark-3.4.0-bin-hadoop3/jars/kubernetes-model-gatewayapi-6.4.1.jar\n",
            "spark-3.4.0-bin-hadoop3/jars/spark-hive-thriftserver_2.12-3.4.0.jar\n",
            "spark-3.4.0-bin-hadoop3/jars/metrics-graphite-4.2.15.jar\n",
            "spark-3.4.0-bin-hadoop3/jars/chill_2.12-0.10.0.jar\n",
            "spark-3.4.0-bin-hadoop3/jars/shims-0.9.38.jar\n",
            "spark-3.4.0-bin-hadoop3/jars/datanucleus-api-jdo-4.2.4.jar\n",
            "spark-3.4.0-bin-hadoop3/jars/hadoop-yarn-server-web-proxy-3.3.4.jar\n",
            "spark-3.4.0-bin-hadoop3/jars/netty-transport-classes-kqueue-4.1.87.Final.jar\n",
            "spark-3.4.0-bin-hadoop3/jars/metrics-json-4.2.15.jar\n",
            "spark-3.4.0-bin-hadoop3/jars/json4s-ast_2.12-3.7.0-M11.jar\n",
            "spark-3.4.0-bin-hadoop3/jars/dropwizard-metrics-hadoop-metrics2-reporter-0.1.2.jar\n",
            "spark-3.4.0-bin-hadoop3/jars/kubernetes-model-discovery-6.4.1.jar\n",
            "spark-3.4.0-bin-hadoop3/jars/javassist-3.25.0-GA.jar\n",
            "spark-3.4.0-bin-hadoop3/jars/joda-time-2.12.2.jar\n",
            "spark-3.4.0-bin-hadoop3/jars/log4j-core-2.19.0.jar\n",
            "spark-3.4.0-bin-hadoop3/jars/arpack_combined_all-0.1.jar\n",
            "spark-3.4.0-bin-hadoop3/jars/commons-text-1.10.0.jar\n",
            "spark-3.4.0-bin-hadoop3/jars/parquet-common-1.12.3.jar\n",
            "spark-3.4.0-bin-hadoop3/jars/lapack-3.0.3.jar\n",
            "spark-3.4.0-bin-hadoop3/R/\n",
            "spark-3.4.0-bin-hadoop3/R/lib/\n",
            "spark-3.4.0-bin-hadoop3/R/lib/sparkr.zip\n",
            "spark-3.4.0-bin-hadoop3/R/lib/SparkR/\n",
            "spark-3.4.0-bin-hadoop3/R/lib/SparkR/NAMESPACE\n",
            "spark-3.4.0-bin-hadoop3/R/lib/SparkR/worker/\n",
            "spark-3.4.0-bin-hadoop3/R/lib/SparkR/worker/worker.R\n",
            "spark-3.4.0-bin-hadoop3/R/lib/SparkR/worker/daemon.R\n",
            "spark-3.4.0-bin-hadoop3/R/lib/SparkR/profile/\n",
            "spark-3.4.0-bin-hadoop3/R/lib/SparkR/profile/general.R\n",
            "spark-3.4.0-bin-hadoop3/R/lib/SparkR/profile/shell.R\n",
            "spark-3.4.0-bin-hadoop3/R/lib/SparkR/tests/\n",
            "spark-3.4.0-bin-hadoop3/R/lib/SparkR/tests/testthat/\n",
            "spark-3.4.0-bin-hadoop3/R/lib/SparkR/tests/testthat/test_basic.R\n",
            "spark-3.4.0-bin-hadoop3/R/lib/SparkR/R/\n",
            "spark-3.4.0-bin-hadoop3/R/lib/SparkR/R/SparkR.rdx\n",
            "spark-3.4.0-bin-hadoop3/R/lib/SparkR/R/SparkR.rdb\n",
            "spark-3.4.0-bin-hadoop3/R/lib/SparkR/R/SparkR\n",
            "spark-3.4.0-bin-hadoop3/R/lib/SparkR/Meta/\n",
            "spark-3.4.0-bin-hadoop3/R/lib/SparkR/Meta/package.rds\n",
            "spark-3.4.0-bin-hadoop3/R/lib/SparkR/Meta/features.rds\n",
            "spark-3.4.0-bin-hadoop3/R/lib/SparkR/Meta/vignette.rds\n",
            "spark-3.4.0-bin-hadoop3/R/lib/SparkR/Meta/nsInfo.rds\n",
            "spark-3.4.0-bin-hadoop3/R/lib/SparkR/Meta/Rd.rds\n",
            "spark-3.4.0-bin-hadoop3/R/lib/SparkR/Meta/hsearch.rds\n",
            "spark-3.4.0-bin-hadoop3/R/lib/SparkR/Meta/links.rds\n",
            "spark-3.4.0-bin-hadoop3/R/lib/SparkR/html/\n",
            "spark-3.4.0-bin-hadoop3/R/lib/SparkR/html/R.css\n",
            "spark-3.4.0-bin-hadoop3/R/lib/SparkR/html/00Index.html\n",
            "spark-3.4.0-bin-hadoop3/R/lib/SparkR/doc/\n",
            "spark-3.4.0-bin-hadoop3/R/lib/SparkR/doc/sparkr-vignettes.Rmd\n",
            "spark-3.4.0-bin-hadoop3/R/lib/SparkR/doc/sparkr-vignettes.R\n",
            "spark-3.4.0-bin-hadoop3/R/lib/SparkR/doc/sparkr-vignettes.html\n",
            "spark-3.4.0-bin-hadoop3/R/lib/SparkR/doc/index.html\n",
            "spark-3.4.0-bin-hadoop3/R/lib/SparkR/INDEX\n",
            "spark-3.4.0-bin-hadoop3/R/lib/SparkR/DESCRIPTION\n",
            "spark-3.4.0-bin-hadoop3/R/lib/SparkR/help/\n",
            "spark-3.4.0-bin-hadoop3/R/lib/SparkR/help/SparkR.rdx\n",
            "spark-3.4.0-bin-hadoop3/R/lib/SparkR/help/aliases.rds\n",
            "spark-3.4.0-bin-hadoop3/R/lib/SparkR/help/SparkR.rdb\n",
            "spark-3.4.0-bin-hadoop3/R/lib/SparkR/help/paths.rds\n",
            "spark-3.4.0-bin-hadoop3/R/lib/SparkR/help/AnIndex\n",
            "spark-3.4.0-bin-hadoop3/kubernetes/\n",
            "spark-3.4.0-bin-hadoop3/kubernetes/dockerfiles/\n",
            "spark-3.4.0-bin-hadoop3/kubernetes/dockerfiles/spark/\n",
            "spark-3.4.0-bin-hadoop3/kubernetes/dockerfiles/spark/decom.sh\n",
            "spark-3.4.0-bin-hadoop3/kubernetes/dockerfiles/spark/bindings/\n",
            "spark-3.4.0-bin-hadoop3/kubernetes/dockerfiles/spark/bindings/R/\n",
            "spark-3.4.0-bin-hadoop3/kubernetes/dockerfiles/spark/bindings/R/Dockerfile\n",
            "spark-3.4.0-bin-hadoop3/kubernetes/dockerfiles/spark/bindings/python/\n",
            "spark-3.4.0-bin-hadoop3/kubernetes/dockerfiles/spark/bindings/python/Dockerfile\n",
            "spark-3.4.0-bin-hadoop3/kubernetes/dockerfiles/spark/entrypoint.sh\n",
            "spark-3.4.0-bin-hadoop3/kubernetes/dockerfiles/spark/Dockerfile\n",
            "spark-3.4.0-bin-hadoop3/kubernetes/tests/\n",
            "spark-3.4.0-bin-hadoop3/kubernetes/tests/py_container_checks.py\n",
            "spark-3.4.0-bin-hadoop3/kubernetes/tests/decommissioning.py\n",
            "spark-3.4.0-bin-hadoop3/kubernetes/tests/autoscale.py\n",
            "spark-3.4.0-bin-hadoop3/kubernetes/tests/pyfiles.py\n",
            "spark-3.4.0-bin-hadoop3/kubernetes/tests/worker_memory_check.py\n",
            "spark-3.4.0-bin-hadoop3/kubernetes/tests/python_executable_check.py\n",
            "spark-3.4.0-bin-hadoop3/kubernetes/tests/decommissioning_cleanup.py\n",
            "spark-3.4.0-bin-hadoop3/examples/\n",
            "spark-3.4.0-bin-hadoop3/examples/jars/\n",
            "spark-3.4.0-bin-hadoop3/examples/jars/scopt_2.12-3.7.1.jar\n",
            "spark-3.4.0-bin-hadoop3/examples/jars/spark-examples_2.12-3.4.0.jar\n",
            "spark-3.4.0-bin-hadoop3/examples/src/\n",
            "spark-3.4.0-bin-hadoop3/examples/src/main/\n",
            "spark-3.4.0-bin-hadoop3/examples/src/main/scripts/\n",
            "spark-3.4.0-bin-hadoop3/examples/src/main/scripts/getGpusResources.sh\n",
            "spark-3.4.0-bin-hadoop3/examples/src/main/r/\n",
            "spark-3.4.0-bin-hadoop3/examples/src/main/r/streaming/\n",
            "spark-3.4.0-bin-hadoop3/examples/src/main/r/streaming/structured_network_wordcount.R\n",
            "spark-3.4.0-bin-hadoop3/examples/src/main/r/RSparkSQLExample.R\n",
            "spark-3.4.0-bin-hadoop3/examples/src/main/r/dataframe.R\n",
            "spark-3.4.0-bin-hadoop3/examples/src/main/r/data-manipulation.R\n",
            "spark-3.4.0-bin-hadoop3/examples/src/main/r/ml/\n",
            "spark-3.4.0-bin-hadoop3/examples/src/main/r/ml/decisionTree.R\n",
            "spark-3.4.0-bin-hadoop3/examples/src/main/r/ml/logit.R\n",
            "spark-3.4.0-bin-hadoop3/examples/src/main/r/ml/kstest.R\n",
            "spark-3.4.0-bin-hadoop3/examples/src/main/r/ml/gaussianMixture.R\n",
            "spark-3.4.0-bin-hadoop3/examples/src/main/r/ml/fmRegressor.R\n",
            "spark-3.4.0-bin-hadoop3/examples/src/main/r/ml/naiveBayes.R\n",
            "spark-3.4.0-bin-hadoop3/examples/src/main/r/ml/ml.R\n",
            "spark-3.4.0-bin-hadoop3/examples/src/main/r/ml/lda.R\n",
            "spark-3.4.0-bin-hadoop3/examples/src/main/r/ml/kmeans.R\n",
            "spark-3.4.0-bin-hadoop3/examples/src/main/r/ml/isoreg.R\n",
            "spark-3.4.0-bin-hadoop3/examples/src/main/r/ml/lm_with_elastic_net.R\n",
            "spark-3.4.0-bin-hadoop3/examples/src/main/r/ml/als.R\n",
            "spark-3.4.0-bin-hadoop3/examples/src/main/r/ml/fpm.R\n",
            "spark-3.4.0-bin-hadoop3/examples/src/main/r/ml/glm.R\n",
            "spark-3.4.0-bin-hadoop3/examples/src/main/r/ml/bisectingKmeans.R\n",
            "spark-3.4.0-bin-hadoop3/examples/src/main/r/ml/svmLinear.R\n",
            "spark-3.4.0-bin-hadoop3/examples/src/main/r/ml/prefixSpan.R\n",
            "spark-3.4.0-bin-hadoop3/examples/src/main/r/ml/powerIterationClustering.R\n",
            "spark-3.4.0-bin-hadoop3/examples/src/main/r/ml/fmClassifier.R\n",
            "spark-3.4.0-bin-hadoop3/examples/src/main/r/ml/randomForest.R\n",
            "spark-3.4.0-bin-hadoop3/examples/src/main/r/ml/gbt.R\n",
            "spark-3.4.0-bin-hadoop3/examples/src/main/r/ml/survreg.R\n",
            "spark-3.4.0-bin-hadoop3/examples/src/main/r/ml/mlp.R\n",
            "spark-3.4.0-bin-hadoop3/examples/src/main/scala/\n",
            "spark-3.4.0-bin-hadoop3/examples/src/main/scala/org/\n",
            "spark-3.4.0-bin-hadoop3/examples/src/main/scala/org/apache/\n",
            "spark-3.4.0-bin-hadoop3/examples/src/main/scala/org/apache/spark/\n",
            "spark-3.4.0-bin-hadoop3/examples/src/main/scala/org/apache/spark/examples/\n",
            "spark-3.4.0-bin-hadoop3/examples/src/main/scala/org/apache/spark/examples/GroupByTest.scala\n",
            "spark-3.4.0-bin-hadoop3/examples/src/main/scala/org/apache/spark/examples/SparkPageRank.scala\n",
            "spark-3.4.0-bin-hadoop3/examples/src/main/scala/org/apache/spark/examples/sql/\n",
            "spark-3.4.0-bin-hadoop3/examples/src/main/scala/org/apache/spark/examples/sql/SQLDataSourceExample.scala\n",
            "spark-3.4.0-bin-hadoop3/examples/src/main/scala/org/apache/spark/examples/sql/UserDefinedScalar.scala\n",
            "spark-3.4.0-bin-hadoop3/examples/src/main/scala/org/apache/spark/examples/sql/streaming/\n",
            "spark-3.4.0-bin-hadoop3/examples/src/main/scala/org/apache/spark/examples/sql/streaming/StructuredNetworkWordCountWindowed.scala\n",
            "spark-3.4.0-bin-hadoop3/examples/src/main/scala/org/apache/spark/examples/sql/streaming/StructuredSessionization.scala\n",
            "spark-3.4.0-bin-hadoop3/examples/src/main/scala/org/apache/spark/examples/sql/streaming/StructuredKerberizedKafkaWordCount.scala\n",
            "spark-3.4.0-bin-hadoop3/examples/src/main/scala/org/apache/spark/examples/sql/streaming/StructuredComplexSessionization.scala\n",
            "spark-3.4.0-bin-hadoop3/examples/src/main/scala/org/apache/spark/examples/sql/streaming/StructuredNetworkWordCount.scala\n",
            "spark-3.4.0-bin-hadoop3/examples/src/main/scala/org/apache/spark/examples/sql/streaming/StructuredKafkaWordCount.scala\n",
            "spark-3.4.0-bin-hadoop3/examples/src/main/scala/org/apache/spark/examples/sql/UserDefinedUntypedAggregation.scala\n",
            "spark-3.4.0-bin-hadoop3/examples/src/main/scala/org/apache/spark/examples/sql/UserDefinedTypedAggregation.scala\n",
            "spark-3.4.0-bin-hadoop3/examples/src/main/scala/org/apache/spark/examples/sql/RDDRelation.scala\n",
            "spark-3.4.0-bin-hadoop3/examples/src/main/scala/org/apache/spark/examples/sql/SimpleTypedAggregator.scala\n",
            "spark-3.4.0-bin-hadoop3/examples/src/main/scala/org/apache/spark/examples/sql/SparkSQLExample.scala\n",
            "spark-3.4.0-bin-hadoop3/examples/src/main/scala/org/apache/spark/examples/sql/jdbc/\n",
            "spark-3.4.0-bin-hadoop3/examples/src/main/scala/org/apache/spark/examples/sql/jdbc/ExampleJdbcConnectionProvider.scala\n",
            "spark-3.4.0-bin-hadoop3/examples/src/main/scala/org/apache/spark/examples/sql/hive/\n",
            "spark-3.4.0-bin-hadoop3/examples/src/main/scala/org/apache/spark/examples/sql/hive/SparkHiveExample.scala\n",
            "spark-3.4.0-bin-hadoop3/examples/src/main/scala/org/apache/spark/examples/SkewedGroupByTest.scala\n",
            "spark-3.4.0-bin-hadoop3/examples/src/main/scala/org/apache/spark/examples/SparkALS.scala\n",
            "spark-3.4.0-bin-hadoop3/examples/src/main/scala/org/apache/spark/examples/LocalPi.scala\n",
            "spark-3.4.0-bin-hadoop3/examples/src/main/scala/org/apache/spark/examples/streaming/\n",
            "spark-3.4.0-bin-hadoop3/examples/src/main/scala/org/apache/spark/examples/streaming/CustomReceiver.scala\n",
            "spark-3.4.0-bin-hadoop3/examples/src/main/scala/org/apache/spark/examples/streaming/clickstream/\n",
            "spark-3.4.0-bin-hadoop3/examples/src/main/scala/org/apache/spark/examples/streaming/clickstream/PageViewStream.scala\n",
            "spark-3.4.0-bin-hadoop3/examples/src/main/scala/org/apache/spark/examples/streaming/clickstream/PageViewGenerator.scala\n",
            "spark-3.4.0-bin-hadoop3/examples/src/main/scala/org/apache/spark/examples/streaming/RecoverableNetworkWordCount.scala\n",
            "spark-3.4.0-bin-hadoop3/examples/src/main/scala/org/apache/spark/examples/streaming/DirectKafkaWordCount.scala\n",
            "spark-3.4.0-bin-hadoop3/examples/src/main/scala/org/apache/spark/examples/streaming/StreamingExamples.scala\n",
            "spark-3.4.0-bin-hadoop3/examples/src/main/scala/org/apache/spark/examples/streaming/QueueStream.scala\n",
            "spark-3.4.0-bin-hadoop3/examples/src/main/scala/org/apache/spark/examples/streaming/SqlNetworkWordCount.scala\n",
            "spark-3.4.0-bin-hadoop3/examples/src/main/scala/org/apache/spark/examples/streaming/StatefulNetworkWordCount.scala\n",
            "spark-3.4.0-bin-hadoop3/examples/src/main/scala/org/apache/spark/examples/streaming/DirectKerberizedKafkaWordCount.scala\n",
            "spark-3.4.0-bin-hadoop3/examples/src/main/scala/org/apache/spark/examples/streaming/HdfsWordCount.scala\n",
            "spark-3.4.0-bin-hadoop3/examples/src/main/scala/org/apache/spark/examples/streaming/RawNetworkGrep.scala\n",
            "spark-3.4.0-bin-hadoop3/examples/src/main/scala/org/apache/spark/examples/streaming/NetworkWordCount.scala\n",
            "spark-3.4.0-bin-hadoop3/examples/src/main/scala/org/apache/spark/examples/ExceptionHandlingTest.scala\n",
            "spark-3.4.0-bin-hadoop3/examples/src/main/scala/org/apache/spark/examples/SparkRemoteFileTest.scala\n",
            "spark-3.4.0-bin-hadoop3/examples/src/main/scala/org/apache/spark/examples/DFSReadWriteTest.scala\n",
            "spark-3.4.0-bin-hadoop3/examples/src/main/scala/org/apache/spark/examples/SparkTC.scala\n",
            "spark-3.4.0-bin-hadoop3/examples/src/main/scala/org/apache/spark/examples/BroadcastTest.scala\n",
            "spark-3.4.0-bin-hadoop3/examples/src/main/scala/org/apache/spark/examples/SparkKMeans.scala\n",
            "spark-3.4.0-bin-hadoop3/examples/src/main/scala/org/apache/spark/examples/HdfsTest.scala\n",
            "spark-3.4.0-bin-hadoop3/examples/src/main/scala/org/apache/spark/examples/LocalLR.scala\n",
            "spark-3.4.0-bin-hadoop3/examples/src/main/scala/org/apache/spark/examples/LocalKMeans.scala\n",
            "spark-3.4.0-bin-hadoop3/examples/src/main/scala/org/apache/spark/examples/graphx/\n",
            "spark-3.4.0-bin-hadoop3/examples/src/main/scala/org/apache/spark/examples/graphx/LiveJournalPageRank.scala\n",
            "spark-3.4.0-bin-hadoop3/examples/src/main/scala/org/apache/spark/examples/graphx/ConnectedComponentsExample.scala\n",
            "spark-3.4.0-bin-hadoop3/examples/src/main/scala/org/apache/spark/examples/graphx/ComprehensiveExample.scala\n",
            "spark-3.4.0-bin-hadoop3/examples/src/main/scala/org/apache/spark/examples/graphx/AggregateMessagesExample.scala\n",
            "spark-3.4.0-bin-hadoop3/examples/src/main/scala/org/apache/spark/examples/graphx/SSSPExample.scala\n",
            "spark-3.4.0-bin-hadoop3/examples/src/main/scala/org/apache/spark/examples/graphx/SynthBenchmark.scala\n",
            "spark-3.4.0-bin-hadoop3/examples/src/main/scala/org/apache/spark/examples/graphx/PageRankExample.scala\n",
            "spark-3.4.0-bin-hadoop3/examples/src/main/scala/org/apache/spark/examples/graphx/TriangleCountingExample.scala\n",
            "spark-3.4.0-bin-hadoop3/examples/src/main/scala/org/apache/spark/examples/graphx/Analytics.scala\n",
            "spark-3.4.0-bin-hadoop3/examples/src/main/scala/org/apache/spark/examples/SparkHdfsLR.scala\n",
            "spark-3.4.0-bin-hadoop3/examples/src/main/scala/org/apache/spark/examples/extensions/\n",
            "spark-3.4.0-bin-hadoop3/examples/src/main/scala/org/apache/spark/examples/extensions/SparkSessionExtensionsTest.scala\n",
            "spark-3.4.0-bin-hadoop3/examples/src/main/scala/org/apache/spark/examples/extensions/SessionExtensionsWithoutLoader.scala\n",
            "spark-3.4.0-bin-hadoop3/examples/src/main/scala/org/apache/spark/examples/extensions/AgeExample.scala\n",
            "spark-3.4.0-bin-hadoop3/examples/src/main/scala/org/apache/spark/examples/extensions/SessionExtensionsWithLoader.scala\n",
            "spark-3.4.0-bin-hadoop3/examples/src/main/scala/org/apache/spark/examples/LocalFileLR.scala\n",
            "spark-3.4.0-bin-hadoop3/examples/src/main/scala/org/apache/spark/examples/SparkLR.scala\n",
            "spark-3.4.0-bin-hadoop3/examples/src/main/scala/org/apache/spark/examples/MultiBroadcastTest.scala\n",
            "spark-3.4.0-bin-hadoop3/examples/src/main/scala/org/apache/spark/examples/LogQuery.scala\n",
            "spark-3.4.0-bin-hadoop3/examples/src/main/scala/org/apache/spark/examples/SimpleSkewedGroupByTest.scala\n",
            "spark-3.4.0-bin-hadoop3/examples/src/main/scala/org/apache/spark/examples/LocalALS.scala\n",
            "spark-3.4.0-bin-hadoop3/examples/src/main/scala/org/apache/spark/examples/pythonconverters/\n",
            "spark-3.4.0-bin-hadoop3/examples/src/main/scala/org/apache/spark/examples/pythonconverters/AvroConverters.scala\n",
            "spark-3.4.0-bin-hadoop3/examples/src/main/scala/org/apache/spark/examples/ml/\n",
            "spark-3.4.0-bin-hadoop3/examples/src/main/scala/org/apache/spark/examples/ml/PCAExample.scala\n",
            "spark-3.4.0-bin-hadoop3/examples/src/main/scala/org/apache/spark/examples/ml/ALSExample.scala\n",
            "spark-3.4.0-bin-hadoop3/examples/src/main/scala/org/apache/spark/examples/ml/ChiSquareTestExample.scala\n",
            "spark-3.4.0-bin-hadoop3/examples/src/main/scala/org/apache/spark/examples/ml/AFTSurvivalRegressionExample.scala\n",
            "spark-3.4.0-bin-hadoop3/examples/src/main/scala/org/apache/spark/examples/ml/LogisticRegressionWithElasticNetExample.scala\n",
            "spark-3.4.0-bin-hadoop3/examples/src/main/scala/org/apache/spark/examples/ml/RobustScalerExample.scala\n",
            "spark-3.4.0-bin-hadoop3/examples/src/main/scala/org/apache/spark/examples/ml/CountVectorizerExample.scala\n",
            "spark-3.4.0-bin-hadoop3/examples/src/main/scala/org/apache/spark/examples/ml/RandomForestClassifierExample.scala\n",
            "spark-3.4.0-bin-hadoop3/examples/src/main/scala/org/apache/spark/examples/ml/UnaryTransformerExample.scala\n",
            "spark-3.4.0-bin-hadoop3/examples/src/main/scala/org/apache/spark/examples/ml/VectorSizeHintExample.scala\n",
            "spark-3.4.0-bin-hadoop3/examples/src/main/scala/org/apache/spark/examples/ml/NGramExample.scala\n",
            "spark-3.4.0-bin-hadoop3/examples/src/main/scala/org/apache/spark/examples/ml/PolynomialExpansionExample.scala\n",
            "spark-3.4.0-bin-hadoop3/examples/src/main/scala/org/apache/spark/examples/ml/RFormulaExample.scala\n",
            "spark-3.4.0-bin-hadoop3/examples/src/main/scala/org/apache/spark/examples/ml/MaxAbsScalerExample.scala\n",
            "spark-3.4.0-bin-hadoop3/examples/src/main/scala/org/apache/spark/examples/ml/BisectingKMeansExample.scala\n",
            "spark-3.4.0-bin-hadoop3/examples/src/main/scala/org/apache/spark/examples/ml/ModelSelectionViaCrossValidationExample.scala\n",
            "spark-3.4.0-bin-hadoop3/examples/src/main/scala/org/apache/spark/examples/ml/RandomForestExample.scala\n",
            "spark-3.4.0-bin-hadoop3/examples/src/main/scala/org/apache/spark/examples/ml/GeneralizedLinearRegressionExample.scala\n",
            "spark-3.4.0-bin-hadoop3/examples/src/main/scala/org/apache/spark/examples/ml/IndexToStringExample.scala\n",
            "spark-3.4.0-bin-hadoop3/examples/src/main/scala/org/apache/spark/examples/ml/Word2VecExample.scala\n",
            "spark-3.4.0-bin-hadoop3/examples/src/main/scala/org/apache/spark/examples/ml/DCTExample.scala\n",
            "spark-3.4.0-bin-hadoop3/examples/src/main/scala/org/apache/spark/examples/ml/FMRegressorExample.scala\n",
            "spark-3.4.0-bin-hadoop3/examples/src/main/scala/org/apache/spark/examples/ml/UnivariateFeatureSelectorExample.scala\n",
            "spark-3.4.0-bin-hadoop3/examples/src/main/scala/org/apache/spark/examples/ml/DecisionTreeRegressionExample.scala\n",
            "spark-3.4.0-bin-hadoop3/examples/src/main/scala/org/apache/spark/examples/ml/TokenizerExample.scala\n",
            "spark-3.4.0-bin-hadoop3/examples/src/main/scala/org/apache/spark/examples/ml/BucketedRandomProjectionLSHExample.scala\n",
            "spark-3.4.0-bin-hadoop3/examples/src/main/scala/org/apache/spark/examples/ml/VarianceThresholdSelectorExample.scala\n",
            "spark-3.4.0-bin-hadoop3/examples/src/main/scala/org/apache/spark/examples/ml/LinearRegressionExample.scala\n",
            "spark-3.4.0-bin-hadoop3/examples/src/main/scala/org/apache/spark/examples/ml/IsotonicRegressionExample.scala\n",
            "spark-3.4.0-bin-hadoop3/examples/src/main/scala/org/apache/spark/examples/ml/DecisionTreeExample.scala\n",
            "spark-3.4.0-bin-hadoop3/examples/src/main/scala/org/apache/spark/examples/ml/ImputerExample.scala\n",
            "spark-3.4.0-bin-hadoop3/examples/src/main/scala/org/apache/spark/examples/ml/PrefixSpanExample.scala\n",
            "spark-3.4.0-bin-hadoop3/examples/src/main/scala/org/apache/spark/examples/ml/DeveloperApiExample.scala\n",
            "spark-3.4.0-bin-hadoop3/examples/src/main/scala/org/apache/spark/examples/ml/PipelineExample.scala\n",
            "spark-3.4.0-bin-hadoop3/examples/src/main/scala/org/apache/spark/examples/ml/ChiSqSelectorExample.scala\n",
            "spark-3.4.0-bin-hadoop3/examples/src/main/scala/org/apache/spark/examples/ml/NormalizerExample.scala\n",
            "spark-3.4.0-bin-hadoop3/examples/src/main/scala/org/apache/spark/examples/ml/ModelSelectionViaTrainValidationSplitExample.scala\n",
            "spark-3.4.0-bin-hadoop3/examples/src/main/scala/org/apache/spark/examples/ml/FPGrowthExample.scala\n",
            "spark-3.4.0-bin-hadoop3/examples/src/main/scala/org/apache/spark/examples/ml/PowerIterationClusteringExample.scala\n",
            "spark-3.4.0-bin-hadoop3/examples/src/main/scala/org/apache/spark/examples/ml/LogisticRegressionExample.scala\n",
            "spark-3.4.0-bin-hadoop3/examples/src/main/scala/org/apache/spark/examples/ml/StringIndexerExample.scala\n",
            "spark-3.4.0-bin-hadoop3/examples/src/main/scala/org/apache/spark/examples/ml/VectorAssemblerExample.scala\n",
            "spark-3.4.0-bin-hadoop3/examples/src/main/scala/org/apache/spark/examples/ml/OneVsRestExample.scala\n",
            "spark-3.4.0-bin-hadoop3/examples/src/main/scala/org/apache/spark/examples/ml/LDAExample.scala\n",
            "spark-3.4.0-bin-hadoop3/examples/src/main/scala/org/apache/spark/examples/ml/LinearSVCExample.scala\n",
            "spark-3.4.0-bin-hadoop3/examples/src/main/scala/org/apache/spark/examples/ml/FMClassifierExample.scala\n",
            "spark-3.4.0-bin-hadoop3/examples/src/main/scala/org/apache/spark/examples/ml/CorrelationExample.scala\n",
            "spark-3.4.0-bin-hadoop3/examples/src/main/scala/org/apache/spark/examples/ml/OneHotEncoderExample.scala\n",
            "spark-3.4.0-bin-hadoop3/examples/src/main/scala/org/apache/spark/examples/ml/GradientBoostedTreeClassifierExample.scala\n",
            "spark-3.4.0-bin-hadoop3/examples/src/main/scala/org/apache/spark/examples/ml/LinearRegressionWithElasticNetExample.scala\n",
            "spark-3.4.0-bin-hadoop3/examples/src/main/scala/org/apache/spark/examples/ml/LogisticRegressionSummaryExample.scala\n",
            "spark-3.4.0-bin-hadoop3/examples/src/main/scala/org/apache/spark/examples/ml/KMeansExample.scala\n",
            "spark-3.4.0-bin-hadoop3/examples/src/main/scala/org/apache/spark/examples/ml/BinarizerExample.scala\n",
            "spark-3.4.0-bin-hadoop3/examples/src/main/scala/org/apache/spark/examples/ml/QuantileDiscretizerExample.scala\n",
            "spark-3.4.0-bin-hadoop3/examples/src/main/scala/org/apache/spark/examples/ml/StandardScalerExample.scala\n",
            "spark-3.4.0-bin-hadoop3/examples/src/main/scala/org/apache/spark/examples/ml/MulticlassLogisticRegressionWithElasticNetExample.scala\n",
            "spark-3.4.0-bin-hadoop3/examples/src/main/scala/org/apache/spark/examples/ml/GradientBoostedTreeRegressorExample.scala\n",
            "spark-3.4.0-bin-hadoop3/examples/src/main/scala/org/apache/spark/examples/ml/BucketizerExample.scala\n",
            "spark-3.4.0-bin-hadoop3/examples/src/main/scala/org/apache/spark/examples/ml/DataFrameExample.scala\n",
            "spark-3.4.0-bin-hadoop3/examples/src/main/scala/org/apache/spark/examples/ml/MinHashLSHExample.scala\n",
            "spark-3.4.0-bin-hadoop3/examples/src/main/scala/org/apache/spark/examples/ml/ElementwiseProductExample.scala\n",
            "spark-3.4.0-bin-hadoop3/examples/src/main/scala/org/apache/spark/examples/ml/MultilayerPerceptronClassifierExample.scala\n",
            "spark-3.4.0-bin-hadoop3/examples/src/main/scala/org/apache/spark/examples/ml/DecisionTreeClassificationExample.scala\n",
            "spark-3.4.0-bin-hadoop3/examples/src/main/scala/org/apache/spark/examples/ml/StopWordsRemoverExample.scala\n",
            "spark-3.4.0-bin-hadoop3/examples/src/main/scala/org/apache/spark/examples/ml/SQLTransformerExample.scala\n",
            "spark-3.4.0-bin-hadoop3/examples/src/main/scala/org/apache/spark/examples/ml/InteractionExample.scala\n",
            "spark-3.4.0-bin-hadoop3/examples/src/main/scala/org/apache/spark/examples/ml/NaiveBayesExample.scala\n",
            "spark-3.4.0-bin-hadoop3/examples/src/main/scala/org/apache/spark/examples/ml/VectorSlicerExample.scala\n",
            "spark-3.4.0-bin-hadoop3/examples/src/main/scala/org/apache/spark/examples/ml/FeatureHasherExample.scala\n",
            "spark-3.4.0-bin-hadoop3/examples/src/main/scala/org/apache/spark/examples/ml/TfIdfExample.scala\n",
            "spark-3.4.0-bin-hadoop3/examples/src/main/scala/org/apache/spark/examples/ml/RandomForestRegressorExample.scala\n",
            "spark-3.4.0-bin-hadoop3/examples/src/main/scala/org/apache/spark/examples/ml/GBTExample.scala\n",
            "spark-3.4.0-bin-hadoop3/examples/src/main/scala/org/apache/spark/examples/ml/MinMaxScalerExample.scala\n",
            "spark-3.4.0-bin-hadoop3/examples/src/main/scala/org/apache/spark/examples/ml/SummarizerExample.scala\n",
            "spark-3.4.0-bin-hadoop3/examples/src/main/scala/org/apache/spark/examples/ml/VectorIndexerExample.scala\n",
            "spark-3.4.0-bin-hadoop3/examples/src/main/scala/org/apache/spark/examples/ml/EstimatorTransformerParamExample.scala\n",
            "spark-3.4.0-bin-hadoop3/examples/src/main/scala/org/apache/spark/examples/ml/GaussianMixtureExample.scala\n",
            "spark-3.4.0-bin-hadoop3/examples/src/main/scala/org/apache/spark/examples/MiniReadWriteTest.scala\n",
            "spark-3.4.0-bin-hadoop3/examples/src/main/scala/org/apache/spark/examples/AccumulatorMetricsTest.scala\n",
            "spark-3.4.0-bin-hadoop3/examples/src/main/scala/org/apache/spark/examples/SparkPi.scala\n",
            "spark-3.4.0-bin-hadoop3/examples/src/main/scala/org/apache/spark/examples/DriverSubmissionTest.scala\n",
            "spark-3.4.0-bin-hadoop3/examples/src/main/scala/org/apache/spark/examples/mllib/\n",
            "spark-3.4.0-bin-hadoop3/examples/src/main/scala/org/apache/spark/examples/mllib/CosineSimilarity.scala\n",
            "spark-3.4.0-bin-hadoop3/examples/src/main/scala/org/apache/spark/examples/mllib/LatentDirichletAllocationExample.scala\n",
            "spark-3.4.0-bin-hadoop3/examples/src/main/scala/org/apache/spark/examples/mllib/DecisionTreeRunner.scala\n",
            "spark-3.4.0-bin-hadoop3/examples/src/main/scala/org/apache/spark/examples/mllib/StreamingKMeansExample.scala\n",
            "spark-3.4.0-bin-hadoop3/examples/src/main/scala/org/apache/spark/examples/mllib/StreamingLogisticRegression.scala\n",
            "spark-3.4.0-bin-hadoop3/examples/src/main/scala/org/apache/spark/examples/mllib/DenseKMeans.scala\n",
            "spark-3.4.0-bin-hadoop3/examples/src/main/scala/org/apache/spark/examples/mllib/TFIDFExample.scala\n",
            "spark-3.4.0-bin-hadoop3/examples/src/main/scala/org/apache/spark/examples/mllib/LogisticRegressionWithLBFGSExample.scala\n",
            "spark-3.4.0-bin-hadoop3/examples/src/main/scala/org/apache/spark/examples/mllib/TallSkinnyPCA.scala\n",
            "spark-3.4.0-bin-hadoop3/examples/src/main/scala/org/apache/spark/examples/mllib/TallSkinnySVD.scala\n",
            "spark-3.4.0-bin-hadoop3/examples/src/main/scala/org/apache/spark/examples/mllib/LBFGSExample.scala\n",
            "spark-3.4.0-bin-hadoop3/examples/src/main/scala/org/apache/spark/examples/mllib/BisectingKMeansExample.scala\n",
            "spark-3.4.0-bin-hadoop3/examples/src/main/scala/org/apache/spark/examples/mllib/StratifiedSamplingExample.scala\n",
            "spark-3.4.0-bin-hadoop3/examples/src/main/scala/org/apache/spark/examples/mllib/MultiLabelMetricsExample.scala\n",
            "spark-3.4.0-bin-hadoop3/examples/src/main/scala/org/apache/spark/examples/mllib/SampledRDDs.scala\n",
            "spark-3.4.0-bin-hadoop3/examples/src/main/scala/org/apache/spark/examples/mllib/RandomForestClassificationExample.scala\n",
            "spark-3.4.0-bin-hadoop3/examples/src/main/scala/org/apache/spark/examples/mllib/SimpleFPGrowth.scala\n",
            "spark-3.4.0-bin-hadoop3/examples/src/main/scala/org/apache/spark/examples/mllib/Word2VecExample.scala\n",
            "spark-3.4.0-bin-hadoop3/examples/src/main/scala/org/apache/spark/examples/mllib/CorrelationsExample.scala\n",
            "spark-3.4.0-bin-hadoop3/examples/src/main/scala/org/apache/spark/examples/mllib/PCAOnSourceVectorExample.scala\n",
            "spark-3.4.0-bin-hadoop3/examples/src/main/scala/org/apache/spark/examples/mllib/DecisionTreeRegressionExample.scala\n",
            "spark-3.4.0-bin-hadoop3/examples/src/main/scala/org/apache/spark/examples/mllib/PMMLModelExportExample.scala\n",
            "spark-3.4.0-bin-hadoop3/examples/src/main/scala/org/apache/spark/examples/mllib/IsotonicRegressionExample.scala\n",
            "spark-3.4.0-bin-hadoop3/examples/src/main/scala/org/apache/spark/examples/mllib/RandomRDDGeneration.scala\n",
            "spark-3.4.0-bin-hadoop3/examples/src/main/scala/org/apache/spark/examples/mllib/SVDExample.scala\n",
            "spark-3.4.0-bin-hadoop3/examples/src/main/scala/org/apache/spark/examples/mllib/PrefixSpanExample.scala\n",
            "spark-3.4.0-bin-hadoop3/examples/src/main/scala/org/apache/spark/examples/mllib/BinaryClassification.scala\n",
            "spark-3.4.0-bin-hadoop3/examples/src/main/scala/org/apache/spark/examples/mllib/ChiSqSelectorExample.scala\n",
            "spark-3.4.0-bin-hadoop3/examples/src/main/scala/org/apache/spark/examples/mllib/NormalizerExample.scala\n",
            "spark-3.4.0-bin-hadoop3/examples/src/main/scala/org/apache/spark/examples/mllib/FPGrowthExample.scala\n",
            "spark-3.4.0-bin-hadoop3/examples/src/main/scala/org/apache/spark/examples/mllib/StreamingLinearRegressionExample.scala\n",
            "spark-3.4.0-bin-hadoop3/examples/src/main/scala/org/apache/spark/examples/mllib/PowerIterationClusteringExample.scala\n",
            "spark-3.4.0-bin-hadoop3/examples/src/main/scala/org/apache/spark/examples/mllib/RankingMetricsExample.scala\n",
            "spark-3.4.0-bin-hadoop3/examples/src/main/scala/org/apache/spark/examples/mllib/LDAExample.scala\n",
            "spark-3.4.0-bin-hadoop3/examples/src/main/scala/org/apache/spark/examples/mllib/MulticlassMetricsExample.scala\n",
            "spark-3.4.0-bin-hadoop3/examples/src/main/scala/org/apache/spark/examples/mllib/RecommendationExample.scala\n",
            "spark-3.4.0-bin-hadoop3/examples/src/main/scala/org/apache/spark/examples/mllib/SummaryStatisticsExample.scala\n",
            "spark-3.4.0-bin-hadoop3/examples/src/main/scala/org/apache/spark/examples/mllib/MovieLensALS.scala\n",
            "spark-3.4.0-bin-hadoop3/examples/src/main/scala/org/apache/spark/examples/mllib/KMeansExample.scala\n",
            "spark-3.4.0-bin-hadoop3/examples/src/main/scala/org/apache/spark/examples/mllib/AbstractParams.scala\n",
            "spark-3.4.0-bin-hadoop3/examples/src/main/scala/org/apache/spark/examples/mllib/SparseNaiveBayes.scala\n",
            "spark-3.4.0-bin-hadoop3/examples/src/main/scala/org/apache/spark/examples/mllib/StandardScalerExample.scala\n",
            "spark-3.4.0-bin-hadoop3/examples/src/main/scala/org/apache/spark/examples/mllib/GradientBoostingRegressionExample.scala\n",
            "spark-3.4.0-bin-hadoop3/examples/src/main/scala/org/apache/spark/examples/mllib/MultivariateSummarizer.scala\n",
            "spark-3.4.0-bin-hadoop3/examples/src/main/scala/org/apache/spark/examples/mllib/RandomForestRegressionExample.scala\n",
            "spark-3.4.0-bin-hadoop3/examples/src/main/scala/org/apache/spark/examples/mllib/SVMWithSGDExample.scala\n",
            "spark-3.4.0-bin-hadoop3/examples/src/main/scala/org/apache/spark/examples/mllib/AssociationRulesExample.scala\n",
            "spark-3.4.0-bin-hadoop3/examples/src/main/scala/org/apache/spark/examples/mllib/ElementwiseProductExample.scala\n",
            "spark-3.4.0-bin-hadoop3/examples/src/main/scala/org/apache/spark/examples/mllib/StreamingTestExample.scala\n",
            "spark-3.4.0-bin-hadoop3/examples/src/main/scala/org/apache/spark/examples/mllib/KernelDensityEstimationExample.scala\n",
            "spark-3.4.0-bin-hadoop3/examples/src/main/scala/org/apache/spark/examples/mllib/GradientBoostingClassificationExample.scala\n",
            "spark-3.4.0-bin-hadoop3/examples/src/main/scala/org/apache/spark/examples/mllib/HypothesisTestingExample.scala\n",
            "spark-3.4.0-bin-hadoop3/examples/src/main/scala/org/apache/spark/examples/mllib/DecisionTreeClassificationExample.scala\n",
            "spark-3.4.0-bin-hadoop3/examples/src/main/scala/org/apache/spark/examples/mllib/BinaryClassificationMetricsExample.scala\n",
            "spark-3.4.0-bin-hadoop3/examples/src/main/scala/org/apache/spark/examples/mllib/PCAOnRowMatrixExample.scala\n",
            "spark-3.4.0-bin-hadoop3/examples/src/main/scala/org/apache/spark/examples/mllib/NaiveBayesExample.scala\n",
            "spark-3.4.0-bin-hadoop3/examples/src/main/scala/org/apache/spark/examples/mllib/GradientBoostedTreesRunner.scala\n",
            "spark-3.4.0-bin-hadoop3/examples/src/main/scala/org/apache/spark/examples/mllib/Correlations.scala\n",
            "spark-3.4.0-bin-hadoop3/examples/src/main/scala/org/apache/spark/examples/mllib/HypothesisTestingKolmogorovSmirnovTestExample.scala\n",
            "spark-3.4.0-bin-hadoop3/examples/src/main/scala/org/apache/spark/examples/mllib/GaussianMixtureExample.scala\n",
            "spark-3.4.0-bin-hadoop3/examples/src/main/python/\n",
            "spark-3.4.0-bin-hadoop3/examples/src/main/python/sql/\n",
            "spark-3.4.0-bin-hadoop3/examples/src/main/python/sql/streaming/\n",
            "spark-3.4.0-bin-hadoop3/examples/src/main/python/sql/streaming/structured_network_wordcount_windowed.py\n",
            "spark-3.4.0-bin-hadoop3/examples/src/main/python/sql/streaming/structured_sessionization.py\n",
            "spark-3.4.0-bin-hadoop3/examples/src/main/python/sql/streaming/__init__,py\n",
            "spark-3.4.0-bin-hadoop3/examples/src/main/python/sql/streaming/structured_network_wordcount.py\n",
            "spark-3.4.0-bin-hadoop3/examples/src/main/python/sql/streaming/structured_kafka_wordcount.py\n",
            "spark-3.4.0-bin-hadoop3/examples/src/main/python/sql/streaming/structured_network_wordcount_session_window.py\n",
            "spark-3.4.0-bin-hadoop3/examples/src/main/python/sql/datasource.py\n",
            "spark-3.4.0-bin-hadoop3/examples/src/main/python/sql/basic.py\n",
            "spark-3.4.0-bin-hadoop3/examples/src/main/python/sql/__init__.py\n",
            "spark-3.4.0-bin-hadoop3/examples/src/main/python/sql/arrow.py\n",
            "spark-3.4.0-bin-hadoop3/examples/src/main/python/sql/hive.py\n",
            "spark-3.4.0-bin-hadoop3/examples/src/main/python/kmeans.py\n",
            "spark-3.4.0-bin-hadoop3/examples/src/main/python/wordcount.py\n",
            "spark-3.4.0-bin-hadoop3/examples/src/main/python/streaming/\n",
            "spark-3.4.0-bin-hadoop3/examples/src/main/python/streaming/__init__.py\n",
            "spark-3.4.0-bin-hadoop3/examples/src/main/python/streaming/sql_network_wordcount.py\n",
            "spark-3.4.0-bin-hadoop3/examples/src/main/python/streaming/stateful_network_wordcount.py\n",
            "spark-3.4.0-bin-hadoop3/examples/src/main/python/streaming/network_wordcount.py\n",
            "spark-3.4.0-bin-hadoop3/examples/src/main/python/streaming/queue_stream.py\n",
            "spark-3.4.0-bin-hadoop3/examples/src/main/python/streaming/network_wordjoinsentiments.py\n",
            "spark-3.4.0-bin-hadoop3/examples/src/main/python/streaming/hdfs_wordcount.py\n",
            "spark-3.4.0-bin-hadoop3/examples/src/main/python/streaming/recoverable_network_wordcount.py\n",
            "spark-3.4.0-bin-hadoop3/examples/src/main/python/avro_inputformat.py\n",
            "spark-3.4.0-bin-hadoop3/examples/src/main/python/__init__.py\n",
            "spark-3.4.0-bin-hadoop3/examples/src/main/python/logistic_regression.py\n",
            "spark-3.4.0-bin-hadoop3/examples/src/main/python/status_api_demo.py\n",
            "spark-3.4.0-bin-hadoop3/examples/src/main/python/pagerank.py\n",
            "spark-3.4.0-bin-hadoop3/examples/src/main/python/parquet_inputformat.py\n",
            "spark-3.4.0-bin-hadoop3/examples/src/main/python/transitive_closure.py\n",
            "spark-3.4.0-bin-hadoop3/examples/src/main/python/als.py\n",
            "spark-3.4.0-bin-hadoop3/examples/src/main/python/sort.py\n",
            "spark-3.4.0-bin-hadoop3/examples/src/main/python/ml/\n",
            "spark-3.4.0-bin-hadoop3/examples/src/main/python/ml/dct_example.py\n",
            "spark-3.4.0-bin-hadoop3/examples/src/main/python/ml/normalizer_example.py\n",
            "spark-3.4.0-bin-hadoop3/examples/src/main/python/ml/random_forest_classifier_example.py\n",
            "spark-3.4.0-bin-hadoop3/examples/src/main/python/ml/standard_scaler_example.py\n",
            "spark-3.4.0-bin-hadoop3/examples/src/main/python/ml/estimator_transformer_param_example.py\n",
            "spark-3.4.0-bin-hadoop3/examples/src/main/python/ml/binarizer_example.py\n",
            "spark-3.4.0-bin-hadoop3/examples/src/main/python/ml/dataframe_example.py\n",
            "spark-3.4.0-bin-hadoop3/examples/src/main/python/ml/aft_survival_regression.py\n",
            "spark-3.4.0-bin-hadoop3/examples/src/main/python/ml/kmeans_example.py\n",
            "spark-3.4.0-bin-hadoop3/examples/src/main/python/ml/imputer_example.py\n",
            "spark-3.4.0-bin-hadoop3/examples/src/main/python/ml/cross_validator.py\n",
            "spark-3.4.0-bin-hadoop3/examples/src/main/python/ml/bucketed_random_projection_lsh_example.py\n",
            "spark-3.4.0-bin-hadoop3/examples/src/main/python/ml/univariate_feature_selector_example.py\n",
            "spark-3.4.0-bin-hadoop3/examples/src/main/python/ml/rformula_example.py\n",
            "spark-3.4.0-bin-hadoop3/examples/src/main/python/ml/onehot_encoder_example.py\n",
            "spark-3.4.0-bin-hadoop3/examples/src/main/python/ml/chi_square_test_example.py\n",
            "spark-3.4.0-bin-hadoop3/examples/src/main/python/ml/vector_size_hint_example.py\n",
            "spark-3.4.0-bin-hadoop3/examples/src/main/python/ml/linear_regression_with_elastic_net.py\n",
            "spark-3.4.0-bin-hadoop3/examples/src/main/python/ml/decision_tree_classification_example.py\n",
            "spark-3.4.0-bin-hadoop3/examples/src/main/python/ml/__init__,py\n",
            "spark-3.4.0-bin-hadoop3/examples/src/main/python/ml/feature_hasher_example.py\n",
            "spark-3.4.0-bin-hadoop3/examples/src/main/python/ml/count_vectorizer_example.py\n",
            "spark-3.4.0-bin-hadoop3/examples/src/main/python/ml/tokenizer_example.py\n",
            "spark-3.4.0-bin-hadoop3/examples/src/main/python/ml/word2vec_example.py\n",
            "spark-3.4.0-bin-hadoop3/examples/src/main/python/ml/bucketizer_example.py\n",
            "spark-3.4.0-bin-hadoop3/examples/src/main/python/ml/stopwords_remover_example.py\n",
            "spark-3.4.0-bin-hadoop3/examples/src/main/python/ml/polynomial_expansion_example.py\n",
            "spark-3.4.0-bin-hadoop3/examples/src/main/python/ml/elementwise_product_example.py\n",
            "spark-3.4.0-bin-hadoop3/examples/src/main/python/ml/pca_example.py\n",
            "spark-3.4.0-bin-hadoop3/examples/src/main/python/ml/bisecting_k_means_example.py\n",
            "spark-3.4.0-bin-hadoop3/examples/src/main/python/ml/robust_scaler_example.py\n",
            "spark-3.4.0-bin-hadoop3/examples/src/main/python/ml/vector_assembler_example.py\n",
            "spark-3.4.0-bin-hadoop3/examples/src/main/python/ml/quantile_discretizer_example.py\n",
            "spark-3.4.0-bin-hadoop3/examples/src/main/python/ml/tf_idf_example.py\n",
            "spark-3.4.0-bin-hadoop3/examples/src/main/python/ml/gradient_boosted_tree_classifier_example.py\n",
            "spark-3.4.0-bin-hadoop3/examples/src/main/python/ml/fm_classifier_example.py\n",
            "spark-3.4.0-bin-hadoop3/examples/src/main/python/ml/linearsvc.py\n",
            "spark-3.4.0-bin-hadoop3/examples/src/main/python/ml/min_max_scaler_example.py\n",
            "spark-3.4.0-bin-hadoop3/examples/src/main/python/ml/correlation_example.py\n",
            "spark-3.4.0-bin-hadoop3/examples/src/main/python/ml/generalized_linear_regression_example.py\n",
            "spark-3.4.0-bin-hadoop3/examples/src/main/python/ml/multiclass_logistic_regression_with_elastic_net.py\n",
            "spark-3.4.0-bin-hadoop3/examples/src/main/python/ml/sql_transformer.py\n",
            "spark-3.4.0-bin-hadoop3/examples/src/main/python/ml/index_to_string_example.py\n",
            "spark-3.4.0-bin-hadoop3/examples/src/main/python/ml/vector_indexer_example.py\n",
            "spark-3.4.0-bin-hadoop3/examples/src/main/python/ml/multilayer_perceptron_classification.py\n",
            "spark-3.4.0-bin-hadoop3/examples/src/main/python/ml/summarizer_example.py\n",
            "spark-3.4.0-bin-hadoop3/examples/src/main/python/ml/vector_slicer_example.py\n",
            "spark-3.4.0-bin-hadoop3/examples/src/main/python/ml/logistic_regression_summary_example.py\n",
            "spark-3.4.0-bin-hadoop3/examples/src/main/python/ml/pipeline_example.py\n",
            "spark-3.4.0-bin-hadoop3/examples/src/main/python/ml/n_gram_example.py\n",
            "spark-3.4.0-bin-hadoop3/examples/src/main/python/ml/naive_bayes_example.py\n",
            "spark-3.4.0-bin-hadoop3/examples/src/main/python/ml/logistic_regression_with_elastic_net.py\n",
            "spark-3.4.0-bin-hadoop3/examples/src/main/python/ml/fpgrowth_example.py\n",
            "spark-3.4.0-bin-hadoop3/examples/src/main/python/ml/variance_threshold_selector_example.py\n",
            "spark-3.4.0-bin-hadoop3/examples/src/main/python/ml/als_example.py\n",
            "spark-3.4.0-bin-hadoop3/examples/src/main/python/ml/fm_regressor_example.py\n",
            "spark-3.4.0-bin-hadoop3/examples/src/main/python/ml/train_validation_split.py\n",
            "spark-3.4.0-bin-hadoop3/examples/src/main/python/ml/decision_tree_regression_example.py\n",
            "spark-3.4.0-bin-hadoop3/examples/src/main/python/ml/random_forest_regressor_example.py\n",
            "spark-3.4.0-bin-hadoop3/examples/src/main/python/ml/prefixspan_example.py\n",
            "spark-3.4.0-bin-hadoop3/examples/src/main/python/ml/gradient_boosted_tree_regressor_example.py\n",
            "spark-3.4.0-bin-hadoop3/examples/src/main/python/ml/min_hash_lsh_example.py\n",
            "spark-3.4.0-bin-hadoop3/examples/src/main/python/ml/gaussian_mixture_example.py\n",
            "spark-3.4.0-bin-hadoop3/examples/src/main/python/ml/string_indexer_example.py\n",
            "spark-3.4.0-bin-hadoop3/examples/src/main/python/ml/isotonic_regression_example.py\n",
            "spark-3.4.0-bin-hadoop3/examples/src/main/python/ml/interaction_example.py\n",
            "spark-3.4.0-bin-hadoop3/examples/src/main/python/ml/power_iteration_clustering_example.py\n",
            "spark-3.4.0-bin-hadoop3/examples/src/main/python/ml/chisq_selector_example.py\n",
            "spark-3.4.0-bin-hadoop3/examples/src/main/python/ml/lda_example.py\n",
            "spark-3.4.0-bin-hadoop3/examples/src/main/python/ml/max_abs_scaler_example.py\n",
            "spark-3.4.0-bin-hadoop3/examples/src/main/python/ml/one_vs_rest_example.py\n",
            "spark-3.4.0-bin-hadoop3/examples/src/main/python/pi.py\n",
            "spark-3.4.0-bin-hadoop3/examples/src/main/python/mllib/\n",
            "spark-3.4.0-bin-hadoop3/examples/src/main/python/mllib/normalizer_example.py\n",
            "spark-3.4.0-bin-hadoop3/examples/src/main/python/mllib/logistic_regression_with_lbfgs_example.py\n",
            "spark-3.4.0-bin-hadoop3/examples/src/main/python/mllib/kmeans.py\n",
            "spark-3.4.0-bin-hadoop3/examples/src/main/python/mllib/standard_scaler_example.py\n",
            "spark-3.4.0-bin-hadoop3/examples/src/main/python/mllib/word2vec.py\n",
            "spark-3.4.0-bin-hadoop3/examples/src/main/python/mllib/gradient_boosting_classification_example.py\n",
            "spark-3.4.0-bin-hadoop3/examples/src/main/python/mllib/random_forest_regression_example.py\n",
            "spark-3.4.0-bin-hadoop3/examples/src/main/python/mllib/latent_dirichlet_allocation_example.py\n",
            "spark-3.4.0-bin-hadoop3/examples/src/main/python/mllib/regression_metrics_example.py\n",
            "spark-3.4.0-bin-hadoop3/examples/src/main/python/mllib/hypothesis_testing_kolmogorov_smirnov_test_example.py\n",
            "spark-3.4.0-bin-hadoop3/examples/src/main/python/mllib/__init__.py\n",
            "spark-3.4.0-bin-hadoop3/examples/src/main/python/mllib/decision_tree_classification_example.py\n",
            "spark-3.4.0-bin-hadoop3/examples/src/main/python/mllib/logistic_regression.py\n",
            "spark-3.4.0-bin-hadoop3/examples/src/main/python/mllib/linear_regression_with_sgd_example.py\n",
            "spark-3.4.0-bin-hadoop3/examples/src/main/python/mllib/hypothesis_testing_example.py\n",
            "spark-3.4.0-bin-hadoop3/examples/src/main/python/mllib/multi_class_metrics_example.py\n",
            "spark-3.4.0-bin-hadoop3/examples/src/main/python/mllib/k_means_example.py\n",
            "spark-3.4.0-bin-hadoop3/examples/src/main/python/mllib/binary_classification_metrics_example.py\n",
            "spark-3.4.0-bin-hadoop3/examples/src/main/python/mllib/word2vec_example.py\n",
            "spark-3.4.0-bin-hadoop3/examples/src/main/python/mllib/recommendation_example.py\n",
            "spark-3.4.0-bin-hadoop3/examples/src/main/python/mllib/ranking_metrics_example.py\n",
            "spark-3.4.0-bin-hadoop3/examples/src/main/python/mllib/summary_statistics_example.py\n",
            "spark-3.4.0-bin-hadoop3/examples/src/main/python/mllib/elementwise_product_example.py\n",
            "spark-3.4.0-bin-hadoop3/examples/src/main/python/mllib/bisecting_k_means_example.py\n",
            "spark-3.4.0-bin-hadoop3/examples/src/main/python/mllib/gaussian_mixture_model.py\n",
            "spark-3.4.0-bin-hadoop3/examples/src/main/python/mllib/multi_label_metrics_example.py\n",
            "spark-3.4.0-bin-hadoop3/examples/src/main/python/mllib/sampled_rdds.py\n",
            "spark-3.4.0-bin-hadoop3/examples/src/main/python/mllib/tf_idf_example.py\n",
            "spark-3.4.0-bin-hadoop3/examples/src/main/python/mllib/streaming_k_means_example.py\n",
            "spark-3.4.0-bin-hadoop3/examples/src/main/python/mllib/stratified_sampling_example.py\n",
            "spark-3.4.0-bin-hadoop3/examples/src/main/python/mllib/streaming_linear_regression_example.py\n",
            "spark-3.4.0-bin-hadoop3/examples/src/main/python/mllib/kernel_density_estimation_example.py\n",
            "spark-3.4.0-bin-hadoop3/examples/src/main/python/mllib/correlations.py\n",
            "spark-3.4.0-bin-hadoop3/examples/src/main/python/mllib/random_rdd_generation.py\n",
            "spark-3.4.0-bin-hadoop3/examples/src/main/python/mllib/naive_bayes_example.py\n",
            "spark-3.4.0-bin-hadoop3/examples/src/main/python/mllib/fpgrowth_example.py\n",
            "spark-3.4.0-bin-hadoop3/examples/src/main/python/mllib/decision_tree_regression_example.py\n",
            "spark-3.4.0-bin-hadoop3/examples/src/main/python/mllib/random_forest_classification_example.py\n",
            "spark-3.4.0-bin-hadoop3/examples/src/main/python/mllib/svm_with_sgd_example.py\n",
            "spark-3.4.0-bin-hadoop3/examples/src/main/python/mllib/gaussian_mixture_example.py\n",
            "spark-3.4.0-bin-hadoop3/examples/src/main/python/mllib/isotonic_regression_example.py\n",
            "spark-3.4.0-bin-hadoop3/examples/src/main/python/mllib/svd_example.py\n",
            "spark-3.4.0-bin-hadoop3/examples/src/main/python/mllib/power_iteration_clustering_example.py\n",
            "spark-3.4.0-bin-hadoop3/examples/src/main/python/mllib/pca_rowmatrix_example.py\n",
            "spark-3.4.0-bin-hadoop3/examples/src/main/python/mllib/correlations_example.py\n",
            "spark-3.4.0-bin-hadoop3/examples/src/main/python/mllib/gradient_boosting_regression_example.py\n",
            "spark-3.4.0-bin-hadoop3/examples/src/main/java/\n",
            "spark-3.4.0-bin-hadoop3/examples/src/main/java/org/\n",
            "spark-3.4.0-bin-hadoop3/examples/src/main/java/org/apache/\n",
            "spark-3.4.0-bin-hadoop3/examples/src/main/java/org/apache/spark/\n",
            "spark-3.4.0-bin-hadoop3/examples/src/main/java/org/apache/spark/examples/\n",
            "spark-3.4.0-bin-hadoop3/examples/src/main/java/org/apache/spark/examples/sql/\n",
            "spark-3.4.0-bin-hadoop3/examples/src/main/java/org/apache/spark/examples/sql/JavaUserDefinedUntypedAggregation.java\n",
            "spark-3.4.0-bin-hadoop3/examples/src/main/java/org/apache/spark/examples/sql/streaming/\n",
            "spark-3.4.0-bin-hadoop3/examples/src/main/java/org/apache/spark/examples/sql/streaming/JavaStructuredNetworkWordCount.java\n",
            "spark-3.4.0-bin-hadoop3/examples/src/main/java/org/apache/spark/examples/sql/streaming/JavaStructuredNetworkWordCountWindowed.java\n",
            "spark-3.4.0-bin-hadoop3/examples/src/main/java/org/apache/spark/examples/sql/streaming/JavaStructuredComplexSessionization.java\n",
            "spark-3.4.0-bin-hadoop3/examples/src/main/java/org/apache/spark/examples/sql/streaming/JavaStructuredKerberizedKafkaWordCount.java\n",
            "spark-3.4.0-bin-hadoop3/examples/src/main/java/org/apache/spark/examples/sql/streaming/JavaStructuredSessionization.java\n",
            "spark-3.4.0-bin-hadoop3/examples/src/main/java/org/apache/spark/examples/sql/streaming/JavaStructuredKafkaWordCount.java\n",
            "spark-3.4.0-bin-hadoop3/examples/src/main/java/org/apache/spark/examples/sql/JavaUserDefinedScalar.java\n",
            "spark-3.4.0-bin-hadoop3/examples/src/main/java/org/apache/spark/examples/sql/JavaUserDefinedTypedAggregation.java\n",
            "spark-3.4.0-bin-hadoop3/examples/src/main/java/org/apache/spark/examples/sql/JavaSQLDataSourceExample.java\n",
            "spark-3.4.0-bin-hadoop3/examples/src/main/java/org/apache/spark/examples/sql/JavaSparkSQLExample.java\n",
            "spark-3.4.0-bin-hadoop3/examples/src/main/java/org/apache/spark/examples/sql/hive/\n",
            "spark-3.4.0-bin-hadoop3/examples/src/main/java/org/apache/spark/examples/sql/hive/JavaSparkHiveExample.java\n",
            "spark-3.4.0-bin-hadoop3/examples/src/main/java/org/apache/spark/examples/JavaStatusTrackerDemo.java\n",
            "spark-3.4.0-bin-hadoop3/examples/src/main/java/org/apache/spark/examples/streaming/\n",
            "spark-3.4.0-bin-hadoop3/examples/src/main/java/org/apache/spark/examples/streaming/JavaRecoverableNetworkWordCount.java\n",
            "spark-3.4.0-bin-hadoop3/examples/src/main/java/org/apache/spark/examples/streaming/JavaDirectKafkaWordCount.java\n",
            "spark-3.4.0-bin-hadoop3/examples/src/main/java/org/apache/spark/examples/streaming/JavaQueueStream.java\n",
            "spark-3.4.0-bin-hadoop3/examples/src/main/java/org/apache/spark/examples/streaming/JavaDirectKerberizedKafkaWordCount.java\n",
            "spark-3.4.0-bin-hadoop3/examples/src/main/java/org/apache/spark/examples/streaming/JavaCustomReceiver.java\n",
            "spark-3.4.0-bin-hadoop3/examples/src/main/java/org/apache/spark/examples/streaming/JavaStatefulNetworkWordCount.java\n",
            "spark-3.4.0-bin-hadoop3/examples/src/main/java/org/apache/spark/examples/streaming/JavaNetworkWordCount.java\n",
            "spark-3.4.0-bin-hadoop3/examples/src/main/java/org/apache/spark/examples/streaming/JavaRecord.java\n",
            "spark-3.4.0-bin-hadoop3/examples/src/main/java/org/apache/spark/examples/streaming/JavaSqlNetworkWordCount.java\n",
            "spark-3.4.0-bin-hadoop3/examples/src/main/java/org/apache/spark/examples/JavaSparkPi.java\n",
            "spark-3.4.0-bin-hadoop3/examples/src/main/java/org/apache/spark/examples/JavaWordCount.java\n",
            "spark-3.4.0-bin-hadoop3/examples/src/main/java/org/apache/spark/examples/JavaTC.java\n",
            "spark-3.4.0-bin-hadoop3/examples/src/main/java/org/apache/spark/examples/JavaLogQuery.java\n",
            "spark-3.4.0-bin-hadoop3/examples/src/main/java/org/apache/spark/examples/JavaPageRank.java\n",
            "spark-3.4.0-bin-hadoop3/examples/src/main/java/org/apache/spark/examples/JavaHdfsLR.java\n",
            "spark-3.4.0-bin-hadoop3/examples/src/main/java/org/apache/spark/examples/ml/\n",
            "spark-3.4.0-bin-hadoop3/examples/src/main/java/org/apache/spark/examples/ml/JavaKMeansExample.java\n",
            "spark-3.4.0-bin-hadoop3/examples/src/main/java/org/apache/spark/examples/ml/JavaBucketizerExample.java\n",
            "spark-3.4.0-bin-hadoop3/examples/src/main/java/org/apache/spark/examples/ml/JavaVectorSlicerExample.java\n",
            "spark-3.4.0-bin-hadoop3/examples/src/main/java/org/apache/spark/examples/ml/JavaALSExample.java\n",
            "spark-3.4.0-bin-hadoop3/examples/src/main/java/org/apache/spark/examples/ml/JavaLinearSVCExample.java\n",
            "spark-3.4.0-bin-hadoop3/examples/src/main/java/org/apache/spark/examples/ml/JavaVectorIndexerExample.java\n",
            "spark-3.4.0-bin-hadoop3/examples/src/main/java/org/apache/spark/examples/ml/JavaVarianceThresholdSelectorExample.java\n",
            "spark-3.4.0-bin-hadoop3/examples/src/main/java/org/apache/spark/examples/ml/JavaCountVectorizerExample.java\n",
            "spark-3.4.0-bin-hadoop3/examples/src/main/java/org/apache/spark/examples/ml/JavaMinHashLSHExample.java\n",
            "spark-3.4.0-bin-hadoop3/examples/src/main/java/org/apache/spark/examples/ml/JavaStandardScalerExample.java\n",
            "spark-3.4.0-bin-hadoop3/examples/src/main/java/org/apache/spark/examples/ml/JavaSQLTransformerExample.java\n",
            "spark-3.4.0-bin-hadoop3/examples/src/main/java/org/apache/spark/examples/ml/JavaUnivariateFeatureSelectorExample.java\n",
            "spark-3.4.0-bin-hadoop3/examples/src/main/java/org/apache/spark/examples/ml/JavaLabeledDocument.java\n",
            "spark-3.4.0-bin-hadoop3/examples/src/main/java/org/apache/spark/examples/ml/JavaLogisticRegressionSummaryExample.java\n",
            "spark-3.4.0-bin-hadoop3/examples/src/main/java/org/apache/spark/examples/ml/JavaTokenizerExample.java\n",
            "spark-3.4.0-bin-hadoop3/examples/src/main/java/org/apache/spark/examples/ml/JavaLinearRegressionWithElasticNetExample.java\n",
            "spark-3.4.0-bin-hadoop3/examples/src/main/java/org/apache/spark/examples/ml/JavaDecisionTreeClassificationExample.java\n",
            "spark-3.4.0-bin-hadoop3/examples/src/main/java/org/apache/spark/examples/ml/JavaDCTExample.java\n",
            "spark-3.4.0-bin-hadoop3/examples/src/main/java/org/apache/spark/examples/ml/JavaRandomForestRegressorExample.java\n",
            "spark-3.4.0-bin-hadoop3/examples/src/main/java/org/apache/spark/examples/ml/JavaNormalizerExample.java\n",
            "spark-3.4.0-bin-hadoop3/examples/src/main/java/org/apache/spark/examples/ml/JavaWord2VecExample.java\n",
            "spark-3.4.0-bin-hadoop3/examples/src/main/java/org/apache/spark/examples/ml/JavaPolynomialExpansionExample.java\n",
            "spark-3.4.0-bin-hadoop3/examples/src/main/java/org/apache/spark/examples/ml/JavaRFormulaExample.java\n",
            "spark-3.4.0-bin-hadoop3/examples/src/main/java/org/apache/spark/examples/ml/JavaPowerIterationClusteringExample.java\n",
            "spark-3.4.0-bin-hadoop3/examples/src/main/java/org/apache/spark/examples/ml/JavaSummarizerExample.java\n",
            "spark-3.4.0-bin-hadoop3/examples/src/main/java/org/apache/spark/examples/ml/JavaPipelineExample.java\n",
            "spark-3.4.0-bin-hadoop3/examples/src/main/java/org/apache/spark/examples/ml/JavaQuantileDiscretizerExample.java\n",
            "spark-3.4.0-bin-hadoop3/examples/src/main/java/org/apache/spark/examples/ml/JavaBinarizerExample.java\n",
            "spark-3.4.0-bin-hadoop3/examples/src/main/java/org/apache/spark/examples/ml/JavaGradientBoostedTreeClassifierExample.java\n",
            "spark-3.4.0-bin-hadoop3/examples/src/main/java/org/apache/spark/examples/ml/JavaMinMaxScalerExample.java\n",
            "spark-3.4.0-bin-hadoop3/examples/src/main/java/org/apache/spark/examples/ml/JavaMulticlassLogisticRegressionWithElasticNetExample.java\n",
            "spark-3.4.0-bin-hadoop3/examples/src/main/java/org/apache/spark/examples/ml/JavaNaiveBayesExample.java\n",
            "spark-3.4.0-bin-hadoop3/examples/src/main/java/org/apache/spark/examples/ml/JavaVectorSizeHintExample.java\n",
            "spark-3.4.0-bin-hadoop3/examples/src/main/java/org/apache/spark/examples/ml/JavaBisectingKMeansExample.java\n",
            "spark-3.4.0-bin-hadoop3/examples/src/main/java/org/apache/spark/examples/ml/JavaLDAExample.java\n",
            "spark-3.4.0-bin-hadoop3/examples/src/main/java/org/apache/spark/examples/ml/JavaMaxAbsScalerExample.java\n",
            "spark-3.4.0-bin-hadoop3/examples/src/main/java/org/apache/spark/examples/ml/JavaRandomForestClassifierExample.java\n",
            "spark-3.4.0-bin-hadoop3/examples/src/main/java/org/apache/spark/examples/ml/JavaFMRegressorExample.java\n",
            "spark-3.4.0-bin-hadoop3/examples/src/main/java/org/apache/spark/examples/ml/JavaRobustScalerExample.java\n",
            "spark-3.4.0-bin-hadoop3/examples/src/main/java/org/apache/spark/examples/ml/JavaLogisticRegressionWithElasticNetExample.java\n",
            "spark-3.4.0-bin-hadoop3/examples/src/main/java/org/apache/spark/examples/ml/JavaVectorAssemblerExample.java\n",
            "spark-3.4.0-bin-hadoop3/examples/src/main/java/org/apache/spark/examples/ml/JavaAFTSurvivalRegressionExample.java\n",
            "spark-3.4.0-bin-hadoop3/examples/src/main/java/org/apache/spark/examples/ml/JavaOneVsRestExample.java\n",
            "spark-3.4.0-bin-hadoop3/examples/src/main/java/org/apache/spark/examples/ml/JavaInteractionExample.java\n",
            "spark-3.4.0-bin-hadoop3/examples/src/main/java/org/apache/spark/examples/ml/JavaGradientBoostedTreeRegressorExample.java\n",
            "spark-3.4.0-bin-hadoop3/examples/src/main/java/org/apache/spark/examples/ml/JavaIndexToStringExample.java\n",
            "spark-3.4.0-bin-hadoop3/examples/src/main/java/org/apache/spark/examples/ml/JavaPCAExample.java\n",
            "spark-3.4.0-bin-hadoop3/examples/src/main/java/org/apache/spark/examples/ml/JavaChiSquareTestExample.java\n",
            "spark-3.4.0-bin-hadoop3/examples/src/main/java/org/apache/spark/examples/ml/JavaFMClassifierExample.java\n",
            "spark-3.4.0-bin-hadoop3/examples/src/main/java/org/apache/spark/examples/ml/JavaOneHotEncoderExample.java\n",
            "spark-3.4.0-bin-hadoop3/examples/src/main/java/org/apache/spark/examples/ml/JavaImputerExample.java\n",
            "spark-3.4.0-bin-hadoop3/examples/src/main/java/org/apache/spark/examples/ml/JavaBucketedRandomProjectionLSHExample.java\n",
            "spark-3.4.0-bin-hadoop3/examples/src/main/java/org/apache/spark/examples/ml/JavaStringIndexerExample.java\n",
            "spark-3.4.0-bin-hadoop3/examples/src/main/java/org/apache/spark/examples/ml/JavaChiSqSelectorExample.java\n",
            "spark-3.4.0-bin-hadoop3/examples/src/main/java/org/apache/spark/examples/ml/JavaDecisionTreeRegressionExample.java\n",
            "spark-3.4.0-bin-hadoop3/examples/src/main/java/org/apache/spark/examples/ml/JavaModelSelectionViaCrossValidationExample.java\n",
            "spark-3.4.0-bin-hadoop3/examples/src/main/java/org/apache/spark/examples/ml/JavaGeneralizedLinearRegressionExample.java\n",
            "spark-3.4.0-bin-hadoop3/examples/src/main/java/org/apache/spark/examples/ml/JavaCorrelationExample.java\n",
            "spark-3.4.0-bin-hadoop3/examples/src/main/java/org/apache/spark/examples/ml/JavaElementwiseProductExample.java\n",
            "spark-3.4.0-bin-hadoop3/examples/src/main/java/org/apache/spark/examples/ml/JavaMultilayerPerceptronClassifierExample.java\n",
            "spark-3.4.0-bin-hadoop3/examples/src/main/java/org/apache/spark/examples/ml/JavaNGramExample.java\n",
            "spark-3.4.0-bin-hadoop3/examples/src/main/java/org/apache/spark/examples/ml/JavaTfIdfExample.java\n",
            "spark-3.4.0-bin-hadoop3/examples/src/main/java/org/apache/spark/examples/ml/JavaIsotonicRegressionExample.java\n",
            "spark-3.4.0-bin-hadoop3/examples/src/main/java/org/apache/spark/examples/ml/JavaFeatureHasherExample.java\n",
            "spark-3.4.0-bin-hadoop3/examples/src/main/java/org/apache/spark/examples/ml/JavaStopWordsRemoverExample.java\n",
            "spark-3.4.0-bin-hadoop3/examples/src/main/java/org/apache/spark/examples/ml/JavaEstimatorTransformerParamExample.java\n",
            "spark-3.4.0-bin-hadoop3/examples/src/main/java/org/apache/spark/examples/ml/JavaDocument.java\n",
            "spark-3.4.0-bin-hadoop3/examples/src/main/java/org/apache/spark/examples/ml/JavaModelSelectionViaTrainValidationSplitExample.java\n",
            "spark-3.4.0-bin-hadoop3/examples/src/main/java/org/apache/spark/examples/ml/JavaPrefixSpanExample.java\n",
            "spark-3.4.0-bin-hadoop3/examples/src/main/java/org/apache/spark/examples/ml/JavaFPGrowthExample.java\n",
            "spark-3.4.0-bin-hadoop3/examples/src/main/java/org/apache/spark/examples/ml/JavaGaussianMixtureExample.java\n",
            "spark-3.4.0-bin-hadoop3/examples/src/main/java/org/apache/spark/examples/mllib/\n",
            "spark-3.4.0-bin-hadoop3/examples/src/main/java/org/apache/spark/examples/mllib/JavaLBFGSExample.java\n",
            "spark-3.4.0-bin-hadoop3/examples/src/main/java/org/apache/spark/examples/mllib/JavaKMeansExample.java\n",
            "spark-3.4.0-bin-hadoop3/examples/src/main/java/org/apache/spark/examples/mllib/JavaStratifiedSamplingExample.java\n",
            "spark-3.4.0-bin-hadoop3/examples/src/main/java/org/apache/spark/examples/mllib/JavaMulticlassClassificationMetricsExample.java\n",
            "spark-3.4.0-bin-hadoop3/examples/src/main/java/org/apache/spark/examples/mllib/JavaRandomForestClassificationExample.java\n",
            "spark-3.4.0-bin-hadoop3/examples/src/main/java/org/apache/spark/examples/mllib/JavaAssociationRulesExample.java\n",
            "spark-3.4.0-bin-hadoop3/examples/src/main/java/org/apache/spark/examples/mllib/JavaSVDExample.java\n",
            "spark-3.4.0-bin-hadoop3/examples/src/main/java/org/apache/spark/examples/mllib/JavaRecommendationExample.java\n",
            "spark-3.4.0-bin-hadoop3/examples/src/main/java/org/apache/spark/examples/mllib/JavaHypothesisTestingExample.java\n",
            "spark-3.4.0-bin-hadoop3/examples/src/main/java/org/apache/spark/examples/mllib/JavaDecisionTreeClassificationExample.java\n",
            "spark-3.4.0-bin-hadoop3/examples/src/main/java/org/apache/spark/examples/mllib/JavaMultiLabelClassificationMetricsExample.java\n",
            "spark-3.4.0-bin-hadoop3/examples/src/main/java/org/apache/spark/examples/mllib/JavaPowerIterationClusteringExample.java\n",
            "spark-3.4.0-bin-hadoop3/examples/src/main/java/org/apache/spark/examples/mllib/JavaKernelDensityEstimationExample.java\n",
            "spark-3.4.0-bin-hadoop3/examples/src/main/java/org/apache/spark/examples/mllib/JavaNaiveBayesExample.java\n",
            "spark-3.4.0-bin-hadoop3/examples/src/main/java/org/apache/spark/examples/mllib/JavaSVMWithSGDExample.java\n",
            "spark-3.4.0-bin-hadoop3/examples/src/main/java/org/apache/spark/examples/mllib/JavaBisectingKMeansExample.java\n",
            "spark-3.4.0-bin-hadoop3/examples/src/main/java/org/apache/spark/examples/mllib/JavaLatentDirichletAllocationExample.java\n",
            "spark-3.4.0-bin-hadoop3/examples/src/main/java/org/apache/spark/examples/mllib/JavaBinaryClassificationMetricsExample.java\n",
            "spark-3.4.0-bin-hadoop3/examples/src/main/java/org/apache/spark/examples/mllib/JavaLogisticRegressionWithLBFGSExample.java\n",
            "spark-3.4.0-bin-hadoop3/examples/src/main/java/org/apache/spark/examples/mllib/JavaALS.java\n",
            "spark-3.4.0-bin-hadoop3/examples/src/main/java/org/apache/spark/examples/mllib/JavaStreamingTestExample.java\n",
            "spark-3.4.0-bin-hadoop3/examples/src/main/java/org/apache/spark/examples/mllib/JavaSimpleFPGrowth.java\n",
            "spark-3.4.0-bin-hadoop3/examples/src/main/java/org/apache/spark/examples/mllib/JavaPCAExample.java\n",
            "spark-3.4.0-bin-hadoop3/examples/src/main/java/org/apache/spark/examples/mllib/JavaGradientBoostingClassificationExample.java\n",
            "spark-3.4.0-bin-hadoop3/examples/src/main/java/org/apache/spark/examples/mllib/JavaRandomForestRegressionExample.java\n",
            "spark-3.4.0-bin-hadoop3/examples/src/main/java/org/apache/spark/examples/mllib/JavaHypothesisTestingKolmogorovSmirnovTestExample.java\n",
            "spark-3.4.0-bin-hadoop3/examples/src/main/java/org/apache/spark/examples/mllib/JavaChiSqSelectorExample.java\n",
            "spark-3.4.0-bin-hadoop3/examples/src/main/java/org/apache/spark/examples/mllib/JavaDecisionTreeRegressionExample.java\n",
            "spark-3.4.0-bin-hadoop3/examples/src/main/java/org/apache/spark/examples/mllib/JavaSummaryStatisticsExample.java\n",
            "spark-3.4.0-bin-hadoop3/examples/src/main/java/org/apache/spark/examples/mllib/JavaRankingMetricsExample.java\n",
            "spark-3.4.0-bin-hadoop3/examples/src/main/java/org/apache/spark/examples/mllib/JavaElementwiseProductExample.java\n",
            "spark-3.4.0-bin-hadoop3/examples/src/main/java/org/apache/spark/examples/mllib/JavaCorrelationsExample.java\n",
            "spark-3.4.0-bin-hadoop3/examples/src/main/java/org/apache/spark/examples/mllib/JavaIsotonicRegressionExample.java\n",
            "spark-3.4.0-bin-hadoop3/examples/src/main/java/org/apache/spark/examples/mllib/JavaPrefixSpanExample.java\n",
            "spark-3.4.0-bin-hadoop3/examples/src/main/java/org/apache/spark/examples/mllib/JavaGradientBoostingRegressionExample.java\n",
            "spark-3.4.0-bin-hadoop3/examples/src/main/java/org/apache/spark/examples/mllib/JavaGaussianMixtureExample.java\n",
            "spark-3.4.0-bin-hadoop3/examples/src/main/resources/\n",
            "spark-3.4.0-bin-hadoop3/examples/src/main/resources/users.parquet\n",
            "spark-3.4.0-bin-hadoop3/examples/src/main/resources/META-INF/\n",
            "spark-3.4.0-bin-hadoop3/examples/src/main/resources/META-INF/services/\n",
            "spark-3.4.0-bin-hadoop3/examples/src/main/resources/META-INF/services/org.apache.spark.sql.jdbc.JdbcConnectionProvider\n",
            "spark-3.4.0-bin-hadoop3/examples/src/main/resources/META-INF/services/org.apache.spark.sql.SparkSessionExtensionsProvider\n",
            "spark-3.4.0-bin-hadoop3/examples/src/main/resources/user.avsc\n",
            "spark-3.4.0-bin-hadoop3/examples/src/main/resources/employees.json\n",
            "spark-3.4.0-bin-hadoop3/examples/src/main/resources/dir1/\n",
            "spark-3.4.0-bin-hadoop3/examples/src/main/resources/dir1/file1.parquet\n",
            "spark-3.4.0-bin-hadoop3/examples/src/main/resources/dir1/file3.json\n",
            "spark-3.4.0-bin-hadoop3/examples/src/main/resources/dir1/dir2/\n",
            "spark-3.4.0-bin-hadoop3/examples/src/main/resources/dir1/dir2/file2.parquet\n",
            "spark-3.4.0-bin-hadoop3/examples/src/main/resources/users.avro\n",
            "spark-3.4.0-bin-hadoop3/examples/src/main/resources/kv1.txt\n",
            "spark-3.4.0-bin-hadoop3/examples/src/main/resources/people.json\n",
            "spark-3.4.0-bin-hadoop3/examples/src/main/resources/people.txt\n",
            "spark-3.4.0-bin-hadoop3/examples/src/main/resources/users.orc\n",
            "spark-3.4.0-bin-hadoop3/examples/src/main/resources/full_user.avsc\n",
            "spark-3.4.0-bin-hadoop3/examples/src/main/resources/people.csv\n",
            "spark-3.4.0-bin-hadoop3/conf/\n",
            "spark-3.4.0-bin-hadoop3/conf/metrics.properties.template\n",
            "spark-3.4.0-bin-hadoop3/conf/workers.template\n",
            "spark-3.4.0-bin-hadoop3/conf/spark-defaults.conf.template\n",
            "spark-3.4.0-bin-hadoop3/conf/log4j2.properties.template\n",
            "spark-3.4.0-bin-hadoop3/conf/spark-env.sh.template\n",
            "spark-3.4.0-bin-hadoop3/conf/fairscheduler.xml.template\n",
            "spark-3.4.0-bin-hadoop3/NOTICE\n",
            "spark-3.4.0-bin-hadoop3/yarn/\n",
            "spark-3.4.0-bin-hadoop3/yarn/spark-3.4.0-yarn-shuffle.jar\n",
            "spark-3.4.0-bin-hadoop3/python/\n",
            "spark-3.4.0-bin-hadoop3/python/.gitignore\n",
            "spark-3.4.0-bin-hadoop3/python/setup.cfg\n",
            "spark-3.4.0-bin-hadoop3/python/pyspark/\n",
            "spark-3.4.0-bin-hadoop3/python/pyspark/install.py\n",
            "spark-3.4.0-bin-hadoop3/python/pyspark/sql/\n",
            "spark-3.4.0-bin-hadoop3/python/pyspark/sql/connect/\n",
            "spark-3.4.0-bin-hadoop3/python/pyspark/sql/connect/dataframe.py\n",
            "spark-3.4.0-bin-hadoop3/python/pyspark/sql/connect/plan.py\n",
            "spark-3.4.0-bin-hadoop3/python/pyspark/sql/connect/_typing.py\n",
            "spark-3.4.0-bin-hadoop3/python/pyspark/sql/connect/__init__.py\n",
            "spark-3.4.0-bin-hadoop3/python/pyspark/sql/connect/proto/\n",
            "spark-3.4.0-bin-hadoop3/python/pyspark/sql/connect/proto/relations_pb2.py\n",
            "spark-3.4.0-bin-hadoop3/python/pyspark/sql/connect/proto/catalog_pb2.pyi\n",
            "spark-3.4.0-bin-hadoop3/python/pyspark/sql/connect/proto/common_pb2.py\n",
            "spark-3.4.0-bin-hadoop3/python/pyspark/sql/connect/proto/__init__.py\n",
            "spark-3.4.0-bin-hadoop3/python/pyspark/sql/connect/proto/base_pb2.pyi\n",
            "spark-3.4.0-bin-hadoop3/python/pyspark/sql/connect/proto/expressions_pb2.py\n",
            "spark-3.4.0-bin-hadoop3/python/pyspark/sql/connect/proto/commands_pb2.pyi\n",
            "spark-3.4.0-bin-hadoop3/python/pyspark/sql/connect/proto/base_pb2.py\n",
            "spark-3.4.0-bin-hadoop3/python/pyspark/sql/connect/proto/example_plugins_pb2.pyi\n",
            "spark-3.4.0-bin-hadoop3/python/pyspark/sql/connect/proto/commands_pb2.py\n",
            "spark-3.4.0-bin-hadoop3/python/pyspark/sql/connect/proto/expressions_pb2.pyi\n",
            "spark-3.4.0-bin-hadoop3/python/pyspark/sql/connect/proto/types_pb2.py\n",
            "spark-3.4.0-bin-hadoop3/python/pyspark/sql/connect/proto/relations_pb2.pyi\n",
            "spark-3.4.0-bin-hadoop3/python/pyspark/sql/connect/proto/common_pb2.pyi\n",
            "spark-3.4.0-bin-hadoop3/python/pyspark/sql/connect/proto/example_plugins_pb2.py\n",
            "spark-3.4.0-bin-hadoop3/python/pyspark/sql/connect/proto/catalog_pb2.py\n",
            "spark-3.4.0-bin-hadoop3/python/pyspark/sql/connect/proto/types_pb2.pyi\n",
            "spark-3.4.0-bin-hadoop3/python/pyspark/sql/connect/proto/base_pb2_grpc.py\n",
            "spark-3.4.0-bin-hadoop3/python/pyspark/sql/connect/window.py\n",
            "spark-3.4.0-bin-hadoop3/python/pyspark/sql/connect/readwriter.py\n",
            "spark-3.4.0-bin-hadoop3/python/pyspark/sql/connect/column.py\n",
            "spark-3.4.0-bin-hadoop3/python/pyspark/sql/connect/utils.py\n",
            "spark-3.4.0-bin-hadoop3/python/pyspark/sql/connect/session.py\n",
            "spark-3.4.0-bin-hadoop3/python/pyspark/sql/connect/functions.py\n",
            "spark-3.4.0-bin-hadoop3/python/pyspark/sql/connect/udf.py\n",
            "spark-3.4.0-bin-hadoop3/python/pyspark/sql/connect/types.py\n",
            "spark-3.4.0-bin-hadoop3/python/pyspark/sql/connect/conf.py\n",
            "spark-3.4.0-bin-hadoop3/python/pyspark/sql/connect/group.py\n",
            "spark-3.4.0-bin-hadoop3/python/pyspark/sql/connect/catalog.py\n",
            "spark-3.4.0-bin-hadoop3/python/pyspark/sql/connect/client.py\n",
            "spark-3.4.0-bin-hadoop3/python/pyspark/sql/connect/expressions.py\n",
            "spark-3.4.0-bin-hadoop3/python/pyspark/sql/connect/conversion.py\n",
            "spark-3.4.0-bin-hadoop3/python/pyspark/sql/dataframe.py\n",
            "spark-3.4.0-bin-hadoop3/python/pyspark/sql/sql_formatter.py\n",
            "spark-3.4.0-bin-hadoop3/python/pyspark/sql/observation.py\n",
            "spark-3.4.0-bin-hadoop3/python/pyspark/sql/streaming/\n",
            "spark-3.4.0-bin-hadoop3/python/pyspark/sql/streaming/__init__.py\n",
            "spark-3.4.0-bin-hadoop3/python/pyspark/sql/streaming/listener.py\n",
            "spark-3.4.0-bin-hadoop3/python/pyspark/sql/streaming/readwriter.py\n",
            "spark-3.4.0-bin-hadoop3/python/pyspark/sql/streaming/query.py\n",
            "spark-3.4.0-bin-hadoop3/python/pyspark/sql/streaming/state.py\n",
            "spark-3.4.0-bin-hadoop3/python/pyspark/sql/avro/\n",
            "spark-3.4.0-bin-hadoop3/python/pyspark/sql/avro/__init__.py\n",
            "spark-3.4.0-bin-hadoop3/python/pyspark/sql/avro/functions.py\n",
            "spark-3.4.0-bin-hadoop3/python/pyspark/sql/__init__.py\n",
            "spark-3.4.0-bin-hadoop3/python/pyspark/sql/tests/\n",
            "spark-3.4.0-bin-hadoop3/python/pyspark/sql/tests/connect/\n",
            "spark-3.4.0-bin-hadoop3/python/pyspark/sql/tests/connect/test_connect_function.py\n",
            "spark-3.4.0-bin-hadoop3/python/pyspark/sql/tests/connect/test_parity_group.py\n",
            "spark-3.4.0-bin-hadoop3/python/pyspark/sql/tests/connect/test_parity_catalog.py\n",
            "spark-3.4.0-bin-hadoop3/python/pyspark/sql/tests/connect/test_parity_arrow.py\n",
            "spark-3.4.0-bin-hadoop3/python/pyspark/sql/tests/connect/test_connect_plan.py\n",
            "spark-3.4.0-bin-hadoop3/python/pyspark/sql/tests/connect/__init__.py\n",
            "spark-3.4.0-bin-hadoop3/python/pyspark/sql/tests/connect/test_parity_conf.py\n",
            "spark-3.4.0-bin-hadoop3/python/pyspark/sql/tests/connect/test_parity_udf.py\n",
            "spark-3.4.0-bin-hadoop3/python/pyspark/sql/tests/connect/test_parity_dataframe.py\n",
            "spark-3.4.0-bin-hadoop3/python/pyspark/sql/tests/connect/test_parity_pandas_map.py\n",
            "spark-3.4.0-bin-hadoop3/python/pyspark/sql/tests/connect/test_parity_arrow_map.py\n",
            "spark-3.4.0-bin-hadoop3/python/pyspark/sql/tests/connect/test_parity_pandas_udf.py\n",
            "spark-3.4.0-bin-hadoop3/python/pyspark/sql/tests/connect/test_connect_column.py\n",
            "spark-3.4.0-bin-hadoop3/python/pyspark/sql/tests/connect/test_parity_pandas_grouped_map.py\n",
            "spark-3.4.0-bin-hadoop3/python/pyspark/sql/tests/connect/test_parity_types.py\n",
            "spark-3.4.0-bin-hadoop3/python/pyspark/sql/tests/connect/test_parity_datasources.py\n",
            "spark-3.4.0-bin-hadoop3/python/pyspark/sql/tests/connect/test_parity_column.py\n",
            "spark-3.4.0-bin-hadoop3/python/pyspark/sql/tests/connect/test_connect_basic.py\n",
            "spark-3.4.0-bin-hadoop3/python/pyspark/sql/tests/connect/test_client.py\n",
            "spark-3.4.0-bin-hadoop3/python/pyspark/sql/tests/connect/test_parity_errors.py\n",
            "spark-3.4.0-bin-hadoop3/python/pyspark/sql/tests/connect/test_parity_functions.py\n",
            "spark-3.4.0-bin-hadoop3/python/pyspark/sql/tests/connect/test_parity_serde.py\n",
            "spark-3.4.0-bin-hadoop3/python/pyspark/sql/tests/connect/test_parity_readwriter.py\n",
            "spark-3.4.0-bin-hadoop3/python/pyspark/sql/tests/connect/test_parity_pandas_cogrouped_map.py\n",
            "spark-3.4.0-bin-hadoop3/python/pyspark/sql/tests/test_conf.py\n",
            "spark-3.4.0-bin-hadoop3/python/pyspark/sql/tests/test_errors.py\n",
            "spark-3.4.0-bin-hadoop3/python/pyspark/sql/tests/test_session.py\n",
            "spark-3.4.0-bin-hadoop3/python/pyspark/sql/tests/test_group.py\n",
            "spark-3.4.0-bin-hadoop3/python/pyspark/sql/tests/streaming/\n",
            "spark-3.4.0-bin-hadoop3/python/pyspark/sql/tests/streaming/__init__.py\n",
            "spark-3.4.0-bin-hadoop3/python/pyspark/sql/tests/streaming/test_streaming_listener.py\n",
            "spark-3.4.0-bin-hadoop3/python/pyspark/sql/tests/streaming/test_streaming.py\n",
            "spark-3.4.0-bin-hadoop3/python/pyspark/sql/tests/test_arrow.py\n",
            "spark-3.4.0-bin-hadoop3/python/pyspark/sql/tests/__init__.py\n",
            "spark-3.4.0-bin-hadoop3/python/pyspark/sql/tests/test_dataframe.py\n",
            "spark-3.4.0-bin-hadoop3/python/pyspark/sql/tests/test_catalog.py\n",
            "spark-3.4.0-bin-hadoop3/python/pyspark/sql/tests/test_utils.py\n",
            "spark-3.4.0-bin-hadoop3/python/pyspark/sql/tests/test_arrow_map.py\n",
            "spark-3.4.0-bin-hadoop3/python/pyspark/sql/tests/test_column.py\n",
            "spark-3.4.0-bin-hadoop3/python/pyspark/sql/tests/test_types.py\n",
            "spark-3.4.0-bin-hadoop3/python/pyspark/sql/tests/test_udf_profiler.py\n",
            "spark-3.4.0-bin-hadoop3/python/pyspark/sql/tests/test_datasources.py\n",
            "spark-3.4.0-bin-hadoop3/python/pyspark/sql/tests/pandas/\n",
            "spark-3.4.0-bin-hadoop3/python/pyspark/sql/tests/pandas/test_pandas_map.py\n",
            "spark-3.4.0-bin-hadoop3/python/pyspark/sql/tests/pandas/test_pandas_udf_typehints.py\n",
            "spark-3.4.0-bin-hadoop3/python/pyspark/sql/tests/pandas/test_pandas_grouped_map_with_state.py\n",
            "spark-3.4.0-bin-hadoop3/python/pyspark/sql/tests/pandas/__init__.py\n",
            "spark-3.4.0-bin-hadoop3/python/pyspark/sql/tests/pandas/test_pandas_grouped_map.py\n",
            "spark-3.4.0-bin-hadoop3/python/pyspark/sql/tests/pandas/test_pandas_udf_grouped_agg.py\n",
            "spark-3.4.0-bin-hadoop3/python/pyspark/sql/tests/pandas/test_pandas_udf.py\n",
            "spark-3.4.0-bin-hadoop3/python/pyspark/sql/tests/pandas/test_pandas_udf_window.py\n",
            "spark-3.4.0-bin-hadoop3/python/pyspark/sql/tests/pandas/test_pandas_cogrouped_map.py\n",
            "spark-3.4.0-bin-hadoop3/python/pyspark/sql/tests/pandas/test_pandas_udf_scalar.py\n",
            "spark-3.4.0-bin-hadoop3/python/pyspark/sql/tests/pandas/test_pandas_udf_typehints_with_future_annotations.py\n",
            "spark-3.4.0-bin-hadoop3/python/pyspark/sql/tests/test_functions.py\n",
            "spark-3.4.0-bin-hadoop3/python/pyspark/sql/tests/test_readwriter.py\n",
            "spark-3.4.0-bin-hadoop3/python/pyspark/sql/tests/test_pandas_sqlmetrics.py\n",
            "spark-3.4.0-bin-hadoop3/python/pyspark/sql/tests/test_serde.py\n",
            "spark-3.4.0-bin-hadoop3/python/pyspark/sql/tests/typing/\n",
            "spark-3.4.0-bin-hadoop3/python/pyspark/sql/tests/typing/test_dataframe.yml\n",
            "spark-3.4.0-bin-hadoop3/python/pyspark/sql/tests/typing/test_column.yml\n",
            "spark-3.4.0-bin-hadoop3/python/pyspark/sql/tests/typing/test_udf.yml\n",
            "spark-3.4.0-bin-hadoop3/python/pyspark/sql/tests/typing/test_functions.yml\n",
            "spark-3.4.0-bin-hadoop3/python/pyspark/sql/tests/typing/test_readwriter.yml\n",
            "spark-3.4.0-bin-hadoop3/python/pyspark/sql/tests/typing/test_session.yml\n",
            "spark-3.4.0-bin-hadoop3/python/pyspark/sql/tests/test_arrow_python_udf.py\n",
            "spark-3.4.0-bin-hadoop3/python/pyspark/sql/tests/test_udf.py\n",
            "spark-3.4.0-bin-hadoop3/python/pyspark/sql/tests/test_context.py\n",
            "spark-3.4.0-bin-hadoop3/python/pyspark/sql/context.py\n",
            "spark-3.4.0-bin-hadoop3/python/pyspark/sql/window.py\n",
            "spark-3.4.0-bin-hadoop3/python/pyspark/sql/readwriter.py\n",
            "spark-3.4.0-bin-hadoop3/python/pyspark/sql/column.py\n",
            "spark-3.4.0-bin-hadoop3/python/pyspark/sql/utils.py\n",
            "spark-3.4.0-bin-hadoop3/python/pyspark/sql/_typing.pyi\n",
            "spark-3.4.0-bin-hadoop3/python/pyspark/sql/session.py\n",
            "spark-3.4.0-bin-hadoop3/python/pyspark/sql/protobuf/\n",
            "spark-3.4.0-bin-hadoop3/python/pyspark/sql/protobuf/__init__.py\n",
            "spark-3.4.0-bin-hadoop3/python/pyspark/sql/protobuf/functions.py\n",
            "spark-3.4.0-bin-hadoop3/python/pyspark/sql/pandas/\n",
            "spark-3.4.0-bin-hadoop3/python/pyspark/sql/pandas/serializers.py\n",
            "spark-3.4.0-bin-hadoop3/python/pyspark/sql/pandas/map_ops.py\n",
            "spark-3.4.0-bin-hadoop3/python/pyspark/sql/pandas/__init__.py\n",
            "spark-3.4.0-bin-hadoop3/python/pyspark/sql/pandas/typehints.py\n",
            "spark-3.4.0-bin-hadoop3/python/pyspark/sql/pandas/utils.py\n",
            "spark-3.4.0-bin-hadoop3/python/pyspark/sql/pandas/_typing/\n",
            "spark-3.4.0-bin-hadoop3/python/pyspark/sql/pandas/_typing/__init__.pyi\n",
            "spark-3.4.0-bin-hadoop3/python/pyspark/sql/pandas/_typing/protocols/\n",
            "spark-3.4.0-bin-hadoop3/python/pyspark/sql/pandas/_typing/protocols/__init__.pyi\n",
            "spark-3.4.0-bin-hadoop3/python/pyspark/sql/pandas/_typing/protocols/series.pyi\n",
            "spark-3.4.0-bin-hadoop3/python/pyspark/sql/pandas/_typing/protocols/frame.pyi\n",
            "spark-3.4.0-bin-hadoop3/python/pyspark/sql/pandas/functions.pyi\n",
            "spark-3.4.0-bin-hadoop3/python/pyspark/sql/pandas/functions.py\n",
            "spark-3.4.0-bin-hadoop3/python/pyspark/sql/pandas/types.py\n",
            "spark-3.4.0-bin-hadoop3/python/pyspark/sql/pandas/group_ops.py\n",
            "spark-3.4.0-bin-hadoop3/python/pyspark/sql/pandas/conversion.py\n",
            "spark-3.4.0-bin-hadoop3/python/pyspark/sql/functions.py\n",
            "spark-3.4.0-bin-hadoop3/python/pyspark/sql/udf.py\n",
            "spark-3.4.0-bin-hadoop3/python/pyspark/sql/types.py\n",
            "spark-3.4.0-bin-hadoop3/python/pyspark/sql/conf.py\n",
            "spark-3.4.0-bin-hadoop3/python/pyspark/sql/group.py\n",
            "spark-3.4.0-bin-hadoop3/python/pyspark/sql/catalog.py\n",
            "spark-3.4.0-bin-hadoop3/python/pyspark/serializers.py\n",
            "spark-3.4.0-bin-hadoop3/python/pyspark/testing/\n",
            "spark-3.4.0-bin-hadoop3/python/pyspark/testing/__init__.py\n",
            "spark-3.4.0-bin-hadoop3/python/pyspark/testing/connectutils.py\n",
            "spark-3.4.0-bin-hadoop3/python/pyspark/testing/mllibutils.py\n",
            "spark-3.4.0-bin-hadoop3/python/pyspark/testing/pandasutils.py\n",
            "spark-3.4.0-bin-hadoop3/python/pyspark/testing/mlutils.py\n",
            "spark-3.4.0-bin-hadoop3/python/pyspark/testing/utils.py\n",
            "spark-3.4.0-bin-hadoop3/python/pyspark/testing/streamingutils.py\n",
            "spark-3.4.0-bin-hadoop3/python/pyspark/testing/sqlutils.py\n",
            "spark-3.4.0-bin-hadoop3/python/pyspark/streaming/\n",
            "spark-3.4.0-bin-hadoop3/python/pyspark/streaming/dstream.py\n",
            "spark-3.4.0-bin-hadoop3/python/pyspark/streaming/__init__.py\n",
            "spark-3.4.0-bin-hadoop3/python/pyspark/streaming/kinesis.py\n",
            "spark-3.4.0-bin-hadoop3/python/pyspark/streaming/tests/\n",
            "spark-3.4.0-bin-hadoop3/python/pyspark/streaming/tests/__init__.py\n",
            "spark-3.4.0-bin-hadoop3/python/pyspark/streaming/tests/test_listener.py\n",
            "spark-3.4.0-bin-hadoop3/python/pyspark/streaming/tests/test_context.py\n",
            "spark-3.4.0-bin-hadoop3/python/pyspark/streaming/tests/test_kinesis.py\n",
            "spark-3.4.0-bin-hadoop3/python/pyspark/streaming/tests/test_dstream.py\n",
            "spark-3.4.0-bin-hadoop3/python/pyspark/streaming/listener.py\n",
            "spark-3.4.0-bin-hadoop3/python/pyspark/streaming/context.py\n",
            "spark-3.4.0-bin-hadoop3/python/pyspark/streaming/util.py\n",
            "spark-3.4.0-bin-hadoop3/python/pyspark/resource/\n",
            "spark-3.4.0-bin-hadoop3/python/pyspark/resource/profile.py\n",
            "spark-3.4.0-bin-hadoop3/python/pyspark/resource/__init__.py\n",
            "spark-3.4.0-bin-hadoop3/python/pyspark/resource/tests/\n",
            "spark-3.4.0-bin-hadoop3/python/pyspark/resource/tests/__init__.py\n",
            "spark-3.4.0-bin-hadoop3/python/pyspark/resource/tests/test_resources.py\n",
            "spark-3.4.0-bin-hadoop3/python/pyspark/resource/requests.py\n",
            "spark-3.4.0-bin-hadoop3/python/pyspark/resource/information.py\n",
            "spark-3.4.0-bin-hadoop3/python/pyspark/_globals.py\n",
            "spark-3.4.0-bin-hadoop3/python/pyspark/statcounter.py\n",
            "spark-3.4.0-bin-hadoop3/python/pyspark/__init__.py\n",
            "spark-3.4.0-bin-hadoop3/python/pyspark/cloudpickle/\n",
            "spark-3.4.0-bin-hadoop3/python/pyspark/cloudpickle/compat.py\n",
            "spark-3.4.0-bin-hadoop3/python/pyspark/cloudpickle/cloudpickle.py\n",
            "spark-3.4.0-bin-hadoop3/python/pyspark/cloudpickle/__init__.py\n",
            "spark-3.4.0-bin-hadoop3/python/pyspark/cloudpickle/cloudpickle_fast.py\n",
            "spark-3.4.0-bin-hadoop3/python/pyspark/tests/\n",
            "spark-3.4.0-bin-hadoop3/python/pyspark/tests/test_statcounter.py\n",
            "spark-3.4.0-bin-hadoop3/python/pyspark/tests/test_conf.py\n",
            "spark-3.4.0-bin-hadoop3/python/pyspark/tests/test_taskcontext.py\n",
            "spark-3.4.0-bin-hadoop3/python/pyspark/tests/test_profiler.py\n",
            "spark-3.4.0-bin-hadoop3/python/pyspark/tests/test_rddbarrier.py\n",
            "spark-3.4.0-bin-hadoop3/python/pyspark/tests/test_util.py\n",
            "spark-3.4.0-bin-hadoop3/python/pyspark/tests/test_shuffle.py\n",
            "spark-3.4.0-bin-hadoop3/python/pyspark/tests/__init__.py\n",
            "spark-3.4.0-bin-hadoop3/python/pyspark/tests/test_rdd.py\n",
            "spark-3.4.0-bin-hadoop3/python/pyspark/tests/test_broadcast.py\n",
            "spark-3.4.0-bin-hadoop3/python/pyspark/tests/test_serializers.py\n",
            "spark-3.4.0-bin-hadoop3/python/pyspark/tests/test_memory_profiler.py\n",
            "spark-3.4.0-bin-hadoop3/python/pyspark/tests/test_worker.py\n",
            "spark-3.4.0-bin-hadoop3/python/pyspark/tests/test_readwrite.py\n",
            "spark-3.4.0-bin-hadoop3/python/pyspark/tests/test_pin_thread.py\n",
            "spark-3.4.0-bin-hadoop3/python/pyspark/tests/test_appsubmit.py\n",
            "spark-3.4.0-bin-hadoop3/python/pyspark/tests/test_install_spark.py\n",
            "spark-3.4.0-bin-hadoop3/python/pyspark/tests/typing/\n",
            "spark-3.4.0-bin-hadoop3/python/pyspark/tests/typing/test_rdd.yml\n",
            "spark-3.4.0-bin-hadoop3/python/pyspark/tests/typing/test_core.yml\n",
            "spark-3.4.0-bin-hadoop3/python/pyspark/tests/typing/test_context.yml\n",
            "spark-3.4.0-bin-hadoop3/python/pyspark/tests/typing/test_resultiterable.yml\n",
            "spark-3.4.0-bin-hadoop3/python/pyspark/tests/test_context.py\n",
            "spark-3.4.0-bin-hadoop3/python/pyspark/tests/test_rddsampler.py\n",
            "spark-3.4.0-bin-hadoop3/python/pyspark/tests/test_join.py\n",
            "spark-3.4.0-bin-hadoop3/python/pyspark/tests/test_stage_sched.py\n",
            "spark-3.4.0-bin-hadoop3/python/pyspark/tests/test_daemon.py\n",
            "spark-3.4.0-bin-hadoop3/python/pyspark/taskcontext.py\n",
            "spark-3.4.0-bin-hadoop3/python/pyspark/resultiterable.py\n",
            "spark-3.4.0-bin-hadoop3/python/pyspark/rdd.py\n",
            "spark-3.4.0-bin-hadoop3/python/pyspark/context.py\n",
            "spark-3.4.0-bin-hadoop3/python/pyspark/traceback_utils.py\n",
            "spark-3.4.0-bin-hadoop3/python/pyspark/status.py\n",
            "spark-3.4.0-bin-hadoop3/python/pyspark/daemon.py\n",
            "spark-3.4.0-bin-hadoop3/python/pyspark/files.py\n",
            "spark-3.4.0-bin-hadoop3/python/pyspark/version.py\n",
            "spark-3.4.0-bin-hadoop3/python/pyspark/__pycache__/\n",
            "spark-3.4.0-bin-hadoop3/python/pyspark/__pycache__/install.cpython-38.pyc\n",
            "spark-3.4.0-bin-hadoop3/python/pyspark/shuffle.py\n",
            "spark-3.4.0-bin-hadoop3/python/pyspark/_typing.pyi\n",
            "spark-3.4.0-bin-hadoop3/python/pyspark/py.typed\n",
            "spark-3.4.0-bin-hadoop3/python/pyspark/broadcast.py\n",
            "spark-3.4.0-bin-hadoop3/python/pyspark/find_spark_home.py\n",
            "spark-3.4.0-bin-hadoop3/python/pyspark/pandas/\n",
            "spark-3.4.0-bin-hadoop3/python/pyspark/pandas/resample.py\n",
            "spark-3.4.0-bin-hadoop3/python/pyspark/pandas/_typing.py\n",
            "spark-3.4.0-bin-hadoop3/python/pyspark/pandas/sql_formatter.py\n",
            "spark-3.4.0-bin-hadoop3/python/pyspark/pandas/typedef/\n",
            "spark-3.4.0-bin-hadoop3/python/pyspark/pandas/typedef/__init__.py\n",
            "spark-3.4.0-bin-hadoop3/python/pyspark/pandas/typedef/typehints.py\n",
            "spark-3.4.0-bin-hadoop3/python/pyspark/pandas/plot/\n",
            "spark-3.4.0-bin-hadoop3/python/pyspark/pandas/plot/core.py\n",
            "spark-3.4.0-bin-hadoop3/python/pyspark/pandas/plot/__init__.py\n",
            "spark-3.4.0-bin-hadoop3/python/pyspark/pandas/plot/matplotlib.py\n",
            "spark-3.4.0-bin-hadoop3/python/pyspark/pandas/plot/plotly.py\n",
            "spark-3.4.0-bin-hadoop3/python/pyspark/pandas/series.py\n",
            "spark-3.4.0-bin-hadoop3/python/pyspark/pandas/__init__.py\n",
            "spark-3.4.0-bin-hadoop3/python/pyspark/pandas/supported_api_gen.py\n",
            "spark-3.4.0-bin-hadoop3/python/pyspark/pandas/tests/\n",
            "spark-3.4.0-bin-hadoop3/python/pyspark/pandas/tests/test_indexing.py\n",
            "spark-3.4.0-bin-hadoop3/python/pyspark/pandas/tests/test_config.py\n",
            "spark-3.4.0-bin-hadoop3/python/pyspark/pandas/tests/test_frame_spark.py\n",
            "spark-3.4.0-bin-hadoop3/python/pyspark/pandas/tests/test_window.py\n",
            "spark-3.4.0-bin-hadoop3/python/pyspark/pandas/tests/test_series.py\n",
            "spark-3.4.0-bin-hadoop3/python/pyspark/pandas/tests/test_groupby_slow.py\n",
            "spark-3.4.0-bin-hadoop3/python/pyspark/pandas/tests/plot/\n",
            "spark-3.4.0-bin-hadoop3/python/pyspark/pandas/tests/plot/test_frame_plot_plotly.py\n",
            "spark-3.4.0-bin-hadoop3/python/pyspark/pandas/tests/plot/test_frame_plot.py\n",
            "spark-3.4.0-bin-hadoop3/python/pyspark/pandas/tests/plot/__init__.py\n",
            "spark-3.4.0-bin-hadoop3/python/pyspark/pandas/tests/plot/test_series_plot.py\n",
            "spark-3.4.0-bin-hadoop3/python/pyspark/pandas/tests/plot/test_series_plot_plotly.py\n",
            "spark-3.4.0-bin-hadoop3/python/pyspark/pandas/tests/plot/test_series_plot_matplotlib.py\n",
            "spark-3.4.0-bin-hadoop3/python/pyspark/pandas/tests/plot/test_frame_plot_matplotlib.py\n",
            "spark-3.4.0-bin-hadoop3/python/pyspark/pandas/tests/test_extension.py\n",
            "spark-3.4.0-bin-hadoop3/python/pyspark/pandas/tests/test_scalars.py\n",
            "spark-3.4.0-bin-hadoop3/python/pyspark/pandas/tests/test_dataframe_conversion.py\n",
            "spark-3.4.0-bin-hadoop3/python/pyspark/pandas/tests/__init__.py\n",
            "spark-3.4.0-bin-hadoop3/python/pyspark/pandas/tests/test_dataframe.py\n",
            "spark-3.4.0-bin-hadoop3/python/pyspark/pandas/tests/test_series_string.py\n",
            "spark-3.4.0-bin-hadoop3/python/pyspark/pandas/tests/test_ops_on_diff_frames_groupby.py\n",
            "spark-3.4.0-bin-hadoop3/python/pyspark/pandas/tests/test_sql.py\n",
            "spark-3.4.0-bin-hadoop3/python/pyspark/pandas/tests/test_utils.py\n",
            "spark-3.4.0-bin-hadoop3/python/pyspark/pandas/tests/test_stats.py\n",
            "spark-3.4.0-bin-hadoop3/python/pyspark/pandas/tests/test_dataframe_spark_io.py\n",
            "spark-3.4.0-bin-hadoop3/python/pyspark/pandas/tests/test_repr.py\n",
            "spark-3.4.0-bin-hadoop3/python/pyspark/pandas/tests/test_series_conversion.py\n",
            "spark-3.4.0-bin-hadoop3/python/pyspark/pandas/tests/test_ops_on_diff_frames_slow.py\n",
            "spark-3.4.0-bin-hadoop3/python/pyspark/pandas/tests/data_type_ops/\n",
            "spark-3.4.0-bin-hadoop3/python/pyspark/pandas/tests/data_type_ops/test_date_ops.py\n",
            "spark-3.4.0-bin-hadoop3/python/pyspark/pandas/tests/data_type_ops/test_datetime_ops.py\n",
            "spark-3.4.0-bin-hadoop3/python/pyspark/pandas/tests/data_type_ops/__init__.py\n",
            "spark-3.4.0-bin-hadoop3/python/pyspark/pandas/tests/data_type_ops/test_timedelta_ops.py\n",
            "spark-3.4.0-bin-hadoop3/python/pyspark/pandas/tests/data_type_ops/test_null_ops.py\n",
            "spark-3.4.0-bin-hadoop3/python/pyspark/pandas/tests/data_type_ops/test_udt_ops.py\n",
            "spark-3.4.0-bin-hadoop3/python/pyspark/pandas/tests/data_type_ops/test_string_ops.py\n",
            "spark-3.4.0-bin-hadoop3/python/pyspark/pandas/tests/data_type_ops/test_binary_ops.py\n",
            "spark-3.4.0-bin-hadoop3/python/pyspark/pandas/tests/data_type_ops/test_categorical_ops.py\n",
            "spark-3.4.0-bin-hadoop3/python/pyspark/pandas/tests/data_type_ops/test_boolean_ops.py\n",
            "spark-3.4.0-bin-hadoop3/python/pyspark/pandas/tests/data_type_ops/test_num_ops.py\n",
            "spark-3.4.0-bin-hadoop3/python/pyspark/pandas/tests/data_type_ops/test_complex_ops.py\n",
            "spark-3.4.0-bin-hadoop3/python/pyspark/pandas/tests/data_type_ops/test_base.py\n",
            "spark-3.4.0-bin-hadoop3/python/pyspark/pandas/tests/data_type_ops/testing_utils.py\n",
            "spark-3.4.0-bin-hadoop3/python/pyspark/pandas/tests/test_generic_functions.py\n",
            "spark-3.4.0-bin-hadoop3/python/pyspark/pandas/tests/test_series_datetime.py\n",
            "spark-3.4.0-bin-hadoop3/python/pyspark/pandas/tests/test_ops_on_diff_frames_groupby_rolling.py\n",
            "spark-3.4.0-bin-hadoop3/python/pyspark/pandas/tests/test_groupby.py\n",
            "spark-3.4.0-bin-hadoop3/python/pyspark/pandas/tests/test_dataframe_slow.py\n",
            "spark-3.4.0-bin-hadoop3/python/pyspark/pandas/tests/test_namespace.py\n",
            "spark-3.4.0-bin-hadoop3/python/pyspark/pandas/tests/test_default_index.py\n",
            "spark-3.4.0-bin-hadoop3/python/pyspark/pandas/tests/test_reshape.py\n",
            "spark-3.4.0-bin-hadoop3/python/pyspark/pandas/tests/test_ewm.py\n",
            "spark-3.4.0-bin-hadoop3/python/pyspark/pandas/tests/test_spark_functions.py\n",
            "spark-3.4.0-bin-hadoop3/python/pyspark/pandas/tests/test_ops_on_diff_frames_groupby_expanding.py\n",
            "spark-3.4.0-bin-hadoop3/python/pyspark/pandas/tests/test_typedef.py\n",
            "spark-3.4.0-bin-hadoop3/python/pyspark/pandas/tests/test_csv.py\n",
            "spark-3.4.0-bin-hadoop3/python/pyspark/pandas/tests/test_expanding.py\n",
            "spark-3.4.0-bin-hadoop3/python/pyspark/pandas/tests/indexes/\n",
            "spark-3.4.0-bin-hadoop3/python/pyspark/pandas/tests/indexes/__init__.py\n",
            "spark-3.4.0-bin-hadoop3/python/pyspark/pandas/tests/indexes/test_category.py\n",
            "spark-3.4.0-bin-hadoop3/python/pyspark/pandas/tests/indexes/test_base.py\n",
            "spark-3.4.0-bin-hadoop3/python/pyspark/pandas/tests/indexes/test_timedelta.py\n",
            "spark-3.4.0-bin-hadoop3/python/pyspark/pandas/tests/indexes/test_datetime.py\n",
            "spark-3.4.0-bin-hadoop3/python/pyspark/pandas/tests/test_categorical.py\n",
            "spark-3.4.0-bin-hadoop3/python/pyspark/pandas/tests/test_internal.py\n",
            "spark-3.4.0-bin-hadoop3/python/pyspark/pandas/tests/test_ops_on_diff_frames.py\n",
            "spark-3.4.0-bin-hadoop3/python/pyspark/pandas/tests/test_rolling.py\n",
            "spark-3.4.0-bin-hadoop3/python/pyspark/pandas/tests/test_indexops_spark.py\n",
            "spark-3.4.0-bin-hadoop3/python/pyspark/pandas/tests/test_numpy_compat.py\n",
            "spark-3.4.0-bin-hadoop3/python/pyspark/pandas/tests/test_resample.py\n",
            "spark-3.4.0-bin-hadoop3/python/pyspark/pandas/exceptions.py\n",
            "spark-3.4.0-bin-hadoop3/python/pyspark/pandas/missing/\n",
            "spark-3.4.0-bin-hadoop3/python/pyspark/pandas/missing/resample.py\n",
            "spark-3.4.0-bin-hadoop3/python/pyspark/pandas/missing/series.py\n",
            "spark-3.4.0-bin-hadoop3/python/pyspark/pandas/missing/__init__.py\n",
            "spark-3.4.0-bin-hadoop3/python/pyspark/pandas/missing/scalars.py\n",
            "spark-3.4.0-bin-hadoop3/python/pyspark/pandas/missing/window.py\n",
            "spark-3.4.0-bin-hadoop3/python/pyspark/pandas/missing/frame.py\n",
            "spark-3.4.0-bin-hadoop3/python/pyspark/pandas/missing/common.py\n",
            "spark-3.4.0-bin-hadoop3/python/pyspark/pandas/missing/indexes.py\n",
            "spark-3.4.0-bin-hadoop3/python/pyspark/pandas/missing/groupby.py\n",
            "spark-3.4.0-bin-hadoop3/python/pyspark/pandas/missing/general_functions.py\n",
            "spark-3.4.0-bin-hadoop3/python/pyspark/pandas/window.py\n",
            "spark-3.4.0-bin-hadoop3/python/pyspark/pandas/config.py\n",
            "spark-3.4.0-bin-hadoop3/python/pyspark/pandas/data_type_ops/\n",
            "spark-3.4.0-bin-hadoop3/python/pyspark/pandas/data_type_ops/timedelta_ops.py\n",
            "spark-3.4.0-bin-hadoop3/python/pyspark/pandas/data_type_ops/null_ops.py\n",
            "spark-3.4.0-bin-hadoop3/python/pyspark/pandas/data_type_ops/__init__.py\n",
            "spark-3.4.0-bin-hadoop3/python/pyspark/pandas/data_type_ops/complex_ops.py\n",
            "spark-3.4.0-bin-hadoop3/python/pyspark/pandas/data_type_ops/num_ops.py\n",
            "spark-3.4.0-bin-hadoop3/python/pyspark/pandas/data_type_ops/categorical_ops.py\n",
            "spark-3.4.0-bin-hadoop3/python/pyspark/pandas/data_type_ops/udt_ops.py\n",
            "spark-3.4.0-bin-hadoop3/python/pyspark/pandas/data_type_ops/binary_ops.py\n",
            "spark-3.4.0-bin-hadoop3/python/pyspark/pandas/data_type_ops/base.py\n",
            "spark-3.4.0-bin-hadoop3/python/pyspark/pandas/data_type_ops/boolean_ops.py\n",
            "spark-3.4.0-bin-hadoop3/python/pyspark/pandas/data_type_ops/string_ops.py\n",
            "spark-3.4.0-bin-hadoop3/python/pyspark/pandas/data_type_ops/datetime_ops.py\n",
            "spark-3.4.0-bin-hadoop3/python/pyspark/pandas/data_type_ops/date_ops.py\n",
            "spark-3.4.0-bin-hadoop3/python/pyspark/pandas/frame.py\n",
            "spark-3.4.0-bin-hadoop3/python/pyspark/pandas/categorical.py\n",
            "spark-3.4.0-bin-hadoop3/python/pyspark/pandas/strings.py\n",
            "spark-3.4.0-bin-hadoop3/python/pyspark/pandas/utils.py\n",
            "spark-3.4.0-bin-hadoop3/python/pyspark/pandas/numpy_compat.py\n",
            "spark-3.4.0-bin-hadoop3/python/pyspark/pandas/datetimes.py\n",
            "spark-3.4.0-bin-hadoop3/python/pyspark/pandas/sql_processor.py\n",
            "spark-3.4.0-bin-hadoop3/python/pyspark/pandas/usage_logging/\n",
            "spark-3.4.0-bin-hadoop3/python/pyspark/pandas/usage_logging/usage_logger.py\n",
            "spark-3.4.0-bin-hadoop3/python/pyspark/pandas/usage_logging/__init__.py\n",
            "spark-3.4.0-bin-hadoop3/python/pyspark/pandas/correlation.py\n",
            "spark-3.4.0-bin-hadoop3/python/pyspark/pandas/accessors.py\n",
            "spark-3.4.0-bin-hadoop3/python/pyspark/pandas/extensions.py\n",
            "spark-3.4.0-bin-hadoop3/python/pyspark/pandas/indexes/\n",
            "spark-3.4.0-bin-hadoop3/python/pyspark/pandas/indexes/__init__.py\n",
            "spark-3.4.0-bin-hadoop3/python/pyspark/pandas/indexes/multi.py\n",
            "spark-3.4.0-bin-hadoop3/python/pyspark/pandas/indexes/timedelta.py\n",
            "spark-3.4.0-bin-hadoop3/python/pyspark/pandas/indexes/datetimes.py\n",
            "spark-3.4.0-bin-hadoop3/python/pyspark/pandas/indexes/numeric.py\n",
            "spark-3.4.0-bin-hadoop3/python/pyspark/pandas/indexes/base.py\n",
            "spark-3.4.0-bin-hadoop3/python/pyspark/pandas/indexes/category.py\n",
            "spark-3.4.0-bin-hadoop3/python/pyspark/pandas/internal.py\n",
            "spark-3.4.0-bin-hadoop3/python/pyspark/pandas/base.py\n",
            "spark-3.4.0-bin-hadoop3/python/pyspark/pandas/generic.py\n",
            "spark-3.4.0-bin-hadoop3/python/pyspark/pandas/groupby.py\n",
            "spark-3.4.0-bin-hadoop3/python/pyspark/pandas/namespace.py\n",
            "spark-3.4.0-bin-hadoop3/python/pyspark/pandas/spark/\n",
            "spark-3.4.0-bin-hadoop3/python/pyspark/pandas/spark/__init__.py\n",
            "spark-3.4.0-bin-hadoop3/python/pyspark/pandas/spark/utils.py\n",
            "spark-3.4.0-bin-hadoop3/python/pyspark/pandas/spark/accessors.py\n",
            "spark-3.4.0-bin-hadoop3/python/pyspark/pandas/spark/functions.py\n",
            "spark-3.4.0-bin-hadoop3/python/pyspark/pandas/indexing.py\n",
            "spark-3.4.0-bin-hadoop3/python/pyspark/pandas/mlflow.py\n",
            "spark-3.4.0-bin-hadoop3/python/pyspark/join.py\n",
            "spark-3.4.0-bin-hadoop3/python/pyspark/python/\n",
            "spark-3.4.0-bin-hadoop3/python/pyspark/python/pyspark/\n",
            "spark-3.4.0-bin-hadoop3/python/pyspark/python/pyspark/shell.py\n",
            "spark-3.4.0-bin-hadoop3/python/pyspark/storagelevel.py\n",
            "spark-3.4.0-bin-hadoop3/python/pyspark/errors/\n",
            "spark-3.4.0-bin-hadoop3/python/pyspark/errors/__init__.py\n",
            "spark-3.4.0-bin-hadoop3/python/pyspark/errors/tests/\n",
            "spark-3.4.0-bin-hadoop3/python/pyspark/errors/tests/test_errors.py\n",
            "spark-3.4.0-bin-hadoop3/python/pyspark/errors/tests/__init__.py\n",
            "spark-3.4.0-bin-hadoop3/python/pyspark/errors/utils.py\n",
            "spark-3.4.0-bin-hadoop3/python/pyspark/errors/exceptions/\n",
            "spark-3.4.0-bin-hadoop3/python/pyspark/errors/exceptions/__init__.py\n",
            "spark-3.4.0-bin-hadoop3/python/pyspark/errors/exceptions/captured.py\n",
            "spark-3.4.0-bin-hadoop3/python/pyspark/errors/exceptions/connect.py\n",
            "spark-3.4.0-bin-hadoop3/python/pyspark/errors/exceptions/base.py\n",
            "spark-3.4.0-bin-hadoop3/python/pyspark/errors/error_classes.py\n",
            "spark-3.4.0-bin-hadoop3/python/pyspark/profiler.py\n",
            "spark-3.4.0-bin-hadoop3/python/pyspark/worker.py\n",
            "spark-3.4.0-bin-hadoop3/python/pyspark/conf.py\n",
            "spark-3.4.0-bin-hadoop3/python/pyspark/ml/\n",
            "spark-3.4.0-bin-hadoop3/python/pyspark/ml/pipeline.py\n",
            "spark-3.4.0-bin-hadoop3/python/pyspark/ml/tuning.py\n",
            "spark-3.4.0-bin-hadoop3/python/pyspark/ml/clustering.py\n",
            "spark-3.4.0-bin-hadoop3/python/pyspark/ml/param/\n",
            "spark-3.4.0-bin-hadoop3/python/pyspark/ml/param/__init__.py\n",
            "spark-3.4.0-bin-hadoop3/python/pyspark/ml/param/shared.py\n",
            "spark-3.4.0-bin-hadoop3/python/pyspark/ml/param/_shared_params_code_gen.py\n",
            "spark-3.4.0-bin-hadoop3/python/pyspark/ml/__init__.py\n",
            "spark-3.4.0-bin-hadoop3/python/pyspark/ml/stat.py\n",
            "spark-3.4.0-bin-hadoop3/python/pyspark/ml/regression.py\n",
            "spark-3.4.0-bin-hadoop3/python/pyspark/ml/tests/\n",
            "spark-3.4.0-bin-hadoop3/python/pyspark/ml/tests/test_tuning.py\n",
            "spark-3.4.0-bin-hadoop3/python/pyspark/ml/tests/test_persistence.py\n",
            "spark-3.4.0-bin-hadoop3/python/pyspark/ml/tests/test_util.py\n",
            "spark-3.4.0-bin-hadoop3/python/pyspark/ml/tests/__init__.py\n",
            "spark-3.4.0-bin-hadoop3/python/pyspark/ml/tests/test_stat.py\n",
            "spark-3.4.0-bin-hadoop3/python/pyspark/ml/tests/test_algorithms.py\n",
            "spark-3.4.0-bin-hadoop3/python/pyspark/ml/tests/test_image.py\n",
            "spark-3.4.0-bin-hadoop3/python/pyspark/ml/tests/test_model_cache.py\n",
            "spark-3.4.0-bin-hadoop3/python/pyspark/ml/tests/test_evaluation.py\n",
            "spark-3.4.0-bin-hadoop3/python/pyspark/ml/tests/test_param.py\n",
            "spark-3.4.0-bin-hadoop3/python/pyspark/ml/tests/test_functions.py\n",
            "spark-3.4.0-bin-hadoop3/python/pyspark/ml/tests/test_feature.py\n",
            "spark-3.4.0-bin-hadoop3/python/pyspark/ml/tests/test_pipeline.py\n",
            "spark-3.4.0-bin-hadoop3/python/pyspark/ml/tests/test_training_summary.py\n",
            "spark-3.4.0-bin-hadoop3/python/pyspark/ml/tests/typing/\n",
            "spark-3.4.0-bin-hadoop3/python/pyspark/ml/tests/typing/test_clustering.yaml\n",
            "spark-3.4.0-bin-hadoop3/python/pyspark/ml/tests/typing/test_regression.yml\n",
            "spark-3.4.0-bin-hadoop3/python/pyspark/ml/tests/typing/test_readable.yml\n",
            "spark-3.4.0-bin-hadoop3/python/pyspark/ml/tests/typing/test_classification.yml\n",
            "spark-3.4.0-bin-hadoop3/python/pyspark/ml/tests/typing/test_feature.yml\n",
            "spark-3.4.0-bin-hadoop3/python/pyspark/ml/tests/typing/test_param.yml\n",
            "spark-3.4.0-bin-hadoop3/python/pyspark/ml/tests/typing/test_evaluation.yml\n",
            "spark-3.4.0-bin-hadoop3/python/pyspark/ml/tests/test_base.py\n",
            "spark-3.4.0-bin-hadoop3/python/pyspark/ml/tests/test_linalg.py\n",
            "spark-3.4.0-bin-hadoop3/python/pyspark/ml/tests/test_wrapper.py\n",
            "spark-3.4.0-bin-hadoop3/python/pyspark/ml/recommendation.py\n",
            "spark-3.4.0-bin-hadoop3/python/pyspark/ml/feature.py\n",
            "spark-3.4.0-bin-hadoop3/python/pyspark/ml/linalg/\n",
            "spark-3.4.0-bin-hadoop3/python/pyspark/ml/linalg/__init__.py\n",
            "spark-3.4.0-bin-hadoop3/python/pyspark/ml/common.py\n",
            "spark-3.4.0-bin-hadoop3/python/pyspark/ml/_typing.pyi\n",
            "spark-3.4.0-bin-hadoop3/python/pyspark/ml/wrapper.py\n",
            "spark-3.4.0-bin-hadoop3/python/pyspark/ml/tree.py\n",
            "spark-3.4.0-bin-hadoop3/python/pyspark/ml/image.py\n",
            "spark-3.4.0-bin-hadoop3/python/pyspark/ml/model_cache.py\n",
            "spark-3.4.0-bin-hadoop3/python/pyspark/ml/evaluation.py\n",
            "spark-3.4.0-bin-hadoop3/python/pyspark/ml/torch/\n",
            "spark-3.4.0-bin-hadoop3/python/pyspark/ml/torch/distributor.py\n",
            "spark-3.4.0-bin-hadoop3/python/pyspark/ml/torch/torch_run_process_wrapper.py\n",
            "spark-3.4.0-bin-hadoop3/python/pyspark/ml/torch/__init__.py\n",
            "spark-3.4.0-bin-hadoop3/python/pyspark/ml/torch/tests/\n",
            "spark-3.4.0-bin-hadoop3/python/pyspark/ml/torch/tests/__init__.py\n",
            "spark-3.4.0-bin-hadoop3/python/pyspark/ml/torch/tests/test_distributor.py\n",
            "spark-3.4.0-bin-hadoop3/python/pyspark/ml/torch/tests/test_log_communication.py\n",
            "spark-3.4.0-bin-hadoop3/python/pyspark/ml/torch/log_communication.py\n",
            "spark-3.4.0-bin-hadoop3/python/pyspark/ml/classification.py\n",
            "spark-3.4.0-bin-hadoop3/python/pyspark/ml/functions.py\n",
            "spark-3.4.0-bin-hadoop3/python/pyspark/ml/base.py\n",
            "spark-3.4.0-bin-hadoop3/python/pyspark/ml/util.py\n",
            "spark-3.4.0-bin-hadoop3/python/pyspark/ml/fpm.py\n",
            "spark-3.4.0-bin-hadoop3/python/pyspark/instrumentation_utils.py\n",
            "spark-3.4.0-bin-hadoop3/python/pyspark/util.py\n",
            "spark-3.4.0-bin-hadoop3/python/pyspark/java_gateway.py\n",
            "spark-3.4.0-bin-hadoop3/python/pyspark/accumulators.py\n",
            "spark-3.4.0-bin-hadoop3/python/pyspark/mllib/\n",
            "spark-3.4.0-bin-hadoop3/python/pyspark/mllib/clustering.py\n",
            "spark-3.4.0-bin-hadoop3/python/pyspark/mllib/__init__.py\n",
            "spark-3.4.0-bin-hadoop3/python/pyspark/mllib/stat/\n",
            "spark-3.4.0-bin-hadoop3/python/pyspark/mllib/stat/__init__.py\n",
            "spark-3.4.0-bin-hadoop3/python/pyspark/mllib/stat/test.py\n",
            "spark-3.4.0-bin-hadoop3/python/pyspark/mllib/stat/KernelDensity.py\n",
            "spark-3.4.0-bin-hadoop3/python/pyspark/mllib/stat/_statistics.py\n",
            "spark-3.4.0-bin-hadoop3/python/pyspark/mllib/stat/distribution.py\n",
            "spark-3.4.0-bin-hadoop3/python/pyspark/mllib/regression.py\n",
            "spark-3.4.0-bin-hadoop3/python/pyspark/mllib/tests/\n",
            "spark-3.4.0-bin-hadoop3/python/pyspark/mllib/tests/test_util.py\n",
            "spark-3.4.0-bin-hadoop3/python/pyspark/mllib/tests/__init__.py\n",
            "spark-3.4.0-bin-hadoop3/python/pyspark/mllib/tests/test_stat.py\n",
            "spark-3.4.0-bin-hadoop3/python/pyspark/mllib/tests/test_algorithms.py\n",
            "spark-3.4.0-bin-hadoop3/python/pyspark/mllib/tests/test_feature.py\n",
            "spark-3.4.0-bin-hadoop3/python/pyspark/mllib/tests/test_streaming_algorithms.py\n",
            "spark-3.4.0-bin-hadoop3/python/pyspark/mllib/tests/test_linalg.py\n",
            "spark-3.4.0-bin-hadoop3/python/pyspark/mllib/recommendation.py\n",
            "spark-3.4.0-bin-hadoop3/python/pyspark/mllib/feature.py\n",
            "spark-3.4.0-bin-hadoop3/python/pyspark/mllib/linalg/\n",
            "spark-3.4.0-bin-hadoop3/python/pyspark/mllib/linalg/__init__.py\n",
            "spark-3.4.0-bin-hadoop3/python/pyspark/mllib/linalg/distributed.py\n",
            "spark-3.4.0-bin-hadoop3/python/pyspark/mllib/common.py\n",
            "spark-3.4.0-bin-hadoop3/python/pyspark/mllib/_typing.pyi\n",
            "spark-3.4.0-bin-hadoop3/python/pyspark/mllib/tree.py\n",
            "spark-3.4.0-bin-hadoop3/python/pyspark/mllib/evaluation.py\n",
            "spark-3.4.0-bin-hadoop3/python/pyspark/mllib/classification.py\n",
            "spark-3.4.0-bin-hadoop3/python/pyspark/mllib/util.py\n",
            "spark-3.4.0-bin-hadoop3/python/pyspark/mllib/fpm.py\n",
            "spark-3.4.0-bin-hadoop3/python/pyspark/mllib/random.py\n",
            "spark-3.4.0-bin-hadoop3/python/pyspark/shell.py\n",
            "spark-3.4.0-bin-hadoop3/python/pyspark/rddsampler.py\n",
            "spark-3.4.0-bin-hadoop3/python/.coveragerc\n",
            "spark-3.4.0-bin-hadoop3/python/MANIFEST.in\n",
            "spark-3.4.0-bin-hadoop3/python/pyspark.egg-info/\n",
            "spark-3.4.0-bin-hadoop3/python/pyspark.egg-info/PKG-INFO\n",
            "spark-3.4.0-bin-hadoop3/python/pyspark.egg-info/SOURCES.txt\n",
            "spark-3.4.0-bin-hadoop3/python/pyspark.egg-info/top_level.txt\n",
            "spark-3.4.0-bin-hadoop3/python/pyspark.egg-info/requires.txt\n",
            "spark-3.4.0-bin-hadoop3/python/pyspark.egg-info/dependency_links.txt\n",
            "spark-3.4.0-bin-hadoop3/python/run-tests.py\n",
            "spark-3.4.0-bin-hadoop3/python/run-tests\n",
            "spark-3.4.0-bin-hadoop3/python/lib/\n",
            "spark-3.4.0-bin-hadoop3/python/lib/py4j-0.10.9.7-src.zip\n",
            "spark-3.4.0-bin-hadoop3/python/lib/PY4J_LICENSE.txt\n",
            "spark-3.4.0-bin-hadoop3/python/lib/pyspark.zip\n",
            "spark-3.4.0-bin-hadoop3/python/test_support/\n",
            "spark-3.4.0-bin-hadoop3/python/test_support/sql/\n",
            "spark-3.4.0-bin-hadoop3/python/test_support/sql/people_array_utf16le.json\n",
            "spark-3.4.0-bin-hadoop3/python/test_support/sql/streaming/\n",
            "spark-3.4.0-bin-hadoop3/python/test_support/sql/streaming/text-test.txt\n",
            "spark-3.4.0-bin-hadoop3/python/test_support/sql/people1.json\n",
            "spark-3.4.0-bin-hadoop3/python/test_support/sql/people_array.json\n",
            "spark-3.4.0-bin-hadoop3/python/test_support/sql/people.json\n",
            "spark-3.4.0-bin-hadoop3/python/test_support/sql/text-test.txt\n",
            "spark-3.4.0-bin-hadoop3/python/test_support/sql/orc_partitioned/\n",
            "spark-3.4.0-bin-hadoop3/python/test_support/sql/orc_partitioned/b=1/\n",
            "spark-3.4.0-bin-hadoop3/python/test_support/sql/orc_partitioned/b=1/c=1/\n",
            "spark-3.4.0-bin-hadoop3/python/test_support/sql/orc_partitioned/b=1/c=1/.part-r-00000-829af031-b970-49d6-ad39-30460a0be2c8.orc.crc\n",
            "spark-3.4.0-bin-hadoop3/python/test_support/sql/orc_partitioned/b=1/c=1/part-r-00000-829af031-b970-49d6-ad39-30460a0be2c8.orc\n",
            "spark-3.4.0-bin-hadoop3/python/test_support/sql/orc_partitioned/b=0/\n",
            "spark-3.4.0-bin-hadoop3/python/test_support/sql/orc_partitioned/b=0/c=0/\n",
            "spark-3.4.0-bin-hadoop3/python/test_support/sql/orc_partitioned/b=0/c=0/.part-r-00000-829af031-b970-49d6-ad39-30460a0be2c8.orc.crc\n",
            "spark-3.4.0-bin-hadoop3/python/test_support/sql/orc_partitioned/b=0/c=0/part-r-00000-829af031-b970-49d6-ad39-30460a0be2c8.orc\n",
            "spark-3.4.0-bin-hadoop3/python/test_support/sql/orc_partitioned/_SUCCESS\n",
            "spark-3.4.0-bin-hadoop3/python/test_support/sql/ages_newlines.csv\n",
            "spark-3.4.0-bin-hadoop3/python/test_support/userlib-0.1.zip\n",
            "spark-3.4.0-bin-hadoop3/python/test_support/hello/\n",
            "spark-3.4.0-bin-hadoop3/python/test_support/hello/sub_hello/\n",
            "spark-3.4.0-bin-hadoop3/python/test_support/hello/sub_hello/sub_hello.txt\n",
            "spark-3.4.0-bin-hadoop3/python/test_support/hello/hello.txt\n",
            "spark-3.4.0-bin-hadoop3/python/test_support/test_pytorch_training_file.py\n",
            "spark-3.4.0-bin-hadoop3/python/test_support/SimpleHTTPServer.py\n",
            "spark-3.4.0-bin-hadoop3/python/test_support/userlibrary.py\n",
            "spark-3.4.0-bin-hadoop3/python/mypy.ini\n",
            "spark-3.4.0-bin-hadoop3/python/docs/\n",
            "spark-3.4.0-bin-hadoop3/python/docs/Makefile\n",
            "spark-3.4.0-bin-hadoop3/python/docs/source/\n",
            "spark-3.4.0-bin-hadoop3/python/docs/source/_static/\n",
            "spark-3.4.0-bin-hadoop3/python/docs/source/_static/css/\n",
            "spark-3.4.0-bin-hadoop3/python/docs/source/_static/css/pyspark.css\n",
            "spark-3.4.0-bin-hadoop3/python/docs/source/_static/copybutton.js\n",
            "spark-3.4.0-bin-hadoop3/python/docs/source/reference/\n",
            "spark-3.4.0-bin-hadoop3/python/docs/source/reference/pyspark.ss/\n",
            "spark-3.4.0-bin-hadoop3/python/docs/source/reference/pyspark.ss/query_management.rst\n",
            "spark-3.4.0-bin-hadoop3/python/docs/source/reference/pyspark.ss/io.rst\n",
            "spark-3.4.0-bin-hadoop3/python/docs/source/reference/pyspark.ss/core_classes.rst\n",
            "spark-3.4.0-bin-hadoop3/python/docs/source/reference/pyspark.ss/index.rst\n",
            "spark-3.4.0-bin-hadoop3/python/docs/source/reference/pyspark.mllib.rst\n",
            "spark-3.4.0-bin-hadoop3/python/docs/source/reference/pyspark.ml.rst\n",
            "spark-3.4.0-bin-hadoop3/python/docs/source/reference/pyspark.pandas/\n",
            "spark-3.4.0-bin-hadoop3/python/docs/source/reference/pyspark.pandas/groupby.rst\n",
            "spark-3.4.0-bin-hadoop3/python/docs/source/reference/pyspark.pandas/resampling.rst\n",
            "spark-3.4.0-bin-hadoop3/python/docs/source/reference/pyspark.pandas/extensions.rst\n",
            "spark-3.4.0-bin-hadoop3/python/docs/source/reference/pyspark.pandas/series.rst\n",
            "spark-3.4.0-bin-hadoop3/python/docs/source/reference/pyspark.pandas/window.rst\n",
            "spark-3.4.0-bin-hadoop3/python/docs/source/reference/pyspark.pandas/io.rst\n",
            "spark-3.4.0-bin-hadoop3/python/docs/source/reference/pyspark.pandas/indexing.rst\n",
            "spark-3.4.0-bin-hadoop3/python/docs/source/reference/pyspark.pandas/general_functions.rst\n",
            "spark-3.4.0-bin-hadoop3/python/docs/source/reference/pyspark.pandas/index.rst\n",
            "spark-3.4.0-bin-hadoop3/python/docs/source/reference/pyspark.pandas/frame.rst\n",
            "spark-3.4.0-bin-hadoop3/python/docs/source/reference/pyspark.pandas/ml.rst\n",
            "spark-3.4.0-bin-hadoop3/python/docs/source/reference/pyspark.rst\n",
            "spark-3.4.0-bin-hadoop3/python/docs/source/reference/pyspark.sql/\n",
            "spark-3.4.0-bin-hadoop3/python/docs/source/reference/pyspark.sql/spark_session.rst\n",
            "spark-3.4.0-bin-hadoop3/python/docs/source/reference/pyspark.sql/protobuf.rst\n",
            "spark-3.4.0-bin-hadoop3/python/docs/source/reference/pyspark.sql/row.rst\n",
            "spark-3.4.0-bin-hadoop3/python/docs/source/reference/pyspark.sql/avro.rst\n",
            "spark-3.4.0-bin-hadoop3/python/docs/source/reference/pyspark.sql/configuration.rst\n",
            "spark-3.4.0-bin-hadoop3/python/docs/source/reference/pyspark.sql/window.rst\n",
            "spark-3.4.0-bin-hadoop3/python/docs/source/reference/pyspark.sql/grouping.rst\n",
            "spark-3.4.0-bin-hadoop3/python/docs/source/reference/pyspark.sql/observation.rst\n",
            "spark-3.4.0-bin-hadoop3/python/docs/source/reference/pyspark.sql/functions.rst\n",
            "spark-3.4.0-bin-hadoop3/python/docs/source/reference/pyspark.sql/udf.rst\n",
            "spark-3.4.0-bin-hadoop3/python/docs/source/reference/pyspark.sql/io.rst\n",
            "spark-3.4.0-bin-hadoop3/python/docs/source/reference/pyspark.sql/column.rst\n",
            "spark-3.4.0-bin-hadoop3/python/docs/source/reference/pyspark.sql/catalog.rst\n",
            "spark-3.4.0-bin-hadoop3/python/docs/source/reference/pyspark.sql/core_classes.rst\n",
            "spark-3.4.0-bin-hadoop3/python/docs/source/reference/pyspark.sql/data_types.rst\n",
            "spark-3.4.0-bin-hadoop3/python/docs/source/reference/pyspark.sql/index.rst\n",
            "spark-3.4.0-bin-hadoop3/python/docs/source/reference/pyspark.sql/dataframe.rst\n",
            "spark-3.4.0-bin-hadoop3/python/docs/source/reference/pyspark.streaming.rst\n",
            "spark-3.4.0-bin-hadoop3/python/docs/source/reference/index.rst\n",
            "spark-3.4.0-bin-hadoop3/python/docs/source/reference/pyspark.resource.rst\n",
            "spark-3.4.0-bin-hadoop3/python/docs/source/reference/pyspark.errors.rst\n",
            "spark-3.4.0-bin-hadoop3/python/docs/source/getting_started/\n",
            "spark-3.4.0-bin-hadoop3/python/docs/source/getting_started/quickstart_connect.ipynb\n",
            "spark-3.4.0-bin-hadoop3/python/docs/source/getting_started/install.rst\n",
            "spark-3.4.0-bin-hadoop3/python/docs/source/getting_started/quickstart_df.ipynb\n",
            "spark-3.4.0-bin-hadoop3/python/docs/source/getting_started/index.rst\n",
            "spark-3.4.0-bin-hadoop3/python/docs/source/getting_started/quickstart_ps.ipynb\n",
            "spark-3.4.0-bin-hadoop3/python/docs/source/user_guide/\n",
            "spark-3.4.0-bin-hadoop3/python/docs/source/user_guide/sql/\n",
            "spark-3.4.0-bin-hadoop3/python/docs/source/user_guide/sql/index.rst\n",
            "spark-3.4.0-bin-hadoop3/python/docs/source/user_guide/sql/arrow_pandas.rst\n",
            "spark-3.4.0-bin-hadoop3/python/docs/source/user_guide/pandas_on_spark/\n",
            "spark-3.4.0-bin-hadoop3/python/docs/source/user_guide/pandas_on_spark/best_practices.rst\n",
            "spark-3.4.0-bin-hadoop3/python/docs/source/user_guide/pandas_on_spark/from_to_dbms.rst\n",
            "spark-3.4.0-bin-hadoop3/python/docs/source/user_guide/pandas_on_spark/faq.rst\n",
            "spark-3.4.0-bin-hadoop3/python/docs/source/user_guide/pandas_on_spark/typehints.rst\n",
            "spark-3.4.0-bin-hadoop3/python/docs/source/user_guide/pandas_on_spark/options.rst\n",
            "spark-3.4.0-bin-hadoop3/python/docs/source/user_guide/pandas_on_spark/types.rst\n",
            "spark-3.4.0-bin-hadoop3/python/docs/source/user_guide/pandas_on_spark/transform_apply.rst\n",
            "spark-3.4.0-bin-hadoop3/python/docs/source/user_guide/pandas_on_spark/pandas_pyspark.rst\n",
            "spark-3.4.0-bin-hadoop3/python/docs/source/user_guide/pandas_on_spark/index.rst\n",
            "spark-3.4.0-bin-hadoop3/python/docs/source/user_guide/index.rst\n",
            "spark-3.4.0-bin-hadoop3/python/docs/source/user_guide/python_packaging.rst\n",
            "spark-3.4.0-bin-hadoop3/python/docs/source/user_guide/arrow_pandas.rst\n",
            "spark-3.4.0-bin-hadoop3/python/docs/source/_templates/\n",
            "spark-3.4.0-bin-hadoop3/python/docs/source/_templates/autosummary/\n",
            "spark-3.4.0-bin-hadoop3/python/docs/source/_templates/autosummary/class_with_docs.rst\n",
            "spark-3.4.0-bin-hadoop3/python/docs/source/_templates/autosummary/class.rst\n",
            "spark-3.4.0-bin-hadoop3/python/docs/source/conf.py\n",
            "spark-3.4.0-bin-hadoop3/python/docs/source/migration_guide/\n",
            "spark-3.4.0-bin-hadoop3/python/docs/source/migration_guide/koalas_to_pyspark.rst\n",
            "spark-3.4.0-bin-hadoop3/python/docs/source/migration_guide/pyspark_upgrade.rst\n",
            "spark-3.4.0-bin-hadoop3/python/docs/source/migration_guide/index.rst\n",
            "spark-3.4.0-bin-hadoop3/python/docs/source/index.rst\n",
            "spark-3.4.0-bin-hadoop3/python/docs/source/development/\n",
            "spark-3.4.0-bin-hadoop3/python/docs/source/development/debugging.rst\n",
            "spark-3.4.0-bin-hadoop3/python/docs/source/development/contributing.rst\n",
            "spark-3.4.0-bin-hadoop3/python/docs/source/development/setting_ide.rst\n",
            "spark-3.4.0-bin-hadoop3/python/docs/source/development/index.rst\n",
            "spark-3.4.0-bin-hadoop3/python/docs/source/development/testing.rst\n",
            "spark-3.4.0-bin-hadoop3/python/docs/make.bat\n",
            "spark-3.4.0-bin-hadoop3/python/docs/make2.bat\n",
            "spark-3.4.0-bin-hadoop3/python/setup.py\n",
            "spark-3.4.0-bin-hadoop3/python/run-tests-with-coverage\n",
            "spark-3.4.0-bin-hadoop3/python/test_coverage/\n",
            "spark-3.4.0-bin-hadoop3/python/test_coverage/conf/\n",
            "spark-3.4.0-bin-hadoop3/python/test_coverage/conf/spark-defaults.conf\n",
            "spark-3.4.0-bin-hadoop3/python/test_coverage/sitecustomize.py\n",
            "spark-3.4.0-bin-hadoop3/python/test_coverage/coverage_daemon.py\n",
            "spark-3.4.0-bin-hadoop3/python/dist/\n",
            "spark-3.4.0-bin-hadoop3/python/README.md\n",
            "spark-3.4.0-bin-hadoop3/licenses/\n",
            "spark-3.4.0-bin-hadoop3/licenses/LICENSE-istack-commons-runtime.txt\n",
            "spark-3.4.0-bin-hadoop3/licenses/LICENSE-machinist.txt\n",
            "spark-3.4.0-bin-hadoop3/licenses/LICENSE-AnchorJS.txt\n",
            "spark-3.4.0-bin-hadoop3/licenses/LICENSE-jaxb-runtime.txt\n",
            "spark-3.4.0-bin-hadoop3/licenses/LICENSE-arpack.txt\n",
            "spark-3.4.0-bin-hadoop3/licenses/LICENSE-pyrolite.txt\n",
            "spark-3.4.0-bin-hadoop3/licenses/LICENSE-leveldbjni.txt\n",
            "spark-3.4.0-bin-hadoop3/licenses/LICENSE-zstd.txt\n",
            "spark-3.4.0-bin-hadoop3/licenses/LICENSE-jsp-api.txt\n",
            "spark-3.4.0-bin-hadoop3/licenses/LICENSE-modernizr.txt\n",
            "spark-3.4.0-bin-hadoop3/licenses/LICENSE-jakarta.activation-api.txt\n",
            "spark-3.4.0-bin-hadoop3/licenses/LICENSE-jakarta.xml.bind-api.txt\n",
            "spark-3.4.0-bin-hadoop3/licenses/LICENSE-vis-timeline.txt\n",
            "spark-3.4.0-bin-hadoop3/licenses/LICENSE-xmlenc.txt\n",
            "spark-3.4.0-bin-hadoop3/licenses/LICENSE-reflectasm.txt\n",
            "spark-3.4.0-bin-hadoop3/licenses/LICENSE-pmml-model.txt\n",
            "spark-3.4.0-bin-hadoop3/licenses/LICENSE-jodd.txt\n",
            "spark-3.4.0-bin-hadoop3/licenses/LICENSE-bootstrap.txt\n",
            "spark-3.4.0-bin-hadoop3/licenses/LICENSE-mustache.txt\n",
            "spark-3.4.0-bin-hadoop3/licenses/LICENSE-slf4j.txt\n",
            "spark-3.4.0-bin-hadoop3/licenses/LICENSE-JTransforms.txt\n",
            "spark-3.4.0-bin-hadoop3/licenses/LICENSE-javassist.html\n",
            "spark-3.4.0-bin-hadoop3/licenses/LICENSE-f2j.txt\n",
            "spark-3.4.0-bin-hadoop3/licenses/LICENSE-paranamer.txt\n",
            "spark-3.4.0-bin-hadoop3/licenses/LICENSE-d3.min.js.txt\n",
            "spark-3.4.0-bin-hadoop3/licenses/LICENSE-jakarta-ws-rs-api\n",
            "spark-3.4.0-bin-hadoop3/licenses/LICENSE-matchMedia-polyfill.txt\n",
            "spark-3.4.0-bin-hadoop3/licenses/LICENSE-join.txt\n",
            "spark-3.4.0-bin-hadoop3/licenses/LICENSE-jline.txt\n",
            "spark-3.4.0-bin-hadoop3/licenses/LICENSE-blas.txt\n",
            "spark-3.4.0-bin-hadoop3/licenses/LICENSE-minlog.txt\n",
            "spark-3.4.0-bin-hadoop3/licenses/LICENSE-zstd-jni.txt\n",
            "spark-3.4.0-bin-hadoop3/licenses/LICENSE-spire.txt\n",
            "spark-3.4.0-bin-hadoop3/licenses/LICENSE-janino.txt\n",
            "spark-3.4.0-bin-hadoop3/licenses/LICENSE-sorttable.js.txt\n",
            "spark-3.4.0-bin-hadoop3/licenses/LICENSE-jquery.txt\n",
            "spark-3.4.0-bin-hadoop3/licenses/LICENSE-cloudpickle.txt\n",
            "spark-3.4.0-bin-hadoop3/licenses/LICENSE-kryo.txt\n",
            "spark-3.4.0-bin-hadoop3/licenses/LICENSE-javolution.txt\n",
            "spark-3.4.0-bin-hadoop3/licenses/LICENSE-datatables.txt\n",
            "spark-3.4.0-bin-hadoop3/licenses/LICENSE-graphlib-dot.txt\n",
            "spark-3.4.0-bin-hadoop3/licenses/LICENSE-dagre-d3.txt\n",
            "spark-3.4.0-bin-hadoop3/licenses/LICENSE-re2j.txt\n",
            "spark-3.4.0-bin-hadoop3/licenses/LICENSE-JLargeArrays.txt\n",
            "spark-3.4.0-bin-hadoop3/licenses/LICENSE-jakarta-annotation-api\n",
            "spark-3.4.0-bin-hadoop3/licenses/LICENSE-sbt-launch-lib.txt\n",
            "spark-3.4.0-bin-hadoop3/licenses/LICENSE-antlr.txt\n",
            "spark-3.4.0-bin-hadoop3/licenses/LICENSE-protobuf.txt\n",
            "spark-3.4.0-bin-hadoop3/licenses/LICENSE-json-formatter.txt\n",
            "spark-3.4.0-bin-hadoop3/licenses/LICENSE-dnsjava.txt\n",
            "spark-3.4.0-bin-hadoop3/licenses/LICENSE-javax-transaction-transaction-api.txt\n",
            "spark-3.4.0-bin-hadoop3/licenses/LICENSE-CC0.txt\n",
            "spark-3.4.0-bin-hadoop3/licenses/LICENSE-respond.txt\n",
            "spark-3.4.0-bin-hadoop3/licenses/LICENSE-scopt.txt\n",
            "spark-3.4.0-bin-hadoop3/licenses/LICENSE-py4j.txt\n",
            "spark-3.4.0-bin-hadoop3/licenses/LICENSE-automaton.txt\n",
            "spark-3.4.0-bin-hadoop3/RELEASE\n",
            "spark-3.4.0-bin-hadoop3/sbin/\n",
            "spark-3.4.0-bin-hadoop3/sbin/stop-history-server.sh\n",
            "spark-3.4.0-bin-hadoop3/sbin/start-thriftserver.sh\n",
            "spark-3.4.0-bin-hadoop3/sbin/spark-daemons.sh\n",
            "spark-3.4.0-bin-hadoop3/sbin/stop-thriftserver.sh\n",
            "spark-3.4.0-bin-hadoop3/sbin/stop-mesos-dispatcher.sh\n",
            "spark-3.4.0-bin-hadoop3/sbin/decommission-slave.sh\n",
            "spark-3.4.0-bin-hadoop3/sbin/stop-workers.sh\n",
            "spark-3.4.0-bin-hadoop3/sbin/stop-mesos-shuffle-service.sh\n",
            "spark-3.4.0-bin-hadoop3/sbin/decommission-worker.sh\n",
            "spark-3.4.0-bin-hadoop3/sbin/stop-slave.sh\n",
            "spark-3.4.0-bin-hadoop3/sbin/start-slave.sh\n",
            "spark-3.4.0-bin-hadoop3/sbin/start-workers.sh\n",
            "spark-3.4.0-bin-hadoop3/sbin/start-mesos-shuffle-service.sh\n",
            "spark-3.4.0-bin-hadoop3/sbin/start-connect-server.sh\n",
            "spark-3.4.0-bin-hadoop3/sbin/stop-master.sh\n",
            "spark-3.4.0-bin-hadoop3/sbin/slaves.sh\n",
            "spark-3.4.0-bin-hadoop3/sbin/start-mesos-dispatcher.sh\n",
            "spark-3.4.0-bin-hadoop3/sbin/stop-worker.sh\n",
            "spark-3.4.0-bin-hadoop3/sbin/stop-slaves.sh\n",
            "spark-3.4.0-bin-hadoop3/sbin/workers.sh\n",
            "spark-3.4.0-bin-hadoop3/sbin/start-all.sh\n",
            "spark-3.4.0-bin-hadoop3/sbin/spark-config.sh\n",
            "spark-3.4.0-bin-hadoop3/sbin/start-master.sh\n",
            "spark-3.4.0-bin-hadoop3/sbin/spark-daemon.sh\n",
            "spark-3.4.0-bin-hadoop3/sbin/start-worker.sh\n",
            "spark-3.4.0-bin-hadoop3/sbin/stop-all.sh\n",
            "spark-3.4.0-bin-hadoop3/sbin/start-slaves.sh\n",
            "spark-3.4.0-bin-hadoop3/sbin/start-history-server.sh\n",
            "spark-3.4.0-bin-hadoop3/sbin/stop-connect-server.sh\n",
            "spark-3.4.0-bin-hadoop3/README.md\n",
            "spark-3.4.0-bin-hadoop3/bin/\n",
            "spark-3.4.0-bin-hadoop3/bin/spark-sql2.cmd\n",
            "spark-3.4.0-bin-hadoop3/bin/sparkR\n",
            "spark-3.4.0-bin-hadoop3/bin/spark-class2.cmd\n",
            "spark-3.4.0-bin-hadoop3/bin/pyspark\n",
            "spark-3.4.0-bin-hadoop3/bin/run-example\n",
            "spark-3.4.0-bin-hadoop3/bin/sparkR2.cmd\n",
            "spark-3.4.0-bin-hadoop3/bin/docker-image-tool.sh\n",
            "spark-3.4.0-bin-hadoop3/bin/pyspark.cmd\n",
            "spark-3.4.0-bin-hadoop3/bin/spark-class\n",
            "spark-3.4.0-bin-hadoop3/bin/spark-submit\n",
            "spark-3.4.0-bin-hadoop3/bin/spark-sql\n",
            "spark-3.4.0-bin-hadoop3/bin/spark-shell\n",
            "spark-3.4.0-bin-hadoop3/bin/spark-sql.cmd\n",
            "spark-3.4.0-bin-hadoop3/bin/find-spark-home\n",
            "spark-3.4.0-bin-hadoop3/bin/run-example.cmd\n",
            "spark-3.4.0-bin-hadoop3/bin/find-spark-home.cmd\n",
            "spark-3.4.0-bin-hadoop3/bin/load-spark-env.cmd\n",
            "spark-3.4.0-bin-hadoop3/bin/beeline.cmd\n",
            "spark-3.4.0-bin-hadoop3/bin/spark-class.cmd\n",
            "spark-3.4.0-bin-hadoop3/bin/spark-shell.cmd\n",
            "spark-3.4.0-bin-hadoop3/bin/load-spark-env.sh\n",
            "spark-3.4.0-bin-hadoop3/bin/beeline\n",
            "spark-3.4.0-bin-hadoop3/bin/sparkR.cmd\n",
            "spark-3.4.0-bin-hadoop3/bin/spark-connect-shell\n",
            "spark-3.4.0-bin-hadoop3/bin/spark-shell2.cmd\n",
            "spark-3.4.0-bin-hadoop3/bin/pyspark2.cmd\n",
            "spark-3.4.0-bin-hadoop3/bin/spark-submit.cmd\n",
            "spark-3.4.0-bin-hadoop3/bin/spark-submit2.cmd\n"
          ]
        }
      ]
    },
    {
      "cell_type": "code",
      "source": [
        "!pip install -q findspark"
      ],
      "metadata": {
        "id": "clUVR0C5Ep0O"
      },
      "execution_count": 14,
      "outputs": []
    },
    {
      "cell_type": "code",
      "source": [
        "import os\n",
        "os.environ[\"JAVA_HOME\"] = \"/usr/lib/jvm/java-8-openjdk-amd64\"\n",
        "os.environ[\"SPARK_HOME\"] = \"/content/spark-3.4.0-bin-hadoop3\""
      ],
      "metadata": {
        "id": "9M0SJ1HmEvSX"
      },
      "execution_count": 15,
      "outputs": []
    },
    {
      "cell_type": "code",
      "source": [
        "import findspark\n",
        "findspark.init()\n",
        "from pyspark.sql import SparkSession\n",
        "\n",
        "spark = SparkSession.builder.master(\"local[*]\").getOrCreate()"
      ],
      "metadata": {
        "id": "s7_z5h4-Ezr2"
      },
      "execution_count": 16,
      "outputs": []
    },
    {
      "cell_type": "markdown",
      "source": [
        "# Загружаем набор данных"
      ],
      "metadata": {
        "id": "iTe5g7-S5Xfo"
      }
    },
    {
      "cell_type": "markdown",
      "source": [
        "Predict survival on the Titanic\n",
        "* survival - Survival 0 = No, 1 = Yes\n",
        "* pclass - Ticket class 1 = 1st, 2 = 2nd, 3 = 3rd\n",
        "* sex - Sex\n",
        "* Age - Age in years\n",
        "* sibsp - # of siblings / spouses aboard the Titanic\n",
        "* parch - # of parents / children aboard the Titanic\n",
        "* ticket - Ticket number\n",
        "* fare - Passenger fare\n",
        "* cabin - Cabin number\n",
        "* embarked - Port of Embarketion C = Cherbourg, Q = Queenstown, S = Southampton"
      ],
      "metadata": {
        "id": "j1eFLlIFF8qe"
      }
    },
    {
      "cell_type": "code",
      "source": [
        "!wget https://github.com/satishkrupadhyay/Titanic-Survival-Prediction-using-Python/blob/master/dataset/train.csv"
      ],
      "metadata": {
        "colab": {
          "base_uri": "https://localhost:8080/"
        },
        "id": "llg8wYpyF2xp",
        "outputId": "55491803-1071-4f26-b9e5-a34968ad90b0"
      },
      "execution_count": 17,
      "outputs": [
        {
          "output_type": "stream",
          "name": "stdout",
          "text": [
            "--2023-06-11 11:12:45--  https://github.com/satishkrupadhyay/Titanic-Survival-Prediction-using-Python/blob/master/dataset/train.csv\n",
            "Resolving github.com (github.com)... 140.82.112.4\n",
            "Connecting to github.com (github.com)|140.82.112.4|:443... connected.\n",
            "HTTP request sent, awaiting response... 200 OK\n",
            "Length: unspecified [text/html]\n",
            "Saving to: ‘train.csv’\n",
            "\n",
            "train.csv               [ <=>                ] 574.71K  --.-KB/s    in 0.1s    \n",
            "\n",
            "2023-06-11 11:12:46 (4.38 MB/s) - ‘train.csv’ saved [588499]\n",
            "\n"
          ]
        }
      ]
    },
    {
      "cell_type": "markdown",
      "source": [
        "# Практика 1. Загрузить файл и вывести его командой show"
      ],
      "metadata": {
        "id": "MTTOZa4F5co_"
      }
    },
    {
      "cell_type": "code",
      "source": [
        "df = spark.read.csv('train.csv', header=True, inferSchema=True)\n",
        "#test1 = spark.read.csv('ml-latest-small/test.csv', header=True, inferSchema=True)"
      ],
      "metadata": {
        "id": "dcBt1oIWK0pV"
      },
      "execution_count": 23,
      "outputs": []
    },
    {
      "cell_type": "code",
      "source": [
        "df.show(10)"
      ],
      "metadata": {
        "colab": {
          "base_uri": "https://localhost:8080/"
        },
        "id": "4cKrbju-K0xP",
        "outputId": "42a30f43-4b6c-4c3b-bb5e-743a323fa040"
      },
      "execution_count": 24,
      "outputs": [
        {
          "output_type": "stream",
          "name": "stdout",
          "text": [
            "+-----------+--------+------+--------------------+------+----+-----+-----+----------------+-------+-----+--------+\n",
            "|PassengerId|Survived|Pclass|                Name|   Sex| Age|SibSp|Parch|          Ticket|   Fare|Cabin|Embarked|\n",
            "+-----------+--------+------+--------------------+------+----+-----+-----+----------------+-------+-----+--------+\n",
            "|          1|       0|     3|Braund, Mr. Owen ...|  male|22.0|    1|    0|       A/5 21171|   7.25| null|       S|\n",
            "|          2|       1|     1|Cumings, Mrs. Joh...|female|38.0|    1|    0|        PC 17599|71.2833|  C85|       C|\n",
            "|          3|       1|     3|Heikkinen, Miss. ...|female|26.0|    0|    0|STON/O2. 3101282|  7.925| null|       S|\n",
            "|          4|       1|     1|Futrelle, Mrs. Ja...|female|35.0|    1|    0|          113803|   53.1| C123|       S|\n",
            "|          5|       0|     3|Allen, Mr. Willia...|  male|35.0|    0|    0|          373450|   8.05| null|       S|\n",
            "|          6|       0|     3|    Moran, Mr. James|  male|null|    0|    0|          330877| 8.4583| null|       Q|\n",
            "|          7|       0|     1|McCarthy, Mr. Tim...|  male|54.0|    0|    0|           17463|51.8625|  E46|       S|\n",
            "|          8|       0|     3|Palsson, Master. ...|  male| 2.0|    3|    1|          349909| 21.075| null|       S|\n",
            "|          9|       1|     3|Johnson, Mrs. Osc...|female|27.0|    0|    2|          347742|11.1333| null|       S|\n",
            "|         10|       1|     2|Nasser, Mrs. Nich...|female|14.0|    1|    0|          237736|30.0708| null|       C|\n",
            "+-----------+--------+------+--------------------+------+----+-----+-----+----------------+-------+-----+--------+\n",
            "only showing top 10 rows\n",
            "\n"
          ]
        }
      ]
    },
    {
      "cell_type": "markdown",
      "source": [
        "Посмотрим общую статистику по нашему датафрейму"
      ],
      "metadata": {
        "id": "N0MhZduwMHfL"
      }
    },
    {
      "cell_type": "code",
      "source": [
        "df.describe().show()"
      ],
      "metadata": {
        "colab": {
          "base_uri": "https://localhost:8080/"
        },
        "id": "T2D7SC6cMChC",
        "outputId": "19dcad4c-4071-44f8-c22b-c128a00e7c7a"
      },
      "execution_count": 25,
      "outputs": [
        {
          "output_type": "stream",
          "name": "stdout",
          "text": [
            "+-------+-----------------+-------------------+------------------+--------------------+------+------------------+------------------+-------------------+------------------+-----------------+-----+--------+\n",
            "|summary|      PassengerId|           Survived|            Pclass|                Name|   Sex|               Age|             SibSp|              Parch|            Ticket|             Fare|Cabin|Embarked|\n",
            "+-------+-----------------+-------------------+------------------+--------------------+------+------------------+------------------+-------------------+------------------+-----------------+-----+--------+\n",
            "|  count|              891|                891|               891|                 891|   891|               714|               891|                891|               891|              891|  204|     889|\n",
            "|   mean|            446.0| 0.3838383838383838| 2.308641975308642|                null|  null| 29.69911764705882|0.5230078563411896|0.38159371492704824|260318.54916792738| 32.2042079685746| null|    null|\n",
            "| stddev|257.3538420152301|0.48659245426485753|0.8360712409770491|                null|  null|14.526497332334035|1.1027434322934315| 0.8060572211299488|471609.26868834975|49.69342859718089| null|    null|\n",
            "|    min|                1|                  0|                 1|\"Andersson, Mr. A...|female|              0.42|                 0|                  0|            110152|              0.0|  A10|       C|\n",
            "|    max|              891|                  1|                 3|van Melkebeke, Mr...|  male|              80.0|                 8|                  6|         WE/P 5735|         512.3292|    T|       S|\n",
            "+-------+-----------------+-------------------+------------------+--------------------+------+------------------+------------------+-------------------+------------------+-----------------+-----+--------+\n",
            "\n"
          ]
        }
      ]
    },
    {
      "cell_type": "markdown",
      "source": [
        "# Практика 2. Удалим малоинформативные колонки"
      ],
      "metadata": {
        "id": "kDOw4FEe5h2V"
      }
    },
    {
      "cell_type": "markdown",
      "source": [
        "Колонка с именем (Name), информация о родственниках (SibSp, Parch), номер билета (Ticket) и информация о каюте (Cabin) кажутся малоинформативными для первой версии модели. Удалим их при помощи команды select"
      ],
      "metadata": {
        "id": "gGc7uyqFMyIT"
      }
    },
    {
      "cell_type": "code",
      "source": [
        "df.columns"
      ],
      "metadata": {
        "colab": {
          "base_uri": "https://localhost:8080/"
        },
        "id": "E5zZP4ynMU7d",
        "outputId": "7948f5d2-19e5-4943-bcf3-9881789419c9"
      },
      "execution_count": 27,
      "outputs": [
        {
          "output_type": "execute_result",
          "data": {
            "text/plain": [
              "['PassengerId',\n",
              " 'Survived',\n",
              " 'Pclass',\n",
              " 'Name',\n",
              " 'Sex',\n",
              " 'Age',\n",
              " 'SibSp',\n",
              " 'Parch',\n",
              " 'Ticket',\n",
              " 'Fare',\n",
              " 'Cabin',\n",
              " 'Embarked']"
            ]
          },
          "metadata": {},
          "execution_count": 27
        }
      ]
    },
    {
      "cell_type": "code",
      "source": [
        "df_lim = df.select('Name', 'SibSp', 'Parch', 'Ticket', 'Cabin')\n",
        "#df_lim.take(1)"
      ],
      "metadata": {
        "id": "6EB5JaLMOFK4"
      },
      "execution_count": 28,
      "outputs": []
    },
    {
      "cell_type": "code",
      "source": [
        "df_lim.take(1)"
      ],
      "metadata": {
        "colab": {
          "base_uri": "https://localhost:8080/"
        },
        "id": "5pdK5NEMOWMV",
        "outputId": "123cfb04-49a9-468d-ae86-975b4b427652"
      },
      "execution_count": 29,
      "outputs": [
        {
          "output_type": "execute_result",
          "data": {
            "text/plain": [
              "[Row(Name='Braund, Mr. Owen Harris', SibSp=1, Parch=0, Ticket='A/5 21171', Cabin=None)]"
            ]
          },
          "metadata": {},
          "execution_count": 29
        }
      ]
    },
    {
      "cell_type": "code",
      "source": [
        "df_filtered = df.select('Survived','Pclass', 'Sex','Age','Fare','Embarked')"
      ],
      "metadata": {
        "id": "WX3iBpmrOuPn"
      },
      "execution_count": 32,
      "outputs": []
    },
    {
      "cell_type": "code",
      "source": [
        "df_filtered.show()"
      ],
      "metadata": {
        "colab": {
          "base_uri": "https://localhost:8080/"
        },
        "id": "xaGd0GTVPCCG",
        "outputId": "f181b4ef-fe60-4bbb-f628-27ff0c832e16"
      },
      "execution_count": 33,
      "outputs": [
        {
          "output_type": "stream",
          "name": "stdout",
          "text": [
            "+--------+------+------+----+-------+--------+\n",
            "|Survived|Pclass|   Sex| Age|   Fare|Embarked|\n",
            "+--------+------+------+----+-------+--------+\n",
            "|       0|     3|  male|22.0|   7.25|       S|\n",
            "|       1|     1|female|38.0|71.2833|       C|\n",
            "|       1|     3|female|26.0|  7.925|       S|\n",
            "|       1|     1|female|35.0|   53.1|       S|\n",
            "|       0|     3|  male|35.0|   8.05|       S|\n",
            "|       0|     3|  male|null| 8.4583|       Q|\n",
            "|       0|     1|  male|54.0|51.8625|       S|\n",
            "|       0|     3|  male| 2.0| 21.075|       S|\n",
            "|       1|     3|female|27.0|11.1333|       S|\n",
            "|       1|     2|female|14.0|30.0708|       C|\n",
            "|       1|     3|female| 4.0|   16.7|       S|\n",
            "|       1|     1|female|58.0|  26.55|       S|\n",
            "|       0|     3|  male|20.0|   8.05|       S|\n",
            "|       0|     3|  male|39.0| 31.275|       S|\n",
            "|       0|     3|female|14.0| 7.8542|       S|\n",
            "|       1|     2|female|55.0|   16.0|       S|\n",
            "|       0|     3|  male| 2.0| 29.125|       Q|\n",
            "|       1|     2|  male|null|   13.0|       S|\n",
            "|       0|     3|female|31.0|   18.0|       S|\n",
            "|       1|     3|female|null|  7.225|       C|\n",
            "+--------+------+------+----+-------+--------+\n",
            "only showing top 20 rows\n",
            "\n"
          ]
        }
      ]
    },
    {
      "cell_type": "code",
      "source": [
        "df_filtered.describe().show()"
      ],
      "metadata": {
        "colab": {
          "base_uri": "https://localhost:8080/"
        },
        "id": "fXimYDyCWVdr",
        "outputId": "770ec574-8d92-4750-ea85-a19ae8a7e241"
      },
      "execution_count": 34,
      "outputs": [
        {
          "output_type": "stream",
          "name": "stdout",
          "text": [
            "+-------+-------------------+------------------+------+------------------+-----------------+--------+\n",
            "|summary|           Survived|            Pclass|   Sex|               Age|             Fare|Embarked|\n",
            "+-------+-------------------+------------------+------+------------------+-----------------+--------+\n",
            "|  count|                891|               891|   891|               714|              891|     889|\n",
            "|   mean| 0.3838383838383838| 2.308641975308642|  null| 29.69911764705882| 32.2042079685746|    null|\n",
            "| stddev|0.48659245426485753|0.8360712409770491|  null|14.526497332334035|49.69342859718089|    null|\n",
            "|    min|                  0|                 1|female|              0.42|              0.0|       C|\n",
            "|    max|                  1|                 3|  male|              80.0|         512.3292|       S|\n",
            "+-------+-------------------+------------------+------+------------------+-----------------+--------+\n",
            "\n"
          ]
        }
      ]
    },
    {
      "cell_type": "markdown",
      "source": [
        "# Практика 3. Колонки Ageи Embarked содержат пропущенные значения"
      ],
      "metadata": {
        "id": "GDjx5Ouq5nBe"
      }
    },
    {
      "cell_type": "markdown",
      "source": [
        "Пропуски надо заполнить для поля Age предлагается заполнить пропуски средним значениием возраста (информация по нему есть в describe). Для поля Embarked самым частым вариантом (надо сгруппировать данные и посчитать какой порт самый частый). Затем при помощи команды:\n",
        "df_filtered = df_filtered.na.fill({'Age': XX, 'Embarked': YY})\n",
        " \n",
        "устранить пропуски"
      ],
      "metadata": {
        "id": "R4B0DwnhWhvc"
      }
    },
    {
      "cell_type": "code",
      "source": [
        "df_filtered.groupBy('Embarked').count().show()"
      ],
      "metadata": {
        "colab": {
          "base_uri": "https://localhost:8080/"
        },
        "id": "3t5cae9nXdg-",
        "outputId": "d857e273-d766-4ddd-a2e4-8a60b8917bad"
      },
      "execution_count": 35,
      "outputs": [
        {
          "output_type": "stream",
          "name": "stdout",
          "text": [
            "+--------+-----+\n",
            "|Embarked|count|\n",
            "+--------+-----+\n",
            "|       Q|   77|\n",
            "|    null|    2|\n",
            "|       C|  168|\n",
            "|       S|  644|\n",
            "+--------+-----+\n",
            "\n"
          ]
        }
      ]
    },
    {
      "cell_type": "code",
      "source": [
        "df_filtered.describe().show()"
      ],
      "metadata": {
        "colab": {
          "base_uri": "https://localhost:8080/"
        },
        "id": "HusmjPLyYMEr",
        "outputId": "d346bafe-5f40-4f7c-9a76-3db16daa7047"
      },
      "execution_count": 36,
      "outputs": [
        {
          "output_type": "stream",
          "name": "stdout",
          "text": [
            "+-------+-------------------+------------------+------+------------------+-----------------+--------+\n",
            "|summary|           Survived|            Pclass|   Sex|               Age|             Fare|Embarked|\n",
            "+-------+-------------------+------------------+------+------------------+-----------------+--------+\n",
            "|  count|                891|               891|   891|               714|              891|     889|\n",
            "|   mean| 0.3838383838383838| 2.308641975308642|  null| 29.69911764705882| 32.2042079685746|    null|\n",
            "| stddev|0.48659245426485753|0.8360712409770491|  null|14.526497332334035|49.69342859718089|    null|\n",
            "|    min|                  0|                 1|female|              0.42|              0.0|       C|\n",
            "|    max|                  1|                 3|  male|              80.0|         512.3292|       S|\n",
            "+-------+-------------------+------------------+------+------------------+-----------------+--------+\n",
            "\n"
          ]
        }
      ]
    },
    {
      "cell_type": "code",
      "source": [
        "df_filtered = df_filtered.na.fill({'Age': 29.7, 'Embarked': 'S'})"
      ],
      "metadata": {
        "id": "QZ4omBXOXNby"
      },
      "execution_count": 37,
      "outputs": []
    },
    {
      "cell_type": "code",
      "source": [
        "df_filtered.describe().show()"
      ],
      "metadata": {
        "colab": {
          "base_uri": "https://localhost:8080/"
        },
        "id": "woVSTVaZZdik",
        "outputId": "4777b187-3b51-4ae6-f409-a9a5e3209adb"
      },
      "execution_count": 38,
      "outputs": [
        {
          "output_type": "stream",
          "name": "stdout",
          "text": [
            "+-------+-------------------+------------------+------+------------------+-----------------+--------+\n",
            "|summary|           Survived|            Pclass|   Sex|               Age|             Fare|Embarked|\n",
            "+-------+-------------------+------------------+------+------------------+-----------------+--------+\n",
            "|  count|                891|               891|   891|               891|              891|     891|\n",
            "|   mean| 0.3838383838383838| 2.308641975308642|  null| 29.69929292929302| 32.2042079685746|    null|\n",
            "| stddev|0.48659245426485753|0.8360712409770491|  null|13.002015230774303|49.69342859718089|    null|\n",
            "|    min|                  0|                 1|female|              0.42|              0.0|       C|\n",
            "|    max|                  1|                 3|  male|              80.0|         512.3292|       S|\n",
            "+-------+-------------------+------------------+------+------------------+-----------------+--------+\n",
            "\n"
          ]
        }
      ]
    },
    {
      "cell_type": "markdown",
      "source": [
        "Работа со строковыми колонками\n",
        "У нас осталось 2 колонки, содержащих строковые данные:\n",
        "* Sex\n",
        "* Embarked\n",
        "Первую мы преобразуем в 0 и 1. Вторую закодируем по принципу OneHot\n",
        "Для этого нам помогут специвальные классы в PySpark:\n",
        "* StringIndexer\n",
        "* OneHotEncoder"
      ],
      "metadata": {
        "id": "UsEtR6KGZ6U6"
      }
    },
    {
      "cell_type": "code",
      "source": [
        "from pyspark.ml.feature import StringIndexer, OneHotEncoder"
      ],
      "metadata": {
        "id": "Ssb5fBwmasFd"
      },
      "execution_count": 39,
      "outputs": []
    },
    {
      "cell_type": "code",
      "source": [
        "indexer = StringIndexer(inputCol = 'Sex', outputCol = 'SexInd')\n",
        "indexerTrained = indexer.fit(df_filtered)\n",
        "df_features = indexerTrained.transform(df_filtered)"
      ],
      "metadata": {
        "id": "Bl_1zkTWa4FX"
      },
      "execution_count": 41,
      "outputs": []
    },
    {
      "cell_type": "code",
      "source": [
        "indexerTrained.labels"
      ],
      "metadata": {
        "colab": {
          "base_uri": "https://localhost:8080/"
        },
        "id": "Qwf_QbZmbdyR",
        "outputId": "f7bcb1e3-9392-4e20-ac60-05b36194889f"
      },
      "execution_count": 42,
      "outputs": [
        {
          "output_type": "execute_result",
          "data": {
            "text/plain": [
              "['male', 'female']"
            ]
          },
          "metadata": {},
          "execution_count": 42
        }
      ]
    },
    {
      "cell_type": "code",
      "source": [
        "df_features.show()"
      ],
      "metadata": {
        "colab": {
          "base_uri": "https://localhost:8080/"
        },
        "id": "9Dn6TjQCbkdy",
        "outputId": "8ff8e1f4-8ffc-47cc-fc6f-8b168426b907"
      },
      "execution_count": 43,
      "outputs": [
        {
          "output_type": "stream",
          "name": "stdout",
          "text": [
            "+--------+------+------+----+-------+--------+------+\n",
            "|Survived|Pclass|   Sex| Age|   Fare|Embarked|SexInd|\n",
            "+--------+------+------+----+-------+--------+------+\n",
            "|       0|     3|  male|22.0|   7.25|       S|   0.0|\n",
            "|       1|     1|female|38.0|71.2833|       C|   1.0|\n",
            "|       1|     3|female|26.0|  7.925|       S|   1.0|\n",
            "|       1|     1|female|35.0|   53.1|       S|   1.0|\n",
            "|       0|     3|  male|35.0|   8.05|       S|   0.0|\n",
            "|       0|     3|  male|29.7| 8.4583|       Q|   0.0|\n",
            "|       0|     1|  male|54.0|51.8625|       S|   0.0|\n",
            "|       0|     3|  male| 2.0| 21.075|       S|   0.0|\n",
            "|       1|     3|female|27.0|11.1333|       S|   1.0|\n",
            "|       1|     2|female|14.0|30.0708|       C|   1.0|\n",
            "|       1|     3|female| 4.0|   16.7|       S|   1.0|\n",
            "|       1|     1|female|58.0|  26.55|       S|   1.0|\n",
            "|       0|     3|  male|20.0|   8.05|       S|   0.0|\n",
            "|       0|     3|  male|39.0| 31.275|       S|   0.0|\n",
            "|       0|     3|female|14.0| 7.8542|       S|   1.0|\n",
            "|       1|     2|female|55.0|   16.0|       S|   1.0|\n",
            "|       0|     3|  male| 2.0| 29.125|       Q|   0.0|\n",
            "|       1|     2|  male|29.7|   13.0|       S|   0.0|\n",
            "|       0|     3|female|31.0|   18.0|       S|   1.0|\n",
            "|       1|     3|female|29.7|  7.225|       C|   1.0|\n",
            "+--------+------+------+----+-------+--------+------+\n",
            "only showing top 20 rows\n",
            "\n"
          ]
        }
      ]
    },
    {
      "cell_type": "markdown",
      "source": [
        "\n"
      ],
      "metadata": {
        "id": "PcgpofqkbpUu"
      }
    },
    {
      "cell_type": "markdown",
      "source": [
        "# Практика 4."
      ],
      "metadata": {
        "id": "dLnKJP-vb3TX"
      }
    },
    {
      "cell_type": "markdown",
      "source": [
        "Преобразуйте колонку Embarked. Сначала надо при помощи StringIndexer преобразовать колонку Embarked в колонку EmbarkedInd с цифровыми кодами. Затем сделать OneHotEncoder, который колонку EmbarkedInd превратит в колонку EmbarkedOhe. Обратите внимание у OneHotEncoder нет метода fit. Его можно сразу применять методом transform"
      ],
      "metadata": {
        "id": "WvYRjtxQb-Th"
      }
    },
    {
      "cell_type": "code",
      "source": [
        "#indexerEmb = StringIndexer(inputCol = 'Embarked', outputCol = 'EmbarkedInd')\n",
        "#indexerEmbHot = OneHotEncoder(inputCol = 'EmbarkedInd', outputCol = 'EmbarkedOhe')\n",
        "#indexerEmbHot = indexerEmb.fit(df_filtered)\n",
        "#df_features_hot = indexerEmbHot.transform(df_filtered)\n",
        "\n",
        "indexerEmb = StringIndexer(inputCol = 'Embarked', outputCol = 'EmbarkedInd')\n",
        "indexerEmbTrained = indexerEmb.fit(df_features)\n",
        "df_features = indexerEmbTrained.transform(df_features)"
      ],
      "metadata": {
        "id": "LHSExS4wcrO-"
      },
      "execution_count": 51,
      "outputs": []
    },
    {
      "cell_type": "code",
      "source": [],
      "metadata": {
        "id": "HgKcl5HZpU0z"
      },
      "execution_count": null,
      "outputs": []
    },
    {
      "cell_type": "code",
      "source": [
        "df_features.show()"
      ],
      "metadata": {
        "id": "euezSyFMdmr2"
      },
      "execution_count": null,
      "outputs": []
    },
    {
      "cell_type": "code",
      "source": [
        "ohe1 = OneHotEncoder(inputCol = 'EmbarkedInd', outputCol = 'EmbarkedOhe')\n"
      ],
      "metadata": {
        "id": "bO21GbYSfw0z"
      },
      "execution_count": 60,
      "outputs": []
    },
    {
      "cell_type": "code",
      "source": [
        "ohe = ohe1.fit(df_features)"
      ],
      "metadata": {
        "id": "f774BL9Spv7b"
      },
      "execution_count": 62,
      "outputs": []
    },
    {
      "cell_type": "code",
      "source": [
        "\n",
        "df_features = ohe.transform(df_features)"
      ],
      "metadata": {
        "id": "6g6VfUV-f9iL"
      },
      "execution_count": 63,
      "outputs": []
    },
    {
      "cell_type": "code",
      "source": [
        "df_features.show()"
      ],
      "metadata": {
        "colab": {
          "base_uri": "https://localhost:8080/"
        },
        "id": "JF4A8CgKn_YU",
        "outputId": "a7112584-aa49-4ab4-a33b-2e587377f7b7"
      },
      "execution_count": 64,
      "outputs": [
        {
          "output_type": "stream",
          "name": "stdout",
          "text": [
            "+--------+------+------+----+-------+--------+------+-----------+-------------+\n",
            "|Survived|Pclass|   Sex| Age|   Fare|Embarked|SexInd|EmbarkedInd|  EmbarkedOhe|\n",
            "+--------+------+------+----+-------+--------+------+-----------+-------------+\n",
            "|       0|     3|  male|22.0|   7.25|       S|   0.0|        0.0|(2,[0],[1.0])|\n",
            "|       1|     1|female|38.0|71.2833|       C|   1.0|        1.0|(2,[1],[1.0])|\n",
            "|       1|     3|female|26.0|  7.925|       S|   1.0|        0.0|(2,[0],[1.0])|\n",
            "|       1|     1|female|35.0|   53.1|       S|   1.0|        0.0|(2,[0],[1.0])|\n",
            "|       0|     3|  male|35.0|   8.05|       S|   0.0|        0.0|(2,[0],[1.0])|\n",
            "|       0|     3|  male|29.7| 8.4583|       Q|   0.0|        2.0|    (2,[],[])|\n",
            "|       0|     1|  male|54.0|51.8625|       S|   0.0|        0.0|(2,[0],[1.0])|\n",
            "|       0|     3|  male| 2.0| 21.075|       S|   0.0|        0.0|(2,[0],[1.0])|\n",
            "|       1|     3|female|27.0|11.1333|       S|   1.0|        0.0|(2,[0],[1.0])|\n",
            "|       1|     2|female|14.0|30.0708|       C|   1.0|        1.0|(2,[1],[1.0])|\n",
            "|       1|     3|female| 4.0|   16.7|       S|   1.0|        0.0|(2,[0],[1.0])|\n",
            "|       1|     1|female|58.0|  26.55|       S|   1.0|        0.0|(2,[0],[1.0])|\n",
            "|       0|     3|  male|20.0|   8.05|       S|   0.0|        0.0|(2,[0],[1.0])|\n",
            "|       0|     3|  male|39.0| 31.275|       S|   0.0|        0.0|(2,[0],[1.0])|\n",
            "|       0|     3|female|14.0| 7.8542|       S|   1.0|        0.0|(2,[0],[1.0])|\n",
            "|       1|     2|female|55.0|   16.0|       S|   1.0|        0.0|(2,[0],[1.0])|\n",
            "|       0|     3|  male| 2.0| 29.125|       Q|   0.0|        2.0|    (2,[],[])|\n",
            "|       1|     2|  male|29.7|   13.0|       S|   0.0|        0.0|(2,[0],[1.0])|\n",
            "|       0|     3|female|31.0|   18.0|       S|   1.0|        0.0|(2,[0],[1.0])|\n",
            "|       1|     3|female|29.7|  7.225|       C|   1.0|        1.0|(2,[1],[1.0])|\n",
            "+--------+------+------+----+-------+--------+------+-----------+-------------+\n",
            "only showing top 20 rows\n",
            "\n"
          ]
        }
      ]
    },
    {
      "cell_type": "code",
      "source": [
        " "
      ],
      "metadata": {
        "id": "NIeKwLTPqM1l"
      },
      "execution_count": null,
      "outputs": []
    },
    {
      "cell_type": "markdown",
      "source": [
        "# Практика 5. Дальше нужно собрать все признаки в единый вектор для работы машинного обучения"
      ],
      "metadata": {
        "id": "3aL9JgfyqONA"
      }
    },
    {
      "cell_type": "markdown",
      "source": [
        "Для этого используется VectorAssembler"
      ],
      "metadata": {
        "id": "K70J_WOgqYbk"
      }
    },
    {
      "cell_type": "code",
      "source": [
        "from pyspark.ml.feature import VectorAssembler"
      ],
      "metadata": {
        "id": "ahipwvgMqgI_"
      },
      "execution_count": 65,
      "outputs": []
    },
    {
      "cell_type": "code",
      "source": [
        "df_features.show()"
      ],
      "metadata": {
        "colab": {
          "base_uri": "https://localhost:8080/"
        },
        "id": "Ki6IQtimqn6x",
        "outputId": "dff76b43-e6be-4624-eb58-debeb693aa09"
      },
      "execution_count": 67,
      "outputs": [
        {
          "output_type": "stream",
          "name": "stdout",
          "text": [
            "+--------+------+------+----+-------+--------+------+-----------+-------------+\n",
            "|Survived|Pclass|   Sex| Age|   Fare|Embarked|SexInd|EmbarkedInd|  EmbarkedOhe|\n",
            "+--------+------+------+----+-------+--------+------+-----------+-------------+\n",
            "|       0|     3|  male|22.0|   7.25|       S|   0.0|        0.0|(2,[0],[1.0])|\n",
            "|       1|     1|female|38.0|71.2833|       C|   1.0|        1.0|(2,[1],[1.0])|\n",
            "|       1|     3|female|26.0|  7.925|       S|   1.0|        0.0|(2,[0],[1.0])|\n",
            "|       1|     1|female|35.0|   53.1|       S|   1.0|        0.0|(2,[0],[1.0])|\n",
            "|       0|     3|  male|35.0|   8.05|       S|   0.0|        0.0|(2,[0],[1.0])|\n",
            "|       0|     3|  male|29.7| 8.4583|       Q|   0.0|        2.0|    (2,[],[])|\n",
            "|       0|     1|  male|54.0|51.8625|       S|   0.0|        0.0|(2,[0],[1.0])|\n",
            "|       0|     3|  male| 2.0| 21.075|       S|   0.0|        0.0|(2,[0],[1.0])|\n",
            "|       1|     3|female|27.0|11.1333|       S|   1.0|        0.0|(2,[0],[1.0])|\n",
            "|       1|     2|female|14.0|30.0708|       C|   1.0|        1.0|(2,[1],[1.0])|\n",
            "|       1|     3|female| 4.0|   16.7|       S|   1.0|        0.0|(2,[0],[1.0])|\n",
            "|       1|     1|female|58.0|  26.55|       S|   1.0|        0.0|(2,[0],[1.0])|\n",
            "|       0|     3|  male|20.0|   8.05|       S|   0.0|        0.0|(2,[0],[1.0])|\n",
            "|       0|     3|  male|39.0| 31.275|       S|   0.0|        0.0|(2,[0],[1.0])|\n",
            "|       0|     3|female|14.0| 7.8542|       S|   1.0|        0.0|(2,[0],[1.0])|\n",
            "|       1|     2|female|55.0|   16.0|       S|   1.0|        0.0|(2,[0],[1.0])|\n",
            "|       0|     3|  male| 2.0| 29.125|       Q|   0.0|        2.0|    (2,[],[])|\n",
            "|       1|     2|  male|29.7|   13.0|       S|   0.0|        0.0|(2,[0],[1.0])|\n",
            "|       0|     3|female|31.0|   18.0|       S|   1.0|        0.0|(2,[0],[1.0])|\n",
            "|       1|     3|female|29.7|  7.225|       C|   1.0|        1.0|(2,[1],[1.0])|\n",
            "+--------+------+------+----+-------+--------+------+-----------+-------------+\n",
            "only showing top 20 rows\n",
            "\n"
          ]
        }
      ]
    },
    {
      "cell_type": "code",
      "source": [
        "assembler = VectorAssembler(inputCols=['Pclass', 'Age', 'Fare', 'SexInd', 'EmbarkedOhe'], outputCol = 'Features')"
      ],
      "metadata": {
        "id": "MJ7Oz0NGq08R"
      },
      "execution_count": 68,
      "outputs": []
    },
    {
      "cell_type": "code",
      "source": [
        "df_features = assembler.transform(df_features)"
      ],
      "metadata": {
        "id": "r-TYCBS8riCw"
      },
      "execution_count": 69,
      "outputs": []
    },
    {
      "cell_type": "code",
      "source": [
        "df_features.show()"
      ],
      "metadata": {
        "colab": {
          "base_uri": "https://localhost:8080/"
        },
        "id": "FA-2Z70Oro8k",
        "outputId": "add9521b-0edc-4b0b-9976-3bb943840a69"
      },
      "execution_count": 70,
      "outputs": [
        {
          "output_type": "stream",
          "name": "stdout",
          "text": [
            "+--------+------+------+----+-------+--------+------+-----------+-------------+--------------------+\n",
            "|Survived|Pclass|   Sex| Age|   Fare|Embarked|SexInd|EmbarkedInd|  EmbarkedOhe|            Features|\n",
            "+--------+------+------+----+-------+--------+------+-----------+-------------+--------------------+\n",
            "|       0|     3|  male|22.0|   7.25|       S|   0.0|        0.0|(2,[0],[1.0])|[3.0,22.0,7.25,0....|\n",
            "|       1|     1|female|38.0|71.2833|       C|   1.0|        1.0|(2,[1],[1.0])|[1.0,38.0,71.2833...|\n",
            "|       1|     3|female|26.0|  7.925|       S|   1.0|        0.0|(2,[0],[1.0])|[3.0,26.0,7.925,1...|\n",
            "|       1|     1|female|35.0|   53.1|       S|   1.0|        0.0|(2,[0],[1.0])|[1.0,35.0,53.1,1....|\n",
            "|       0|     3|  male|35.0|   8.05|       S|   0.0|        0.0|(2,[0],[1.0])|[3.0,35.0,8.05,0....|\n",
            "|       0|     3|  male|29.7| 8.4583|       Q|   0.0|        2.0|    (2,[],[])|[3.0,29.7,8.4583,...|\n",
            "|       0|     1|  male|54.0|51.8625|       S|   0.0|        0.0|(2,[0],[1.0])|[1.0,54.0,51.8625...|\n",
            "|       0|     3|  male| 2.0| 21.075|       S|   0.0|        0.0|(2,[0],[1.0])|[3.0,2.0,21.075,0...|\n",
            "|       1|     3|female|27.0|11.1333|       S|   1.0|        0.0|(2,[0],[1.0])|[3.0,27.0,11.1333...|\n",
            "|       1|     2|female|14.0|30.0708|       C|   1.0|        1.0|(2,[1],[1.0])|[2.0,14.0,30.0708...|\n",
            "|       1|     3|female| 4.0|   16.7|       S|   1.0|        0.0|(2,[0],[1.0])|[3.0,4.0,16.7,1.0...|\n",
            "|       1|     1|female|58.0|  26.55|       S|   1.0|        0.0|(2,[0],[1.0])|[1.0,58.0,26.55,1...|\n",
            "|       0|     3|  male|20.0|   8.05|       S|   0.0|        0.0|(2,[0],[1.0])|[3.0,20.0,8.05,0....|\n",
            "|       0|     3|  male|39.0| 31.275|       S|   0.0|        0.0|(2,[0],[1.0])|[3.0,39.0,31.275,...|\n",
            "|       0|     3|female|14.0| 7.8542|       S|   1.0|        0.0|(2,[0],[1.0])|[3.0,14.0,7.8542,...|\n",
            "|       1|     2|female|55.0|   16.0|       S|   1.0|        0.0|(2,[0],[1.0])|[2.0,55.0,16.0,1....|\n",
            "|       0|     3|  male| 2.0| 29.125|       Q|   0.0|        2.0|    (2,[],[])|[3.0,2.0,29.125,0...|\n",
            "|       1|     2|  male|29.7|   13.0|       S|   0.0|        0.0|(2,[0],[1.0])|[2.0,29.7,13.0,0....|\n",
            "|       0|     3|female|31.0|   18.0|       S|   1.0|        0.0|(2,[0],[1.0])|[3.0,31.0,18.0,1....|\n",
            "|       1|     3|female|29.7|  7.225|       C|   1.0|        1.0|(2,[1],[1.0])|[3.0,29.7,7.225,1...|\n",
            "+--------+------+------+----+-------+--------+------+-----------+-------------+--------------------+\n",
            "only showing top 20 rows\n",
            "\n"
          ]
        }
      ]
    },
    {
      "cell_type": "markdown",
      "source": [
        "# Повторимость"
      ],
      "metadata": {
        "id": "ZfBPeOQLrxte"
      }
    },
    {
      "cell_type": "markdown",
      "source": [
        "Часто нам нужно все указанные шаги по подготовке признаков делать не один раз, а несколько - для предсказания каждого нового значения. Тогда их логично объединить в PipeLine преобразования и применять капк единую операцию\n",
        "https://spark.apache.org/docs/latest/ml-pipeline.html"
      ],
      "metadata": {
        "id": "0Swrlc4-r0r3"
      }
    },
    {
      "cell_type": "code",
      "source": [
        "from pyspark.ml import Pipeline"
      ],
      "metadata": {
        "id": "FgPHtdLysUTA"
      },
      "execution_count": 71,
      "outputs": []
    },
    {
      "cell_type": "code",
      "source": [
        "pipeline = Pipeline(stages = \n",
        "                    [\n",
        "                        StringIndexer(inputCol='Sex', outputCol='SexInd'),\n",
        "                        StringIndexer(inputCol='Embarked', outputCol='EmbarkedInd'),\n",
        "                        OneHotEncoder(inputCol='EmbarkedInd', outputCol='EmbarkedOhe'),\n",
        "                        VectorAssembler(inputCols=['Pclass', 'Age', 'Fare', 'SexInd', 'EmbarkedOhe'], outputCol='Features')\n",
        "                    ]\n",
        "                    )"
      ],
      "metadata": {
        "id": "l2eNOmFdsdbK"
      },
      "execution_count": 72,
      "outputs": []
    },
    {
      "cell_type": "code",
      "source": [
        "pipelineTrained = pipeline.fit(df_filtered)"
      ],
      "metadata": {
        "id": "zcVZB1HztZnd"
      },
      "execution_count": 73,
      "outputs": []
    },
    {
      "cell_type": "code",
      "source": [
        "pipelineTrained.transform(df_filtered).show()"
      ],
      "metadata": {
        "colab": {
          "base_uri": "https://localhost:8080/"
        },
        "id": "AuHXLfy4uJWX",
        "outputId": "5a660e20-11b1-4c1f-d87f-bdce53dd7509"
      },
      "execution_count": 74,
      "outputs": [
        {
          "output_type": "stream",
          "name": "stdout",
          "text": [
            "+--------+------+------+----+-------+--------+------+-----------+-------------+--------------------+\n",
            "|Survived|Pclass|   Sex| Age|   Fare|Embarked|SexInd|EmbarkedInd|  EmbarkedOhe|            Features|\n",
            "+--------+------+------+----+-------+--------+------+-----------+-------------+--------------------+\n",
            "|       0|     3|  male|22.0|   7.25|       S|   0.0|        0.0|(2,[0],[1.0])|[3.0,22.0,7.25,0....|\n",
            "|       1|     1|female|38.0|71.2833|       C|   1.0|        1.0|(2,[1],[1.0])|[1.0,38.0,71.2833...|\n",
            "|       1|     3|female|26.0|  7.925|       S|   1.0|        0.0|(2,[0],[1.0])|[3.0,26.0,7.925,1...|\n",
            "|       1|     1|female|35.0|   53.1|       S|   1.0|        0.0|(2,[0],[1.0])|[1.0,35.0,53.1,1....|\n",
            "|       0|     3|  male|35.0|   8.05|       S|   0.0|        0.0|(2,[0],[1.0])|[3.0,35.0,8.05,0....|\n",
            "|       0|     3|  male|29.7| 8.4583|       Q|   0.0|        2.0|    (2,[],[])|[3.0,29.7,8.4583,...|\n",
            "|       0|     1|  male|54.0|51.8625|       S|   0.0|        0.0|(2,[0],[1.0])|[1.0,54.0,51.8625...|\n",
            "|       0|     3|  male| 2.0| 21.075|       S|   0.0|        0.0|(2,[0],[1.0])|[3.0,2.0,21.075,0...|\n",
            "|       1|     3|female|27.0|11.1333|       S|   1.0|        0.0|(2,[0],[1.0])|[3.0,27.0,11.1333...|\n",
            "|       1|     2|female|14.0|30.0708|       C|   1.0|        1.0|(2,[1],[1.0])|[2.0,14.0,30.0708...|\n",
            "|       1|     3|female| 4.0|   16.7|       S|   1.0|        0.0|(2,[0],[1.0])|[3.0,4.0,16.7,1.0...|\n",
            "|       1|     1|female|58.0|  26.55|       S|   1.0|        0.0|(2,[0],[1.0])|[1.0,58.0,26.55,1...|\n",
            "|       0|     3|  male|20.0|   8.05|       S|   0.0|        0.0|(2,[0],[1.0])|[3.0,20.0,8.05,0....|\n",
            "|       0|     3|  male|39.0| 31.275|       S|   0.0|        0.0|(2,[0],[1.0])|[3.0,39.0,31.275,...|\n",
            "|       0|     3|female|14.0| 7.8542|       S|   1.0|        0.0|(2,[0],[1.0])|[3.0,14.0,7.8542,...|\n",
            "|       1|     2|female|55.0|   16.0|       S|   1.0|        0.0|(2,[0],[1.0])|[2.0,55.0,16.0,1....|\n",
            "|       0|     3|  male| 2.0| 29.125|       Q|   0.0|        2.0|    (2,[],[])|[3.0,2.0,29.125,0...|\n",
            "|       1|     2|  male|29.7|   13.0|       S|   0.0|        0.0|(2,[0],[1.0])|[2.0,29.7,13.0,0....|\n",
            "|       0|     3|female|31.0|   18.0|       S|   1.0|        0.0|(2,[0],[1.0])|[3.0,31.0,18.0,1....|\n",
            "|       1|     3|female|29.7|  7.225|       C|   1.0|        1.0|(2,[1],[1.0])|[3.0,29.7,7.225,1...|\n",
            "+--------+------+------+----+-------+--------+------+-----------+-------------+--------------------+\n",
            "only showing top 20 rows\n",
            "\n"
          ]
        }
      ]
    },
    {
      "cell_type": "code",
      "source": [
        "df_features = pipelineTrained.transform(df_filtered)"
      ],
      "metadata": {
        "id": "f6zuPKjauVTe"
      },
      "execution_count": 75,
      "outputs": []
    },
    {
      "cell_type": "markdown",
      "source": [
        "Датасеты уже разбиты на файлы test и train"
      ],
      "metadata": {
        "id": "pe7RK4rRw7kW"
      }
    },
    {
      "cell_type": "code",
      "source": [
        "#train = spark.read.csv('train.csv', header=True, inferSchema=True)"
      ],
      "metadata": {
        "id": "0wgg4bgwxATX"
      },
      "execution_count": 80,
      "outputs": []
    },
    {
      "cell_type": "code",
      "source": [
        "train, test = df_features.randomSplit([0.8, 0.2], seed = 12345)"
      ],
      "metadata": {
        "id": "xBwn9mH2zAmH"
      },
      "execution_count": 84,
      "outputs": []
    },
    {
      "cell_type": "markdown",
      "source": [
        "Создадим и обучим модель логистической регрессии"
      ],
      "metadata": {
        "id": "SDlXQsNlxEUr"
      }
    },
    {
      "cell_type": "markdown",
      "source": [
        "# Создадим и обучим модель логистической регрессии"
      ],
      "metadata": {
        "id": "oM0vVia1zzoE"
      }
    },
    {
      "cell_type": "code",
      "source": [
        "from pyspark.ml.classification import LogisticRegression"
      ],
      "metadata": {
        "id": "WWmbqAJNxJ4i"
      },
      "execution_count": 82,
      "outputs": []
    },
    {
      "cell_type": "code",
      "source": [
        "lr = LogisticRegression(featuresCol='Features', labelCol='Survived')\n",
        "lrModel = lr.fit(train)"
      ],
      "metadata": {
        "id": "i1-irLqkxZ0o"
      },
      "execution_count": 85,
      "outputs": []
    },
    {
      "cell_type": "code",
      "source": [
        "train_res = lrModel.transform(train)\n",
        "test_res = lrModel.transform(test)"
      ],
      "metadata": {
        "id": "csNmnOlpzPbc"
      },
      "execution_count": 88,
      "outputs": []
    },
    {
      "cell_type": "code",
      "source": [
        "train_res.show()"
      ],
      "metadata": {
        "colab": {
          "base_uri": "https://localhost:8080/"
        },
        "id": "ENAUwRUF0KeN",
        "outputId": "cd434fa6-66e5-468f-837a-9b6285d1c7e9"
      },
      "execution_count": 89,
      "outputs": [
        {
          "output_type": "stream",
          "name": "stdout",
          "text": [
            "+--------+------+------+----+--------+--------+------+-----------+-------------+--------------------+--------------------+--------------------+----------+\n",
            "|Survived|Pclass|   Sex| Age|    Fare|Embarked|SexInd|EmbarkedInd|  EmbarkedOhe|            Features|       rawPrediction|         probability|prediction|\n",
            "+--------+------+------+----+--------+--------+------+-----------+-------------+--------------------+--------------------+--------------------+----------+\n",
            "|       0|     1|female| 2.0|  151.55|       S|   1.0|        0.0|(2,[0],[1.0])|[1.0,2.0,151.55,1...|[-3.3101041867087...|[0.03522617821846...|       1.0|\n",
            "|       0|     1|female|25.0|  151.55|       S|   1.0|        0.0|(2,[0],[1.0])|[1.0,25.0,151.55,...|[-2.4144758542870...|[0.08207547992848...|       1.0|\n",
            "|       0|     1|female|50.0| 28.7125|       C|   1.0|        1.0|(2,[1],[1.0])|[1.0,50.0,28.7125...|[-2.1747688852745...|[0.10203924364510...|       1.0|\n",
            "|       0|     1|  male|18.0|   108.9|       C|   0.0|        1.0|(2,[1],[1.0])|[1.0,18.0,108.9,0...|[-0.7303594937557...|[0.32511584394549...|       1.0|\n",
            "|       0|     1|  male|19.0|    53.1|       S|   0.0|        0.0|(2,[0],[1.0])|[1.0,19.0,53.1,0....|[-0.2513778191769...|[0.43748439995849...|       1.0|\n",
            "|       0|     1|  male|19.0|   263.0|       S|   0.0|        0.0|(2,[0],[1.0])|[1.0,19.0,263.0,0...|[0.09379263390658...|[0.52343098401710...|       0.0|\n",
            "|       0|     1|  male|22.0|135.6333|       C|   0.0|        1.0|(2,[1],[1.0])|[1.0,22.0,135.633...|[-0.5306364187531...|[0.37036846569821...|       1.0|\n",
            "|       0|     1|  male|24.0|    79.2|       C|   0.0|        1.0|(2,[1],[1.0])|[1.0,24.0,79.2,0....|[-0.5455575414077...|[0.36689570618277...|       1.0|\n",
            "|       0|     1|  male|24.0|247.5208|       C|   0.0|        1.0|(2,[1],[1.0])|[1.0,24.0,247.520...|[-0.2687620826207...|[0.43321102715079...|       1.0|\n",
            "|       0|     1|  male|27.0|   211.5|       C|   0.0|        1.0|(2,[1],[1.0])|[1.0,27.0,211.5,0...|[-0.2111754686580...|[0.44740145738483...|       1.0|\n",
            "|       0|     1|  male|28.0|    47.1|       S|   0.0|        0.0|(2,[0],[1.0])|[1.0,28.0,47.1,0....|[0.08921872995667...|[0.52228989885129...|       0.0|\n",
            "|       0|     1|  male|28.0| 82.1708|       C|   0.0|        1.0|(2,[1],[1.0])|[1.0,28.0,82.1708...|[-0.3849107545966...|[0.40494303089619...|       1.0|\n",
            "|       0|     1|  male|29.0|    30.0|       S|   0.0|        0.0|(2,[0],[1.0])|[1.0,29.0,30.0,0....|[0.10003896480505...|[0.52498890435827...|       0.0|\n",
            "|       0|     1|  male|29.0|    66.6|       S|   0.0|        0.0|(2,[0],[1.0])|[1.0,29.0,66.6,0....|[0.16022590421838...|[0.53997100019378...|       0.0|\n",
            "|       0|     1|  male|29.7|     0.0|       S|   0.0|        0.0|(2,[0],[1.0])|[1.0,29.7,0.0,0.0...|[0.07796366150433...|[0.51948104868462...|       0.0|\n",
            "|       0|     1|  male|29.7|     0.0|       S|   0.0|        0.0|(2,[0],[1.0])|[1.0,29.7,0.0,0.0...|[0.07796366150433...|[0.51948104868462...|       0.0|\n",
            "|       0|     1|  male|29.7|  25.925|       S|   0.0|        0.0|(2,[0],[1.0])|[1.0,29.7,25.925,...|[0.12059607692210...|[0.53011253315436...|       0.0|\n",
            "|       0|     1|  male|29.7|    26.0|       S|   0.0|        0.0|(2,[0],[1.0])|[1.0,29.7,26.0,0....|[0.12071941081434...|[0.53014325467847...|       0.0|\n",
            "|       0|     1|  male|29.7|   26.55|       S|   0.0|        0.0|(2,[0],[1.0])|[1.0,29.7,26.55,0...|[0.12162385935744...|[0.53036853886072...|       0.0|\n",
            "|       0|     1|  male|29.7| 27.7208|       C|   0.0|        1.0|(2,[1],[1.0])|[1.0,29.7,27.7208...|[-0.4082525444885...|[0.39933120212488...|       1.0|\n",
            "+--------+------+------+----+--------+--------+------+-----------+-------------+--------------------+--------------------+--------------------+----------+\n",
            "only showing top 20 rows\n",
            "\n"
          ]
        }
      ]
    },
    {
      "cell_type": "markdown",
      "source": [
        "# Оценим качество"
      ],
      "metadata": {
        "id": "RUadXWRI0d8M"
      }
    },
    {
      "cell_type": "markdown",
      "source": [
        "Для оценки качества предсказания в spark реализовано несколько классов. Если мы решаем задачу бинарной классификации (то есть классов - 2), то нам подойдет BinaryClassificationEvaluator, а если классов больше 2-х, то MulticlassClassificationEvaluator"
      ],
      "metadata": {
        "id": "hw4tCb_-0iVt"
      }
    },
    {
      "cell_type": "code",
      "source": [
        "from pyspark.ml.evaluation import BinaryClassificationEvaluator"
      ],
      "metadata": {
        "id": "tOVAYBkB0_Ov"
      },
      "execution_count": 90,
      "outputs": []
    },
    {
      "cell_type": "code",
      "source": [
        "ev = BinaryClassificationEvaluator(labelCol='Survived')"
      ],
      "metadata": {
        "id": "qR0ECCfV1GvW"
      },
      "execution_count": 91,
      "outputs": []
    },
    {
      "cell_type": "code",
      "source": [
        "ev.evaluate(train_res)"
      ],
      "metadata": {
        "colab": {
          "base_uri": "https://localhost:8080/"
        },
        "id": "1H2Jtuv31Zre",
        "outputId": "f1a957a4-0e42-4a60-a7be-d936fbb12fa3"
      },
      "execution_count": 92,
      "outputs": [
        {
          "output_type": "execute_result",
          "data": {
            "text/plain": [
              "0.8524237589235771"
            ]
          },
          "metadata": {},
          "execution_count": 92
        }
      ]
    },
    {
      "cell_type": "code",
      "source": [
        "ev.evaluate(test_res)"
      ],
      "metadata": {
        "colab": {
          "base_uri": "https://localhost:8080/"
        },
        "id": "mwhgMC3C1i6P",
        "outputId": "9135a483-6c52-45ae-8e61-0c9d2c75bb16"
      },
      "execution_count": 93,
      "outputs": [
        {
          "output_type": "execute_result",
          "data": {
            "text/plain": [
              "0.8456432707244734"
            ]
          },
          "metadata": {},
          "execution_count": 93
        }
      ]
    },
    {
      "cell_type": "markdown",
      "source": [
        "# Обучите модель дерева решений и оцените его качество"
      ],
      "metadata": {
        "id": "d5cabMb91qCR"
      }
    },
    {
      "cell_type": "code",
      "source": [
        "from pyspark.ml.classification import DecisionTreeClassifier"
      ],
      "metadata": {
        "id": "5XuUTF3o1yjl"
      },
      "execution_count": 94,
      "outputs": []
    },
    {
      "cell_type": "code",
      "source": [
        "lrTree = DecisionTreeClassifier(featuresCol='Features', labelCol='Survived')\n"
      ],
      "metadata": {
        "id": "A7Jek_PK1-xl"
      },
      "execution_count": 103,
      "outputs": []
    },
    {
      "cell_type": "code",
      "source": [
        "lrModelTree = lrTree.fit(train)"
      ],
      "metadata": {
        "id": "8Io8z5jA4_Os"
      },
      "execution_count": 104,
      "outputs": []
    },
    {
      "cell_type": "code",
      "source": [
        "train_res_tree = lrModelTree.transform(train)\n",
        "test_res_tree = lrModelTree.transform(test)"
      ],
      "metadata": {
        "id": "GYLljBun2vzl"
      },
      "execution_count": 106,
      "outputs": []
    },
    {
      "cell_type": "code",
      "source": [
        "train_res_tree.show()"
      ],
      "metadata": {
        "colab": {
          "base_uri": "https://localhost:8080/"
        },
        "id": "TCxJ7WMw2xtd",
        "outputId": "ec857687-c776-4c15-f74e-8786f816c179"
      },
      "execution_count": 107,
      "outputs": [
        {
          "output_type": "stream",
          "name": "stdout",
          "text": [
            "+--------+------+------+----+--------+--------+------+-----------+-------------+--------------------+-------------+--------------------+----------+\n",
            "|Survived|Pclass|   Sex| Age|    Fare|Embarked|SexInd|EmbarkedInd|  EmbarkedOhe|            Features|rawPrediction|         probability|prediction|\n",
            "+--------+------+------+----+--------+--------+------+-----------+-------------+--------------------+-------------+--------------------+----------+\n",
            "|       0|     1|female| 2.0|  151.55|       S|   1.0|        0.0|(2,[0],[1.0])|[1.0,2.0,151.55,1...|    [1.0,0.0]|           [1.0,0.0]|       0.0|\n",
            "|       0|     1|female|25.0|  151.55|       S|   1.0|        0.0|(2,[0],[1.0])|[1.0,25.0,151.55,...|  [8.0,121.0]|[0.06201550387596...|       1.0|\n",
            "|       0|     1|female|50.0| 28.7125|       C|   1.0|        1.0|(2,[1],[1.0])|[1.0,50.0,28.7125...|  [8.0,121.0]|[0.06201550387596...|       1.0|\n",
            "|       0|     1|  male|18.0|   108.9|       C|   0.0|        1.0|(2,[1],[1.0])|[1.0,18.0,108.9,0...|  [59.0,33.0]|[0.64130434782608...|       0.0|\n",
            "|       0|     1|  male|19.0|    53.1|       S|   0.0|        0.0|(2,[0],[1.0])|[1.0,19.0,53.1,0....|  [59.0,33.0]|[0.64130434782608...|       0.0|\n",
            "|       0|     1|  male|19.0|   263.0|       S|   0.0|        0.0|(2,[0],[1.0])|[1.0,19.0,263.0,0...|  [59.0,33.0]|[0.64130434782608...|       0.0|\n",
            "|       0|     1|  male|22.0|135.6333|       C|   0.0|        1.0|(2,[1],[1.0])|[1.0,22.0,135.633...|  [59.0,33.0]|[0.64130434782608...|       0.0|\n",
            "|       0|     1|  male|24.0|    79.2|       C|   0.0|        1.0|(2,[1],[1.0])|[1.0,24.0,79.2,0....|  [59.0,33.0]|[0.64130434782608...|       0.0|\n",
            "|       0|     1|  male|24.0|247.5208|       C|   0.0|        1.0|(2,[1],[1.0])|[1.0,24.0,247.520...|  [59.0,33.0]|[0.64130434782608...|       0.0|\n",
            "|       0|     1|  male|27.0|   211.5|       C|   0.0|        1.0|(2,[1],[1.0])|[1.0,27.0,211.5,0...|  [59.0,33.0]|[0.64130434782608...|       0.0|\n",
            "|       0|     1|  male|28.0|    47.1|       S|   0.0|        0.0|(2,[0],[1.0])|[1.0,28.0,47.1,0....|  [59.0,33.0]|[0.64130434782608...|       0.0|\n",
            "|       0|     1|  male|28.0| 82.1708|       C|   0.0|        1.0|(2,[1],[1.0])|[1.0,28.0,82.1708...|  [59.0,33.0]|[0.64130434782608...|       0.0|\n",
            "|       0|     1|  male|29.0|    30.0|       S|   0.0|        0.0|(2,[0],[1.0])|[1.0,29.0,30.0,0....|  [59.0,33.0]|[0.64130434782608...|       0.0|\n",
            "|       0|     1|  male|29.0|    66.6|       S|   0.0|        0.0|(2,[0],[1.0])|[1.0,29.0,66.6,0....|  [59.0,33.0]|[0.64130434782608...|       0.0|\n",
            "|       0|     1|  male|29.7|     0.0|       S|   0.0|        0.0|(2,[0],[1.0])|[1.0,29.7,0.0,0.0...|   [10.0,0.0]|           [1.0,0.0]|       0.0|\n",
            "|       0|     1|  male|29.7|     0.0|       S|   0.0|        0.0|(2,[0],[1.0])|[1.0,29.7,0.0,0.0...|   [10.0,0.0]|           [1.0,0.0]|       0.0|\n",
            "|       0|     1|  male|29.7|  25.925|       S|   0.0|        0.0|(2,[0],[1.0])|[1.0,29.7,25.925,...|   [10.0,0.0]|           [1.0,0.0]|       0.0|\n",
            "|       0|     1|  male|29.7|    26.0|       S|   0.0|        0.0|(2,[0],[1.0])|[1.0,29.7,26.0,0....|   [10.0,0.0]|           [1.0,0.0]|       0.0|\n",
            "|       0|     1|  male|29.7|   26.55|       S|   0.0|        0.0|(2,[0],[1.0])|[1.0,29.7,26.55,0...|  [59.0,33.0]|[0.64130434782608...|       0.0|\n",
            "|       0|     1|  male|29.7| 27.7208|       C|   0.0|        1.0|(2,[1],[1.0])|[1.0,29.7,27.7208...|  [59.0,33.0]|[0.64130434782608...|       0.0|\n",
            "+--------+------+------+----+--------+--------+------+-----------+-------------+--------------------+-------------+--------------------+----------+\n",
            "only showing top 20 rows\n",
            "\n"
          ]
        }
      ]
    },
    {
      "cell_type": "code",
      "source": [
        "from pyspark.ml.evaluation import BinaryClassificationEvaluator"
      ],
      "metadata": {
        "id": "lEFT9LnK2z1p"
      },
      "execution_count": null,
      "outputs": []
    },
    {
      "cell_type": "code",
      "source": [
        "evTree = BinaryClassificationEvaluator(labelCol='Survived')"
      ],
      "metadata": {
        "id": "KcM7sEQy21x5"
      },
      "execution_count": 108,
      "outputs": []
    },
    {
      "cell_type": "code",
      "source": [
        "evTree.evaluate(train_res_tree)"
      ],
      "metadata": {
        "colab": {
          "base_uri": "https://localhost:8080/"
        },
        "id": "qj8R9a2H24Nb",
        "outputId": "b62931cf-3b0d-47c4-a24e-8c97a3f448ca"
      },
      "execution_count": 109,
      "outputs": [
        {
          "output_type": "execute_result",
          "data": {
            "text/plain": [
              "0.7435807809981247"
            ]
          },
          "metadata": {},
          "execution_count": 109
        }
      ]
    },
    {
      "cell_type": "code",
      "source": [
        "evTree.evaluate(test_res_tree)"
      ],
      "metadata": {
        "colab": {
          "base_uri": "https://localhost:8080/"
        },
        "id": "WsISb6Eb26A8",
        "outputId": "f2b82554-5431-480f-b4b5-66b76d6a450e"
      },
      "execution_count": 111,
      "outputs": [
        {
          "output_type": "execute_result",
          "data": {
            "text/plain": [
              "0.8068775596667137"
            ]
          },
          "metadata": {},
          "execution_count": 111
        }
      ]
    },
    {
      "cell_type": "markdown",
      "source": [
        "# ДЗ"
      ],
      "metadata": {
        "id": "2AQfIgdh6Cui"
      }
    },
    {
      "cell_type": "markdown",
      "source": [
        "![Снимок экрана 2023-06-11 в 17.41.24.png](data:image/png;base64,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)"
      ],
      "metadata": {
        "id": "W1TX427r5uOe"
      }
    }
  ]
}