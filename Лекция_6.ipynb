{
  "nbformat": 4,
  "nbformat_minor": 0,
  "metadata": {
    "colab": {
      "provenance": [],
      "include_colab_link": true
    },
    "kernelspec": {
      "name": "python3",
      "display_name": "Python 3"
    }
  },
  "cells": [
    {
      "cell_type": "markdown",
      "metadata": {
        "id": "view-in-github",
        "colab_type": "text"
      },
      "source": [
        "<a href=\"https://colab.research.google.com/github/AIhexNICK-MAIL-RU/big_data/blob/main/%D0%9B%D0%B5%D0%BA%D1%86%D0%B8%D1%8F_6.ipynb\" target=\"_parent\"><img src=\"https://colab.research.google.com/assets/colab-badge.svg\" alt=\"Open In Colab\"/></a>"
      ]
    },
    {
      "cell_type": "markdown",
      "metadata": {
        "id": "Tt0wTZ1WGSVn"
      },
      "source": [
        "## Установка PySpark"
      ]
    },
    {
      "cell_type": "code",
      "metadata": {
        "id": "wKfUprWiGbxl",
        "colab": {
          "base_uri": "https://localhost:8080/"
        },
        "outputId": "8d500230-6567-459f-b029-25f88365d84a"
      },
      "source": [
        "!apt-get update"
      ],
      "execution_count": 1,
      "outputs": [
        {
          "output_type": "stream",
          "name": "stdout",
          "text": [
            "\r0% [Working]\r            \rGet:1 http://security.ubuntu.com/ubuntu focal-security InRelease [114 kB]\n",
            "\r0% [Connecting to archive.ubuntu.com] [1 InRelease 14.2 kB/114 kB 12%] [Waiting\r                                                                               \rGet:2 https://cloud.r-project.org/bin/linux/ubuntu focal-cran40/ InRelease [3,622 B]\n",
            "\r0% [Connecting to archive.ubuntu.com] [1 InRelease 14.2 kB/114 kB 12%] [2 InRel\r0% [Connecting to archive.ubuntu.com] [1 InRelease 14.2 kB/114 kB 12%] [Connect\r                                                                               \rHit:3 https://developer.download.nvidia.com/compute/cuda/repos/ubuntu2004/x86_64  InRelease\n",
            "Hit:4 http://ppa.launchpad.net/c2d4u.team/c2d4u4.0+/ubuntu focal InRelease\n",
            "Hit:5 http://archive.ubuntu.com/ubuntu focal InRelease\n",
            "Get:6 http://security.ubuntu.com/ubuntu focal-security/main amd64 Packages [2,776 kB]\n",
            "Get:7 http://archive.ubuntu.com/ubuntu focal-updates InRelease [114 kB]\n",
            "Hit:8 http://ppa.launchpad.net/cran/libgit2/ubuntu focal InRelease\n",
            "Hit:9 http://ppa.launchpad.net/deadsnakes/ppa/ubuntu focal InRelease\n",
            "Get:10 http://archive.ubuntu.com/ubuntu focal-backports InRelease [108 kB]\n",
            "Hit:11 http://ppa.launchpad.net/graphics-drivers/ppa/ubuntu focal InRelease\n",
            "Get:12 http://archive.ubuntu.com/ubuntu focal-updates/main amd64 Packages [3,255 kB]\n",
            "Hit:13 http://ppa.launchpad.net/ubuntugis/ppa/ubuntu focal InRelease\n",
            "Get:14 http://archive.ubuntu.com/ubuntu focal-updates/universe amd64 Packages [1,354 kB]\n",
            "Fetched 7,725 kB in 2s (4,092 kB/s)\n",
            "Reading package lists... Done\n"
          ]
        }
      ]
    },
    {
      "cell_type": "code",
      "metadata": {
        "id": "eDQwIruzGUfd"
      },
      "source": [
        "!apt-get install openjdk-8-jdk-headless -qq > /dev/null"
      ],
      "execution_count": 2,
      "outputs": []
    },
    {
      "cell_type": "code",
      "metadata": {
        "id": "HU_8HXuuGWjf"
      },
      "source": [
        "!wget -q https://downloads.apache.org/spark/spark-3.4.0/spark-3.4.0-bin-hadoop3.tgz"
      ],
      "execution_count": 5,
      "outputs": []
    },
    {
      "cell_type": "code",
      "metadata": {
        "id": "0czFBZLJGYv_",
        "colab": {
          "base_uri": "https://localhost:8080/"
        },
        "outputId": "a837e1b5-f5cc-4671-ea89-8791519c4517"
      },
      "source": [
        "!tar -xvf spark-3.4.0-bin-hadoop3.tgz"
      ],
      "execution_count": 6,
      "outputs": [
        {
          "output_type": "stream",
          "name": "stdout",
          "text": [
            "spark-3.4.0-bin-hadoop3/\n",
            "spark-3.4.0-bin-hadoop3/data/\n",
            "spark-3.4.0-bin-hadoop3/data/streaming/\n",
            "spark-3.4.0-bin-hadoop3/data/streaming/AFINN-111.txt\n",
            "spark-3.4.0-bin-hadoop3/data/graphx/\n",
            "spark-3.4.0-bin-hadoop3/data/graphx/followers.txt\n",
            "spark-3.4.0-bin-hadoop3/data/graphx/users.txt\n",
            "spark-3.4.0-bin-hadoop3/data/mllib/\n",
            "spark-3.4.0-bin-hadoop3/data/mllib/als/\n",
            "spark-3.4.0-bin-hadoop3/data/mllib/als/test.data\n",
            "spark-3.4.0-bin-hadoop3/data/mllib/als/sample_movielens_ratings.txt\n",
            "spark-3.4.0-bin-hadoop3/data/mllib/gmm_data.txt\n",
            "spark-3.4.0-bin-hadoop3/data/mllib/sample_libsvm_data.txt\n",
            "spark-3.4.0-bin-hadoop3/data/mllib/sample_svm_data.txt\n",
            "spark-3.4.0-bin-hadoop3/data/mllib/sample_fpgrowth.txt\n",
            "spark-3.4.0-bin-hadoop3/data/mllib/kmeans_data.txt\n",
            "spark-3.4.0-bin-hadoop3/data/mllib/pic_data.txt\n",
            "spark-3.4.0-bin-hadoop3/data/mllib/streaming_kmeans_data_test.txt\n",
            "spark-3.4.0-bin-hadoop3/data/mllib/sample_linear_regression_data.txt\n",
            "spark-3.4.0-bin-hadoop3/data/mllib/ridge-data/\n",
            "spark-3.4.0-bin-hadoop3/data/mllib/ridge-data/lpsa.data\n",
            "spark-3.4.0-bin-hadoop3/data/mllib/sample_binary_classification_data.txt\n",
            "spark-3.4.0-bin-hadoop3/data/mllib/pagerank_data.txt\n",
            "spark-3.4.0-bin-hadoop3/data/mllib/sample_isotonic_regression_libsvm_data.txt\n",
            "spark-3.4.0-bin-hadoop3/data/mllib/sample_kmeans_data.txt\n",
            "spark-3.4.0-bin-hadoop3/data/mllib/sample_lda_libsvm_data.txt\n",
            "spark-3.4.0-bin-hadoop3/data/mllib/images/\n",
            "spark-3.4.0-bin-hadoop3/data/mllib/images/license.txt\n",
            "spark-3.4.0-bin-hadoop3/data/mllib/images/origin/\n",
            "spark-3.4.0-bin-hadoop3/data/mllib/images/origin/multi-channel/\n",
            "spark-3.4.0-bin-hadoop3/data/mllib/images/origin/multi-channel/chr30.4.184.jpg\n",
            "spark-3.4.0-bin-hadoop3/data/mllib/images/origin/multi-channel/BGRA_alpha_60.png\n",
            "spark-3.4.0-bin-hadoop3/data/mllib/images/origin/multi-channel/grayscale.jpg\n",
            "spark-3.4.0-bin-hadoop3/data/mllib/images/origin/multi-channel/BGRA.png\n",
            "spark-3.4.0-bin-hadoop3/data/mllib/images/origin/license.txt\n",
            "spark-3.4.0-bin-hadoop3/data/mllib/images/origin/kittens/\n",
            "spark-3.4.0-bin-hadoop3/data/mllib/images/origin/kittens/DP802813.jpg\n",
            "spark-3.4.0-bin-hadoop3/data/mllib/images/origin/kittens/54893.jpg\n",
            "spark-3.4.0-bin-hadoop3/data/mllib/images/origin/kittens/not-image.txt\n",
            "spark-3.4.0-bin-hadoop3/data/mllib/images/origin/kittens/DP153539.jpg\n",
            "spark-3.4.0-bin-hadoop3/data/mllib/images/origin/kittens/29.5.a_b_EGDP022204.jpg\n",
            "spark-3.4.0-bin-hadoop3/data/mllib/sample_lda_data.txt\n",
            "spark-3.4.0-bin-hadoop3/data/mllib/sample_movielens_data.txt\n",
            "spark-3.4.0-bin-hadoop3/data/mllib/sample_multiclass_classification_data.txt\n",
            "spark-3.4.0-bin-hadoop3/LICENSE\n",
            "spark-3.4.0-bin-hadoop3/jars/\n",
            "spark-3.4.0-bin-hadoop3/jars/zookeeper-jute-3.6.3.jar\n",
            "spark-3.4.0-bin-hadoop3/jars/derby-10.14.2.0.jar\n",
            "spark-3.4.0-bin-hadoop3/jars/hive-shims-0.23-2.3.9.jar\n",
            "spark-3.4.0-bin-hadoop3/jars/oro-2.0.8.jar\n",
            "spark-3.4.0-bin-hadoop3/jars/jline-2.14.6.jar\n",
            "spark-3.4.0-bin-hadoop3/jars/netty-buffer-4.1.87.Final.jar\n",
            "spark-3.4.0-bin-hadoop3/jars/libthrift-0.12.0.jar\n",
            "spark-3.4.0-bin-hadoop3/jars/json-1.8.jar\n",
            "spark-3.4.0-bin-hadoop3/jars/kubernetes-model-events-6.4.1.jar\n",
            "spark-3.4.0-bin-hadoop3/jars/avro-ipc-1.11.1.jar\n",
            "spark-3.4.0-bin-hadoop3/jars/jodd-core-3.5.2.jar\n",
            "spark-3.4.0-bin-hadoop3/jars/jackson-dataformat-yaml-2.14.2.jar\n",
            "spark-3.4.0-bin-hadoop3/jars/kubernetes-model-node-6.4.1.jar\n",
            "spark-3.4.0-bin-hadoop3/jars/spark-graphx_2.12-3.4.0.jar\n",
            "spark-3.4.0-bin-hadoop3/jars/commons-compiler-3.1.9.jar\n",
            "spark-3.4.0-bin-hadoop3/jars/javolution-5.5.1.jar\n",
            "spark-3.4.0-bin-hadoop3/jars/jersey-hk2-2.36.jar\n",
            "spark-3.4.0-bin-hadoop3/jars/netty-transport-native-epoll-4.1.87.Final-linux-x86_64.jar\n",
            "spark-3.4.0-bin-hadoop3/jars/opencsv-2.3.jar\n",
            "spark-3.4.0-bin-hadoop3/jars/orc-core-1.8.3-shaded-protobuf.jar\n",
            "spark-3.4.0-bin-hadoop3/jars/netty-transport-native-epoll-4.1.87.Final-linux-aarch_64.jar\n",
            "spark-3.4.0-bin-hadoop3/jars/zjsonpatch-0.3.0.jar\n",
            "spark-3.4.0-bin-hadoop3/jars/commons-collections-3.2.2.jar\n",
            "spark-3.4.0-bin-hadoop3/jars/json4s-scalap_2.12-3.7.0-M11.jar\n",
            "spark-3.4.0-bin-hadoop3/jars/jackson-core-asl-1.9.13.jar\n",
            "spark-3.4.0-bin-hadoop3/jars/jersey-container-servlet-2.36.jar\n",
            "spark-3.4.0-bin-hadoop3/jars/jackson-annotations-2.14.2.jar\n",
            "spark-3.4.0-bin-hadoop3/jars/JLargeArrays-1.5.jar\n",
            "spark-3.4.0-bin-hadoop3/jars/antlr-runtime-3.5.2.jar\n",
            "spark-3.4.0-bin-hadoop3/jars/arpack-3.0.3.jar\n",
            "spark-3.4.0-bin-hadoop3/jars/annotations-17.0.0.jar\n",
            "spark-3.4.0-bin-hadoop3/jars/spark-mllib-local_2.12-3.4.0.jar\n",
            "spark-3.4.0-bin-hadoop3/jars/jul-to-slf4j-2.0.6.jar\n",
            "spark-3.4.0-bin-hadoop3/jars/guava-14.0.1.jar\n",
            "spark-3.4.0-bin-hadoop3/jars/mesos-1.4.3-shaded-protobuf.jar\n",
            "spark-3.4.0-bin-hadoop3/jars/orc-shims-1.8.3.jar\n",
            "spark-3.4.0-bin-hadoop3/jars/hive-storage-api-2.8.1.jar\n",
            "spark-3.4.0-bin-hadoop3/jars/jackson-datatype-jsr310-2.14.2.jar\n",
            "spark-3.4.0-bin-hadoop3/jars/xbean-asm9-shaded-4.22.jar\n",
            "spark-3.4.0-bin-hadoop3/jars/breeze_2.12-2.1.0.jar\n",
            "spark-3.4.0-bin-hadoop3/jars/zookeeper-3.6.3.jar\n",
            "spark-3.4.0-bin-hadoop3/jars/parquet-column-1.12.3.jar\n",
            "spark-3.4.0-bin-hadoop3/jars/spark-mllib_2.12-3.4.0.jar\n",
            "spark-3.4.0-bin-hadoop3/jars/spire-macros_2.12-0.17.0.jar\n",
            "spark-3.4.0-bin-hadoop3/jars/commons-compress-1.22.jar\n",
            "spark-3.4.0-bin-hadoop3/jars/ST4-4.0.4.jar\n",
            "spark-3.4.0-bin-hadoop3/jars/hadoop-client-api-3.3.4.jar\n",
            "spark-3.4.0-bin-hadoop3/jars/arrow-vector-11.0.0.jar\n",
            "spark-3.4.0-bin-hadoop3/jars/curator-framework-2.13.0.jar\n",
            "spark-3.4.0-bin-hadoop3/jars/antlr4-runtime-4.9.3.jar\n",
            "spark-3.4.0-bin-hadoop3/jars/log4j-slf4j2-impl-2.19.0.jar\n",
            "spark-3.4.0-bin-hadoop3/jars/jersey-client-2.36.jar\n",
            "spark-3.4.0-bin-hadoop3/jars/jackson-databind-2.14.2.jar\n",
            "spark-3.4.0-bin-hadoop3/jars/scala-library-2.12.17.jar\n",
            "spark-3.4.0-bin-hadoop3/jars/kubernetes-model-networking-6.4.1.jar\n",
            "spark-3.4.0-bin-hadoop3/jars/hive-llap-common-2.3.9.jar\n",
            "spark-3.4.0-bin-hadoop3/jars/scala-compiler-2.12.17.jar\n",
            "spark-3.4.0-bin-hadoop3/jars/bonecp-0.8.0.RELEASE.jar\n",
            "spark-3.4.0-bin-hadoop3/jars/spark-mesos_2.12-3.4.0.jar\n",
            "spark-3.4.0-bin-hadoop3/jars/snappy-java-1.1.9.1.jar\n",
            "spark-3.4.0-bin-hadoop3/jars/netty-codec-http2-4.1.87.Final.jar\n",
            "spark-3.4.0-bin-hadoop3/jars/netty-common-4.1.87.Final.jar\n",
            "spark-3.4.0-bin-hadoop3/jars/spire-platform_2.12-0.17.0.jar\n",
            "spark-3.4.0-bin-hadoop3/jars/parquet-jackson-1.12.3.jar\n",
            "spark-3.4.0-bin-hadoop3/jars/lz4-java-1.8.0.jar\n",
            "spark-3.4.0-bin-hadoop3/jars/curator-client-2.13.0.jar\n",
            "spark-3.4.0-bin-hadoop3/jars/jdo-api-3.0.1.jar\n",
            "spark-3.4.0-bin-hadoop3/jars/hive-serde-2.3.9.jar\n",
            "spark-3.4.0-bin-hadoop3/jars/httpcore-4.4.16.jar\n",
            "spark-3.4.0-bin-hadoop3/jars/transaction-api-1.1.jar\n",
            "spark-3.4.0-bin-hadoop3/jars/netty-handler-proxy-4.1.87.Final.jar\n",
            "spark-3.4.0-bin-hadoop3/jars/univocity-parsers-2.9.1.jar\n",
            "spark-3.4.0-bin-hadoop3/jars/kubernetes-model-flowcontrol-6.4.1.jar\n",
            "spark-3.4.0-bin-hadoop3/jars/commons-lang-2.6.jar\n",
            "spark-3.4.0-bin-hadoop3/jars/commons-collections4-4.4.jar\n",
            "spark-3.4.0-bin-hadoop3/jars/spark-sketch_2.12-3.4.0.jar\n",
            "spark-3.4.0-bin-hadoop3/jars/netty-transport-native-kqueue-4.1.87.Final-osx-x86_64.jar\n",
            "spark-3.4.0-bin-hadoop3/jars/metrics-jvm-4.2.15.jar\n",
            "spark-3.4.0-bin-hadoop3/jars/jsr305-3.0.0.jar\n",
            "spark-3.4.0-bin-hadoop3/jars/spark-network-shuffle_2.12-3.4.0.jar\n",
            "spark-3.4.0-bin-hadoop3/jars/py4j-0.10.9.7.jar\n",
            "spark-3.4.0-bin-hadoop3/jars/jta-1.1.jar\n",
            "spark-3.4.0-bin-hadoop3/jars/HikariCP-2.5.1.jar\n",
            "spark-3.4.0-bin-hadoop3/jars/spark-catalyst_2.12-3.4.0.jar\n",
            "spark-3.4.0-bin-hadoop3/jars/scala-reflect-2.12.17.jar\n",
            "spark-3.4.0-bin-hadoop3/jars/commons-pool-1.5.4.jar\n",
            "spark-3.4.0-bin-hadoop3/jars/JTransforms-3.1.jar\n",
            "spark-3.4.0-bin-hadoop3/jars/commons-math3-3.6.1.jar\n",
            "spark-3.4.0-bin-hadoop3/jars/flatbuffers-java-1.12.0.jar\n",
            "spark-3.4.0-bin-hadoop3/jars/rocksdbjni-7.9.2.jar\n",
            "spark-3.4.0-bin-hadoop3/jars/okio-1.15.0.jar\n",
            "spark-3.4.0-bin-hadoop3/jars/jersey-server-2.36.jar\n",
            "spark-3.4.0-bin-hadoop3/jars/json4s-core_2.12-3.7.0-M11.jar\n",
            "spark-3.4.0-bin-hadoop3/jars/datanucleus-core-4.1.17.jar\n",
            "spark-3.4.0-bin-hadoop3/jars/threeten-extra-1.7.1.jar\n",
            "spark-3.4.0-bin-hadoop3/jars/spire_2.12-0.17.0.jar\n",
            "spark-3.4.0-bin-hadoop3/jars/jackson-core-2.14.2.jar\n",
            "spark-3.4.0-bin-hadoop3/jars/hadoop-client-runtime-3.3.4.jar\n",
            "spark-3.4.0-bin-hadoop3/jars/osgi-resource-locator-1.0.3.jar\n",
            "spark-3.4.0-bin-hadoop3/jars/cats-kernel_2.12-2.1.1.jar\n",
            "spark-3.4.0-bin-hadoop3/jars/paranamer-2.8.jar\n",
            "spark-3.4.0-bin-hadoop3/jars/pickle-1.3.jar\n",
            "spark-3.4.0-bin-hadoop3/jars/netty-all-4.1.87.Final.jar\n",
            "spark-3.4.0-bin-hadoop3/jars/spark-streaming_2.12-3.4.0.jar\n",
            "spark-3.4.0-bin-hadoop3/jars/spire-util_2.12-0.17.0.jar\n",
            "spark-3.4.0-bin-hadoop3/jars/janino-3.1.9.jar\n",
            "spark-3.4.0-bin-hadoop3/jars/curator-recipes-2.13.0.jar\n",
            "spark-3.4.0-bin-hadoop3/jars/jersey-common-2.36.jar\n",
            "spark-3.4.0-bin-hadoop3/jars/hive-common-2.3.9.jar\n",
            "spark-3.4.0-bin-hadoop3/jars/hk2-locator-2.6.1.jar\n",
            "spark-3.4.0-bin-hadoop3/jars/jakarta.annotation-api-1.3.5.jar\n",
            "spark-3.4.0-bin-hadoop3/jars/jpam-1.1.jar\n",
            "spark-3.4.0-bin-hadoop3/jars/netty-transport-native-kqueue-4.1.87.Final-osx-aarch_64.jar\n",
            "spark-3.4.0-bin-hadoop3/jars/kubernetes-client-6.4.1.jar\n",
            "spark-3.4.0-bin-hadoop3/jars/orc-mapreduce-1.8.3-shaded-protobuf.jar\n",
            "spark-3.4.0-bin-hadoop3/jars/metrics-core-4.2.15.jar\n",
            "spark-3.4.0-bin-hadoop3/jars/datanucleus-rdbms-4.1.19.jar\n",
            "spark-3.4.0-bin-hadoop3/jars/spark-repl_2.12-3.4.0.jar\n",
            "spark-3.4.0-bin-hadoop3/jars/jakarta.inject-2.6.1.jar\n",
            "spark-3.4.0-bin-hadoop3/jars/snakeyaml-1.33.jar\n",
            "spark-3.4.0-bin-hadoop3/jars/minlog-1.3.0.jar\n",
            "spark-3.4.0-bin-hadoop3/jars/httpclient-4.5.14.jar\n",
            "spark-3.4.0-bin-hadoop3/jars/parquet-format-structures-1.12.3.jar\n",
            "spark-3.4.0-bin-hadoop3/jars/hk2-utils-2.6.1.jar\n",
            "spark-3.4.0-bin-hadoop3/jars/hive-cli-2.3.9.jar\n",
            "spark-3.4.0-bin-hadoop3/jars/netty-codec-http-4.1.87.Final.jar\n",
            "spark-3.4.0-bin-hadoop3/jars/kubernetes-httpclient-okhttp-6.4.1.jar\n",
            "spark-3.4.0-bin-hadoop3/jars/jackson-module-scala_2.12-2.14.2.jar\n",
            "spark-3.4.0-bin-hadoop3/jars/audience-annotations-0.5.0.jar\n",
            "spark-3.4.0-bin-hadoop3/jars/arrow-memory-netty-11.0.0.jar\n",
            "spark-3.4.0-bin-hadoop3/jars/kubernetes-model-common-6.4.1.jar\n",
            "spark-3.4.0-bin-hadoop3/jars/netty-transport-classes-epoll-4.1.87.Final.jar\n",
            "spark-3.4.0-bin-hadoop3/jars/kubernetes-model-certificates-6.4.1.jar\n",
            "spark-3.4.0-bin-hadoop3/jars/parquet-hadoop-1.12.3.jar\n",
            "spark-3.4.0-bin-hadoop3/jars/kubernetes-model-core-6.4.1.jar\n",
            "spark-3.4.0-bin-hadoop3/jars/hive-service-rpc-3.1.3.jar\n",
            "spark-3.4.0-bin-hadoop3/jars/spark-kubernetes_2.12-3.4.0.jar\n",
            "spark-3.4.0-bin-hadoop3/jars/kubernetes-model-admissionregistration-6.4.1.jar\n",
            "spark-3.4.0-bin-hadoop3/jars/commons-codec-1.15.jar\n",
            "spark-3.4.0-bin-hadoop3/jars/objenesis-3.2.jar\n",
            "spark-3.4.0-bin-hadoop3/jars/jackson-mapper-asl-1.9.13.jar\n",
            "spark-3.4.0-bin-hadoop3/jars/commons-crypto-1.1.0.jar\n",
            "spark-3.4.0-bin-hadoop3/jars/spark-network-common_2.12-3.4.0.jar\n",
            "spark-3.4.0-bin-hadoop3/jars/hive-shims-2.3.9.jar\n",
            "spark-3.4.0-bin-hadoop3/jars/aircompressor-0.21.jar\n",
            "spark-3.4.0-bin-hadoop3/jars/xz-1.9.jar\n",
            "spark-3.4.0-bin-hadoop3/jars/kubernetes-model-policy-6.4.1.jar\n",
            "spark-3.4.0-bin-hadoop3/jars/kubernetes-model-rbac-6.4.1.jar\n",
            "spark-3.4.0-bin-hadoop3/jars/scala-parser-combinators_2.12-2.1.1.jar\n",
            "spark-3.4.0-bin-hadoop3/jars/arrow-memory-core-11.0.0.jar\n",
            "spark-3.4.0-bin-hadoop3/jars/kubernetes-model-apiextensions-6.4.1.jar\n",
            "spark-3.4.0-bin-hadoop3/jars/jersey-container-servlet-core-2.36.jar\n",
            "spark-3.4.0-bin-hadoop3/jars/protobuf-java-2.5.0.jar\n",
            "spark-3.4.0-bin-hadoop3/jars/commons-logging-1.1.3.jar\n",
            "spark-3.4.0-bin-hadoop3/jars/commons-cli-1.5.0.jar\n",
            "spark-3.4.0-bin-hadoop3/jars/spark-unsafe_2.12-3.4.0.jar\n",
            "spark-3.4.0-bin-hadoop3/jars/log4j-1.2-api-2.19.0.jar\n",
            "spark-3.4.0-bin-hadoop3/jars/jakarta.validation-api-2.0.2.jar\n",
            "spark-3.4.0-bin-hadoop3/jars/spark-kvstore_2.12-3.4.0.jar\n",
            "spark-3.4.0-bin-hadoop3/jars/blas-3.0.3.jar\n",
            "spark-3.4.0-bin-hadoop3/jars/stax-api-1.0.1.jar\n",
            "spark-3.4.0-bin-hadoop3/jars/kubernetes-model-autoscaling-6.4.1.jar\n",
            "spark-3.4.0-bin-hadoop3/jars/commons-dbcp-1.4.jar\n",
            "spark-3.4.0-bin-hadoop3/jars/RoaringBitmap-0.9.38.jar\n",
            "spark-3.4.0-bin-hadoop3/jars/slf4j-api-2.0.6.jar\n",
            "spark-3.4.0-bin-hadoop3/jars/parquet-encoding-1.12.3.jar\n",
            "spark-3.4.0-bin-hadoop3/jars/netty-codec-4.1.87.Final.jar\n",
            "spark-3.4.0-bin-hadoop3/jars/kubernetes-model-batch-6.4.1.jar\n",
            "spark-3.4.0-bin-hadoop3/jars/activation-1.1.1.jar\n",
            "spark-3.4.0-bin-hadoop3/jars/aopalliance-repackaged-2.6.1.jar\n",
            "spark-3.4.0-bin-hadoop3/jars/metrics-jmx-4.2.15.jar\n",
            "spark-3.4.0-bin-hadoop3/jars/ivy-2.5.1.jar\n",
            "spark-3.4.0-bin-hadoop3/jars/spark-sql_2.12-3.4.0.jar\n",
            "spark-3.4.0-bin-hadoop3/jars/jakarta.servlet-api-4.0.3.jar\n",
            "spark-3.4.0-bin-hadoop3/jars/kubernetes-model-extensions-6.4.1.jar\n",
            "spark-3.4.0-bin-hadoop3/jars/hive-metastore-2.3.9.jar\n",
            "spark-3.4.0-bin-hadoop3/jars/tink-1.7.0.jar\n",
            "spark-3.4.0-bin-hadoop3/jars/gson-2.2.4.jar\n",
            "spark-3.4.0-bin-hadoop3/jars/zstd-jni-1.5.2-5.jar\n",
            "spark-3.4.0-bin-hadoop3/jars/hive-shims-scheduler-2.3.9.jar\n",
            "spark-3.4.0-bin-hadoop3/jars/spark-core_2.12-3.4.0.jar\n",
            "spark-3.4.0-bin-hadoop3/jars/netty-transport-native-unix-common-4.1.87.Final.jar\n",
            "spark-3.4.0-bin-hadoop3/jars/hadoop-shaded-guava-1.1.1.jar\n",
            "spark-3.4.0-bin-hadoop3/jars/compress-lzf-1.1.2.jar\n",
            "spark-3.4.0-bin-hadoop3/jars/arrow-format-11.0.0.jar\n",
            "spark-3.4.0-bin-hadoop3/jars/logging-interceptor-3.12.12.jar\n",
            "spark-3.4.0-bin-hadoop3/jars/hive-beeline-2.3.9.jar\n",
            "spark-3.4.0-bin-hadoop3/jars/spark-launcher_2.12-3.4.0.jar\n",
            "spark-3.4.0-bin-hadoop3/jars/jakarta.ws.rs-api-2.1.6.jar\n",
            "spark-3.4.0-bin-hadoop3/jars/kubernetes-model-apps-6.4.1.jar\n",
            "spark-3.4.0-bin-hadoop3/jars/json4s-jackson_2.12-3.7.0-M11.jar\n",
            "spark-3.4.0-bin-hadoop3/jars/spark-tags_2.12-3.4.0.jar\n",
            "spark-3.4.0-bin-hadoop3/jars/okhttp-3.12.12.jar\n",
            "spark-3.4.0-bin-hadoop3/jars/jcl-over-slf4j-2.0.6.jar\n",
            "spark-3.4.0-bin-hadoop3/jars/kubernetes-model-metrics-6.4.1.jar\n",
            "spark-3.4.0-bin-hadoop3/jars/istack-commons-runtime-3.0.8.jar\n",
            "spark-3.4.0-bin-hadoop3/jars/hive-jdbc-2.3.9.jar\n",
            "spark-3.4.0-bin-hadoop3/jars/log4j-api-2.19.0.jar\n",
            "spark-3.4.0-bin-hadoop3/jars/javax.jdo-3.2.0-m3.jar\n",
            "spark-3.4.0-bin-hadoop3/jars/netty-codec-socks-4.1.87.Final.jar\n",
            "spark-3.4.0-bin-hadoop3/jars/leveldbjni-all-1.8.jar\n",
            "spark-3.4.0-bin-hadoop3/jars/stream-2.9.6.jar\n",
            "spark-3.4.0-bin-hadoop3/jars/avro-mapred-1.11.1.jar\n",
            "spark-3.4.0-bin-hadoop3/jars/avro-1.11.1.jar\n",
            "spark-3.4.0-bin-hadoop3/jars/libfb303-0.9.3.jar\n",
            "spark-3.4.0-bin-hadoop3/jars/super-csv-2.2.0.jar\n",
            "spark-3.4.0-bin-hadoop3/jars/kubernetes-model-storageclass-6.4.1.jar\n",
            "spark-3.4.0-bin-hadoop3/jars/netty-transport-4.1.87.Final.jar\n",
            "spark-3.4.0-bin-hadoop3/jars/netty-resolver-4.1.87.Final.jar\n",
            "spark-3.4.0-bin-hadoop3/jars/jaxb-runtime-2.3.2.jar\n",
            "spark-3.4.0-bin-hadoop3/jars/scala-xml_2.12-2.1.0.jar\n",
            "spark-3.4.0-bin-hadoop3/jars/kubernetes-model-coordination-6.4.1.jar\n",
            "spark-3.4.0-bin-hadoop3/jars/kubernetes-model-scheduling-6.4.1.jar\n",
            "spark-3.4.0-bin-hadoop3/jars/chill-java-0.10.0.jar\n",
            "spark-3.4.0-bin-hadoop3/jars/kubernetes-client-api-6.4.1.jar\n",
            "spark-3.4.0-bin-hadoop3/jars/netty-handler-4.1.87.Final.jar\n",
            "spark-3.4.0-bin-hadoop3/jars/breeze-macros_2.12-2.1.0.jar\n",
            "spark-3.4.0-bin-hadoop3/jars/algebra_2.12-2.0.1.jar\n",
            "spark-3.4.0-bin-hadoop3/jars/commons-lang3-3.12.0.jar\n",
            "spark-3.4.0-bin-hadoop3/jars/scala-collection-compat_2.12-2.7.0.jar\n",
            "spark-3.4.0-bin-hadoop3/jars/commons-io-2.11.0.jar\n",
            "spark-3.4.0-bin-hadoop3/jars/spark-yarn_2.12-3.4.0.jar\n",
            "spark-3.4.0-bin-hadoop3/jars/jakarta.xml.bind-api-2.3.2.jar\n",
            "spark-3.4.0-bin-hadoop3/jars/kryo-shaded-4.0.2.jar\n",
            "spark-3.4.0-bin-hadoop3/jars/hk2-api-2.6.1.jar\n",
            "spark-3.4.0-bin-hadoop3/jars/spark-hive_2.12-3.4.0.jar\n",
            "spark-3.4.0-bin-hadoop3/jars/hive-shims-common-2.3.9.jar\n",
            "spark-3.4.0-bin-hadoop3/jars/hive-exec-2.3.9-core.jar\n",
            "spark-3.4.0-bin-hadoop3/jars/kubernetes-model-gatewayapi-6.4.1.jar\n",
            "spark-3.4.0-bin-hadoop3/jars/spark-hive-thriftserver_2.12-3.4.0.jar\n",
            "spark-3.4.0-bin-hadoop3/jars/metrics-graphite-4.2.15.jar\n",
            "spark-3.4.0-bin-hadoop3/jars/chill_2.12-0.10.0.jar\n",
            "spark-3.4.0-bin-hadoop3/jars/shims-0.9.38.jar\n",
            "spark-3.4.0-bin-hadoop3/jars/datanucleus-api-jdo-4.2.4.jar\n",
            "spark-3.4.0-bin-hadoop3/jars/hadoop-yarn-server-web-proxy-3.3.4.jar\n",
            "spark-3.4.0-bin-hadoop3/jars/netty-transport-classes-kqueue-4.1.87.Final.jar\n",
            "spark-3.4.0-bin-hadoop3/jars/metrics-json-4.2.15.jar\n",
            "spark-3.4.0-bin-hadoop3/jars/json4s-ast_2.12-3.7.0-M11.jar\n",
            "spark-3.4.0-bin-hadoop3/jars/dropwizard-metrics-hadoop-metrics2-reporter-0.1.2.jar\n",
            "spark-3.4.0-bin-hadoop3/jars/kubernetes-model-discovery-6.4.1.jar\n",
            "spark-3.4.0-bin-hadoop3/jars/javassist-3.25.0-GA.jar\n",
            "spark-3.4.0-bin-hadoop3/jars/joda-time-2.12.2.jar\n",
            "spark-3.4.0-bin-hadoop3/jars/log4j-core-2.19.0.jar\n",
            "spark-3.4.0-bin-hadoop3/jars/arpack_combined_all-0.1.jar\n",
            "spark-3.4.0-bin-hadoop3/jars/commons-text-1.10.0.jar\n",
            "spark-3.4.0-bin-hadoop3/jars/parquet-common-1.12.3.jar\n",
            "spark-3.4.0-bin-hadoop3/jars/lapack-3.0.3.jar\n",
            "spark-3.4.0-bin-hadoop3/R/\n",
            "spark-3.4.0-bin-hadoop3/R/lib/\n",
            "spark-3.4.0-bin-hadoop3/R/lib/sparkr.zip\n",
            "spark-3.4.0-bin-hadoop3/R/lib/SparkR/\n",
            "spark-3.4.0-bin-hadoop3/R/lib/SparkR/NAMESPACE\n",
            "spark-3.4.0-bin-hadoop3/R/lib/SparkR/worker/\n",
            "spark-3.4.0-bin-hadoop3/R/lib/SparkR/worker/worker.R\n",
            "spark-3.4.0-bin-hadoop3/R/lib/SparkR/worker/daemon.R\n",
            "spark-3.4.0-bin-hadoop3/R/lib/SparkR/profile/\n",
            "spark-3.4.0-bin-hadoop3/R/lib/SparkR/profile/general.R\n",
            "spark-3.4.0-bin-hadoop3/R/lib/SparkR/profile/shell.R\n",
            "spark-3.4.0-bin-hadoop3/R/lib/SparkR/tests/\n",
            "spark-3.4.0-bin-hadoop3/R/lib/SparkR/tests/testthat/\n",
            "spark-3.4.0-bin-hadoop3/R/lib/SparkR/tests/testthat/test_basic.R\n",
            "spark-3.4.0-bin-hadoop3/R/lib/SparkR/R/\n",
            "spark-3.4.0-bin-hadoop3/R/lib/SparkR/R/SparkR.rdx\n",
            "spark-3.4.0-bin-hadoop3/R/lib/SparkR/R/SparkR.rdb\n",
            "spark-3.4.0-bin-hadoop3/R/lib/SparkR/R/SparkR\n",
            "spark-3.4.0-bin-hadoop3/R/lib/SparkR/Meta/\n",
            "spark-3.4.0-bin-hadoop3/R/lib/SparkR/Meta/package.rds\n",
            "spark-3.4.0-bin-hadoop3/R/lib/SparkR/Meta/features.rds\n",
            "spark-3.4.0-bin-hadoop3/R/lib/SparkR/Meta/vignette.rds\n",
            "spark-3.4.0-bin-hadoop3/R/lib/SparkR/Meta/nsInfo.rds\n",
            "spark-3.4.0-bin-hadoop3/R/lib/SparkR/Meta/Rd.rds\n",
            "spark-3.4.0-bin-hadoop3/R/lib/SparkR/Meta/hsearch.rds\n",
            "spark-3.4.0-bin-hadoop3/R/lib/SparkR/Meta/links.rds\n",
            "spark-3.4.0-bin-hadoop3/R/lib/SparkR/html/\n",
            "spark-3.4.0-bin-hadoop3/R/lib/SparkR/html/R.css\n",
            "spark-3.4.0-bin-hadoop3/R/lib/SparkR/html/00Index.html\n",
            "spark-3.4.0-bin-hadoop3/R/lib/SparkR/doc/\n",
            "spark-3.4.0-bin-hadoop3/R/lib/SparkR/doc/sparkr-vignettes.Rmd\n",
            "spark-3.4.0-bin-hadoop3/R/lib/SparkR/doc/sparkr-vignettes.R\n",
            "spark-3.4.0-bin-hadoop3/R/lib/SparkR/doc/sparkr-vignettes.html\n",
            "spark-3.4.0-bin-hadoop3/R/lib/SparkR/doc/index.html\n",
            "spark-3.4.0-bin-hadoop3/R/lib/SparkR/INDEX\n",
            "spark-3.4.0-bin-hadoop3/R/lib/SparkR/DESCRIPTION\n",
            "spark-3.4.0-bin-hadoop3/R/lib/SparkR/help/\n",
            "spark-3.4.0-bin-hadoop3/R/lib/SparkR/help/SparkR.rdx\n",
            "spark-3.4.0-bin-hadoop3/R/lib/SparkR/help/aliases.rds\n",
            "spark-3.4.0-bin-hadoop3/R/lib/SparkR/help/SparkR.rdb\n",
            "spark-3.4.0-bin-hadoop3/R/lib/SparkR/help/paths.rds\n",
            "spark-3.4.0-bin-hadoop3/R/lib/SparkR/help/AnIndex\n",
            "spark-3.4.0-bin-hadoop3/kubernetes/\n",
            "spark-3.4.0-bin-hadoop3/kubernetes/dockerfiles/\n",
            "spark-3.4.0-bin-hadoop3/kubernetes/dockerfiles/spark/\n",
            "spark-3.4.0-bin-hadoop3/kubernetes/dockerfiles/spark/decom.sh\n",
            "spark-3.4.0-bin-hadoop3/kubernetes/dockerfiles/spark/bindings/\n",
            "spark-3.4.0-bin-hadoop3/kubernetes/dockerfiles/spark/bindings/R/\n",
            "spark-3.4.0-bin-hadoop3/kubernetes/dockerfiles/spark/bindings/R/Dockerfile\n",
            "spark-3.4.0-bin-hadoop3/kubernetes/dockerfiles/spark/bindings/python/\n",
            "spark-3.4.0-bin-hadoop3/kubernetes/dockerfiles/spark/bindings/python/Dockerfile\n",
            "spark-3.4.0-bin-hadoop3/kubernetes/dockerfiles/spark/entrypoint.sh\n",
            "spark-3.4.0-bin-hadoop3/kubernetes/dockerfiles/spark/Dockerfile\n",
            "spark-3.4.0-bin-hadoop3/kubernetes/tests/\n",
            "spark-3.4.0-bin-hadoop3/kubernetes/tests/py_container_checks.py\n",
            "spark-3.4.0-bin-hadoop3/kubernetes/tests/decommissioning.py\n",
            "spark-3.4.0-bin-hadoop3/kubernetes/tests/autoscale.py\n",
            "spark-3.4.0-bin-hadoop3/kubernetes/tests/pyfiles.py\n",
            "spark-3.4.0-bin-hadoop3/kubernetes/tests/worker_memory_check.py\n",
            "spark-3.4.0-bin-hadoop3/kubernetes/tests/python_executable_check.py\n",
            "spark-3.4.0-bin-hadoop3/kubernetes/tests/decommissioning_cleanup.py\n",
            "spark-3.4.0-bin-hadoop3/examples/\n",
            "spark-3.4.0-bin-hadoop3/examples/jars/\n",
            "spark-3.4.0-bin-hadoop3/examples/jars/scopt_2.12-3.7.1.jar\n",
            "spark-3.4.0-bin-hadoop3/examples/jars/spark-examples_2.12-3.4.0.jar\n",
            "spark-3.4.0-bin-hadoop3/examples/src/\n",
            "spark-3.4.0-bin-hadoop3/examples/src/main/\n",
            "spark-3.4.0-bin-hadoop3/examples/src/main/scripts/\n",
            "spark-3.4.0-bin-hadoop3/examples/src/main/scripts/getGpusResources.sh\n",
            "spark-3.4.0-bin-hadoop3/examples/src/main/r/\n",
            "spark-3.4.0-bin-hadoop3/examples/src/main/r/streaming/\n",
            "spark-3.4.0-bin-hadoop3/examples/src/main/r/streaming/structured_network_wordcount.R\n",
            "spark-3.4.0-bin-hadoop3/examples/src/main/r/RSparkSQLExample.R\n",
            "spark-3.4.0-bin-hadoop3/examples/src/main/r/dataframe.R\n",
            "spark-3.4.0-bin-hadoop3/examples/src/main/r/data-manipulation.R\n",
            "spark-3.4.0-bin-hadoop3/examples/src/main/r/ml/\n",
            "spark-3.4.0-bin-hadoop3/examples/src/main/r/ml/decisionTree.R\n",
            "spark-3.4.0-bin-hadoop3/examples/src/main/r/ml/logit.R\n",
            "spark-3.4.0-bin-hadoop3/examples/src/main/r/ml/kstest.R\n",
            "spark-3.4.0-bin-hadoop3/examples/src/main/r/ml/gaussianMixture.R\n",
            "spark-3.4.0-bin-hadoop3/examples/src/main/r/ml/fmRegressor.R\n",
            "spark-3.4.0-bin-hadoop3/examples/src/main/r/ml/naiveBayes.R\n",
            "spark-3.4.0-bin-hadoop3/examples/src/main/r/ml/ml.R\n",
            "spark-3.4.0-bin-hadoop3/examples/src/main/r/ml/lda.R\n",
            "spark-3.4.0-bin-hadoop3/examples/src/main/r/ml/kmeans.R\n",
            "spark-3.4.0-bin-hadoop3/examples/src/main/r/ml/isoreg.R\n",
            "spark-3.4.0-bin-hadoop3/examples/src/main/r/ml/lm_with_elastic_net.R\n",
            "spark-3.4.0-bin-hadoop3/examples/src/main/r/ml/als.R\n",
            "spark-3.4.0-bin-hadoop3/examples/src/main/r/ml/fpm.R\n",
            "spark-3.4.0-bin-hadoop3/examples/src/main/r/ml/glm.R\n",
            "spark-3.4.0-bin-hadoop3/examples/src/main/r/ml/bisectingKmeans.R\n",
            "spark-3.4.0-bin-hadoop3/examples/src/main/r/ml/svmLinear.R\n",
            "spark-3.4.0-bin-hadoop3/examples/src/main/r/ml/prefixSpan.R\n",
            "spark-3.4.0-bin-hadoop3/examples/src/main/r/ml/powerIterationClustering.R\n",
            "spark-3.4.0-bin-hadoop3/examples/src/main/r/ml/fmClassifier.R\n",
            "spark-3.4.0-bin-hadoop3/examples/src/main/r/ml/randomForest.R\n",
            "spark-3.4.0-bin-hadoop3/examples/src/main/r/ml/gbt.R\n",
            "spark-3.4.0-bin-hadoop3/examples/src/main/r/ml/survreg.R\n",
            "spark-3.4.0-bin-hadoop3/examples/src/main/r/ml/mlp.R\n",
            "spark-3.4.0-bin-hadoop3/examples/src/main/scala/\n",
            "spark-3.4.0-bin-hadoop3/examples/src/main/scala/org/\n",
            "spark-3.4.0-bin-hadoop3/examples/src/main/scala/org/apache/\n",
            "spark-3.4.0-bin-hadoop3/examples/src/main/scala/org/apache/spark/\n",
            "spark-3.4.0-bin-hadoop3/examples/src/main/scala/org/apache/spark/examples/\n",
            "spark-3.4.0-bin-hadoop3/examples/src/main/scala/org/apache/spark/examples/GroupByTest.scala\n",
            "spark-3.4.0-bin-hadoop3/examples/src/main/scala/org/apache/spark/examples/SparkPageRank.scala\n",
            "spark-3.4.0-bin-hadoop3/examples/src/main/scala/org/apache/spark/examples/sql/\n",
            "spark-3.4.0-bin-hadoop3/examples/src/main/scala/org/apache/spark/examples/sql/SQLDataSourceExample.scala\n",
            "spark-3.4.0-bin-hadoop3/examples/src/main/scala/org/apache/spark/examples/sql/UserDefinedScalar.scala\n",
            "spark-3.4.0-bin-hadoop3/examples/src/main/scala/org/apache/spark/examples/sql/streaming/\n",
            "spark-3.4.0-bin-hadoop3/examples/src/main/scala/org/apache/spark/examples/sql/streaming/StructuredNetworkWordCountWindowed.scala\n",
            "spark-3.4.0-bin-hadoop3/examples/src/main/scala/org/apache/spark/examples/sql/streaming/StructuredSessionization.scala\n",
            "spark-3.4.0-bin-hadoop3/examples/src/main/scala/org/apache/spark/examples/sql/streaming/StructuredKerberizedKafkaWordCount.scala\n",
            "spark-3.4.0-bin-hadoop3/examples/src/main/scala/org/apache/spark/examples/sql/streaming/StructuredComplexSessionization.scala\n",
            "spark-3.4.0-bin-hadoop3/examples/src/main/scala/org/apache/spark/examples/sql/streaming/StructuredNetworkWordCount.scala\n",
            "spark-3.4.0-bin-hadoop3/examples/src/main/scala/org/apache/spark/examples/sql/streaming/StructuredKafkaWordCount.scala\n",
            "spark-3.4.0-bin-hadoop3/examples/src/main/scala/org/apache/spark/examples/sql/UserDefinedUntypedAggregation.scala\n",
            "spark-3.4.0-bin-hadoop3/examples/src/main/scala/org/apache/spark/examples/sql/UserDefinedTypedAggregation.scala\n",
            "spark-3.4.0-bin-hadoop3/examples/src/main/scala/org/apache/spark/examples/sql/RDDRelation.scala\n",
            "spark-3.4.0-bin-hadoop3/examples/src/main/scala/org/apache/spark/examples/sql/SimpleTypedAggregator.scala\n",
            "spark-3.4.0-bin-hadoop3/examples/src/main/scala/org/apache/spark/examples/sql/SparkSQLExample.scala\n",
            "spark-3.4.0-bin-hadoop3/examples/src/main/scala/org/apache/spark/examples/sql/jdbc/\n",
            "spark-3.4.0-bin-hadoop3/examples/src/main/scala/org/apache/spark/examples/sql/jdbc/ExampleJdbcConnectionProvider.scala\n",
            "spark-3.4.0-bin-hadoop3/examples/src/main/scala/org/apache/spark/examples/sql/hive/\n",
            "spark-3.4.0-bin-hadoop3/examples/src/main/scala/org/apache/spark/examples/sql/hive/SparkHiveExample.scala\n",
            "spark-3.4.0-bin-hadoop3/examples/src/main/scala/org/apache/spark/examples/SkewedGroupByTest.scala\n",
            "spark-3.4.0-bin-hadoop3/examples/src/main/scala/org/apache/spark/examples/SparkALS.scala\n",
            "spark-3.4.0-bin-hadoop3/examples/src/main/scala/org/apache/spark/examples/LocalPi.scala\n",
            "spark-3.4.0-bin-hadoop3/examples/src/main/scala/org/apache/spark/examples/streaming/\n",
            "spark-3.4.0-bin-hadoop3/examples/src/main/scala/org/apache/spark/examples/streaming/CustomReceiver.scala\n",
            "spark-3.4.0-bin-hadoop3/examples/src/main/scala/org/apache/spark/examples/streaming/clickstream/\n",
            "spark-3.4.0-bin-hadoop3/examples/src/main/scala/org/apache/spark/examples/streaming/clickstream/PageViewStream.scala\n",
            "spark-3.4.0-bin-hadoop3/examples/src/main/scala/org/apache/spark/examples/streaming/clickstream/PageViewGenerator.scala\n",
            "spark-3.4.0-bin-hadoop3/examples/src/main/scala/org/apache/spark/examples/streaming/RecoverableNetworkWordCount.scala\n",
            "spark-3.4.0-bin-hadoop3/examples/src/main/scala/org/apache/spark/examples/streaming/DirectKafkaWordCount.scala\n",
            "spark-3.4.0-bin-hadoop3/examples/src/main/scala/org/apache/spark/examples/streaming/StreamingExamples.scala\n",
            "spark-3.4.0-bin-hadoop3/examples/src/main/scala/org/apache/spark/examples/streaming/QueueStream.scala\n",
            "spark-3.4.0-bin-hadoop3/examples/src/main/scala/org/apache/spark/examples/streaming/SqlNetworkWordCount.scala\n",
            "spark-3.4.0-bin-hadoop3/examples/src/main/scala/org/apache/spark/examples/streaming/StatefulNetworkWordCount.scala\n",
            "spark-3.4.0-bin-hadoop3/examples/src/main/scala/org/apache/spark/examples/streaming/DirectKerberizedKafkaWordCount.scala\n",
            "spark-3.4.0-bin-hadoop3/examples/src/main/scala/org/apache/spark/examples/streaming/HdfsWordCount.scala\n",
            "spark-3.4.0-bin-hadoop3/examples/src/main/scala/org/apache/spark/examples/streaming/RawNetworkGrep.scala\n",
            "spark-3.4.0-bin-hadoop3/examples/src/main/scala/org/apache/spark/examples/streaming/NetworkWordCount.scala\n",
            "spark-3.4.0-bin-hadoop3/examples/src/main/scala/org/apache/spark/examples/ExceptionHandlingTest.scala\n",
            "spark-3.4.0-bin-hadoop3/examples/src/main/scala/org/apache/spark/examples/SparkRemoteFileTest.scala\n",
            "spark-3.4.0-bin-hadoop3/examples/src/main/scala/org/apache/spark/examples/DFSReadWriteTest.scala\n",
            "spark-3.4.0-bin-hadoop3/examples/src/main/scala/org/apache/spark/examples/SparkTC.scala\n",
            "spark-3.4.0-bin-hadoop3/examples/src/main/scala/org/apache/spark/examples/BroadcastTest.scala\n",
            "spark-3.4.0-bin-hadoop3/examples/src/main/scala/org/apache/spark/examples/SparkKMeans.scala\n",
            "spark-3.4.0-bin-hadoop3/examples/src/main/scala/org/apache/spark/examples/HdfsTest.scala\n",
            "spark-3.4.0-bin-hadoop3/examples/src/main/scala/org/apache/spark/examples/LocalLR.scala\n",
            "spark-3.4.0-bin-hadoop3/examples/src/main/scala/org/apache/spark/examples/LocalKMeans.scala\n",
            "spark-3.4.0-bin-hadoop3/examples/src/main/scala/org/apache/spark/examples/graphx/\n",
            "spark-3.4.0-bin-hadoop3/examples/src/main/scala/org/apache/spark/examples/graphx/LiveJournalPageRank.scala\n",
            "spark-3.4.0-bin-hadoop3/examples/src/main/scala/org/apache/spark/examples/graphx/ConnectedComponentsExample.scala\n",
            "spark-3.4.0-bin-hadoop3/examples/src/main/scala/org/apache/spark/examples/graphx/ComprehensiveExample.scala\n",
            "spark-3.4.0-bin-hadoop3/examples/src/main/scala/org/apache/spark/examples/graphx/AggregateMessagesExample.scala\n",
            "spark-3.4.0-bin-hadoop3/examples/src/main/scala/org/apache/spark/examples/graphx/SSSPExample.scala\n",
            "spark-3.4.0-bin-hadoop3/examples/src/main/scala/org/apache/spark/examples/graphx/SynthBenchmark.scala\n",
            "spark-3.4.0-bin-hadoop3/examples/src/main/scala/org/apache/spark/examples/graphx/PageRankExample.scala\n",
            "spark-3.4.0-bin-hadoop3/examples/src/main/scala/org/apache/spark/examples/graphx/TriangleCountingExample.scala\n",
            "spark-3.4.0-bin-hadoop3/examples/src/main/scala/org/apache/spark/examples/graphx/Analytics.scala\n",
            "spark-3.4.0-bin-hadoop3/examples/src/main/scala/org/apache/spark/examples/SparkHdfsLR.scala\n",
            "spark-3.4.0-bin-hadoop3/examples/src/main/scala/org/apache/spark/examples/extensions/\n",
            "spark-3.4.0-bin-hadoop3/examples/src/main/scala/org/apache/spark/examples/extensions/SparkSessionExtensionsTest.scala\n",
            "spark-3.4.0-bin-hadoop3/examples/src/main/scala/org/apache/spark/examples/extensions/SessionExtensionsWithoutLoader.scala\n",
            "spark-3.4.0-bin-hadoop3/examples/src/main/scala/org/apache/spark/examples/extensions/AgeExample.scala\n",
            "spark-3.4.0-bin-hadoop3/examples/src/main/scala/org/apache/spark/examples/extensions/SessionExtensionsWithLoader.scala\n",
            "spark-3.4.0-bin-hadoop3/examples/src/main/scala/org/apache/spark/examples/LocalFileLR.scala\n",
            "spark-3.4.0-bin-hadoop3/examples/src/main/scala/org/apache/spark/examples/SparkLR.scala\n",
            "spark-3.4.0-bin-hadoop3/examples/src/main/scala/org/apache/spark/examples/MultiBroadcastTest.scala\n",
            "spark-3.4.0-bin-hadoop3/examples/src/main/scala/org/apache/spark/examples/LogQuery.scala\n",
            "spark-3.4.0-bin-hadoop3/examples/src/main/scala/org/apache/spark/examples/SimpleSkewedGroupByTest.scala\n",
            "spark-3.4.0-bin-hadoop3/examples/src/main/scala/org/apache/spark/examples/LocalALS.scala\n",
            "spark-3.4.0-bin-hadoop3/examples/src/main/scala/org/apache/spark/examples/pythonconverters/\n",
            "spark-3.4.0-bin-hadoop3/examples/src/main/scala/org/apache/spark/examples/pythonconverters/AvroConverters.scala\n",
            "spark-3.4.0-bin-hadoop3/examples/src/main/scala/org/apache/spark/examples/ml/\n",
            "spark-3.4.0-bin-hadoop3/examples/src/main/scala/org/apache/spark/examples/ml/PCAExample.scala\n",
            "spark-3.4.0-bin-hadoop3/examples/src/main/scala/org/apache/spark/examples/ml/ALSExample.scala\n",
            "spark-3.4.0-bin-hadoop3/examples/src/main/scala/org/apache/spark/examples/ml/ChiSquareTestExample.scala\n",
            "spark-3.4.0-bin-hadoop3/examples/src/main/scala/org/apache/spark/examples/ml/AFTSurvivalRegressionExample.scala\n",
            "spark-3.4.0-bin-hadoop3/examples/src/main/scala/org/apache/spark/examples/ml/LogisticRegressionWithElasticNetExample.scala\n",
            "spark-3.4.0-bin-hadoop3/examples/src/main/scala/org/apache/spark/examples/ml/RobustScalerExample.scala\n",
            "spark-3.4.0-bin-hadoop3/examples/src/main/scala/org/apache/spark/examples/ml/CountVectorizerExample.scala\n",
            "spark-3.4.0-bin-hadoop3/examples/src/main/scala/org/apache/spark/examples/ml/RandomForestClassifierExample.scala\n",
            "spark-3.4.0-bin-hadoop3/examples/src/main/scala/org/apache/spark/examples/ml/UnaryTransformerExample.scala\n",
            "spark-3.4.0-bin-hadoop3/examples/src/main/scala/org/apache/spark/examples/ml/VectorSizeHintExample.scala\n",
            "spark-3.4.0-bin-hadoop3/examples/src/main/scala/org/apache/spark/examples/ml/NGramExample.scala\n",
            "spark-3.4.0-bin-hadoop3/examples/src/main/scala/org/apache/spark/examples/ml/PolynomialExpansionExample.scala\n",
            "spark-3.4.0-bin-hadoop3/examples/src/main/scala/org/apache/spark/examples/ml/RFormulaExample.scala\n",
            "spark-3.4.0-bin-hadoop3/examples/src/main/scala/org/apache/spark/examples/ml/MaxAbsScalerExample.scala\n",
            "spark-3.4.0-bin-hadoop3/examples/src/main/scala/org/apache/spark/examples/ml/BisectingKMeansExample.scala\n",
            "spark-3.4.0-bin-hadoop3/examples/src/main/scala/org/apache/spark/examples/ml/ModelSelectionViaCrossValidationExample.scala\n",
            "spark-3.4.0-bin-hadoop3/examples/src/main/scala/org/apache/spark/examples/ml/RandomForestExample.scala\n",
            "spark-3.4.0-bin-hadoop3/examples/src/main/scala/org/apache/spark/examples/ml/GeneralizedLinearRegressionExample.scala\n",
            "spark-3.4.0-bin-hadoop3/examples/src/main/scala/org/apache/spark/examples/ml/IndexToStringExample.scala\n",
            "spark-3.4.0-bin-hadoop3/examples/src/main/scala/org/apache/spark/examples/ml/Word2VecExample.scala\n",
            "spark-3.4.0-bin-hadoop3/examples/src/main/scala/org/apache/spark/examples/ml/DCTExample.scala\n",
            "spark-3.4.0-bin-hadoop3/examples/src/main/scala/org/apache/spark/examples/ml/FMRegressorExample.scala\n",
            "spark-3.4.0-bin-hadoop3/examples/src/main/scala/org/apache/spark/examples/ml/UnivariateFeatureSelectorExample.scala\n",
            "spark-3.4.0-bin-hadoop3/examples/src/main/scala/org/apache/spark/examples/ml/DecisionTreeRegressionExample.scala\n",
            "spark-3.4.0-bin-hadoop3/examples/src/main/scala/org/apache/spark/examples/ml/TokenizerExample.scala\n",
            "spark-3.4.0-bin-hadoop3/examples/src/main/scala/org/apache/spark/examples/ml/BucketedRandomProjectionLSHExample.scala\n",
            "spark-3.4.0-bin-hadoop3/examples/src/main/scala/org/apache/spark/examples/ml/VarianceThresholdSelectorExample.scala\n",
            "spark-3.4.0-bin-hadoop3/examples/src/main/scala/org/apache/spark/examples/ml/LinearRegressionExample.scala\n",
            "spark-3.4.0-bin-hadoop3/examples/src/main/scala/org/apache/spark/examples/ml/IsotonicRegressionExample.scala\n",
            "spark-3.4.0-bin-hadoop3/examples/src/main/scala/org/apache/spark/examples/ml/DecisionTreeExample.scala\n",
            "spark-3.4.0-bin-hadoop3/examples/src/main/scala/org/apache/spark/examples/ml/ImputerExample.scala\n",
            "spark-3.4.0-bin-hadoop3/examples/src/main/scala/org/apache/spark/examples/ml/PrefixSpanExample.scala\n",
            "spark-3.4.0-bin-hadoop3/examples/src/main/scala/org/apache/spark/examples/ml/DeveloperApiExample.scala\n",
            "spark-3.4.0-bin-hadoop3/examples/src/main/scala/org/apache/spark/examples/ml/PipelineExample.scala\n",
            "spark-3.4.0-bin-hadoop3/examples/src/main/scala/org/apache/spark/examples/ml/ChiSqSelectorExample.scala\n",
            "spark-3.4.0-bin-hadoop3/examples/src/main/scala/org/apache/spark/examples/ml/NormalizerExample.scala\n",
            "spark-3.4.0-bin-hadoop3/examples/src/main/scala/org/apache/spark/examples/ml/ModelSelectionViaTrainValidationSplitExample.scala\n",
            "spark-3.4.0-bin-hadoop3/examples/src/main/scala/org/apache/spark/examples/ml/FPGrowthExample.scala\n",
            "spark-3.4.0-bin-hadoop3/examples/src/main/scala/org/apache/spark/examples/ml/PowerIterationClusteringExample.scala\n",
            "spark-3.4.0-bin-hadoop3/examples/src/main/scala/org/apache/spark/examples/ml/LogisticRegressionExample.scala\n",
            "spark-3.4.0-bin-hadoop3/examples/src/main/scala/org/apache/spark/examples/ml/StringIndexerExample.scala\n",
            "spark-3.4.0-bin-hadoop3/examples/src/main/scala/org/apache/spark/examples/ml/VectorAssemblerExample.scala\n",
            "spark-3.4.0-bin-hadoop3/examples/src/main/scala/org/apache/spark/examples/ml/OneVsRestExample.scala\n",
            "spark-3.4.0-bin-hadoop3/examples/src/main/scala/org/apache/spark/examples/ml/LDAExample.scala\n",
            "spark-3.4.0-bin-hadoop3/examples/src/main/scala/org/apache/spark/examples/ml/LinearSVCExample.scala\n",
            "spark-3.4.0-bin-hadoop3/examples/src/main/scala/org/apache/spark/examples/ml/FMClassifierExample.scala\n",
            "spark-3.4.0-bin-hadoop3/examples/src/main/scala/org/apache/spark/examples/ml/CorrelationExample.scala\n",
            "spark-3.4.0-bin-hadoop3/examples/src/main/scala/org/apache/spark/examples/ml/OneHotEncoderExample.scala\n",
            "spark-3.4.0-bin-hadoop3/examples/src/main/scala/org/apache/spark/examples/ml/GradientBoostedTreeClassifierExample.scala\n",
            "spark-3.4.0-bin-hadoop3/examples/src/main/scala/org/apache/spark/examples/ml/LinearRegressionWithElasticNetExample.scala\n",
            "spark-3.4.0-bin-hadoop3/examples/src/main/scala/org/apache/spark/examples/ml/LogisticRegressionSummaryExample.scala\n",
            "spark-3.4.0-bin-hadoop3/examples/src/main/scala/org/apache/spark/examples/ml/KMeansExample.scala\n",
            "spark-3.4.0-bin-hadoop3/examples/src/main/scala/org/apache/spark/examples/ml/BinarizerExample.scala\n",
            "spark-3.4.0-bin-hadoop3/examples/src/main/scala/org/apache/spark/examples/ml/QuantileDiscretizerExample.scala\n",
            "spark-3.4.0-bin-hadoop3/examples/src/main/scala/org/apache/spark/examples/ml/StandardScalerExample.scala\n",
            "spark-3.4.0-bin-hadoop3/examples/src/main/scala/org/apache/spark/examples/ml/MulticlassLogisticRegressionWithElasticNetExample.scala\n",
            "spark-3.4.0-bin-hadoop3/examples/src/main/scala/org/apache/spark/examples/ml/GradientBoostedTreeRegressorExample.scala\n",
            "spark-3.4.0-bin-hadoop3/examples/src/main/scala/org/apache/spark/examples/ml/BucketizerExample.scala\n",
            "spark-3.4.0-bin-hadoop3/examples/src/main/scala/org/apache/spark/examples/ml/DataFrameExample.scala\n",
            "spark-3.4.0-bin-hadoop3/examples/src/main/scala/org/apache/spark/examples/ml/MinHashLSHExample.scala\n",
            "spark-3.4.0-bin-hadoop3/examples/src/main/scala/org/apache/spark/examples/ml/ElementwiseProductExample.scala\n",
            "spark-3.4.0-bin-hadoop3/examples/src/main/scala/org/apache/spark/examples/ml/MultilayerPerceptronClassifierExample.scala\n",
            "spark-3.4.0-bin-hadoop3/examples/src/main/scala/org/apache/spark/examples/ml/DecisionTreeClassificationExample.scala\n",
            "spark-3.4.0-bin-hadoop3/examples/src/main/scala/org/apache/spark/examples/ml/StopWordsRemoverExample.scala\n",
            "spark-3.4.0-bin-hadoop3/examples/src/main/scala/org/apache/spark/examples/ml/SQLTransformerExample.scala\n",
            "spark-3.4.0-bin-hadoop3/examples/src/main/scala/org/apache/spark/examples/ml/InteractionExample.scala\n",
            "spark-3.4.0-bin-hadoop3/examples/src/main/scala/org/apache/spark/examples/ml/NaiveBayesExample.scala\n",
            "spark-3.4.0-bin-hadoop3/examples/src/main/scala/org/apache/spark/examples/ml/VectorSlicerExample.scala\n",
            "spark-3.4.0-bin-hadoop3/examples/src/main/scala/org/apache/spark/examples/ml/FeatureHasherExample.scala\n",
            "spark-3.4.0-bin-hadoop3/examples/src/main/scala/org/apache/spark/examples/ml/TfIdfExample.scala\n",
            "spark-3.4.0-bin-hadoop3/examples/src/main/scala/org/apache/spark/examples/ml/RandomForestRegressorExample.scala\n",
            "spark-3.4.0-bin-hadoop3/examples/src/main/scala/org/apache/spark/examples/ml/GBTExample.scala\n",
            "spark-3.4.0-bin-hadoop3/examples/src/main/scala/org/apache/spark/examples/ml/MinMaxScalerExample.scala\n",
            "spark-3.4.0-bin-hadoop3/examples/src/main/scala/org/apache/spark/examples/ml/SummarizerExample.scala\n",
            "spark-3.4.0-bin-hadoop3/examples/src/main/scala/org/apache/spark/examples/ml/VectorIndexerExample.scala\n",
            "spark-3.4.0-bin-hadoop3/examples/src/main/scala/org/apache/spark/examples/ml/EstimatorTransformerParamExample.scala\n",
            "spark-3.4.0-bin-hadoop3/examples/src/main/scala/org/apache/spark/examples/ml/GaussianMixtureExample.scala\n",
            "spark-3.4.0-bin-hadoop3/examples/src/main/scala/org/apache/spark/examples/MiniReadWriteTest.scala\n",
            "spark-3.4.0-bin-hadoop3/examples/src/main/scala/org/apache/spark/examples/AccumulatorMetricsTest.scala\n",
            "spark-3.4.0-bin-hadoop3/examples/src/main/scala/org/apache/spark/examples/SparkPi.scala\n",
            "spark-3.4.0-bin-hadoop3/examples/src/main/scala/org/apache/spark/examples/DriverSubmissionTest.scala\n",
            "spark-3.4.0-bin-hadoop3/examples/src/main/scala/org/apache/spark/examples/mllib/\n",
            "spark-3.4.0-bin-hadoop3/examples/src/main/scala/org/apache/spark/examples/mllib/CosineSimilarity.scala\n",
            "spark-3.4.0-bin-hadoop3/examples/src/main/scala/org/apache/spark/examples/mllib/LatentDirichletAllocationExample.scala\n",
            "spark-3.4.0-bin-hadoop3/examples/src/main/scala/org/apache/spark/examples/mllib/DecisionTreeRunner.scala\n",
            "spark-3.4.0-bin-hadoop3/examples/src/main/scala/org/apache/spark/examples/mllib/StreamingKMeansExample.scala\n",
            "spark-3.4.0-bin-hadoop3/examples/src/main/scala/org/apache/spark/examples/mllib/StreamingLogisticRegression.scala\n",
            "spark-3.4.0-bin-hadoop3/examples/src/main/scala/org/apache/spark/examples/mllib/DenseKMeans.scala\n",
            "spark-3.4.0-bin-hadoop3/examples/src/main/scala/org/apache/spark/examples/mllib/TFIDFExample.scala\n",
            "spark-3.4.0-bin-hadoop3/examples/src/main/scala/org/apache/spark/examples/mllib/LogisticRegressionWithLBFGSExample.scala\n",
            "spark-3.4.0-bin-hadoop3/examples/src/main/scala/org/apache/spark/examples/mllib/TallSkinnyPCA.scala\n",
            "spark-3.4.0-bin-hadoop3/examples/src/main/scala/org/apache/spark/examples/mllib/TallSkinnySVD.scala\n",
            "spark-3.4.0-bin-hadoop3/examples/src/main/scala/org/apache/spark/examples/mllib/LBFGSExample.scala\n",
            "spark-3.4.0-bin-hadoop3/examples/src/main/scala/org/apache/spark/examples/mllib/BisectingKMeansExample.scala\n",
            "spark-3.4.0-bin-hadoop3/examples/src/main/scala/org/apache/spark/examples/mllib/StratifiedSamplingExample.scala\n",
            "spark-3.4.0-bin-hadoop3/examples/src/main/scala/org/apache/spark/examples/mllib/MultiLabelMetricsExample.scala\n",
            "spark-3.4.0-bin-hadoop3/examples/src/main/scala/org/apache/spark/examples/mllib/SampledRDDs.scala\n",
            "spark-3.4.0-bin-hadoop3/examples/src/main/scala/org/apache/spark/examples/mllib/RandomForestClassificationExample.scala\n",
            "spark-3.4.0-bin-hadoop3/examples/src/main/scala/org/apache/spark/examples/mllib/SimpleFPGrowth.scala\n",
            "spark-3.4.0-bin-hadoop3/examples/src/main/scala/org/apache/spark/examples/mllib/Word2VecExample.scala\n",
            "spark-3.4.0-bin-hadoop3/examples/src/main/scala/org/apache/spark/examples/mllib/CorrelationsExample.scala\n",
            "spark-3.4.0-bin-hadoop3/examples/src/main/scala/org/apache/spark/examples/mllib/PCAOnSourceVectorExample.scala\n",
            "spark-3.4.0-bin-hadoop3/examples/src/main/scala/org/apache/spark/examples/mllib/DecisionTreeRegressionExample.scala\n",
            "spark-3.4.0-bin-hadoop3/examples/src/main/scala/org/apache/spark/examples/mllib/PMMLModelExportExample.scala\n",
            "spark-3.4.0-bin-hadoop3/examples/src/main/scala/org/apache/spark/examples/mllib/IsotonicRegressionExample.scala\n",
            "spark-3.4.0-bin-hadoop3/examples/src/main/scala/org/apache/spark/examples/mllib/RandomRDDGeneration.scala\n",
            "spark-3.4.0-bin-hadoop3/examples/src/main/scala/org/apache/spark/examples/mllib/SVDExample.scala\n",
            "spark-3.4.0-bin-hadoop3/examples/src/main/scala/org/apache/spark/examples/mllib/PrefixSpanExample.scala\n",
            "spark-3.4.0-bin-hadoop3/examples/src/main/scala/org/apache/spark/examples/mllib/BinaryClassification.scala\n",
            "spark-3.4.0-bin-hadoop3/examples/src/main/scala/org/apache/spark/examples/mllib/ChiSqSelectorExample.scala\n",
            "spark-3.4.0-bin-hadoop3/examples/src/main/scala/org/apache/spark/examples/mllib/NormalizerExample.scala\n",
            "spark-3.4.0-bin-hadoop3/examples/src/main/scala/org/apache/spark/examples/mllib/FPGrowthExample.scala\n",
            "spark-3.4.0-bin-hadoop3/examples/src/main/scala/org/apache/spark/examples/mllib/StreamingLinearRegressionExample.scala\n",
            "spark-3.4.0-bin-hadoop3/examples/src/main/scala/org/apache/spark/examples/mllib/PowerIterationClusteringExample.scala\n",
            "spark-3.4.0-bin-hadoop3/examples/src/main/scala/org/apache/spark/examples/mllib/RankingMetricsExample.scala\n",
            "spark-3.4.0-bin-hadoop3/examples/src/main/scala/org/apache/spark/examples/mllib/LDAExample.scala\n",
            "spark-3.4.0-bin-hadoop3/examples/src/main/scala/org/apache/spark/examples/mllib/MulticlassMetricsExample.scala\n",
            "spark-3.4.0-bin-hadoop3/examples/src/main/scala/org/apache/spark/examples/mllib/RecommendationExample.scala\n",
            "spark-3.4.0-bin-hadoop3/examples/src/main/scala/org/apache/spark/examples/mllib/SummaryStatisticsExample.scala\n",
            "spark-3.4.0-bin-hadoop3/examples/src/main/scala/org/apache/spark/examples/mllib/MovieLensALS.scala\n",
            "spark-3.4.0-bin-hadoop3/examples/src/main/scala/org/apache/spark/examples/mllib/KMeansExample.scala\n",
            "spark-3.4.0-bin-hadoop3/examples/src/main/scala/org/apache/spark/examples/mllib/AbstractParams.scala\n",
            "spark-3.4.0-bin-hadoop3/examples/src/main/scala/org/apache/spark/examples/mllib/SparseNaiveBayes.scala\n",
            "spark-3.4.0-bin-hadoop3/examples/src/main/scala/org/apache/spark/examples/mllib/StandardScalerExample.scala\n",
            "spark-3.4.0-bin-hadoop3/examples/src/main/scala/org/apache/spark/examples/mllib/GradientBoostingRegressionExample.scala\n",
            "spark-3.4.0-bin-hadoop3/examples/src/main/scala/org/apache/spark/examples/mllib/MultivariateSummarizer.scala\n",
            "spark-3.4.0-bin-hadoop3/examples/src/main/scala/org/apache/spark/examples/mllib/RandomForestRegressionExample.scala\n",
            "spark-3.4.0-bin-hadoop3/examples/src/main/scala/org/apache/spark/examples/mllib/SVMWithSGDExample.scala\n",
            "spark-3.4.0-bin-hadoop3/examples/src/main/scala/org/apache/spark/examples/mllib/AssociationRulesExample.scala\n",
            "spark-3.4.0-bin-hadoop3/examples/src/main/scala/org/apache/spark/examples/mllib/ElementwiseProductExample.scala\n",
            "spark-3.4.0-bin-hadoop3/examples/src/main/scala/org/apache/spark/examples/mllib/StreamingTestExample.scala\n",
            "spark-3.4.0-bin-hadoop3/examples/src/main/scala/org/apache/spark/examples/mllib/KernelDensityEstimationExample.scala\n",
            "spark-3.4.0-bin-hadoop3/examples/src/main/scala/org/apache/spark/examples/mllib/GradientBoostingClassificationExample.scala\n",
            "spark-3.4.0-bin-hadoop3/examples/src/main/scala/org/apache/spark/examples/mllib/HypothesisTestingExample.scala\n",
            "spark-3.4.0-bin-hadoop3/examples/src/main/scala/org/apache/spark/examples/mllib/DecisionTreeClassificationExample.scala\n",
            "spark-3.4.0-bin-hadoop3/examples/src/main/scala/org/apache/spark/examples/mllib/BinaryClassificationMetricsExample.scala\n",
            "spark-3.4.0-bin-hadoop3/examples/src/main/scala/org/apache/spark/examples/mllib/PCAOnRowMatrixExample.scala\n",
            "spark-3.4.0-bin-hadoop3/examples/src/main/scala/org/apache/spark/examples/mllib/NaiveBayesExample.scala\n",
            "spark-3.4.0-bin-hadoop3/examples/src/main/scala/org/apache/spark/examples/mllib/GradientBoostedTreesRunner.scala\n",
            "spark-3.4.0-bin-hadoop3/examples/src/main/scala/org/apache/spark/examples/mllib/Correlations.scala\n",
            "spark-3.4.0-bin-hadoop3/examples/src/main/scala/org/apache/spark/examples/mllib/HypothesisTestingKolmogorovSmirnovTestExample.scala\n",
            "spark-3.4.0-bin-hadoop3/examples/src/main/scala/org/apache/spark/examples/mllib/GaussianMixtureExample.scala\n",
            "spark-3.4.0-bin-hadoop3/examples/src/main/python/\n",
            "spark-3.4.0-bin-hadoop3/examples/src/main/python/sql/\n",
            "spark-3.4.0-bin-hadoop3/examples/src/main/python/sql/streaming/\n",
            "spark-3.4.0-bin-hadoop3/examples/src/main/python/sql/streaming/structured_network_wordcount_windowed.py\n",
            "spark-3.4.0-bin-hadoop3/examples/src/main/python/sql/streaming/structured_sessionization.py\n",
            "spark-3.4.0-bin-hadoop3/examples/src/main/python/sql/streaming/__init__,py\n",
            "spark-3.4.0-bin-hadoop3/examples/src/main/python/sql/streaming/structured_network_wordcount.py\n",
            "spark-3.4.0-bin-hadoop3/examples/src/main/python/sql/streaming/structured_kafka_wordcount.py\n",
            "spark-3.4.0-bin-hadoop3/examples/src/main/python/sql/streaming/structured_network_wordcount_session_window.py\n",
            "spark-3.4.0-bin-hadoop3/examples/src/main/python/sql/datasource.py\n",
            "spark-3.4.0-bin-hadoop3/examples/src/main/python/sql/basic.py\n",
            "spark-3.4.0-bin-hadoop3/examples/src/main/python/sql/__init__.py\n",
            "spark-3.4.0-bin-hadoop3/examples/src/main/python/sql/arrow.py\n",
            "spark-3.4.0-bin-hadoop3/examples/src/main/python/sql/hive.py\n",
            "spark-3.4.0-bin-hadoop3/examples/src/main/python/kmeans.py\n",
            "spark-3.4.0-bin-hadoop3/examples/src/main/python/wordcount.py\n",
            "spark-3.4.0-bin-hadoop3/examples/src/main/python/streaming/\n",
            "spark-3.4.0-bin-hadoop3/examples/src/main/python/streaming/__init__.py\n",
            "spark-3.4.0-bin-hadoop3/examples/src/main/python/streaming/sql_network_wordcount.py\n",
            "spark-3.4.0-bin-hadoop3/examples/src/main/python/streaming/stateful_network_wordcount.py\n",
            "spark-3.4.0-bin-hadoop3/examples/src/main/python/streaming/network_wordcount.py\n",
            "spark-3.4.0-bin-hadoop3/examples/src/main/python/streaming/queue_stream.py\n",
            "spark-3.4.0-bin-hadoop3/examples/src/main/python/streaming/network_wordjoinsentiments.py\n",
            "spark-3.4.0-bin-hadoop3/examples/src/main/python/streaming/hdfs_wordcount.py\n",
            "spark-3.4.0-bin-hadoop3/examples/src/main/python/streaming/recoverable_network_wordcount.py\n",
            "spark-3.4.0-bin-hadoop3/examples/src/main/python/avro_inputformat.py\n",
            "spark-3.4.0-bin-hadoop3/examples/src/main/python/__init__.py\n",
            "spark-3.4.0-bin-hadoop3/examples/src/main/python/logistic_regression.py\n",
            "spark-3.4.0-bin-hadoop3/examples/src/main/python/status_api_demo.py\n",
            "spark-3.4.0-bin-hadoop3/examples/src/main/python/pagerank.py\n",
            "spark-3.4.0-bin-hadoop3/examples/src/main/python/parquet_inputformat.py\n",
            "spark-3.4.0-bin-hadoop3/examples/src/main/python/transitive_closure.py\n",
            "spark-3.4.0-bin-hadoop3/examples/src/main/python/als.py\n",
            "spark-3.4.0-bin-hadoop3/examples/src/main/python/sort.py\n",
            "spark-3.4.0-bin-hadoop3/examples/src/main/python/ml/\n",
            "spark-3.4.0-bin-hadoop3/examples/src/main/python/ml/dct_example.py\n",
            "spark-3.4.0-bin-hadoop3/examples/src/main/python/ml/normalizer_example.py\n",
            "spark-3.4.0-bin-hadoop3/examples/src/main/python/ml/random_forest_classifier_example.py\n",
            "spark-3.4.0-bin-hadoop3/examples/src/main/python/ml/standard_scaler_example.py\n",
            "spark-3.4.0-bin-hadoop3/examples/src/main/python/ml/estimator_transformer_param_example.py\n",
            "spark-3.4.0-bin-hadoop3/examples/src/main/python/ml/binarizer_example.py\n",
            "spark-3.4.0-bin-hadoop3/examples/src/main/python/ml/dataframe_example.py\n",
            "spark-3.4.0-bin-hadoop3/examples/src/main/python/ml/aft_survival_regression.py\n",
            "spark-3.4.0-bin-hadoop3/examples/src/main/python/ml/kmeans_example.py\n",
            "spark-3.4.0-bin-hadoop3/examples/src/main/python/ml/imputer_example.py\n",
            "spark-3.4.0-bin-hadoop3/examples/src/main/python/ml/cross_validator.py\n",
            "spark-3.4.0-bin-hadoop3/examples/src/main/python/ml/bucketed_random_projection_lsh_example.py\n",
            "spark-3.4.0-bin-hadoop3/examples/src/main/python/ml/univariate_feature_selector_example.py\n",
            "spark-3.4.0-bin-hadoop3/examples/src/main/python/ml/rformula_example.py\n",
            "spark-3.4.0-bin-hadoop3/examples/src/main/python/ml/onehot_encoder_example.py\n",
            "spark-3.4.0-bin-hadoop3/examples/src/main/python/ml/chi_square_test_example.py\n",
            "spark-3.4.0-bin-hadoop3/examples/src/main/python/ml/vector_size_hint_example.py\n",
            "spark-3.4.0-bin-hadoop3/examples/src/main/python/ml/linear_regression_with_elastic_net.py\n",
            "spark-3.4.0-bin-hadoop3/examples/src/main/python/ml/decision_tree_classification_example.py\n",
            "spark-3.4.0-bin-hadoop3/examples/src/main/python/ml/__init__,py\n",
            "spark-3.4.0-bin-hadoop3/examples/src/main/python/ml/feature_hasher_example.py\n",
            "spark-3.4.0-bin-hadoop3/examples/src/main/python/ml/count_vectorizer_example.py\n",
            "spark-3.4.0-bin-hadoop3/examples/src/main/python/ml/tokenizer_example.py\n",
            "spark-3.4.0-bin-hadoop3/examples/src/main/python/ml/word2vec_example.py\n",
            "spark-3.4.0-bin-hadoop3/examples/src/main/python/ml/bucketizer_example.py\n",
            "spark-3.4.0-bin-hadoop3/examples/src/main/python/ml/stopwords_remover_example.py\n",
            "spark-3.4.0-bin-hadoop3/examples/src/main/python/ml/polynomial_expansion_example.py\n",
            "spark-3.4.0-bin-hadoop3/examples/src/main/python/ml/elementwise_product_example.py\n",
            "spark-3.4.0-bin-hadoop3/examples/src/main/python/ml/pca_example.py\n",
            "spark-3.4.0-bin-hadoop3/examples/src/main/python/ml/bisecting_k_means_example.py\n",
            "spark-3.4.0-bin-hadoop3/examples/src/main/python/ml/robust_scaler_example.py\n",
            "spark-3.4.0-bin-hadoop3/examples/src/main/python/ml/vector_assembler_example.py\n",
            "spark-3.4.0-bin-hadoop3/examples/src/main/python/ml/quantile_discretizer_example.py\n",
            "spark-3.4.0-bin-hadoop3/examples/src/main/python/ml/tf_idf_example.py\n",
            "spark-3.4.0-bin-hadoop3/examples/src/main/python/ml/gradient_boosted_tree_classifier_example.py\n",
            "spark-3.4.0-bin-hadoop3/examples/src/main/python/ml/fm_classifier_example.py\n",
            "spark-3.4.0-bin-hadoop3/examples/src/main/python/ml/linearsvc.py\n",
            "spark-3.4.0-bin-hadoop3/examples/src/main/python/ml/min_max_scaler_example.py\n",
            "spark-3.4.0-bin-hadoop3/examples/src/main/python/ml/correlation_example.py\n",
            "spark-3.4.0-bin-hadoop3/examples/src/main/python/ml/generalized_linear_regression_example.py\n",
            "spark-3.4.0-bin-hadoop3/examples/src/main/python/ml/multiclass_logistic_regression_with_elastic_net.py\n",
            "spark-3.4.0-bin-hadoop3/examples/src/main/python/ml/sql_transformer.py\n",
            "spark-3.4.0-bin-hadoop3/examples/src/main/python/ml/index_to_string_example.py\n",
            "spark-3.4.0-bin-hadoop3/examples/src/main/python/ml/vector_indexer_example.py\n",
            "spark-3.4.0-bin-hadoop3/examples/src/main/python/ml/multilayer_perceptron_classification.py\n",
            "spark-3.4.0-bin-hadoop3/examples/src/main/python/ml/summarizer_example.py\n",
            "spark-3.4.0-bin-hadoop3/examples/src/main/python/ml/vector_slicer_example.py\n",
            "spark-3.4.0-bin-hadoop3/examples/src/main/python/ml/logistic_regression_summary_example.py\n",
            "spark-3.4.0-bin-hadoop3/examples/src/main/python/ml/pipeline_example.py\n",
            "spark-3.4.0-bin-hadoop3/examples/src/main/python/ml/n_gram_example.py\n",
            "spark-3.4.0-bin-hadoop3/examples/src/main/python/ml/naive_bayes_example.py\n",
            "spark-3.4.0-bin-hadoop3/examples/src/main/python/ml/logistic_regression_with_elastic_net.py\n",
            "spark-3.4.0-bin-hadoop3/examples/src/main/python/ml/fpgrowth_example.py\n",
            "spark-3.4.0-bin-hadoop3/examples/src/main/python/ml/variance_threshold_selector_example.py\n",
            "spark-3.4.0-bin-hadoop3/examples/src/main/python/ml/als_example.py\n",
            "spark-3.4.0-bin-hadoop3/examples/src/main/python/ml/fm_regressor_example.py\n",
            "spark-3.4.0-bin-hadoop3/examples/src/main/python/ml/train_validation_split.py\n",
            "spark-3.4.0-bin-hadoop3/examples/src/main/python/ml/decision_tree_regression_example.py\n",
            "spark-3.4.0-bin-hadoop3/examples/src/main/python/ml/random_forest_regressor_example.py\n",
            "spark-3.4.0-bin-hadoop3/examples/src/main/python/ml/prefixspan_example.py\n",
            "spark-3.4.0-bin-hadoop3/examples/src/main/python/ml/gradient_boosted_tree_regressor_example.py\n",
            "spark-3.4.0-bin-hadoop3/examples/src/main/python/ml/min_hash_lsh_example.py\n",
            "spark-3.4.0-bin-hadoop3/examples/src/main/python/ml/gaussian_mixture_example.py\n",
            "spark-3.4.0-bin-hadoop3/examples/src/main/python/ml/string_indexer_example.py\n",
            "spark-3.4.0-bin-hadoop3/examples/src/main/python/ml/isotonic_regression_example.py\n",
            "spark-3.4.0-bin-hadoop3/examples/src/main/python/ml/interaction_example.py\n",
            "spark-3.4.0-bin-hadoop3/examples/src/main/python/ml/power_iteration_clustering_example.py\n",
            "spark-3.4.0-bin-hadoop3/examples/src/main/python/ml/chisq_selector_example.py\n",
            "spark-3.4.0-bin-hadoop3/examples/src/main/python/ml/lda_example.py\n",
            "spark-3.4.0-bin-hadoop3/examples/src/main/python/ml/max_abs_scaler_example.py\n",
            "spark-3.4.0-bin-hadoop3/examples/src/main/python/ml/one_vs_rest_example.py\n",
            "spark-3.4.0-bin-hadoop3/examples/src/main/python/pi.py\n",
            "spark-3.4.0-bin-hadoop3/examples/src/main/python/mllib/\n",
            "spark-3.4.0-bin-hadoop3/examples/src/main/python/mllib/normalizer_example.py\n",
            "spark-3.4.0-bin-hadoop3/examples/src/main/python/mllib/logistic_regression_with_lbfgs_example.py\n",
            "spark-3.4.0-bin-hadoop3/examples/src/main/python/mllib/kmeans.py\n",
            "spark-3.4.0-bin-hadoop3/examples/src/main/python/mllib/standard_scaler_example.py\n",
            "spark-3.4.0-bin-hadoop3/examples/src/main/python/mllib/word2vec.py\n",
            "spark-3.4.0-bin-hadoop3/examples/src/main/python/mllib/gradient_boosting_classification_example.py\n",
            "spark-3.4.0-bin-hadoop3/examples/src/main/python/mllib/random_forest_regression_example.py\n",
            "spark-3.4.0-bin-hadoop3/examples/src/main/python/mllib/latent_dirichlet_allocation_example.py\n",
            "spark-3.4.0-bin-hadoop3/examples/src/main/python/mllib/regression_metrics_example.py\n",
            "spark-3.4.0-bin-hadoop3/examples/src/main/python/mllib/hypothesis_testing_kolmogorov_smirnov_test_example.py\n",
            "spark-3.4.0-bin-hadoop3/examples/src/main/python/mllib/__init__.py\n",
            "spark-3.4.0-bin-hadoop3/examples/src/main/python/mllib/decision_tree_classification_example.py\n",
            "spark-3.4.0-bin-hadoop3/examples/src/main/python/mllib/logistic_regression.py\n",
            "spark-3.4.0-bin-hadoop3/examples/src/main/python/mllib/linear_regression_with_sgd_example.py\n",
            "spark-3.4.0-bin-hadoop3/examples/src/main/python/mllib/hypothesis_testing_example.py\n",
            "spark-3.4.0-bin-hadoop3/examples/src/main/python/mllib/multi_class_metrics_example.py\n",
            "spark-3.4.0-bin-hadoop3/examples/src/main/python/mllib/k_means_example.py\n",
            "spark-3.4.0-bin-hadoop3/examples/src/main/python/mllib/binary_classification_metrics_example.py\n",
            "spark-3.4.0-bin-hadoop3/examples/src/main/python/mllib/word2vec_example.py\n",
            "spark-3.4.0-bin-hadoop3/examples/src/main/python/mllib/recommendation_example.py\n",
            "spark-3.4.0-bin-hadoop3/examples/src/main/python/mllib/ranking_metrics_example.py\n",
            "spark-3.4.0-bin-hadoop3/examples/src/main/python/mllib/summary_statistics_example.py\n",
            "spark-3.4.0-bin-hadoop3/examples/src/main/python/mllib/elementwise_product_example.py\n",
            "spark-3.4.0-bin-hadoop3/examples/src/main/python/mllib/bisecting_k_means_example.py\n",
            "spark-3.4.0-bin-hadoop3/examples/src/main/python/mllib/gaussian_mixture_model.py\n",
            "spark-3.4.0-bin-hadoop3/examples/src/main/python/mllib/multi_label_metrics_example.py\n",
            "spark-3.4.0-bin-hadoop3/examples/src/main/python/mllib/sampled_rdds.py\n",
            "spark-3.4.0-bin-hadoop3/examples/src/main/python/mllib/tf_idf_example.py\n",
            "spark-3.4.0-bin-hadoop3/examples/src/main/python/mllib/streaming_k_means_example.py\n",
            "spark-3.4.0-bin-hadoop3/examples/src/main/python/mllib/stratified_sampling_example.py\n",
            "spark-3.4.0-bin-hadoop3/examples/src/main/python/mllib/streaming_linear_regression_example.py\n",
            "spark-3.4.0-bin-hadoop3/examples/src/main/python/mllib/kernel_density_estimation_example.py\n",
            "spark-3.4.0-bin-hadoop3/examples/src/main/python/mllib/correlations.py\n",
            "spark-3.4.0-bin-hadoop3/examples/src/main/python/mllib/random_rdd_generation.py\n",
            "spark-3.4.0-bin-hadoop3/examples/src/main/python/mllib/naive_bayes_example.py\n",
            "spark-3.4.0-bin-hadoop3/examples/src/main/python/mllib/fpgrowth_example.py\n",
            "spark-3.4.0-bin-hadoop3/examples/src/main/python/mllib/decision_tree_regression_example.py\n",
            "spark-3.4.0-bin-hadoop3/examples/src/main/python/mllib/random_forest_classification_example.py\n",
            "spark-3.4.0-bin-hadoop3/examples/src/main/python/mllib/svm_with_sgd_example.py\n",
            "spark-3.4.0-bin-hadoop3/examples/src/main/python/mllib/gaussian_mixture_example.py\n",
            "spark-3.4.0-bin-hadoop3/examples/src/main/python/mllib/isotonic_regression_example.py\n",
            "spark-3.4.0-bin-hadoop3/examples/src/main/python/mllib/svd_example.py\n",
            "spark-3.4.0-bin-hadoop3/examples/src/main/python/mllib/power_iteration_clustering_example.py\n",
            "spark-3.4.0-bin-hadoop3/examples/src/main/python/mllib/pca_rowmatrix_example.py\n",
            "spark-3.4.0-bin-hadoop3/examples/src/main/python/mllib/correlations_example.py\n",
            "spark-3.4.0-bin-hadoop3/examples/src/main/python/mllib/gradient_boosting_regression_example.py\n",
            "spark-3.4.0-bin-hadoop3/examples/src/main/java/\n",
            "spark-3.4.0-bin-hadoop3/examples/src/main/java/org/\n",
            "spark-3.4.0-bin-hadoop3/examples/src/main/java/org/apache/\n",
            "spark-3.4.0-bin-hadoop3/examples/src/main/java/org/apache/spark/\n",
            "spark-3.4.0-bin-hadoop3/examples/src/main/java/org/apache/spark/examples/\n",
            "spark-3.4.0-bin-hadoop3/examples/src/main/java/org/apache/spark/examples/sql/\n",
            "spark-3.4.0-bin-hadoop3/examples/src/main/java/org/apache/spark/examples/sql/JavaUserDefinedUntypedAggregation.java\n",
            "spark-3.4.0-bin-hadoop3/examples/src/main/java/org/apache/spark/examples/sql/streaming/\n",
            "spark-3.4.0-bin-hadoop3/examples/src/main/java/org/apache/spark/examples/sql/streaming/JavaStructuredNetworkWordCount.java\n",
            "spark-3.4.0-bin-hadoop3/examples/src/main/java/org/apache/spark/examples/sql/streaming/JavaStructuredNetworkWordCountWindowed.java\n",
            "spark-3.4.0-bin-hadoop3/examples/src/main/java/org/apache/spark/examples/sql/streaming/JavaStructuredComplexSessionization.java\n",
            "spark-3.4.0-bin-hadoop3/examples/src/main/java/org/apache/spark/examples/sql/streaming/JavaStructuredKerberizedKafkaWordCount.java\n",
            "spark-3.4.0-bin-hadoop3/examples/src/main/java/org/apache/spark/examples/sql/streaming/JavaStructuredSessionization.java\n",
            "spark-3.4.0-bin-hadoop3/examples/src/main/java/org/apache/spark/examples/sql/streaming/JavaStructuredKafkaWordCount.java\n",
            "spark-3.4.0-bin-hadoop3/examples/src/main/java/org/apache/spark/examples/sql/JavaUserDefinedScalar.java\n",
            "spark-3.4.0-bin-hadoop3/examples/src/main/java/org/apache/spark/examples/sql/JavaUserDefinedTypedAggregation.java\n",
            "spark-3.4.0-bin-hadoop3/examples/src/main/java/org/apache/spark/examples/sql/JavaSQLDataSourceExample.java\n",
            "spark-3.4.0-bin-hadoop3/examples/src/main/java/org/apache/spark/examples/sql/JavaSparkSQLExample.java\n",
            "spark-3.4.0-bin-hadoop3/examples/src/main/java/org/apache/spark/examples/sql/hive/\n",
            "spark-3.4.0-bin-hadoop3/examples/src/main/java/org/apache/spark/examples/sql/hive/JavaSparkHiveExample.java\n",
            "spark-3.4.0-bin-hadoop3/examples/src/main/java/org/apache/spark/examples/JavaStatusTrackerDemo.java\n",
            "spark-3.4.0-bin-hadoop3/examples/src/main/java/org/apache/spark/examples/streaming/\n",
            "spark-3.4.0-bin-hadoop3/examples/src/main/java/org/apache/spark/examples/streaming/JavaRecoverableNetworkWordCount.java\n",
            "spark-3.4.0-bin-hadoop3/examples/src/main/java/org/apache/spark/examples/streaming/JavaDirectKafkaWordCount.java\n",
            "spark-3.4.0-bin-hadoop3/examples/src/main/java/org/apache/spark/examples/streaming/JavaQueueStream.java\n",
            "spark-3.4.0-bin-hadoop3/examples/src/main/java/org/apache/spark/examples/streaming/JavaDirectKerberizedKafkaWordCount.java\n",
            "spark-3.4.0-bin-hadoop3/examples/src/main/java/org/apache/spark/examples/streaming/JavaCustomReceiver.java\n",
            "spark-3.4.0-bin-hadoop3/examples/src/main/java/org/apache/spark/examples/streaming/JavaStatefulNetworkWordCount.java\n",
            "spark-3.4.0-bin-hadoop3/examples/src/main/java/org/apache/spark/examples/streaming/JavaNetworkWordCount.java\n",
            "spark-3.4.0-bin-hadoop3/examples/src/main/java/org/apache/spark/examples/streaming/JavaRecord.java\n",
            "spark-3.4.0-bin-hadoop3/examples/src/main/java/org/apache/spark/examples/streaming/JavaSqlNetworkWordCount.java\n",
            "spark-3.4.0-bin-hadoop3/examples/src/main/java/org/apache/spark/examples/JavaSparkPi.java\n",
            "spark-3.4.0-bin-hadoop3/examples/src/main/java/org/apache/spark/examples/JavaWordCount.java\n",
            "spark-3.4.0-bin-hadoop3/examples/src/main/java/org/apache/spark/examples/JavaTC.java\n",
            "spark-3.4.0-bin-hadoop3/examples/src/main/java/org/apache/spark/examples/JavaLogQuery.java\n",
            "spark-3.4.0-bin-hadoop3/examples/src/main/java/org/apache/spark/examples/JavaPageRank.java\n",
            "spark-3.4.0-bin-hadoop3/examples/src/main/java/org/apache/spark/examples/JavaHdfsLR.java\n",
            "spark-3.4.0-bin-hadoop3/examples/src/main/java/org/apache/spark/examples/ml/\n",
            "spark-3.4.0-bin-hadoop3/examples/src/main/java/org/apache/spark/examples/ml/JavaKMeansExample.java\n",
            "spark-3.4.0-bin-hadoop3/examples/src/main/java/org/apache/spark/examples/ml/JavaBucketizerExample.java\n",
            "spark-3.4.0-bin-hadoop3/examples/src/main/java/org/apache/spark/examples/ml/JavaVectorSlicerExample.java\n",
            "spark-3.4.0-bin-hadoop3/examples/src/main/java/org/apache/spark/examples/ml/JavaALSExample.java\n",
            "spark-3.4.0-bin-hadoop3/examples/src/main/java/org/apache/spark/examples/ml/JavaLinearSVCExample.java\n",
            "spark-3.4.0-bin-hadoop3/examples/src/main/java/org/apache/spark/examples/ml/JavaVectorIndexerExample.java\n",
            "spark-3.4.0-bin-hadoop3/examples/src/main/java/org/apache/spark/examples/ml/JavaVarianceThresholdSelectorExample.java\n",
            "spark-3.4.0-bin-hadoop3/examples/src/main/java/org/apache/spark/examples/ml/JavaCountVectorizerExample.java\n",
            "spark-3.4.0-bin-hadoop3/examples/src/main/java/org/apache/spark/examples/ml/JavaMinHashLSHExample.java\n",
            "spark-3.4.0-bin-hadoop3/examples/src/main/java/org/apache/spark/examples/ml/JavaStandardScalerExample.java\n",
            "spark-3.4.0-bin-hadoop3/examples/src/main/java/org/apache/spark/examples/ml/JavaSQLTransformerExample.java\n",
            "spark-3.4.0-bin-hadoop3/examples/src/main/java/org/apache/spark/examples/ml/JavaUnivariateFeatureSelectorExample.java\n",
            "spark-3.4.0-bin-hadoop3/examples/src/main/java/org/apache/spark/examples/ml/JavaLabeledDocument.java\n",
            "spark-3.4.0-bin-hadoop3/examples/src/main/java/org/apache/spark/examples/ml/JavaLogisticRegressionSummaryExample.java\n",
            "spark-3.4.0-bin-hadoop3/examples/src/main/java/org/apache/spark/examples/ml/JavaTokenizerExample.java\n",
            "spark-3.4.0-bin-hadoop3/examples/src/main/java/org/apache/spark/examples/ml/JavaLinearRegressionWithElasticNetExample.java\n",
            "spark-3.4.0-bin-hadoop3/examples/src/main/java/org/apache/spark/examples/ml/JavaDecisionTreeClassificationExample.java\n",
            "spark-3.4.0-bin-hadoop3/examples/src/main/java/org/apache/spark/examples/ml/JavaDCTExample.java\n",
            "spark-3.4.0-bin-hadoop3/examples/src/main/java/org/apache/spark/examples/ml/JavaRandomForestRegressorExample.java\n",
            "spark-3.4.0-bin-hadoop3/examples/src/main/java/org/apache/spark/examples/ml/JavaNormalizerExample.java\n",
            "spark-3.4.0-bin-hadoop3/examples/src/main/java/org/apache/spark/examples/ml/JavaWord2VecExample.java\n",
            "spark-3.4.0-bin-hadoop3/examples/src/main/java/org/apache/spark/examples/ml/JavaPolynomialExpansionExample.java\n",
            "spark-3.4.0-bin-hadoop3/examples/src/main/java/org/apache/spark/examples/ml/JavaRFormulaExample.java\n",
            "spark-3.4.0-bin-hadoop3/examples/src/main/java/org/apache/spark/examples/ml/JavaPowerIterationClusteringExample.java\n",
            "spark-3.4.0-bin-hadoop3/examples/src/main/java/org/apache/spark/examples/ml/JavaSummarizerExample.java\n",
            "spark-3.4.0-bin-hadoop3/examples/src/main/java/org/apache/spark/examples/ml/JavaPipelineExample.java\n",
            "spark-3.4.0-bin-hadoop3/examples/src/main/java/org/apache/spark/examples/ml/JavaQuantileDiscretizerExample.java\n",
            "spark-3.4.0-bin-hadoop3/examples/src/main/java/org/apache/spark/examples/ml/JavaBinarizerExample.java\n",
            "spark-3.4.0-bin-hadoop3/examples/src/main/java/org/apache/spark/examples/ml/JavaGradientBoostedTreeClassifierExample.java\n",
            "spark-3.4.0-bin-hadoop3/examples/src/main/java/org/apache/spark/examples/ml/JavaMinMaxScalerExample.java\n",
            "spark-3.4.0-bin-hadoop3/examples/src/main/java/org/apache/spark/examples/ml/JavaMulticlassLogisticRegressionWithElasticNetExample.java\n",
            "spark-3.4.0-bin-hadoop3/examples/src/main/java/org/apache/spark/examples/ml/JavaNaiveBayesExample.java\n",
            "spark-3.4.0-bin-hadoop3/examples/src/main/java/org/apache/spark/examples/ml/JavaVectorSizeHintExample.java\n",
            "spark-3.4.0-bin-hadoop3/examples/src/main/java/org/apache/spark/examples/ml/JavaBisectingKMeansExample.java\n",
            "spark-3.4.0-bin-hadoop3/examples/src/main/java/org/apache/spark/examples/ml/JavaLDAExample.java\n",
            "spark-3.4.0-bin-hadoop3/examples/src/main/java/org/apache/spark/examples/ml/JavaMaxAbsScalerExample.java\n",
            "spark-3.4.0-bin-hadoop3/examples/src/main/java/org/apache/spark/examples/ml/JavaRandomForestClassifierExample.java\n",
            "spark-3.4.0-bin-hadoop3/examples/src/main/java/org/apache/spark/examples/ml/JavaFMRegressorExample.java\n",
            "spark-3.4.0-bin-hadoop3/examples/src/main/java/org/apache/spark/examples/ml/JavaRobustScalerExample.java\n",
            "spark-3.4.0-bin-hadoop3/examples/src/main/java/org/apache/spark/examples/ml/JavaLogisticRegressionWithElasticNetExample.java\n",
            "spark-3.4.0-bin-hadoop3/examples/src/main/java/org/apache/spark/examples/ml/JavaVectorAssemblerExample.java\n",
            "spark-3.4.0-bin-hadoop3/examples/src/main/java/org/apache/spark/examples/ml/JavaAFTSurvivalRegressionExample.java\n",
            "spark-3.4.0-bin-hadoop3/examples/src/main/java/org/apache/spark/examples/ml/JavaOneVsRestExample.java\n",
            "spark-3.4.0-bin-hadoop3/examples/src/main/java/org/apache/spark/examples/ml/JavaInteractionExample.java\n",
            "spark-3.4.0-bin-hadoop3/examples/src/main/java/org/apache/spark/examples/ml/JavaGradientBoostedTreeRegressorExample.java\n",
            "spark-3.4.0-bin-hadoop3/examples/src/main/java/org/apache/spark/examples/ml/JavaIndexToStringExample.java\n",
            "spark-3.4.0-bin-hadoop3/examples/src/main/java/org/apache/spark/examples/ml/JavaPCAExample.java\n",
            "spark-3.4.0-bin-hadoop3/examples/src/main/java/org/apache/spark/examples/ml/JavaChiSquareTestExample.java\n",
            "spark-3.4.0-bin-hadoop3/examples/src/main/java/org/apache/spark/examples/ml/JavaFMClassifierExample.java\n",
            "spark-3.4.0-bin-hadoop3/examples/src/main/java/org/apache/spark/examples/ml/JavaOneHotEncoderExample.java\n",
            "spark-3.4.0-bin-hadoop3/examples/src/main/java/org/apache/spark/examples/ml/JavaImputerExample.java\n",
            "spark-3.4.0-bin-hadoop3/examples/src/main/java/org/apache/spark/examples/ml/JavaBucketedRandomProjectionLSHExample.java\n",
            "spark-3.4.0-bin-hadoop3/examples/src/main/java/org/apache/spark/examples/ml/JavaStringIndexerExample.java\n",
            "spark-3.4.0-bin-hadoop3/examples/src/main/java/org/apache/spark/examples/ml/JavaChiSqSelectorExample.java\n",
            "spark-3.4.0-bin-hadoop3/examples/src/main/java/org/apache/spark/examples/ml/JavaDecisionTreeRegressionExample.java\n",
            "spark-3.4.0-bin-hadoop3/examples/src/main/java/org/apache/spark/examples/ml/JavaModelSelectionViaCrossValidationExample.java\n",
            "spark-3.4.0-bin-hadoop3/examples/src/main/java/org/apache/spark/examples/ml/JavaGeneralizedLinearRegressionExample.java\n",
            "spark-3.4.0-bin-hadoop3/examples/src/main/java/org/apache/spark/examples/ml/JavaCorrelationExample.java\n",
            "spark-3.4.0-bin-hadoop3/examples/src/main/java/org/apache/spark/examples/ml/JavaElementwiseProductExample.java\n",
            "spark-3.4.0-bin-hadoop3/examples/src/main/java/org/apache/spark/examples/ml/JavaMultilayerPerceptronClassifierExample.java\n",
            "spark-3.4.0-bin-hadoop3/examples/src/main/java/org/apache/spark/examples/ml/JavaNGramExample.java\n",
            "spark-3.4.0-bin-hadoop3/examples/src/main/java/org/apache/spark/examples/ml/JavaTfIdfExample.java\n",
            "spark-3.4.0-bin-hadoop3/examples/src/main/java/org/apache/spark/examples/ml/JavaIsotonicRegressionExample.java\n",
            "spark-3.4.0-bin-hadoop3/examples/src/main/java/org/apache/spark/examples/ml/JavaFeatureHasherExample.java\n",
            "spark-3.4.0-bin-hadoop3/examples/src/main/java/org/apache/spark/examples/ml/JavaStopWordsRemoverExample.java\n",
            "spark-3.4.0-bin-hadoop3/examples/src/main/java/org/apache/spark/examples/ml/JavaEstimatorTransformerParamExample.java\n",
            "spark-3.4.0-bin-hadoop3/examples/src/main/java/org/apache/spark/examples/ml/JavaDocument.java\n",
            "spark-3.4.0-bin-hadoop3/examples/src/main/java/org/apache/spark/examples/ml/JavaModelSelectionViaTrainValidationSplitExample.java\n",
            "spark-3.4.0-bin-hadoop3/examples/src/main/java/org/apache/spark/examples/ml/JavaPrefixSpanExample.java\n",
            "spark-3.4.0-bin-hadoop3/examples/src/main/java/org/apache/spark/examples/ml/JavaFPGrowthExample.java\n",
            "spark-3.4.0-bin-hadoop3/examples/src/main/java/org/apache/spark/examples/ml/JavaGaussianMixtureExample.java\n",
            "spark-3.4.0-bin-hadoop3/examples/src/main/java/org/apache/spark/examples/mllib/\n",
            "spark-3.4.0-bin-hadoop3/examples/src/main/java/org/apache/spark/examples/mllib/JavaLBFGSExample.java\n",
            "spark-3.4.0-bin-hadoop3/examples/src/main/java/org/apache/spark/examples/mllib/JavaKMeansExample.java\n",
            "spark-3.4.0-bin-hadoop3/examples/src/main/java/org/apache/spark/examples/mllib/JavaStratifiedSamplingExample.java\n",
            "spark-3.4.0-bin-hadoop3/examples/src/main/java/org/apache/spark/examples/mllib/JavaMulticlassClassificationMetricsExample.java\n",
            "spark-3.4.0-bin-hadoop3/examples/src/main/java/org/apache/spark/examples/mllib/JavaRandomForestClassificationExample.java\n",
            "spark-3.4.0-bin-hadoop3/examples/src/main/java/org/apache/spark/examples/mllib/JavaAssociationRulesExample.java\n",
            "spark-3.4.0-bin-hadoop3/examples/src/main/java/org/apache/spark/examples/mllib/JavaSVDExample.java\n",
            "spark-3.4.0-bin-hadoop3/examples/src/main/java/org/apache/spark/examples/mllib/JavaRecommendationExample.java\n",
            "spark-3.4.0-bin-hadoop3/examples/src/main/java/org/apache/spark/examples/mllib/JavaHypothesisTestingExample.java\n",
            "spark-3.4.0-bin-hadoop3/examples/src/main/java/org/apache/spark/examples/mllib/JavaDecisionTreeClassificationExample.java\n",
            "spark-3.4.0-bin-hadoop3/examples/src/main/java/org/apache/spark/examples/mllib/JavaMultiLabelClassificationMetricsExample.java\n",
            "spark-3.4.0-bin-hadoop3/examples/src/main/java/org/apache/spark/examples/mllib/JavaPowerIterationClusteringExample.java\n",
            "spark-3.4.0-bin-hadoop3/examples/src/main/java/org/apache/spark/examples/mllib/JavaKernelDensityEstimationExample.java\n",
            "spark-3.4.0-bin-hadoop3/examples/src/main/java/org/apache/spark/examples/mllib/JavaNaiveBayesExample.java\n",
            "spark-3.4.0-bin-hadoop3/examples/src/main/java/org/apache/spark/examples/mllib/JavaSVMWithSGDExample.java\n",
            "spark-3.4.0-bin-hadoop3/examples/src/main/java/org/apache/spark/examples/mllib/JavaBisectingKMeansExample.java\n",
            "spark-3.4.0-bin-hadoop3/examples/src/main/java/org/apache/spark/examples/mllib/JavaLatentDirichletAllocationExample.java\n",
            "spark-3.4.0-bin-hadoop3/examples/src/main/java/org/apache/spark/examples/mllib/JavaBinaryClassificationMetricsExample.java\n",
            "spark-3.4.0-bin-hadoop3/examples/src/main/java/org/apache/spark/examples/mllib/JavaLogisticRegressionWithLBFGSExample.java\n",
            "spark-3.4.0-bin-hadoop3/examples/src/main/java/org/apache/spark/examples/mllib/JavaALS.java\n",
            "spark-3.4.0-bin-hadoop3/examples/src/main/java/org/apache/spark/examples/mllib/JavaStreamingTestExample.java\n",
            "spark-3.4.0-bin-hadoop3/examples/src/main/java/org/apache/spark/examples/mllib/JavaSimpleFPGrowth.java\n",
            "spark-3.4.0-bin-hadoop3/examples/src/main/java/org/apache/spark/examples/mllib/JavaPCAExample.java\n",
            "spark-3.4.0-bin-hadoop3/examples/src/main/java/org/apache/spark/examples/mllib/JavaGradientBoostingClassificationExample.java\n",
            "spark-3.4.0-bin-hadoop3/examples/src/main/java/org/apache/spark/examples/mllib/JavaRandomForestRegressionExample.java\n",
            "spark-3.4.0-bin-hadoop3/examples/src/main/java/org/apache/spark/examples/mllib/JavaHypothesisTestingKolmogorovSmirnovTestExample.java\n",
            "spark-3.4.0-bin-hadoop3/examples/src/main/java/org/apache/spark/examples/mllib/JavaChiSqSelectorExample.java\n",
            "spark-3.4.0-bin-hadoop3/examples/src/main/java/org/apache/spark/examples/mllib/JavaDecisionTreeRegressionExample.java\n",
            "spark-3.4.0-bin-hadoop3/examples/src/main/java/org/apache/spark/examples/mllib/JavaSummaryStatisticsExample.java\n",
            "spark-3.4.0-bin-hadoop3/examples/src/main/java/org/apache/spark/examples/mllib/JavaRankingMetricsExample.java\n",
            "spark-3.4.0-bin-hadoop3/examples/src/main/java/org/apache/spark/examples/mllib/JavaElementwiseProductExample.java\n",
            "spark-3.4.0-bin-hadoop3/examples/src/main/java/org/apache/spark/examples/mllib/JavaCorrelationsExample.java\n",
            "spark-3.4.0-bin-hadoop3/examples/src/main/java/org/apache/spark/examples/mllib/JavaIsotonicRegressionExample.java\n",
            "spark-3.4.0-bin-hadoop3/examples/src/main/java/org/apache/spark/examples/mllib/JavaPrefixSpanExample.java\n",
            "spark-3.4.0-bin-hadoop3/examples/src/main/java/org/apache/spark/examples/mllib/JavaGradientBoostingRegressionExample.java\n",
            "spark-3.4.0-bin-hadoop3/examples/src/main/java/org/apache/spark/examples/mllib/JavaGaussianMixtureExample.java\n",
            "spark-3.4.0-bin-hadoop3/examples/src/main/resources/\n",
            "spark-3.4.0-bin-hadoop3/examples/src/main/resources/users.parquet\n",
            "spark-3.4.0-bin-hadoop3/examples/src/main/resources/META-INF/\n",
            "spark-3.4.0-bin-hadoop3/examples/src/main/resources/META-INF/services/\n",
            "spark-3.4.0-bin-hadoop3/examples/src/main/resources/META-INF/services/org.apache.spark.sql.jdbc.JdbcConnectionProvider\n",
            "spark-3.4.0-bin-hadoop3/examples/src/main/resources/META-INF/services/org.apache.spark.sql.SparkSessionExtensionsProvider\n",
            "spark-3.4.0-bin-hadoop3/examples/src/main/resources/user.avsc\n",
            "spark-3.4.0-bin-hadoop3/examples/src/main/resources/employees.json\n",
            "spark-3.4.0-bin-hadoop3/examples/src/main/resources/dir1/\n",
            "spark-3.4.0-bin-hadoop3/examples/src/main/resources/dir1/file1.parquet\n",
            "spark-3.4.0-bin-hadoop3/examples/src/main/resources/dir1/file3.json\n",
            "spark-3.4.0-bin-hadoop3/examples/src/main/resources/dir1/dir2/\n",
            "spark-3.4.0-bin-hadoop3/examples/src/main/resources/dir1/dir2/file2.parquet\n",
            "spark-3.4.0-bin-hadoop3/examples/src/main/resources/users.avro\n",
            "spark-3.4.0-bin-hadoop3/examples/src/main/resources/kv1.txt\n",
            "spark-3.4.0-bin-hadoop3/examples/src/main/resources/people.json\n",
            "spark-3.4.0-bin-hadoop3/examples/src/main/resources/people.txt\n",
            "spark-3.4.0-bin-hadoop3/examples/src/main/resources/users.orc\n",
            "spark-3.4.0-bin-hadoop3/examples/src/main/resources/full_user.avsc\n",
            "spark-3.4.0-bin-hadoop3/examples/src/main/resources/people.csv\n",
            "spark-3.4.0-bin-hadoop3/conf/\n",
            "spark-3.4.0-bin-hadoop3/conf/metrics.properties.template\n",
            "spark-3.4.0-bin-hadoop3/conf/workers.template\n",
            "spark-3.4.0-bin-hadoop3/conf/spark-defaults.conf.template\n",
            "spark-3.4.0-bin-hadoop3/conf/log4j2.properties.template\n",
            "spark-3.4.0-bin-hadoop3/conf/spark-env.sh.template\n",
            "spark-3.4.0-bin-hadoop3/conf/fairscheduler.xml.template\n",
            "spark-3.4.0-bin-hadoop3/NOTICE\n",
            "spark-3.4.0-bin-hadoop3/yarn/\n",
            "spark-3.4.0-bin-hadoop3/yarn/spark-3.4.0-yarn-shuffle.jar\n",
            "spark-3.4.0-bin-hadoop3/python/\n",
            "spark-3.4.0-bin-hadoop3/python/.gitignore\n",
            "spark-3.4.0-bin-hadoop3/python/setup.cfg\n",
            "spark-3.4.0-bin-hadoop3/python/pyspark/\n",
            "spark-3.4.0-bin-hadoop3/python/pyspark/install.py\n",
            "spark-3.4.0-bin-hadoop3/python/pyspark/sql/\n",
            "spark-3.4.0-bin-hadoop3/python/pyspark/sql/connect/\n",
            "spark-3.4.0-bin-hadoop3/python/pyspark/sql/connect/dataframe.py\n",
            "spark-3.4.0-bin-hadoop3/python/pyspark/sql/connect/plan.py\n",
            "spark-3.4.0-bin-hadoop3/python/pyspark/sql/connect/_typing.py\n",
            "spark-3.4.0-bin-hadoop3/python/pyspark/sql/connect/__init__.py\n",
            "spark-3.4.0-bin-hadoop3/python/pyspark/sql/connect/proto/\n",
            "spark-3.4.0-bin-hadoop3/python/pyspark/sql/connect/proto/relations_pb2.py\n",
            "spark-3.4.0-bin-hadoop3/python/pyspark/sql/connect/proto/catalog_pb2.pyi\n",
            "spark-3.4.0-bin-hadoop3/python/pyspark/sql/connect/proto/common_pb2.py\n",
            "spark-3.4.0-bin-hadoop3/python/pyspark/sql/connect/proto/__init__.py\n",
            "spark-3.4.0-bin-hadoop3/python/pyspark/sql/connect/proto/base_pb2.pyi\n",
            "spark-3.4.0-bin-hadoop3/python/pyspark/sql/connect/proto/expressions_pb2.py\n",
            "spark-3.4.0-bin-hadoop3/python/pyspark/sql/connect/proto/commands_pb2.pyi\n",
            "spark-3.4.0-bin-hadoop3/python/pyspark/sql/connect/proto/base_pb2.py\n",
            "spark-3.4.0-bin-hadoop3/python/pyspark/sql/connect/proto/example_plugins_pb2.pyi\n",
            "spark-3.4.0-bin-hadoop3/python/pyspark/sql/connect/proto/commands_pb2.py\n",
            "spark-3.4.0-bin-hadoop3/python/pyspark/sql/connect/proto/expressions_pb2.pyi\n",
            "spark-3.4.0-bin-hadoop3/python/pyspark/sql/connect/proto/types_pb2.py\n",
            "spark-3.4.0-bin-hadoop3/python/pyspark/sql/connect/proto/relations_pb2.pyi\n",
            "spark-3.4.0-bin-hadoop3/python/pyspark/sql/connect/proto/common_pb2.pyi\n",
            "spark-3.4.0-bin-hadoop3/python/pyspark/sql/connect/proto/example_plugins_pb2.py\n",
            "spark-3.4.0-bin-hadoop3/python/pyspark/sql/connect/proto/catalog_pb2.py\n",
            "spark-3.4.0-bin-hadoop3/python/pyspark/sql/connect/proto/types_pb2.pyi\n",
            "spark-3.4.0-bin-hadoop3/python/pyspark/sql/connect/proto/base_pb2_grpc.py\n",
            "spark-3.4.0-bin-hadoop3/python/pyspark/sql/connect/window.py\n",
            "spark-3.4.0-bin-hadoop3/python/pyspark/sql/connect/readwriter.py\n",
            "spark-3.4.0-bin-hadoop3/python/pyspark/sql/connect/column.py\n",
            "spark-3.4.0-bin-hadoop3/python/pyspark/sql/connect/utils.py\n",
            "spark-3.4.0-bin-hadoop3/python/pyspark/sql/connect/session.py\n",
            "spark-3.4.0-bin-hadoop3/python/pyspark/sql/connect/functions.py\n",
            "spark-3.4.0-bin-hadoop3/python/pyspark/sql/connect/udf.py\n",
            "spark-3.4.0-bin-hadoop3/python/pyspark/sql/connect/types.py\n",
            "spark-3.4.0-bin-hadoop3/python/pyspark/sql/connect/conf.py\n",
            "spark-3.4.0-bin-hadoop3/python/pyspark/sql/connect/group.py\n",
            "spark-3.4.0-bin-hadoop3/python/pyspark/sql/connect/catalog.py\n",
            "spark-3.4.0-bin-hadoop3/python/pyspark/sql/connect/client.py\n",
            "spark-3.4.0-bin-hadoop3/python/pyspark/sql/connect/expressions.py\n",
            "spark-3.4.0-bin-hadoop3/python/pyspark/sql/connect/conversion.py\n",
            "spark-3.4.0-bin-hadoop3/python/pyspark/sql/dataframe.py\n",
            "spark-3.4.0-bin-hadoop3/python/pyspark/sql/sql_formatter.py\n",
            "spark-3.4.0-bin-hadoop3/python/pyspark/sql/observation.py\n",
            "spark-3.4.0-bin-hadoop3/python/pyspark/sql/streaming/\n",
            "spark-3.4.0-bin-hadoop3/python/pyspark/sql/streaming/__init__.py\n",
            "spark-3.4.0-bin-hadoop3/python/pyspark/sql/streaming/listener.py\n",
            "spark-3.4.0-bin-hadoop3/python/pyspark/sql/streaming/readwriter.py\n",
            "spark-3.4.0-bin-hadoop3/python/pyspark/sql/streaming/query.py\n",
            "spark-3.4.0-bin-hadoop3/python/pyspark/sql/streaming/state.py\n",
            "spark-3.4.0-bin-hadoop3/python/pyspark/sql/avro/\n",
            "spark-3.4.0-bin-hadoop3/python/pyspark/sql/avro/__init__.py\n",
            "spark-3.4.0-bin-hadoop3/python/pyspark/sql/avro/functions.py\n",
            "spark-3.4.0-bin-hadoop3/python/pyspark/sql/__init__.py\n",
            "spark-3.4.0-bin-hadoop3/python/pyspark/sql/tests/\n",
            "spark-3.4.0-bin-hadoop3/python/pyspark/sql/tests/connect/\n",
            "spark-3.4.0-bin-hadoop3/python/pyspark/sql/tests/connect/test_connect_function.py\n",
            "spark-3.4.0-bin-hadoop3/python/pyspark/sql/tests/connect/test_parity_group.py\n",
            "spark-3.4.0-bin-hadoop3/python/pyspark/sql/tests/connect/test_parity_catalog.py\n",
            "spark-3.4.0-bin-hadoop3/python/pyspark/sql/tests/connect/test_parity_arrow.py\n",
            "spark-3.4.0-bin-hadoop3/python/pyspark/sql/tests/connect/test_connect_plan.py\n",
            "spark-3.4.0-bin-hadoop3/python/pyspark/sql/tests/connect/__init__.py\n",
            "spark-3.4.0-bin-hadoop3/python/pyspark/sql/tests/connect/test_parity_conf.py\n",
            "spark-3.4.0-bin-hadoop3/python/pyspark/sql/tests/connect/test_parity_udf.py\n",
            "spark-3.4.0-bin-hadoop3/python/pyspark/sql/tests/connect/test_parity_dataframe.py\n",
            "spark-3.4.0-bin-hadoop3/python/pyspark/sql/tests/connect/test_parity_pandas_map.py\n",
            "spark-3.4.0-bin-hadoop3/python/pyspark/sql/tests/connect/test_parity_arrow_map.py\n",
            "spark-3.4.0-bin-hadoop3/python/pyspark/sql/tests/connect/test_parity_pandas_udf.py\n",
            "spark-3.4.0-bin-hadoop3/python/pyspark/sql/tests/connect/test_connect_column.py\n",
            "spark-3.4.0-bin-hadoop3/python/pyspark/sql/tests/connect/test_parity_pandas_grouped_map.py\n",
            "spark-3.4.0-bin-hadoop3/python/pyspark/sql/tests/connect/test_parity_types.py\n",
            "spark-3.4.0-bin-hadoop3/python/pyspark/sql/tests/connect/test_parity_datasources.py\n",
            "spark-3.4.0-bin-hadoop3/python/pyspark/sql/tests/connect/test_parity_column.py\n",
            "spark-3.4.0-bin-hadoop3/python/pyspark/sql/tests/connect/test_connect_basic.py\n",
            "spark-3.4.0-bin-hadoop3/python/pyspark/sql/tests/connect/test_client.py\n",
            "spark-3.4.0-bin-hadoop3/python/pyspark/sql/tests/connect/test_parity_errors.py\n",
            "spark-3.4.0-bin-hadoop3/python/pyspark/sql/tests/connect/test_parity_functions.py\n",
            "spark-3.4.0-bin-hadoop3/python/pyspark/sql/tests/connect/test_parity_serde.py\n",
            "spark-3.4.0-bin-hadoop3/python/pyspark/sql/tests/connect/test_parity_readwriter.py\n",
            "spark-3.4.0-bin-hadoop3/python/pyspark/sql/tests/connect/test_parity_pandas_cogrouped_map.py\n",
            "spark-3.4.0-bin-hadoop3/python/pyspark/sql/tests/test_conf.py\n",
            "spark-3.4.0-bin-hadoop3/python/pyspark/sql/tests/test_errors.py\n",
            "spark-3.4.0-bin-hadoop3/python/pyspark/sql/tests/test_session.py\n",
            "spark-3.4.0-bin-hadoop3/python/pyspark/sql/tests/test_group.py\n",
            "spark-3.4.0-bin-hadoop3/python/pyspark/sql/tests/streaming/\n",
            "spark-3.4.0-bin-hadoop3/python/pyspark/sql/tests/streaming/__init__.py\n",
            "spark-3.4.0-bin-hadoop3/python/pyspark/sql/tests/streaming/test_streaming_listener.py\n",
            "spark-3.4.0-bin-hadoop3/python/pyspark/sql/tests/streaming/test_streaming.py\n",
            "spark-3.4.0-bin-hadoop3/python/pyspark/sql/tests/test_arrow.py\n",
            "spark-3.4.0-bin-hadoop3/python/pyspark/sql/tests/__init__.py\n",
            "spark-3.4.0-bin-hadoop3/python/pyspark/sql/tests/test_dataframe.py\n",
            "spark-3.4.0-bin-hadoop3/python/pyspark/sql/tests/test_catalog.py\n",
            "spark-3.4.0-bin-hadoop3/python/pyspark/sql/tests/test_utils.py\n",
            "spark-3.4.0-bin-hadoop3/python/pyspark/sql/tests/test_arrow_map.py\n",
            "spark-3.4.0-bin-hadoop3/python/pyspark/sql/tests/test_column.py\n",
            "spark-3.4.0-bin-hadoop3/python/pyspark/sql/tests/test_types.py\n",
            "spark-3.4.0-bin-hadoop3/python/pyspark/sql/tests/test_udf_profiler.py\n",
            "spark-3.4.0-bin-hadoop3/python/pyspark/sql/tests/test_datasources.py\n",
            "spark-3.4.0-bin-hadoop3/python/pyspark/sql/tests/pandas/\n",
            "spark-3.4.0-bin-hadoop3/python/pyspark/sql/tests/pandas/test_pandas_map.py\n",
            "spark-3.4.0-bin-hadoop3/python/pyspark/sql/tests/pandas/test_pandas_udf_typehints.py\n",
            "spark-3.4.0-bin-hadoop3/python/pyspark/sql/tests/pandas/test_pandas_grouped_map_with_state.py\n",
            "spark-3.4.0-bin-hadoop3/python/pyspark/sql/tests/pandas/__init__.py\n",
            "spark-3.4.0-bin-hadoop3/python/pyspark/sql/tests/pandas/test_pandas_grouped_map.py\n",
            "spark-3.4.0-bin-hadoop3/python/pyspark/sql/tests/pandas/test_pandas_udf_grouped_agg.py\n",
            "spark-3.4.0-bin-hadoop3/python/pyspark/sql/tests/pandas/test_pandas_udf.py\n",
            "spark-3.4.0-bin-hadoop3/python/pyspark/sql/tests/pandas/test_pandas_udf_window.py\n",
            "spark-3.4.0-bin-hadoop3/python/pyspark/sql/tests/pandas/test_pandas_cogrouped_map.py\n",
            "spark-3.4.0-bin-hadoop3/python/pyspark/sql/tests/pandas/test_pandas_udf_scalar.py\n",
            "spark-3.4.0-bin-hadoop3/python/pyspark/sql/tests/pandas/test_pandas_udf_typehints_with_future_annotations.py\n",
            "spark-3.4.0-bin-hadoop3/python/pyspark/sql/tests/test_functions.py\n",
            "spark-3.4.0-bin-hadoop3/python/pyspark/sql/tests/test_readwriter.py\n",
            "spark-3.4.0-bin-hadoop3/python/pyspark/sql/tests/test_pandas_sqlmetrics.py\n",
            "spark-3.4.0-bin-hadoop3/python/pyspark/sql/tests/test_serde.py\n",
            "spark-3.4.0-bin-hadoop3/python/pyspark/sql/tests/typing/\n",
            "spark-3.4.0-bin-hadoop3/python/pyspark/sql/tests/typing/test_dataframe.yml\n",
            "spark-3.4.0-bin-hadoop3/python/pyspark/sql/tests/typing/test_column.yml\n",
            "spark-3.4.0-bin-hadoop3/python/pyspark/sql/tests/typing/test_udf.yml\n",
            "spark-3.4.0-bin-hadoop3/python/pyspark/sql/tests/typing/test_functions.yml\n",
            "spark-3.4.0-bin-hadoop3/python/pyspark/sql/tests/typing/test_readwriter.yml\n",
            "spark-3.4.0-bin-hadoop3/python/pyspark/sql/tests/typing/test_session.yml\n",
            "spark-3.4.0-bin-hadoop3/python/pyspark/sql/tests/test_arrow_python_udf.py\n",
            "spark-3.4.0-bin-hadoop3/python/pyspark/sql/tests/test_udf.py\n",
            "spark-3.4.0-bin-hadoop3/python/pyspark/sql/tests/test_context.py\n",
            "spark-3.4.0-bin-hadoop3/python/pyspark/sql/context.py\n",
            "spark-3.4.0-bin-hadoop3/python/pyspark/sql/window.py\n",
            "spark-3.4.0-bin-hadoop3/python/pyspark/sql/readwriter.py\n",
            "spark-3.4.0-bin-hadoop3/python/pyspark/sql/column.py\n",
            "spark-3.4.0-bin-hadoop3/python/pyspark/sql/utils.py\n",
            "spark-3.4.0-bin-hadoop3/python/pyspark/sql/_typing.pyi\n",
            "spark-3.4.0-bin-hadoop3/python/pyspark/sql/session.py\n",
            "spark-3.4.0-bin-hadoop3/python/pyspark/sql/protobuf/\n",
            "spark-3.4.0-bin-hadoop3/python/pyspark/sql/protobuf/__init__.py\n",
            "spark-3.4.0-bin-hadoop3/python/pyspark/sql/protobuf/functions.py\n",
            "spark-3.4.0-bin-hadoop3/python/pyspark/sql/pandas/\n",
            "spark-3.4.0-bin-hadoop3/python/pyspark/sql/pandas/serializers.py\n",
            "spark-3.4.0-bin-hadoop3/python/pyspark/sql/pandas/map_ops.py\n",
            "spark-3.4.0-bin-hadoop3/python/pyspark/sql/pandas/__init__.py\n",
            "spark-3.4.0-bin-hadoop3/python/pyspark/sql/pandas/typehints.py\n",
            "spark-3.4.0-bin-hadoop3/python/pyspark/sql/pandas/utils.py\n",
            "spark-3.4.0-bin-hadoop3/python/pyspark/sql/pandas/_typing/\n",
            "spark-3.4.0-bin-hadoop3/python/pyspark/sql/pandas/_typing/__init__.pyi\n",
            "spark-3.4.0-bin-hadoop3/python/pyspark/sql/pandas/_typing/protocols/\n",
            "spark-3.4.0-bin-hadoop3/python/pyspark/sql/pandas/_typing/protocols/__init__.pyi\n",
            "spark-3.4.0-bin-hadoop3/python/pyspark/sql/pandas/_typing/protocols/series.pyi\n",
            "spark-3.4.0-bin-hadoop3/python/pyspark/sql/pandas/_typing/protocols/frame.pyi\n",
            "spark-3.4.0-bin-hadoop3/python/pyspark/sql/pandas/functions.pyi\n",
            "spark-3.4.0-bin-hadoop3/python/pyspark/sql/pandas/functions.py\n",
            "spark-3.4.0-bin-hadoop3/python/pyspark/sql/pandas/types.py\n",
            "spark-3.4.0-bin-hadoop3/python/pyspark/sql/pandas/group_ops.py\n",
            "spark-3.4.0-bin-hadoop3/python/pyspark/sql/pandas/conversion.py\n",
            "spark-3.4.0-bin-hadoop3/python/pyspark/sql/functions.py\n",
            "spark-3.4.0-bin-hadoop3/python/pyspark/sql/udf.py\n",
            "spark-3.4.0-bin-hadoop3/python/pyspark/sql/types.py\n",
            "spark-3.4.0-bin-hadoop3/python/pyspark/sql/conf.py\n",
            "spark-3.4.0-bin-hadoop3/python/pyspark/sql/group.py\n",
            "spark-3.4.0-bin-hadoop3/python/pyspark/sql/catalog.py\n",
            "spark-3.4.0-bin-hadoop3/python/pyspark/serializers.py\n",
            "spark-3.4.0-bin-hadoop3/python/pyspark/testing/\n",
            "spark-3.4.0-bin-hadoop3/python/pyspark/testing/__init__.py\n",
            "spark-3.4.0-bin-hadoop3/python/pyspark/testing/connectutils.py\n",
            "spark-3.4.0-bin-hadoop3/python/pyspark/testing/mllibutils.py\n",
            "spark-3.4.0-bin-hadoop3/python/pyspark/testing/pandasutils.py\n",
            "spark-3.4.0-bin-hadoop3/python/pyspark/testing/mlutils.py\n",
            "spark-3.4.0-bin-hadoop3/python/pyspark/testing/utils.py\n",
            "spark-3.4.0-bin-hadoop3/python/pyspark/testing/streamingutils.py\n",
            "spark-3.4.0-bin-hadoop3/python/pyspark/testing/sqlutils.py\n",
            "spark-3.4.0-bin-hadoop3/python/pyspark/streaming/\n",
            "spark-3.4.0-bin-hadoop3/python/pyspark/streaming/dstream.py\n",
            "spark-3.4.0-bin-hadoop3/python/pyspark/streaming/__init__.py\n",
            "spark-3.4.0-bin-hadoop3/python/pyspark/streaming/kinesis.py\n",
            "spark-3.4.0-bin-hadoop3/python/pyspark/streaming/tests/\n",
            "spark-3.4.0-bin-hadoop3/python/pyspark/streaming/tests/__init__.py\n",
            "spark-3.4.0-bin-hadoop3/python/pyspark/streaming/tests/test_listener.py\n",
            "spark-3.4.0-bin-hadoop3/python/pyspark/streaming/tests/test_context.py\n",
            "spark-3.4.0-bin-hadoop3/python/pyspark/streaming/tests/test_kinesis.py\n",
            "spark-3.4.0-bin-hadoop3/python/pyspark/streaming/tests/test_dstream.py\n",
            "spark-3.4.0-bin-hadoop3/python/pyspark/streaming/listener.py\n",
            "spark-3.4.0-bin-hadoop3/python/pyspark/streaming/context.py\n",
            "spark-3.4.0-bin-hadoop3/python/pyspark/streaming/util.py\n",
            "spark-3.4.0-bin-hadoop3/python/pyspark/resource/\n",
            "spark-3.4.0-bin-hadoop3/python/pyspark/resource/profile.py\n",
            "spark-3.4.0-bin-hadoop3/python/pyspark/resource/__init__.py\n",
            "spark-3.4.0-bin-hadoop3/python/pyspark/resource/tests/\n",
            "spark-3.4.0-bin-hadoop3/python/pyspark/resource/tests/__init__.py\n",
            "spark-3.4.0-bin-hadoop3/python/pyspark/resource/tests/test_resources.py\n",
            "spark-3.4.0-bin-hadoop3/python/pyspark/resource/requests.py\n",
            "spark-3.4.0-bin-hadoop3/python/pyspark/resource/information.py\n",
            "spark-3.4.0-bin-hadoop3/python/pyspark/_globals.py\n",
            "spark-3.4.0-bin-hadoop3/python/pyspark/statcounter.py\n",
            "spark-3.4.0-bin-hadoop3/python/pyspark/__init__.py\n",
            "spark-3.4.0-bin-hadoop3/python/pyspark/cloudpickle/\n",
            "spark-3.4.0-bin-hadoop3/python/pyspark/cloudpickle/compat.py\n",
            "spark-3.4.0-bin-hadoop3/python/pyspark/cloudpickle/cloudpickle.py\n",
            "spark-3.4.0-bin-hadoop3/python/pyspark/cloudpickle/__init__.py\n",
            "spark-3.4.0-bin-hadoop3/python/pyspark/cloudpickle/cloudpickle_fast.py\n",
            "spark-3.4.0-bin-hadoop3/python/pyspark/tests/\n",
            "spark-3.4.0-bin-hadoop3/python/pyspark/tests/test_statcounter.py\n",
            "spark-3.4.0-bin-hadoop3/python/pyspark/tests/test_conf.py\n",
            "spark-3.4.0-bin-hadoop3/python/pyspark/tests/test_taskcontext.py\n",
            "spark-3.4.0-bin-hadoop3/python/pyspark/tests/test_profiler.py\n",
            "spark-3.4.0-bin-hadoop3/python/pyspark/tests/test_rddbarrier.py\n",
            "spark-3.4.0-bin-hadoop3/python/pyspark/tests/test_util.py\n",
            "spark-3.4.0-bin-hadoop3/python/pyspark/tests/test_shuffle.py\n",
            "spark-3.4.0-bin-hadoop3/python/pyspark/tests/__init__.py\n",
            "spark-3.4.0-bin-hadoop3/python/pyspark/tests/test_rdd.py\n",
            "spark-3.4.0-bin-hadoop3/python/pyspark/tests/test_broadcast.py\n",
            "spark-3.4.0-bin-hadoop3/python/pyspark/tests/test_serializers.py\n",
            "spark-3.4.0-bin-hadoop3/python/pyspark/tests/test_memory_profiler.py\n",
            "spark-3.4.0-bin-hadoop3/python/pyspark/tests/test_worker.py\n",
            "spark-3.4.0-bin-hadoop3/python/pyspark/tests/test_readwrite.py\n",
            "spark-3.4.0-bin-hadoop3/python/pyspark/tests/test_pin_thread.py\n",
            "spark-3.4.0-bin-hadoop3/python/pyspark/tests/test_appsubmit.py\n",
            "spark-3.4.0-bin-hadoop3/python/pyspark/tests/test_install_spark.py\n",
            "spark-3.4.0-bin-hadoop3/python/pyspark/tests/typing/\n",
            "spark-3.4.0-bin-hadoop3/python/pyspark/tests/typing/test_rdd.yml\n",
            "spark-3.4.0-bin-hadoop3/python/pyspark/tests/typing/test_core.yml\n",
            "spark-3.4.0-bin-hadoop3/python/pyspark/tests/typing/test_context.yml\n",
            "spark-3.4.0-bin-hadoop3/python/pyspark/tests/typing/test_resultiterable.yml\n",
            "spark-3.4.0-bin-hadoop3/python/pyspark/tests/test_context.py\n",
            "spark-3.4.0-bin-hadoop3/python/pyspark/tests/test_rddsampler.py\n",
            "spark-3.4.0-bin-hadoop3/python/pyspark/tests/test_join.py\n",
            "spark-3.4.0-bin-hadoop3/python/pyspark/tests/test_stage_sched.py\n",
            "spark-3.4.0-bin-hadoop3/python/pyspark/tests/test_daemon.py\n",
            "spark-3.4.0-bin-hadoop3/python/pyspark/taskcontext.py\n",
            "spark-3.4.0-bin-hadoop3/python/pyspark/resultiterable.py\n",
            "spark-3.4.0-bin-hadoop3/python/pyspark/rdd.py\n",
            "spark-3.4.0-bin-hadoop3/python/pyspark/context.py\n",
            "spark-3.4.0-bin-hadoop3/python/pyspark/traceback_utils.py\n",
            "spark-3.4.0-bin-hadoop3/python/pyspark/status.py\n",
            "spark-3.4.0-bin-hadoop3/python/pyspark/daemon.py\n",
            "spark-3.4.0-bin-hadoop3/python/pyspark/files.py\n",
            "spark-3.4.0-bin-hadoop3/python/pyspark/version.py\n",
            "spark-3.4.0-bin-hadoop3/python/pyspark/__pycache__/\n",
            "spark-3.4.0-bin-hadoop3/python/pyspark/__pycache__/install.cpython-38.pyc\n",
            "spark-3.4.0-bin-hadoop3/python/pyspark/shuffle.py\n",
            "spark-3.4.0-bin-hadoop3/python/pyspark/_typing.pyi\n",
            "spark-3.4.0-bin-hadoop3/python/pyspark/py.typed\n",
            "spark-3.4.0-bin-hadoop3/python/pyspark/broadcast.py\n",
            "spark-3.4.0-bin-hadoop3/python/pyspark/find_spark_home.py\n",
            "spark-3.4.0-bin-hadoop3/python/pyspark/pandas/\n",
            "spark-3.4.0-bin-hadoop3/python/pyspark/pandas/resample.py\n",
            "spark-3.4.0-bin-hadoop3/python/pyspark/pandas/_typing.py\n",
            "spark-3.4.0-bin-hadoop3/python/pyspark/pandas/sql_formatter.py\n",
            "spark-3.4.0-bin-hadoop3/python/pyspark/pandas/typedef/\n",
            "spark-3.4.0-bin-hadoop3/python/pyspark/pandas/typedef/__init__.py\n",
            "spark-3.4.0-bin-hadoop3/python/pyspark/pandas/typedef/typehints.py\n",
            "spark-3.4.0-bin-hadoop3/python/pyspark/pandas/plot/\n",
            "spark-3.4.0-bin-hadoop3/python/pyspark/pandas/plot/core.py\n",
            "spark-3.4.0-bin-hadoop3/python/pyspark/pandas/plot/__init__.py\n",
            "spark-3.4.0-bin-hadoop3/python/pyspark/pandas/plot/matplotlib.py\n",
            "spark-3.4.0-bin-hadoop3/python/pyspark/pandas/plot/plotly.py\n",
            "spark-3.4.0-bin-hadoop3/python/pyspark/pandas/series.py\n",
            "spark-3.4.0-bin-hadoop3/python/pyspark/pandas/__init__.py\n",
            "spark-3.4.0-bin-hadoop3/python/pyspark/pandas/supported_api_gen.py\n",
            "spark-3.4.0-bin-hadoop3/python/pyspark/pandas/tests/\n",
            "spark-3.4.0-bin-hadoop3/python/pyspark/pandas/tests/test_indexing.py\n",
            "spark-3.4.0-bin-hadoop3/python/pyspark/pandas/tests/test_config.py\n",
            "spark-3.4.0-bin-hadoop3/python/pyspark/pandas/tests/test_frame_spark.py\n",
            "spark-3.4.0-bin-hadoop3/python/pyspark/pandas/tests/test_window.py\n",
            "spark-3.4.0-bin-hadoop3/python/pyspark/pandas/tests/test_series.py\n",
            "spark-3.4.0-bin-hadoop3/python/pyspark/pandas/tests/test_groupby_slow.py\n",
            "spark-3.4.0-bin-hadoop3/python/pyspark/pandas/tests/plot/\n",
            "spark-3.4.0-bin-hadoop3/python/pyspark/pandas/tests/plot/test_frame_plot_plotly.py\n",
            "spark-3.4.0-bin-hadoop3/python/pyspark/pandas/tests/plot/test_frame_plot.py\n",
            "spark-3.4.0-bin-hadoop3/python/pyspark/pandas/tests/plot/__init__.py\n",
            "spark-3.4.0-bin-hadoop3/python/pyspark/pandas/tests/plot/test_series_plot.py\n",
            "spark-3.4.0-bin-hadoop3/python/pyspark/pandas/tests/plot/test_series_plot_plotly.py\n",
            "spark-3.4.0-bin-hadoop3/python/pyspark/pandas/tests/plot/test_series_plot_matplotlib.py\n",
            "spark-3.4.0-bin-hadoop3/python/pyspark/pandas/tests/plot/test_frame_plot_matplotlib.py\n",
            "spark-3.4.0-bin-hadoop3/python/pyspark/pandas/tests/test_extension.py\n",
            "spark-3.4.0-bin-hadoop3/python/pyspark/pandas/tests/test_scalars.py\n",
            "spark-3.4.0-bin-hadoop3/python/pyspark/pandas/tests/test_dataframe_conversion.py\n",
            "spark-3.4.0-bin-hadoop3/python/pyspark/pandas/tests/__init__.py\n",
            "spark-3.4.0-bin-hadoop3/python/pyspark/pandas/tests/test_dataframe.py\n",
            "spark-3.4.0-bin-hadoop3/python/pyspark/pandas/tests/test_series_string.py\n",
            "spark-3.4.0-bin-hadoop3/python/pyspark/pandas/tests/test_ops_on_diff_frames_groupby.py\n",
            "spark-3.4.0-bin-hadoop3/python/pyspark/pandas/tests/test_sql.py\n",
            "spark-3.4.0-bin-hadoop3/python/pyspark/pandas/tests/test_utils.py\n",
            "spark-3.4.0-bin-hadoop3/python/pyspark/pandas/tests/test_stats.py\n",
            "spark-3.4.0-bin-hadoop3/python/pyspark/pandas/tests/test_dataframe_spark_io.py\n",
            "spark-3.4.0-bin-hadoop3/python/pyspark/pandas/tests/test_repr.py\n",
            "spark-3.4.0-bin-hadoop3/python/pyspark/pandas/tests/test_series_conversion.py\n",
            "spark-3.4.0-bin-hadoop3/python/pyspark/pandas/tests/test_ops_on_diff_frames_slow.py\n",
            "spark-3.4.0-bin-hadoop3/python/pyspark/pandas/tests/data_type_ops/\n",
            "spark-3.4.0-bin-hadoop3/python/pyspark/pandas/tests/data_type_ops/test_date_ops.py\n",
            "spark-3.4.0-bin-hadoop3/python/pyspark/pandas/tests/data_type_ops/test_datetime_ops.py\n",
            "spark-3.4.0-bin-hadoop3/python/pyspark/pandas/tests/data_type_ops/__init__.py\n",
            "spark-3.4.0-bin-hadoop3/python/pyspark/pandas/tests/data_type_ops/test_timedelta_ops.py\n",
            "spark-3.4.0-bin-hadoop3/python/pyspark/pandas/tests/data_type_ops/test_null_ops.py\n",
            "spark-3.4.0-bin-hadoop3/python/pyspark/pandas/tests/data_type_ops/test_udt_ops.py\n",
            "spark-3.4.0-bin-hadoop3/python/pyspark/pandas/tests/data_type_ops/test_string_ops.py\n",
            "spark-3.4.0-bin-hadoop3/python/pyspark/pandas/tests/data_type_ops/test_binary_ops.py\n",
            "spark-3.4.0-bin-hadoop3/python/pyspark/pandas/tests/data_type_ops/test_categorical_ops.py\n",
            "spark-3.4.0-bin-hadoop3/python/pyspark/pandas/tests/data_type_ops/test_boolean_ops.py\n",
            "spark-3.4.0-bin-hadoop3/python/pyspark/pandas/tests/data_type_ops/test_num_ops.py\n",
            "spark-3.4.0-bin-hadoop3/python/pyspark/pandas/tests/data_type_ops/test_complex_ops.py\n",
            "spark-3.4.0-bin-hadoop3/python/pyspark/pandas/tests/data_type_ops/test_base.py\n",
            "spark-3.4.0-bin-hadoop3/python/pyspark/pandas/tests/data_type_ops/testing_utils.py\n",
            "spark-3.4.0-bin-hadoop3/python/pyspark/pandas/tests/test_generic_functions.py\n",
            "spark-3.4.0-bin-hadoop3/python/pyspark/pandas/tests/test_series_datetime.py\n",
            "spark-3.4.0-bin-hadoop3/python/pyspark/pandas/tests/test_ops_on_diff_frames_groupby_rolling.py\n",
            "spark-3.4.0-bin-hadoop3/python/pyspark/pandas/tests/test_groupby.py\n",
            "spark-3.4.0-bin-hadoop3/python/pyspark/pandas/tests/test_dataframe_slow.py\n",
            "spark-3.4.0-bin-hadoop3/python/pyspark/pandas/tests/test_namespace.py\n",
            "spark-3.4.0-bin-hadoop3/python/pyspark/pandas/tests/test_default_index.py\n",
            "spark-3.4.0-bin-hadoop3/python/pyspark/pandas/tests/test_reshape.py\n",
            "spark-3.4.0-bin-hadoop3/python/pyspark/pandas/tests/test_ewm.py\n",
            "spark-3.4.0-bin-hadoop3/python/pyspark/pandas/tests/test_spark_functions.py\n",
            "spark-3.4.0-bin-hadoop3/python/pyspark/pandas/tests/test_ops_on_diff_frames_groupby_expanding.py\n",
            "spark-3.4.0-bin-hadoop3/python/pyspark/pandas/tests/test_typedef.py\n",
            "spark-3.4.0-bin-hadoop3/python/pyspark/pandas/tests/test_csv.py\n",
            "spark-3.4.0-bin-hadoop3/python/pyspark/pandas/tests/test_expanding.py\n",
            "spark-3.4.0-bin-hadoop3/python/pyspark/pandas/tests/indexes/\n",
            "spark-3.4.0-bin-hadoop3/python/pyspark/pandas/tests/indexes/__init__.py\n",
            "spark-3.4.0-bin-hadoop3/python/pyspark/pandas/tests/indexes/test_category.py\n",
            "spark-3.4.0-bin-hadoop3/python/pyspark/pandas/tests/indexes/test_base.py\n",
            "spark-3.4.0-bin-hadoop3/python/pyspark/pandas/tests/indexes/test_timedelta.py\n",
            "spark-3.4.0-bin-hadoop3/python/pyspark/pandas/tests/indexes/test_datetime.py\n",
            "spark-3.4.0-bin-hadoop3/python/pyspark/pandas/tests/test_categorical.py\n",
            "spark-3.4.0-bin-hadoop3/python/pyspark/pandas/tests/test_internal.py\n",
            "spark-3.4.0-bin-hadoop3/python/pyspark/pandas/tests/test_ops_on_diff_frames.py\n",
            "spark-3.4.0-bin-hadoop3/python/pyspark/pandas/tests/test_rolling.py\n",
            "spark-3.4.0-bin-hadoop3/python/pyspark/pandas/tests/test_indexops_spark.py\n",
            "spark-3.4.0-bin-hadoop3/python/pyspark/pandas/tests/test_numpy_compat.py\n",
            "spark-3.4.0-bin-hadoop3/python/pyspark/pandas/tests/test_resample.py\n",
            "spark-3.4.0-bin-hadoop3/python/pyspark/pandas/exceptions.py\n",
            "spark-3.4.0-bin-hadoop3/python/pyspark/pandas/missing/\n",
            "spark-3.4.0-bin-hadoop3/python/pyspark/pandas/missing/resample.py\n",
            "spark-3.4.0-bin-hadoop3/python/pyspark/pandas/missing/series.py\n",
            "spark-3.4.0-bin-hadoop3/python/pyspark/pandas/missing/__init__.py\n",
            "spark-3.4.0-bin-hadoop3/python/pyspark/pandas/missing/scalars.py\n",
            "spark-3.4.0-bin-hadoop3/python/pyspark/pandas/missing/window.py\n",
            "spark-3.4.0-bin-hadoop3/python/pyspark/pandas/missing/frame.py\n",
            "spark-3.4.0-bin-hadoop3/python/pyspark/pandas/missing/common.py\n",
            "spark-3.4.0-bin-hadoop3/python/pyspark/pandas/missing/indexes.py\n",
            "spark-3.4.0-bin-hadoop3/python/pyspark/pandas/missing/groupby.py\n",
            "spark-3.4.0-bin-hadoop3/python/pyspark/pandas/missing/general_functions.py\n",
            "spark-3.4.0-bin-hadoop3/python/pyspark/pandas/window.py\n",
            "spark-3.4.0-bin-hadoop3/python/pyspark/pandas/config.py\n",
            "spark-3.4.0-bin-hadoop3/python/pyspark/pandas/data_type_ops/\n",
            "spark-3.4.0-bin-hadoop3/python/pyspark/pandas/data_type_ops/timedelta_ops.py\n",
            "spark-3.4.0-bin-hadoop3/python/pyspark/pandas/data_type_ops/null_ops.py\n",
            "spark-3.4.0-bin-hadoop3/python/pyspark/pandas/data_type_ops/__init__.py\n",
            "spark-3.4.0-bin-hadoop3/python/pyspark/pandas/data_type_ops/complex_ops.py\n",
            "spark-3.4.0-bin-hadoop3/python/pyspark/pandas/data_type_ops/num_ops.py\n",
            "spark-3.4.0-bin-hadoop3/python/pyspark/pandas/data_type_ops/categorical_ops.py\n",
            "spark-3.4.0-bin-hadoop3/python/pyspark/pandas/data_type_ops/udt_ops.py\n",
            "spark-3.4.0-bin-hadoop3/python/pyspark/pandas/data_type_ops/binary_ops.py\n",
            "spark-3.4.0-bin-hadoop3/python/pyspark/pandas/data_type_ops/base.py\n",
            "spark-3.4.0-bin-hadoop3/python/pyspark/pandas/data_type_ops/boolean_ops.py\n",
            "spark-3.4.0-bin-hadoop3/python/pyspark/pandas/data_type_ops/string_ops.py\n",
            "spark-3.4.0-bin-hadoop3/python/pyspark/pandas/data_type_ops/datetime_ops.py\n",
            "spark-3.4.0-bin-hadoop3/python/pyspark/pandas/data_type_ops/date_ops.py\n",
            "spark-3.4.0-bin-hadoop3/python/pyspark/pandas/frame.py\n",
            "spark-3.4.0-bin-hadoop3/python/pyspark/pandas/categorical.py\n",
            "spark-3.4.0-bin-hadoop3/python/pyspark/pandas/strings.py\n",
            "spark-3.4.0-bin-hadoop3/python/pyspark/pandas/utils.py\n",
            "spark-3.4.0-bin-hadoop3/python/pyspark/pandas/numpy_compat.py\n",
            "spark-3.4.0-bin-hadoop3/python/pyspark/pandas/datetimes.py\n",
            "spark-3.4.0-bin-hadoop3/python/pyspark/pandas/sql_processor.py\n",
            "spark-3.4.0-bin-hadoop3/python/pyspark/pandas/usage_logging/\n",
            "spark-3.4.0-bin-hadoop3/python/pyspark/pandas/usage_logging/usage_logger.py\n",
            "spark-3.4.0-bin-hadoop3/python/pyspark/pandas/usage_logging/__init__.py\n",
            "spark-3.4.0-bin-hadoop3/python/pyspark/pandas/correlation.py\n",
            "spark-3.4.0-bin-hadoop3/python/pyspark/pandas/accessors.py\n",
            "spark-3.4.0-bin-hadoop3/python/pyspark/pandas/extensions.py\n",
            "spark-3.4.0-bin-hadoop3/python/pyspark/pandas/indexes/\n",
            "spark-3.4.0-bin-hadoop3/python/pyspark/pandas/indexes/__init__.py\n",
            "spark-3.4.0-bin-hadoop3/python/pyspark/pandas/indexes/multi.py\n",
            "spark-3.4.0-bin-hadoop3/python/pyspark/pandas/indexes/timedelta.py\n",
            "spark-3.4.0-bin-hadoop3/python/pyspark/pandas/indexes/datetimes.py\n",
            "spark-3.4.0-bin-hadoop3/python/pyspark/pandas/indexes/numeric.py\n",
            "spark-3.4.0-bin-hadoop3/python/pyspark/pandas/indexes/base.py\n",
            "spark-3.4.0-bin-hadoop3/python/pyspark/pandas/indexes/category.py\n",
            "spark-3.4.0-bin-hadoop3/python/pyspark/pandas/internal.py\n",
            "spark-3.4.0-bin-hadoop3/python/pyspark/pandas/base.py\n",
            "spark-3.4.0-bin-hadoop3/python/pyspark/pandas/generic.py\n",
            "spark-3.4.0-bin-hadoop3/python/pyspark/pandas/groupby.py\n",
            "spark-3.4.0-bin-hadoop3/python/pyspark/pandas/namespace.py\n",
            "spark-3.4.0-bin-hadoop3/python/pyspark/pandas/spark/\n",
            "spark-3.4.0-bin-hadoop3/python/pyspark/pandas/spark/__init__.py\n",
            "spark-3.4.0-bin-hadoop3/python/pyspark/pandas/spark/utils.py\n",
            "spark-3.4.0-bin-hadoop3/python/pyspark/pandas/spark/accessors.py\n",
            "spark-3.4.0-bin-hadoop3/python/pyspark/pandas/spark/functions.py\n",
            "spark-3.4.0-bin-hadoop3/python/pyspark/pandas/indexing.py\n",
            "spark-3.4.0-bin-hadoop3/python/pyspark/pandas/mlflow.py\n",
            "spark-3.4.0-bin-hadoop3/python/pyspark/join.py\n",
            "spark-3.4.0-bin-hadoop3/python/pyspark/python/\n",
            "spark-3.4.0-bin-hadoop3/python/pyspark/python/pyspark/\n",
            "spark-3.4.0-bin-hadoop3/python/pyspark/python/pyspark/shell.py\n",
            "spark-3.4.0-bin-hadoop3/python/pyspark/storagelevel.py\n",
            "spark-3.4.0-bin-hadoop3/python/pyspark/errors/\n",
            "spark-3.4.0-bin-hadoop3/python/pyspark/errors/__init__.py\n",
            "spark-3.4.0-bin-hadoop3/python/pyspark/errors/tests/\n",
            "spark-3.4.0-bin-hadoop3/python/pyspark/errors/tests/test_errors.py\n",
            "spark-3.4.0-bin-hadoop3/python/pyspark/errors/tests/__init__.py\n",
            "spark-3.4.0-bin-hadoop3/python/pyspark/errors/utils.py\n",
            "spark-3.4.0-bin-hadoop3/python/pyspark/errors/exceptions/\n",
            "spark-3.4.0-bin-hadoop3/python/pyspark/errors/exceptions/__init__.py\n",
            "spark-3.4.0-bin-hadoop3/python/pyspark/errors/exceptions/captured.py\n",
            "spark-3.4.0-bin-hadoop3/python/pyspark/errors/exceptions/connect.py\n",
            "spark-3.4.0-bin-hadoop3/python/pyspark/errors/exceptions/base.py\n",
            "spark-3.4.0-bin-hadoop3/python/pyspark/errors/error_classes.py\n",
            "spark-3.4.0-bin-hadoop3/python/pyspark/profiler.py\n",
            "spark-3.4.0-bin-hadoop3/python/pyspark/worker.py\n",
            "spark-3.4.0-bin-hadoop3/python/pyspark/conf.py\n",
            "spark-3.4.0-bin-hadoop3/python/pyspark/ml/\n",
            "spark-3.4.0-bin-hadoop3/python/pyspark/ml/pipeline.py\n",
            "spark-3.4.0-bin-hadoop3/python/pyspark/ml/tuning.py\n",
            "spark-3.4.0-bin-hadoop3/python/pyspark/ml/clustering.py\n",
            "spark-3.4.0-bin-hadoop3/python/pyspark/ml/param/\n",
            "spark-3.4.0-bin-hadoop3/python/pyspark/ml/param/__init__.py\n",
            "spark-3.4.0-bin-hadoop3/python/pyspark/ml/param/shared.py\n",
            "spark-3.4.0-bin-hadoop3/python/pyspark/ml/param/_shared_params_code_gen.py\n",
            "spark-3.4.0-bin-hadoop3/python/pyspark/ml/__init__.py\n",
            "spark-3.4.0-bin-hadoop3/python/pyspark/ml/stat.py\n",
            "spark-3.4.0-bin-hadoop3/python/pyspark/ml/regression.py\n",
            "spark-3.4.0-bin-hadoop3/python/pyspark/ml/tests/\n",
            "spark-3.4.0-bin-hadoop3/python/pyspark/ml/tests/test_tuning.py\n",
            "spark-3.4.0-bin-hadoop3/python/pyspark/ml/tests/test_persistence.py\n",
            "spark-3.4.0-bin-hadoop3/python/pyspark/ml/tests/test_util.py\n",
            "spark-3.4.0-bin-hadoop3/python/pyspark/ml/tests/__init__.py\n",
            "spark-3.4.0-bin-hadoop3/python/pyspark/ml/tests/test_stat.py\n",
            "spark-3.4.0-bin-hadoop3/python/pyspark/ml/tests/test_algorithms.py\n",
            "spark-3.4.0-bin-hadoop3/python/pyspark/ml/tests/test_image.py\n",
            "spark-3.4.0-bin-hadoop3/python/pyspark/ml/tests/test_model_cache.py\n",
            "spark-3.4.0-bin-hadoop3/python/pyspark/ml/tests/test_evaluation.py\n",
            "spark-3.4.0-bin-hadoop3/python/pyspark/ml/tests/test_param.py\n",
            "spark-3.4.0-bin-hadoop3/python/pyspark/ml/tests/test_functions.py\n",
            "spark-3.4.0-bin-hadoop3/python/pyspark/ml/tests/test_feature.py\n",
            "spark-3.4.0-bin-hadoop3/python/pyspark/ml/tests/test_pipeline.py\n",
            "spark-3.4.0-bin-hadoop3/python/pyspark/ml/tests/test_training_summary.py\n",
            "spark-3.4.0-bin-hadoop3/python/pyspark/ml/tests/typing/\n",
            "spark-3.4.0-bin-hadoop3/python/pyspark/ml/tests/typing/test_clustering.yaml\n",
            "spark-3.4.0-bin-hadoop3/python/pyspark/ml/tests/typing/test_regression.yml\n",
            "spark-3.4.0-bin-hadoop3/python/pyspark/ml/tests/typing/test_readable.yml\n",
            "spark-3.4.0-bin-hadoop3/python/pyspark/ml/tests/typing/test_classification.yml\n",
            "spark-3.4.0-bin-hadoop3/python/pyspark/ml/tests/typing/test_feature.yml\n",
            "spark-3.4.0-bin-hadoop3/python/pyspark/ml/tests/typing/test_param.yml\n",
            "spark-3.4.0-bin-hadoop3/python/pyspark/ml/tests/typing/test_evaluation.yml\n",
            "spark-3.4.0-bin-hadoop3/python/pyspark/ml/tests/test_base.py\n",
            "spark-3.4.0-bin-hadoop3/python/pyspark/ml/tests/test_linalg.py\n",
            "spark-3.4.0-bin-hadoop3/python/pyspark/ml/tests/test_wrapper.py\n",
            "spark-3.4.0-bin-hadoop3/python/pyspark/ml/recommendation.py\n",
            "spark-3.4.0-bin-hadoop3/python/pyspark/ml/feature.py\n",
            "spark-3.4.0-bin-hadoop3/python/pyspark/ml/linalg/\n",
            "spark-3.4.0-bin-hadoop3/python/pyspark/ml/linalg/__init__.py\n",
            "spark-3.4.0-bin-hadoop3/python/pyspark/ml/common.py\n",
            "spark-3.4.0-bin-hadoop3/python/pyspark/ml/_typing.pyi\n",
            "spark-3.4.0-bin-hadoop3/python/pyspark/ml/wrapper.py\n",
            "spark-3.4.0-bin-hadoop3/python/pyspark/ml/tree.py\n",
            "spark-3.4.0-bin-hadoop3/python/pyspark/ml/image.py\n",
            "spark-3.4.0-bin-hadoop3/python/pyspark/ml/model_cache.py\n",
            "spark-3.4.0-bin-hadoop3/python/pyspark/ml/evaluation.py\n",
            "spark-3.4.0-bin-hadoop3/python/pyspark/ml/torch/\n",
            "spark-3.4.0-bin-hadoop3/python/pyspark/ml/torch/distributor.py\n",
            "spark-3.4.0-bin-hadoop3/python/pyspark/ml/torch/torch_run_process_wrapper.py\n",
            "spark-3.4.0-bin-hadoop3/python/pyspark/ml/torch/__init__.py\n",
            "spark-3.4.0-bin-hadoop3/python/pyspark/ml/torch/tests/\n",
            "spark-3.4.0-bin-hadoop3/python/pyspark/ml/torch/tests/__init__.py\n",
            "spark-3.4.0-bin-hadoop3/python/pyspark/ml/torch/tests/test_distributor.py\n",
            "spark-3.4.0-bin-hadoop3/python/pyspark/ml/torch/tests/test_log_communication.py\n",
            "spark-3.4.0-bin-hadoop3/python/pyspark/ml/torch/log_communication.py\n",
            "spark-3.4.0-bin-hadoop3/python/pyspark/ml/classification.py\n",
            "spark-3.4.0-bin-hadoop3/python/pyspark/ml/functions.py\n",
            "spark-3.4.0-bin-hadoop3/python/pyspark/ml/base.py\n",
            "spark-3.4.0-bin-hadoop3/python/pyspark/ml/util.py\n",
            "spark-3.4.0-bin-hadoop3/python/pyspark/ml/fpm.py\n",
            "spark-3.4.0-bin-hadoop3/python/pyspark/instrumentation_utils.py\n",
            "spark-3.4.0-bin-hadoop3/python/pyspark/util.py\n",
            "spark-3.4.0-bin-hadoop3/python/pyspark/java_gateway.py\n",
            "spark-3.4.0-bin-hadoop3/python/pyspark/accumulators.py\n",
            "spark-3.4.0-bin-hadoop3/python/pyspark/mllib/\n",
            "spark-3.4.0-bin-hadoop3/python/pyspark/mllib/clustering.py\n",
            "spark-3.4.0-bin-hadoop3/python/pyspark/mllib/__init__.py\n",
            "spark-3.4.0-bin-hadoop3/python/pyspark/mllib/stat/\n",
            "spark-3.4.0-bin-hadoop3/python/pyspark/mllib/stat/__init__.py\n",
            "spark-3.4.0-bin-hadoop3/python/pyspark/mllib/stat/test.py\n",
            "spark-3.4.0-bin-hadoop3/python/pyspark/mllib/stat/KernelDensity.py\n",
            "spark-3.4.0-bin-hadoop3/python/pyspark/mllib/stat/_statistics.py\n",
            "spark-3.4.0-bin-hadoop3/python/pyspark/mllib/stat/distribution.py\n",
            "spark-3.4.0-bin-hadoop3/python/pyspark/mllib/regression.py\n",
            "spark-3.4.0-bin-hadoop3/python/pyspark/mllib/tests/\n",
            "spark-3.4.0-bin-hadoop3/python/pyspark/mllib/tests/test_util.py\n",
            "spark-3.4.0-bin-hadoop3/python/pyspark/mllib/tests/__init__.py\n",
            "spark-3.4.0-bin-hadoop3/python/pyspark/mllib/tests/test_stat.py\n",
            "spark-3.4.0-bin-hadoop3/python/pyspark/mllib/tests/test_algorithms.py\n",
            "spark-3.4.0-bin-hadoop3/python/pyspark/mllib/tests/test_feature.py\n",
            "spark-3.4.0-bin-hadoop3/python/pyspark/mllib/tests/test_streaming_algorithms.py\n",
            "spark-3.4.0-bin-hadoop3/python/pyspark/mllib/tests/test_linalg.py\n",
            "spark-3.4.0-bin-hadoop3/python/pyspark/mllib/recommendation.py\n",
            "spark-3.4.0-bin-hadoop3/python/pyspark/mllib/feature.py\n",
            "spark-3.4.0-bin-hadoop3/python/pyspark/mllib/linalg/\n",
            "spark-3.4.0-bin-hadoop3/python/pyspark/mllib/linalg/__init__.py\n",
            "spark-3.4.0-bin-hadoop3/python/pyspark/mllib/linalg/distributed.py\n",
            "spark-3.4.0-bin-hadoop3/python/pyspark/mllib/common.py\n",
            "spark-3.4.0-bin-hadoop3/python/pyspark/mllib/_typing.pyi\n",
            "spark-3.4.0-bin-hadoop3/python/pyspark/mllib/tree.py\n",
            "spark-3.4.0-bin-hadoop3/python/pyspark/mllib/evaluation.py\n",
            "spark-3.4.0-bin-hadoop3/python/pyspark/mllib/classification.py\n",
            "spark-3.4.0-bin-hadoop3/python/pyspark/mllib/util.py\n",
            "spark-3.4.0-bin-hadoop3/python/pyspark/mllib/fpm.py\n",
            "spark-3.4.0-bin-hadoop3/python/pyspark/mllib/random.py\n",
            "spark-3.4.0-bin-hadoop3/python/pyspark/shell.py\n",
            "spark-3.4.0-bin-hadoop3/python/pyspark/rddsampler.py\n",
            "spark-3.4.0-bin-hadoop3/python/.coveragerc\n",
            "spark-3.4.0-bin-hadoop3/python/MANIFEST.in\n",
            "spark-3.4.0-bin-hadoop3/python/pyspark.egg-info/\n",
            "spark-3.4.0-bin-hadoop3/python/pyspark.egg-info/PKG-INFO\n",
            "spark-3.4.0-bin-hadoop3/python/pyspark.egg-info/SOURCES.txt\n",
            "spark-3.4.0-bin-hadoop3/python/pyspark.egg-info/top_level.txt\n",
            "spark-3.4.0-bin-hadoop3/python/pyspark.egg-info/requires.txt\n",
            "spark-3.4.0-bin-hadoop3/python/pyspark.egg-info/dependency_links.txt\n",
            "spark-3.4.0-bin-hadoop3/python/run-tests.py\n",
            "spark-3.4.0-bin-hadoop3/python/run-tests\n",
            "spark-3.4.0-bin-hadoop3/python/lib/\n",
            "spark-3.4.0-bin-hadoop3/python/lib/py4j-0.10.9.7-src.zip\n",
            "spark-3.4.0-bin-hadoop3/python/lib/PY4J_LICENSE.txt\n",
            "spark-3.4.0-bin-hadoop3/python/lib/pyspark.zip\n",
            "spark-3.4.0-bin-hadoop3/python/test_support/\n",
            "spark-3.4.0-bin-hadoop3/python/test_support/sql/\n",
            "spark-3.4.0-bin-hadoop3/python/test_support/sql/people_array_utf16le.json\n",
            "spark-3.4.0-bin-hadoop3/python/test_support/sql/streaming/\n",
            "spark-3.4.0-bin-hadoop3/python/test_support/sql/streaming/text-test.txt\n",
            "spark-3.4.0-bin-hadoop3/python/test_support/sql/people1.json\n",
            "spark-3.4.0-bin-hadoop3/python/test_support/sql/people_array.json\n",
            "spark-3.4.0-bin-hadoop3/python/test_support/sql/people.json\n",
            "spark-3.4.0-bin-hadoop3/python/test_support/sql/text-test.txt\n",
            "spark-3.4.0-bin-hadoop3/python/test_support/sql/orc_partitioned/\n",
            "spark-3.4.0-bin-hadoop3/python/test_support/sql/orc_partitioned/b=1/\n",
            "spark-3.4.0-bin-hadoop3/python/test_support/sql/orc_partitioned/b=1/c=1/\n",
            "spark-3.4.0-bin-hadoop3/python/test_support/sql/orc_partitioned/b=1/c=1/.part-r-00000-829af031-b970-49d6-ad39-30460a0be2c8.orc.crc\n",
            "spark-3.4.0-bin-hadoop3/python/test_support/sql/orc_partitioned/b=1/c=1/part-r-00000-829af031-b970-49d6-ad39-30460a0be2c8.orc\n",
            "spark-3.4.0-bin-hadoop3/python/test_support/sql/orc_partitioned/b=0/\n",
            "spark-3.4.0-bin-hadoop3/python/test_support/sql/orc_partitioned/b=0/c=0/\n",
            "spark-3.4.0-bin-hadoop3/python/test_support/sql/orc_partitioned/b=0/c=0/.part-r-00000-829af031-b970-49d6-ad39-30460a0be2c8.orc.crc\n",
            "spark-3.4.0-bin-hadoop3/python/test_support/sql/orc_partitioned/b=0/c=0/part-r-00000-829af031-b970-49d6-ad39-30460a0be2c8.orc\n",
            "spark-3.4.0-bin-hadoop3/python/test_support/sql/orc_partitioned/_SUCCESS\n",
            "spark-3.4.0-bin-hadoop3/python/test_support/sql/ages_newlines.csv\n",
            "spark-3.4.0-bin-hadoop3/python/test_support/userlib-0.1.zip\n",
            "spark-3.4.0-bin-hadoop3/python/test_support/hello/\n",
            "spark-3.4.0-bin-hadoop3/python/test_support/hello/sub_hello/\n",
            "spark-3.4.0-bin-hadoop3/python/test_support/hello/sub_hello/sub_hello.txt\n",
            "spark-3.4.0-bin-hadoop3/python/test_support/hello/hello.txt\n",
            "spark-3.4.0-bin-hadoop3/python/test_support/test_pytorch_training_file.py\n",
            "spark-3.4.0-bin-hadoop3/python/test_support/SimpleHTTPServer.py\n",
            "spark-3.4.0-bin-hadoop3/python/test_support/userlibrary.py\n",
            "spark-3.4.0-bin-hadoop3/python/mypy.ini\n",
            "spark-3.4.0-bin-hadoop3/python/docs/\n",
            "spark-3.4.0-bin-hadoop3/python/docs/Makefile\n",
            "spark-3.4.0-bin-hadoop3/python/docs/source/\n",
            "spark-3.4.0-bin-hadoop3/python/docs/source/_static/\n",
            "spark-3.4.0-bin-hadoop3/python/docs/source/_static/css/\n",
            "spark-3.4.0-bin-hadoop3/python/docs/source/_static/css/pyspark.css\n",
            "spark-3.4.0-bin-hadoop3/python/docs/source/_static/copybutton.js\n",
            "spark-3.4.0-bin-hadoop3/python/docs/source/reference/\n",
            "spark-3.4.0-bin-hadoop3/python/docs/source/reference/pyspark.ss/\n",
            "spark-3.4.0-bin-hadoop3/python/docs/source/reference/pyspark.ss/query_management.rst\n",
            "spark-3.4.0-bin-hadoop3/python/docs/source/reference/pyspark.ss/io.rst\n",
            "spark-3.4.0-bin-hadoop3/python/docs/source/reference/pyspark.ss/core_classes.rst\n",
            "spark-3.4.0-bin-hadoop3/python/docs/source/reference/pyspark.ss/index.rst\n",
            "spark-3.4.0-bin-hadoop3/python/docs/source/reference/pyspark.mllib.rst\n",
            "spark-3.4.0-bin-hadoop3/python/docs/source/reference/pyspark.ml.rst\n",
            "spark-3.4.0-bin-hadoop3/python/docs/source/reference/pyspark.pandas/\n",
            "spark-3.4.0-bin-hadoop3/python/docs/source/reference/pyspark.pandas/groupby.rst\n",
            "spark-3.4.0-bin-hadoop3/python/docs/source/reference/pyspark.pandas/resampling.rst\n",
            "spark-3.4.0-bin-hadoop3/python/docs/source/reference/pyspark.pandas/extensions.rst\n",
            "spark-3.4.0-bin-hadoop3/python/docs/source/reference/pyspark.pandas/series.rst\n",
            "spark-3.4.0-bin-hadoop3/python/docs/source/reference/pyspark.pandas/window.rst\n",
            "spark-3.4.0-bin-hadoop3/python/docs/source/reference/pyspark.pandas/io.rst\n",
            "spark-3.4.0-bin-hadoop3/python/docs/source/reference/pyspark.pandas/indexing.rst\n",
            "spark-3.4.0-bin-hadoop3/python/docs/source/reference/pyspark.pandas/general_functions.rst\n",
            "spark-3.4.0-bin-hadoop3/python/docs/source/reference/pyspark.pandas/index.rst\n",
            "spark-3.4.0-bin-hadoop3/python/docs/source/reference/pyspark.pandas/frame.rst\n",
            "spark-3.4.0-bin-hadoop3/python/docs/source/reference/pyspark.pandas/ml.rst\n",
            "spark-3.4.0-bin-hadoop3/python/docs/source/reference/pyspark.rst\n",
            "spark-3.4.0-bin-hadoop3/python/docs/source/reference/pyspark.sql/\n",
            "spark-3.4.0-bin-hadoop3/python/docs/source/reference/pyspark.sql/spark_session.rst\n",
            "spark-3.4.0-bin-hadoop3/python/docs/source/reference/pyspark.sql/protobuf.rst\n",
            "spark-3.4.0-bin-hadoop3/python/docs/source/reference/pyspark.sql/row.rst\n",
            "spark-3.4.0-bin-hadoop3/python/docs/source/reference/pyspark.sql/avro.rst\n",
            "spark-3.4.0-bin-hadoop3/python/docs/source/reference/pyspark.sql/configuration.rst\n",
            "spark-3.4.0-bin-hadoop3/python/docs/source/reference/pyspark.sql/window.rst\n",
            "spark-3.4.0-bin-hadoop3/python/docs/source/reference/pyspark.sql/grouping.rst\n",
            "spark-3.4.0-bin-hadoop3/python/docs/source/reference/pyspark.sql/observation.rst\n",
            "spark-3.4.0-bin-hadoop3/python/docs/source/reference/pyspark.sql/functions.rst\n",
            "spark-3.4.0-bin-hadoop3/python/docs/source/reference/pyspark.sql/udf.rst\n",
            "spark-3.4.0-bin-hadoop3/python/docs/source/reference/pyspark.sql/io.rst\n",
            "spark-3.4.0-bin-hadoop3/python/docs/source/reference/pyspark.sql/column.rst\n",
            "spark-3.4.0-bin-hadoop3/python/docs/source/reference/pyspark.sql/catalog.rst\n",
            "spark-3.4.0-bin-hadoop3/python/docs/source/reference/pyspark.sql/core_classes.rst\n",
            "spark-3.4.0-bin-hadoop3/python/docs/source/reference/pyspark.sql/data_types.rst\n",
            "spark-3.4.0-bin-hadoop3/python/docs/source/reference/pyspark.sql/index.rst\n",
            "spark-3.4.0-bin-hadoop3/python/docs/source/reference/pyspark.sql/dataframe.rst\n",
            "spark-3.4.0-bin-hadoop3/python/docs/source/reference/pyspark.streaming.rst\n",
            "spark-3.4.0-bin-hadoop3/python/docs/source/reference/index.rst\n",
            "spark-3.4.0-bin-hadoop3/python/docs/source/reference/pyspark.resource.rst\n",
            "spark-3.4.0-bin-hadoop3/python/docs/source/reference/pyspark.errors.rst\n",
            "spark-3.4.0-bin-hadoop3/python/docs/source/getting_started/\n",
            "spark-3.4.0-bin-hadoop3/python/docs/source/getting_started/quickstart_connect.ipynb\n",
            "spark-3.4.0-bin-hadoop3/python/docs/source/getting_started/install.rst\n",
            "spark-3.4.0-bin-hadoop3/python/docs/source/getting_started/quickstart_df.ipynb\n",
            "spark-3.4.0-bin-hadoop3/python/docs/source/getting_started/index.rst\n",
            "spark-3.4.0-bin-hadoop3/python/docs/source/getting_started/quickstart_ps.ipynb\n",
            "spark-3.4.0-bin-hadoop3/python/docs/source/user_guide/\n",
            "spark-3.4.0-bin-hadoop3/python/docs/source/user_guide/sql/\n",
            "spark-3.4.0-bin-hadoop3/python/docs/source/user_guide/sql/index.rst\n",
            "spark-3.4.0-bin-hadoop3/python/docs/source/user_guide/sql/arrow_pandas.rst\n",
            "spark-3.4.0-bin-hadoop3/python/docs/source/user_guide/pandas_on_spark/\n",
            "spark-3.4.0-bin-hadoop3/python/docs/source/user_guide/pandas_on_spark/best_practices.rst\n",
            "spark-3.4.0-bin-hadoop3/python/docs/source/user_guide/pandas_on_spark/from_to_dbms.rst\n",
            "spark-3.4.0-bin-hadoop3/python/docs/source/user_guide/pandas_on_spark/faq.rst\n",
            "spark-3.4.0-bin-hadoop3/python/docs/source/user_guide/pandas_on_spark/typehints.rst\n",
            "spark-3.4.0-bin-hadoop3/python/docs/source/user_guide/pandas_on_spark/options.rst\n",
            "spark-3.4.0-bin-hadoop3/python/docs/source/user_guide/pandas_on_spark/types.rst\n",
            "spark-3.4.0-bin-hadoop3/python/docs/source/user_guide/pandas_on_spark/transform_apply.rst\n",
            "spark-3.4.0-bin-hadoop3/python/docs/source/user_guide/pandas_on_spark/pandas_pyspark.rst\n",
            "spark-3.4.0-bin-hadoop3/python/docs/source/user_guide/pandas_on_spark/index.rst\n",
            "spark-3.4.0-bin-hadoop3/python/docs/source/user_guide/index.rst\n",
            "spark-3.4.0-bin-hadoop3/python/docs/source/user_guide/python_packaging.rst\n",
            "spark-3.4.0-bin-hadoop3/python/docs/source/user_guide/arrow_pandas.rst\n",
            "spark-3.4.0-bin-hadoop3/python/docs/source/_templates/\n",
            "spark-3.4.0-bin-hadoop3/python/docs/source/_templates/autosummary/\n",
            "spark-3.4.0-bin-hadoop3/python/docs/source/_templates/autosummary/class_with_docs.rst\n",
            "spark-3.4.0-bin-hadoop3/python/docs/source/_templates/autosummary/class.rst\n",
            "spark-3.4.0-bin-hadoop3/python/docs/source/conf.py\n",
            "spark-3.4.0-bin-hadoop3/python/docs/source/migration_guide/\n",
            "spark-3.4.0-bin-hadoop3/python/docs/source/migration_guide/koalas_to_pyspark.rst\n",
            "spark-3.4.0-bin-hadoop3/python/docs/source/migration_guide/pyspark_upgrade.rst\n",
            "spark-3.4.0-bin-hadoop3/python/docs/source/migration_guide/index.rst\n",
            "spark-3.4.0-bin-hadoop3/python/docs/source/index.rst\n",
            "spark-3.4.0-bin-hadoop3/python/docs/source/development/\n",
            "spark-3.4.0-bin-hadoop3/python/docs/source/development/debugging.rst\n",
            "spark-3.4.0-bin-hadoop3/python/docs/source/development/contributing.rst\n",
            "spark-3.4.0-bin-hadoop3/python/docs/source/development/setting_ide.rst\n",
            "spark-3.4.0-bin-hadoop3/python/docs/source/development/index.rst\n",
            "spark-3.4.0-bin-hadoop3/python/docs/source/development/testing.rst\n",
            "spark-3.4.0-bin-hadoop3/python/docs/make.bat\n",
            "spark-3.4.0-bin-hadoop3/python/docs/make2.bat\n",
            "spark-3.4.0-bin-hadoop3/python/setup.py\n",
            "spark-3.4.0-bin-hadoop3/python/run-tests-with-coverage\n",
            "spark-3.4.0-bin-hadoop3/python/test_coverage/\n",
            "spark-3.4.0-bin-hadoop3/python/test_coverage/conf/\n",
            "spark-3.4.0-bin-hadoop3/python/test_coverage/conf/spark-defaults.conf\n",
            "spark-3.4.0-bin-hadoop3/python/test_coverage/sitecustomize.py\n",
            "spark-3.4.0-bin-hadoop3/python/test_coverage/coverage_daemon.py\n",
            "spark-3.4.0-bin-hadoop3/python/dist/\n",
            "spark-3.4.0-bin-hadoop3/python/README.md\n",
            "spark-3.4.0-bin-hadoop3/licenses/\n",
            "spark-3.4.0-bin-hadoop3/licenses/LICENSE-istack-commons-runtime.txt\n",
            "spark-3.4.0-bin-hadoop3/licenses/LICENSE-machinist.txt\n",
            "spark-3.4.0-bin-hadoop3/licenses/LICENSE-AnchorJS.txt\n",
            "spark-3.4.0-bin-hadoop3/licenses/LICENSE-jaxb-runtime.txt\n",
            "spark-3.4.0-bin-hadoop3/licenses/LICENSE-arpack.txt\n",
            "spark-3.4.0-bin-hadoop3/licenses/LICENSE-pyrolite.txt\n",
            "spark-3.4.0-bin-hadoop3/licenses/LICENSE-leveldbjni.txt\n",
            "spark-3.4.0-bin-hadoop3/licenses/LICENSE-zstd.txt\n",
            "spark-3.4.0-bin-hadoop3/licenses/LICENSE-jsp-api.txt\n",
            "spark-3.4.0-bin-hadoop3/licenses/LICENSE-modernizr.txt\n",
            "spark-3.4.0-bin-hadoop3/licenses/LICENSE-jakarta.activation-api.txt\n",
            "spark-3.4.0-bin-hadoop3/licenses/LICENSE-jakarta.xml.bind-api.txt\n",
            "spark-3.4.0-bin-hadoop3/licenses/LICENSE-vis-timeline.txt\n",
            "spark-3.4.0-bin-hadoop3/licenses/LICENSE-xmlenc.txt\n",
            "spark-3.4.0-bin-hadoop3/licenses/LICENSE-reflectasm.txt\n",
            "spark-3.4.0-bin-hadoop3/licenses/LICENSE-pmml-model.txt\n",
            "spark-3.4.0-bin-hadoop3/licenses/LICENSE-jodd.txt\n",
            "spark-3.4.0-bin-hadoop3/licenses/LICENSE-bootstrap.txt\n",
            "spark-3.4.0-bin-hadoop3/licenses/LICENSE-mustache.txt\n",
            "spark-3.4.0-bin-hadoop3/licenses/LICENSE-slf4j.txt\n",
            "spark-3.4.0-bin-hadoop3/licenses/LICENSE-JTransforms.txt\n",
            "spark-3.4.0-bin-hadoop3/licenses/LICENSE-javassist.html\n",
            "spark-3.4.0-bin-hadoop3/licenses/LICENSE-f2j.txt\n",
            "spark-3.4.0-bin-hadoop3/licenses/LICENSE-paranamer.txt\n",
            "spark-3.4.0-bin-hadoop3/licenses/LICENSE-d3.min.js.txt\n",
            "spark-3.4.0-bin-hadoop3/licenses/LICENSE-jakarta-ws-rs-api\n",
            "spark-3.4.0-bin-hadoop3/licenses/LICENSE-matchMedia-polyfill.txt\n",
            "spark-3.4.0-bin-hadoop3/licenses/LICENSE-join.txt\n",
            "spark-3.4.0-bin-hadoop3/licenses/LICENSE-jline.txt\n",
            "spark-3.4.0-bin-hadoop3/licenses/LICENSE-blas.txt\n",
            "spark-3.4.0-bin-hadoop3/licenses/LICENSE-minlog.txt\n",
            "spark-3.4.0-bin-hadoop3/licenses/LICENSE-zstd-jni.txt\n",
            "spark-3.4.0-bin-hadoop3/licenses/LICENSE-spire.txt\n",
            "spark-3.4.0-bin-hadoop3/licenses/LICENSE-janino.txt\n",
            "spark-3.4.0-bin-hadoop3/licenses/LICENSE-sorttable.js.txt\n",
            "spark-3.4.0-bin-hadoop3/licenses/LICENSE-jquery.txt\n",
            "spark-3.4.0-bin-hadoop3/licenses/LICENSE-cloudpickle.txt\n",
            "spark-3.4.0-bin-hadoop3/licenses/LICENSE-kryo.txt\n",
            "spark-3.4.0-bin-hadoop3/licenses/LICENSE-javolution.txt\n",
            "spark-3.4.0-bin-hadoop3/licenses/LICENSE-datatables.txt\n",
            "spark-3.4.0-bin-hadoop3/licenses/LICENSE-graphlib-dot.txt\n",
            "spark-3.4.0-bin-hadoop3/licenses/LICENSE-dagre-d3.txt\n",
            "spark-3.4.0-bin-hadoop3/licenses/LICENSE-re2j.txt\n",
            "spark-3.4.0-bin-hadoop3/licenses/LICENSE-JLargeArrays.txt\n",
            "spark-3.4.0-bin-hadoop3/licenses/LICENSE-jakarta-annotation-api\n",
            "spark-3.4.0-bin-hadoop3/licenses/LICENSE-sbt-launch-lib.txt\n",
            "spark-3.4.0-bin-hadoop3/licenses/LICENSE-antlr.txt\n",
            "spark-3.4.0-bin-hadoop3/licenses/LICENSE-protobuf.txt\n",
            "spark-3.4.0-bin-hadoop3/licenses/LICENSE-json-formatter.txt\n",
            "spark-3.4.0-bin-hadoop3/licenses/LICENSE-dnsjava.txt\n",
            "spark-3.4.0-bin-hadoop3/licenses/LICENSE-javax-transaction-transaction-api.txt\n",
            "spark-3.4.0-bin-hadoop3/licenses/LICENSE-CC0.txt\n",
            "spark-3.4.0-bin-hadoop3/licenses/LICENSE-respond.txt\n",
            "spark-3.4.0-bin-hadoop3/licenses/LICENSE-scopt.txt\n",
            "spark-3.4.0-bin-hadoop3/licenses/LICENSE-py4j.txt\n",
            "spark-3.4.0-bin-hadoop3/licenses/LICENSE-automaton.txt\n",
            "spark-3.4.0-bin-hadoop3/RELEASE\n",
            "spark-3.4.0-bin-hadoop3/sbin/\n",
            "spark-3.4.0-bin-hadoop3/sbin/stop-history-server.sh\n",
            "spark-3.4.0-bin-hadoop3/sbin/start-thriftserver.sh\n",
            "spark-3.4.0-bin-hadoop3/sbin/spark-daemons.sh\n",
            "spark-3.4.0-bin-hadoop3/sbin/stop-thriftserver.sh\n",
            "spark-3.4.0-bin-hadoop3/sbin/stop-mesos-dispatcher.sh\n",
            "spark-3.4.0-bin-hadoop3/sbin/decommission-slave.sh\n",
            "spark-3.4.0-bin-hadoop3/sbin/stop-workers.sh\n",
            "spark-3.4.0-bin-hadoop3/sbin/stop-mesos-shuffle-service.sh\n",
            "spark-3.4.0-bin-hadoop3/sbin/decommission-worker.sh\n",
            "spark-3.4.0-bin-hadoop3/sbin/stop-slave.sh\n",
            "spark-3.4.0-bin-hadoop3/sbin/start-slave.sh\n",
            "spark-3.4.0-bin-hadoop3/sbin/start-workers.sh\n",
            "spark-3.4.0-bin-hadoop3/sbin/start-mesos-shuffle-service.sh\n",
            "spark-3.4.0-bin-hadoop3/sbin/start-connect-server.sh\n",
            "spark-3.4.0-bin-hadoop3/sbin/stop-master.sh\n",
            "spark-3.4.0-bin-hadoop3/sbin/slaves.sh\n",
            "spark-3.4.0-bin-hadoop3/sbin/start-mesos-dispatcher.sh\n",
            "spark-3.4.0-bin-hadoop3/sbin/stop-worker.sh\n",
            "spark-3.4.0-bin-hadoop3/sbin/stop-slaves.sh\n",
            "spark-3.4.0-bin-hadoop3/sbin/workers.sh\n",
            "spark-3.4.0-bin-hadoop3/sbin/start-all.sh\n",
            "spark-3.4.0-bin-hadoop3/sbin/spark-config.sh\n",
            "spark-3.4.0-bin-hadoop3/sbin/start-master.sh\n",
            "spark-3.4.0-bin-hadoop3/sbin/spark-daemon.sh\n",
            "spark-3.4.0-bin-hadoop3/sbin/start-worker.sh\n",
            "spark-3.4.0-bin-hadoop3/sbin/stop-all.sh\n",
            "spark-3.4.0-bin-hadoop3/sbin/start-slaves.sh\n",
            "spark-3.4.0-bin-hadoop3/sbin/start-history-server.sh\n",
            "spark-3.4.0-bin-hadoop3/sbin/stop-connect-server.sh\n",
            "spark-3.4.0-bin-hadoop3/README.md\n",
            "spark-3.4.0-bin-hadoop3/bin/\n",
            "spark-3.4.0-bin-hadoop3/bin/spark-sql2.cmd\n",
            "spark-3.4.0-bin-hadoop3/bin/sparkR\n",
            "spark-3.4.0-bin-hadoop3/bin/spark-class2.cmd\n",
            "spark-3.4.0-bin-hadoop3/bin/pyspark\n",
            "spark-3.4.0-bin-hadoop3/bin/run-example\n",
            "spark-3.4.0-bin-hadoop3/bin/sparkR2.cmd\n",
            "spark-3.4.0-bin-hadoop3/bin/docker-image-tool.sh\n",
            "spark-3.4.0-bin-hadoop3/bin/pyspark.cmd\n",
            "spark-3.4.0-bin-hadoop3/bin/spark-class\n",
            "spark-3.4.0-bin-hadoop3/bin/spark-submit\n",
            "spark-3.4.0-bin-hadoop3/bin/spark-sql\n",
            "spark-3.4.0-bin-hadoop3/bin/spark-shell\n",
            "spark-3.4.0-bin-hadoop3/bin/spark-sql.cmd\n",
            "spark-3.4.0-bin-hadoop3/bin/find-spark-home\n",
            "spark-3.4.0-bin-hadoop3/bin/run-example.cmd\n",
            "spark-3.4.0-bin-hadoop3/bin/find-spark-home.cmd\n",
            "spark-3.4.0-bin-hadoop3/bin/load-spark-env.cmd\n",
            "spark-3.4.0-bin-hadoop3/bin/beeline.cmd\n",
            "spark-3.4.0-bin-hadoop3/bin/spark-class.cmd\n",
            "spark-3.4.0-bin-hadoop3/bin/spark-shell.cmd\n",
            "spark-3.4.0-bin-hadoop3/bin/load-spark-env.sh\n",
            "spark-3.4.0-bin-hadoop3/bin/beeline\n",
            "spark-3.4.0-bin-hadoop3/bin/sparkR.cmd\n",
            "spark-3.4.0-bin-hadoop3/bin/spark-connect-shell\n",
            "spark-3.4.0-bin-hadoop3/bin/spark-shell2.cmd\n",
            "spark-3.4.0-bin-hadoop3/bin/pyspark2.cmd\n",
            "spark-3.4.0-bin-hadoop3/bin/spark-submit.cmd\n",
            "spark-3.4.0-bin-hadoop3/bin/spark-submit2.cmd\n"
          ]
        }
      ]
    },
    {
      "cell_type": "code",
      "metadata": {
        "id": "YRZMSfoBGacL"
      },
      "source": [
        "!pip install -q findspark"
      ],
      "execution_count": 7,
      "outputs": []
    },
    {
      "cell_type": "code",
      "metadata": {
        "id": "O4gF05a5Gmhm"
      },
      "source": [
        "import os\n",
        "os.environ[\"JAVA_HOME\"] = \"/usr/lib/jvm/java-8-openjdk-amd64\"\n",
        "os.environ[\"SPARK_HOME\"] = \"/content/spark-3.4.0-bin-hadoop3\""
      ],
      "execution_count": 8,
      "outputs": []
    },
    {
      "cell_type": "code",
      "metadata": {
        "id": "nSAJozgMGnwB"
      },
      "source": [
        "import findspark\n",
        "findspark.init()\n",
        "from pyspark.sql import SparkSession\n",
        "\n",
        "spark = SparkSession.builder.master(\"local[*]\").getOrCreate()\n",
        "sc = spark.sparkContext"
      ],
      "execution_count": 9,
      "outputs": []
    },
    {
      "cell_type": "markdown",
      "metadata": {
        "id": "ogj228qhHAwN"
      },
      "source": [
        "## Работа с RDD"
      ]
    },
    {
      "cell_type": "code",
      "metadata": {
        "id": "EiMw-VSAGo3M"
      },
      "source": [
        "words = sc.parallelize (\n",
        "   [\"scala\", \n",
        "   \"java\", \n",
        "   \"hadoop\", \n",
        "   \"spark\", \n",
        "   \"akka\",\n",
        "   \"spark\",\n",
        "   \"hadoop\", \n",
        "   \"pyspark\",\n",
        "   \"bigdata\",\n",
        "    \"python\"]\n",
        ")"
      ],
      "execution_count": 10,
      "outputs": []
    },
    {
      "cell_type": "code",
      "metadata": {
        "id": "kvlWJllpHC4O",
        "colab": {
          "base_uri": "https://localhost:8080/"
        },
        "outputId": "c1d2cf99-4757-4e83-fe57-afa782852cde"
      },
      "source": [
        "words"
      ],
      "execution_count": 11,
      "outputs": [
        {
          "output_type": "execute_result",
          "data": {
            "text/plain": [
              "ParallelCollectionRDD[0] at readRDDFromFile at PythonRDD.scala:287"
            ]
          },
          "metadata": {},
          "execution_count": 11
        }
      ]
    },
    {
      "cell_type": "code",
      "metadata": {
        "id": "BZtzVt-hHOO3",
        "colab": {
          "base_uri": "https://localhost:8080/"
        },
        "outputId": "3de288ef-ee0c-45e5-fc6c-269b305bb691"
      },
      "source": [
        "words.count()"
      ],
      "execution_count": 12,
      "outputs": [
        {
          "output_type": "execute_result",
          "data": {
            "text/plain": [
              "10"
            ]
          },
          "metadata": {},
          "execution_count": 12
        }
      ]
    },
    {
      "cell_type": "code",
      "metadata": {
        "id": "bv0Au26PaMZn"
      },
      "source": [
        "def mapper(w):\n",
        "  return (w, 1)"
      ],
      "execution_count": 13,
      "outputs": []
    },
    {
      "cell_type": "code",
      "metadata": {
        "id": "Nz1PXABQIW3t",
        "colab": {
          "base_uri": "https://localhost:8080/"
        },
        "outputId": "329f65b3-0e48-4c10-ef09-d1010ae320f5"
      },
      "source": [
        "words.map(mapper)"
      ],
      "execution_count": 14,
      "outputs": [
        {
          "output_type": "execute_result",
          "data": {
            "text/plain": [
              "PythonRDD[2] at RDD at PythonRDD.scala:53"
            ]
          },
          "metadata": {},
          "execution_count": 14
        }
      ]
    },
    {
      "cell_type": "code",
      "metadata": {
        "id": "osteBXqbZlla"
      },
      "source": [
        "transform = words.map(mapper)"
      ],
      "execution_count": 15,
      "outputs": []
    },
    {
      "cell_type": "code",
      "metadata": {
        "id": "k0FRlG1MZpui",
        "colab": {
          "base_uri": "https://localhost:8080/"
        },
        "outputId": "99715c2e-f1b0-46d6-8509-4f3c384abccc"
      },
      "source": [
        "transform.collect()"
      ],
      "execution_count": 16,
      "outputs": [
        {
          "output_type": "execute_result",
          "data": {
            "text/plain": [
              "[('scala', 1),\n",
              " ('java', 1),\n",
              " ('hadoop', 1),\n",
              " ('spark', 1),\n",
              " ('akka', 1),\n",
              " ('spark', 1),\n",
              " ('hadoop', 1),\n",
              " ('pyspark', 1),\n",
              " ('bigdata', 1),\n",
              " ('python', 1)]"
            ]
          },
          "metadata": {},
          "execution_count": 16
        }
      ]
    },
    {
      "cell_type": "code",
      "metadata": {
        "id": "kW1Sv5osZ3kE"
      },
      "source": [
        "def reducer(a, b):\n",
        "  return a + b"
      ],
      "execution_count": 17,
      "outputs": []
    },
    {
      "cell_type": "code",
      "metadata": {
        "id": "UxTD9-pQbHgx",
        "colab": {
          "base_uri": "https://localhost:8080/"
        },
        "outputId": "fce3da51-7059-4a25-c232-85f3356cb26b"
      },
      "source": [
        "transform.reduceByKey(reducer)"
      ],
      "execution_count": 18,
      "outputs": [
        {
          "output_type": "execute_result",
          "data": {
            "text/plain": [
              "PythonRDD[8] at RDD at PythonRDD.scala:53"
            ]
          },
          "metadata": {},
          "execution_count": 18
        }
      ]
    },
    {
      "cell_type": "code",
      "metadata": {
        "id": "g_2MmlI0bKlT"
      },
      "source": [
        "transform = transform.reduceByKey(reducer)"
      ],
      "execution_count": 19,
      "outputs": []
    },
    {
      "cell_type": "code",
      "metadata": {
        "id": "Ger9NE6Zcqea",
        "colab": {
          "base_uri": "https://localhost:8080/"
        },
        "outputId": "d2e6b644-c53c-4972-900d-6767f0fb33a6"
      },
      "source": [
        "transform.collect()"
      ],
      "execution_count": 20,
      "outputs": [
        {
          "output_type": "execute_result",
          "data": {
            "text/plain": [
              "[('scala', 1),\n",
              " ('java', 1),\n",
              " ('hadoop', 2),\n",
              " ('akka', 1),\n",
              " ('bigdata', 1),\n",
              " ('python', 1),\n",
              " ('spark', 2),\n",
              " ('pyspark', 1)]"
            ]
          },
          "metadata": {},
          "execution_count": 20
        }
      ]
    },
    {
      "cell_type": "markdown",
      "metadata": {
        "id": "_bb5fvdXeXtI"
      },
      "source": [
        "## DataFrame"
      ]
    },
    {
      "cell_type": "code",
      "metadata": {
        "id": "uCmY3UWJcsQY"
      },
      "source": [
        "df = spark.read.csv('power.csv', inferSchema=True, header=True)"
      ],
      "execution_count": 23,
      "outputs": []
    },
    {
      "cell_type": "code",
      "metadata": {
        "id": "bL3sp-ZX-R6o"
      },
      "source": [
        "## Обзор"
      ],
      "execution_count": null,
      "outputs": []
    },
    {
      "cell_type": "code",
      "metadata": {
        "id": "WzU537Sc-Tbw",
        "colab": {
          "base_uri": "https://localhost:8080/"
        },
        "outputId": "e41ed04b-a6f3-4ccc-ce11-d428752cd3b4"
      },
      "source": [
        "df.count()"
      ],
      "execution_count": 24,
      "outputs": [
        {
          "output_type": "execute_result",
          "data": {
            "text/plain": [
              "45842"
            ]
          },
          "metadata": {},
          "execution_count": 24
        }
      ]
    },
    {
      "cell_type": "code",
      "metadata": {
        "id": "J5LVS69P-Vbk",
        "colab": {
          "base_uri": "https://localhost:8080/"
        },
        "outputId": "03b7aa6b-6fc0-4853-975c-60b14a8fa990"
      },
      "source": [
        "df.dtypes"
      ],
      "execution_count": 25,
      "outputs": [
        {
          "output_type": "execute_result",
          "data": {
            "text/plain": [
              "[('country', 'string'),\n",
              " ('year', 'int'),\n",
              " ('quantity', 'double'),\n",
              " ('category', 'int')]"
            ]
          },
          "metadata": {},
          "execution_count": 25
        }
      ]
    },
    {
      "cell_type": "code",
      "metadata": {
        "id": "vxVOAo3F-XLd",
        "colab": {
          "base_uri": "https://localhost:8080/"
        },
        "outputId": "f5f5b996-d495-4dec-cb94-9b535484cbdb"
      },
      "source": [
        "df.take(2)"
      ],
      "execution_count": 26,
      "outputs": [
        {
          "output_type": "execute_result",
          "data": {
            "text/plain": [
              "[Row(country='Austria', year=1996, quantity=5.0, category=1),\n",
              " Row(country='Austria', year=1995, quantity=17.0, category=1)]"
            ]
          },
          "metadata": {},
          "execution_count": 26
        }
      ]
    },
    {
      "cell_type": "markdown",
      "metadata": {
        "id": "FPz3nRfhBxhg"
      },
      "source": [
        "## Практика 1. Загрузите данные из файла transactions.csv. Выведите 10 первых строчек"
      ]
    },
    {
      "cell_type": "code",
      "metadata": {
        "id": "PTllDnpcBwY8"
      },
      "source": [
        "df_practice = spark.read.csv('transactions.csv', inferSchema=True, header=True)"
      ],
      "execution_count": 27,
      "outputs": []
    },
    {
      "cell_type": "code",
      "metadata": {
        "id": "92AS-jyLB2L1",
        "colab": {
          "base_uri": "https://localhost:8080/"
        },
        "outputId": "d2b6f5b2-1a11-4289-b491-a44e8cf7dbc2"
      },
      "source": [
        "df_practice.take(10)"
      ],
      "execution_count": 39,
      "outputs": [
        {
          "output_type": "execute_result",
          "data": {
            "text/plain": [
              "[Row(Year=2017, Month=1, ID='t001', Product='A1', Amount=7, Price=2904, Total=20328, Cost=1200),\n",
              " Row(Year=2017, Month=1, ID='t002', Product='A2', Amount=2, Price=1896, Total=3792, Cost=1100),\n",
              " Row(Year=2017, Month=2, ID='t003', Product='A1', Amount=5, Price=2904, Total=14520, Cost=1200),\n",
              " Row(Year=2017, Month=2, ID='t004', Product='A4', Amount=1, Price=8618, Total=8618, Cost=4200),\n",
              " Row(Year=2017, Month=2, ID='t005', Product='A5', Amount=3, Price=5175, Total=15525, Cost=500),\n",
              " Row(Year=2017, Month=2, ID='t006', Product='_6', Amount=4, Price=3500, Total=14000, Cost=200),\n",
              " Row(Year=2017, Month=3, ID='t007', Product='_3', Amount=6, Price=1265, Total=7590, Cost=200),\n",
              " Row(Year=2017, Month=3, ID='t008', Product='_5', Amount=2, Price=5175, Total=10350, Cost=1200),\n",
              " Row(Year=2017, Month=4, ID='t009', Product='_8', Amount=3, Price=3760, Total=11280, Cost=1000),\n",
              " Row(Year=2017, Month=4, ID='t010', Product='_4', Amount=2, Price=8618, Total=17236, Cost=3400)]"
            ]
          },
          "metadata": {},
          "execution_count": 39
        }
      ]
    },
    {
      "cell_type": "code",
      "metadata": {
        "id": "E36zGkAO-ZHe"
      },
      "source": [
        "# Выборки"
      ],
      "execution_count": null,
      "outputs": []
    },
    {
      "cell_type": "code",
      "metadata": {
        "id": "zTeae2v0-eDU",
        "colab": {
          "base_uri": "https://localhost:8080/"
        },
        "outputId": "301d5b92-7de2-40a4-c61b-6fd869d6b38a"
      },
      "source": [
        "df_lim = df.select('country', 'year', 'quantity')\n",
        "df_lim.take(1)"
      ],
      "execution_count": 28,
      "outputs": [
        {
          "output_type": "execute_result",
          "data": {
            "text/plain": [
              "[Row(country='Austria', year=1996, quantity=5.0)]"
            ]
          },
          "metadata": {},
          "execution_count": 28
        }
      ]
    },
    {
      "cell_type": "code",
      "metadata": {
        "id": "ASxiaM_P-f3O",
        "colab": {
          "base_uri": "https://localhost:8080/"
        },
        "outputId": "d9f70b1c-ad30-4be0-dc0c-02daa5fb3c09"
      },
      "source": [
        "df_lim = df_lim.withColumnRenamed('year', 'y')\n",
        "df_lim"
      ],
      "execution_count": 29,
      "outputs": [
        {
          "output_type": "execute_result",
          "data": {
            "text/plain": [
              "DataFrame[country: string, y: int, quantity: double]"
            ]
          },
          "metadata": {},
          "execution_count": 29
        }
      ]
    },
    {
      "cell_type": "code",
      "metadata": {
        "id": "ncNhRGKE-hvo",
        "colab": {
          "base_uri": "https://localhost:8080/"
        },
        "outputId": "8ac34234-2421-48c9-d21d-a7829623a27a"
      },
      "source": [
        "df_lim.columns"
      ],
      "execution_count": 30,
      "outputs": [
        {
          "output_type": "execute_result",
          "data": {
            "text/plain": [
              "['country', 'y', 'quantity']"
            ]
          },
          "metadata": {},
          "execution_count": 30
        }
      ]
    },
    {
      "cell_type": "code",
      "metadata": {
        "id": "Vo5K5V3G-kKr"
      },
      "source": [
        "## Описание и статистики"
      ],
      "execution_count": null,
      "outputs": []
    },
    {
      "cell_type": "code",
      "metadata": {
        "id": "2dScciVz-nZI",
        "colab": {
          "base_uri": "https://localhost:8080/"
        },
        "outputId": "7cce6522-6a6b-4ecb-dc56-96e8125ba026"
      },
      "source": [
        "df_lim.show()"
      ],
      "execution_count": 31,
      "outputs": [
        {
          "output_type": "stream",
          "name": "stdout",
          "text": [
            "+-------+----+--------+\n",
            "|country|   y|quantity|\n",
            "+-------+----+--------+\n",
            "|Austria|1996|     5.0|\n",
            "|Austria|1995|    17.0|\n",
            "|Belgium|2014|     0.0|\n",
            "|Belgium|2013|     0.0|\n",
            "|Belgium|2012|    35.0|\n",
            "|Belgium|2011|    25.0|\n",
            "|Belgium|2010|    22.0|\n",
            "|Belgium|2009|    45.0|\n",
            "|Czechia|1998|     1.0|\n",
            "|Czechia|1995|     7.0|\n",
            "|Finland|2010|     9.0|\n",
            "|Finland|2009|    13.0|\n",
            "|Finland|2008|    39.0|\n",
            "|Finland|2007|    21.0|\n",
            "|Finland|2006|     0.0|\n",
            "|Finland|2005|     0.0|\n",
            "|Finland|2004|     0.0|\n",
            "|Finland|2003|     0.0|\n",
            "|Finland|2002|     0.0|\n",
            "|Finland|2001|     0.0|\n",
            "+-------+----+--------+\n",
            "only showing top 20 rows\n",
            "\n"
          ]
        }
      ]
    },
    {
      "cell_type": "code",
      "metadata": {
        "id": "g6ESTSnQ-oKQ",
        "colab": {
          "base_uri": "https://localhost:8080/"
        },
        "outputId": "7d4728f9-6828-4bb1-eef6-8e1a8437ae22"
      },
      "source": [
        "df_lim.describe().show()"
      ],
      "execution_count": 32,
      "outputs": [
        {
          "output_type": "stream",
          "name": "stdout",
          "text": [
            "+-------+-----------+------------------+------------------+\n",
            "|summary|    country|                 y|          quantity|\n",
            "+-------+-----------+------------------+------------------+\n",
            "|  count|      45842|             45842|             45842|\n",
            "|   mean|       null|2003.4071375594433|3308.8493340414425|\n",
            "| stddev|       null| 7.321144854855669|24624.834888999634|\n",
            "|    min|Afghanistan|              1990|           -1852.0|\n",
            "|    max|   Zimbabwe|              2014|          769128.0|\n",
            "+-------+-----------+------------------+------------------+\n",
            "\n"
          ]
        }
      ]
    },
    {
      "cell_type": "code",
      "metadata": {
        "id": "U_tjRcwR-p-d"
      },
      "source": [
        "## Сохранение"
      ],
      "execution_count": null,
      "outputs": []
    },
    {
      "cell_type": "code",
      "metadata": {
        "id": "quD2SF92-2gE"
      },
      "source": [
        "df_lim.write.format('com.databricks.spark.csv').option('header', 'true').save('df_lim.csv')"
      ],
      "execution_count": 33,
      "outputs": []
    },
    {
      "cell_type": "code",
      "metadata": {
        "id": "_k9_emZT_Cyi"
      },
      "source": [
        "## Вычисления"
      ],
      "execution_count": null,
      "outputs": []
    },
    {
      "cell_type": "code",
      "metadata": {
        "id": "oStV0Jih_ELx"
      },
      "source": [
        "df_lim = df_lim.withColumn('quantity x 2', df_lim['quantity'] * 2)"
      ],
      "execution_count": 34,
      "outputs": []
    },
    {
      "cell_type": "code",
      "metadata": {
        "id": "D7zB2mYn_E7m"
      },
      "source": [
        "df_grp = df_lim.groupBy('country')"
      ],
      "execution_count": 35,
      "outputs": []
    },
    {
      "cell_type": "code",
      "metadata": {
        "id": "TTlaanzf_Gti"
      },
      "source": [
        "df_sum = df_grp.sum('quantity', 'quantity x 2')"
      ],
      "execution_count": 36,
      "outputs": []
    },
    {
      "cell_type": "code",
      "metadata": {
        "id": "E4HHb1EN_Iiu",
        "colab": {
          "base_uri": "https://localhost:8080/"
        },
        "outputId": "02ebcd6a-ffbc-4312-e530-23f2748a0691"
      },
      "source": [
        "df_sum.show()"
      ],
      "execution_count": 37,
      "outputs": [
        {
          "output_type": "stream",
          "name": "stdout",
          "text": [
            "+-------------+------------------+------------------+\n",
            "|      country|     sum(quantity)| sum(quantity x 2)|\n",
            "+-------------+------------------+------------------+\n",
            "|Côte d'Ivoire|             116.0|             232.0|\n",
            "|         Chad|15961.143999999998|31922.287999999997|\n",
            "|     Paraguay| 58566.31999999997|117132.63999999994|\n",
            "|        Yemen|              32.0|              64.0|\n",
            "|      Senegal| 36765.43337646103| 73530.86675292205|\n",
            "|       Sweden|           18754.0|           37508.0|\n",
            "|     Kiribati|57.980000000000004|115.96000000000001|\n",
            "|       Guyana| 135681.6253494831| 271363.2506989662|\n",
            "|  Philippines| 318522.7851919996| 637045.5703839991|\n",
            "|      Eritrea|          405246.0|          810492.0|\n",
            "|       Jersey|211.46726862302495| 422.9345372460499|\n",
            "|        Tonga| 56.06200000000004|112.12400000000008|\n",
            "|     Djibouti|              50.0|             100.0|\n",
            "|    Singapore|            420.82|            841.64|\n",
            "|     Malaysia| 42562.39999999998| 85124.79999999996|\n",
            "|         Fiji|     159814.598826|     319629.197652|\n",
            "|       Turkey|            5174.0|           10348.0|\n",
            "|       Malawi|          128263.7|          256527.4|\n",
            "|         Iraq|              28.0|              56.0|\n",
            "|      Germany|          809799.0|         1619598.0|\n",
            "+-------------+------------------+------------------+\n",
            "only showing top 20 rows\n",
            "\n"
          ]
        }
      ]
    },
    {
      "cell_type": "code",
      "metadata": {
        "id": "DmFNR9jX_PRz"
      },
      "source": [
        "## Свободные таблицы"
      ],
      "execution_count": null,
      "outputs": []
    },
    {
      "cell_type": "code",
      "metadata": {
        "id": "MU4BiZ4-_KOB",
        "colab": {
          "base_uri": "https://localhost:8080/"
        },
        "outputId": "914b3aa4-3da4-4ed5-ac1a-16c7d2ce25ef"
      },
      "source": [
        "df_lim.groupby('country').pivot('y').sum('quantity').show()"
      ],
      "execution_count": 38,
      "outputs": [
        {
          "output_type": "stream",
          "name": "stdout",
          "text": [
            "+-------------+------------------+------------------+------------------+------------------+-----------------+-----------------+-----------------+-----------------+------------------+------------------+------------------+-------------------+------------------+------------------+------------------+------------------+------------------+-----------------+------------------+------------------+------------------+------------------+------------------+------------------+------------------+\n",
            "|      country|              1990|              1991|              1992|              1993|             1994|             1995|             1996|             1997|              1998|              1999|              2000|               2001|              2002|              2003|              2004|              2005|              2006|             2007|              2008|              2009|              2010|              2011|              2012|              2013|              2014|\n",
            "+-------------+------------------+------------------+------------------+------------------+-----------------+-----------------+-----------------+-----------------+------------------+------------------+------------------+-------------------+------------------+------------------+------------------+------------------+------------------+-----------------+------------------+------------------+------------------+------------------+------------------+------------------+------------------+\n",
            "|Côte d'Ivoire|              18.0|              18.0|              18.0|              10.0|             10.0|              8.0|              8.0|              8.0|               2.0|               2.0|               2.0|                2.0|               2.0|               2.0|               2.0|               2.0|               2.0|             null|              null|              null|              null|              null|              null|              null|              null|\n",
            "|         Chad|             506.0|             602.0|             602.0|             644.0|            638.0|            602.0|            602.0|            676.0|             616.0|             632.0|             630.0|              628.0|             628.0|             658.0|             598.0|             694.0|             694.0|            694.0|             718.0|             733.6|             685.4|             588.2| 633.9199999999998| 606.2239999999999|             651.8|\n",
            "|     Paraguay|            1750.0|            2062.0|            1870.0|            2062.0|           1966.0|           1770.0|           2280.0|           2112.0|            2238.0|            2184.0|            1764.3|            1878.54|            2252.4|            2268.0|            2257.8|            2296.8|            2355.6|           2355.6|            2364.6|2375.1000000000004|           2438.46|           2829.72|           2819.04|4085.5199999999995|           3930.84|\n",
            "|        Yemen|              null|               2.0|               2.0|               2.0|              2.0|              2.0|              2.0|              2.0|               2.0|               2.0|               2.0|                2.0|               2.0|               2.0|               2.0|               2.0|               2.0|             null|              null|              null|              null|              null|              null|              null|              null|\n",
            "|      Senegal|  1258.39170538382|1272.8091052662362|1283.5790146961576| 1304.996414578573|1343.413810460989|1380.788425085663|1414.458024615325| 1388.77511459748| 1422.387185484622|1464.6467548242579| 1502.611335258906|  1443.042049629505| 1445.452079819531| 1243.832635239999|1496.3546197124622|1378.5110253586458|1378.5110253586458|      1206.278085|        1763.12143| 1619.119150947256| 1890.029913517605|1858.9502845391148| 2098.781420618032|1420.3390272003724|1486.2537392678155|\n",
            "|       Sweden|              38.0|              38.0|              36.0|              38.0|             34.0|             34.0|             32.0|             32.0|              28.0|              32.0|              78.0|               52.0|              66.0|              62.0|              70.0|              70.0|             336.0|            716.0|             892.0|            1116.0|            1212.0|            1582.0|            3176.0|            4006.0|            4978.0|\n",
            "|     Kiribati|               0.0|               0.0|               0.0|               0.0|              0.0|              0.0|              0.0|              0.0|               0.0|               0.0|               0.0|                2.0|               2.0|               2.0|               2.0|               4.0|               6.0|              4.0|               4.4|               2.0|               6.0|              5.82|              5.86|               5.9|               6.0|\n",
            "|       Guyana|            2616.0|            3288.0|            4980.0|            5116.0|5189.893432642336|5055.531972233577|5624.244965226278|5544.931678423358| 5155.491968846715| 5923.381167824818| 5648.485986832116|  5933.841167416057| 7003.698247416059| 6492.489779620439| 7198.550950218977| 5909.760000613138| 5975.424526423357|6001.336203620437| 5623.326545021897|  5458.00452621898| 5275.485061021896| 6437.859970832118| 5368.746423357665|       4612.351897| 4248.788878672901|\n",
            "|       Jersey|              null|              null|              null|              null|             null|             null|             null|             null|              null|              null|              null|               null|              null|              null|              null|              null|              null|             null|              null|  45.4176072234764| 33.40857787810384|33.769751693002284| 36.93002257336344|33.318284424379236|28.623024830699762|\n",
            "|  Philippines| 8821.679999999998| 7179.880000000001|7456.2119999999995| 8072.416000000001|8071.543999999999|         8385.324|         8724.748|         9068.664|          9431.124|          9815.792|10201.844000000001|          10607.124|11042.748000000001|11465.436000000002|11936.447760000001|        12413.4192|12914.496191999999|      15878.74824|18431.131000000005|         17665.484|18443.373999999993|         19331.908|20426.386000000002|21137.582800000004|         21599.272|\n",
            "|      Eritrea|              null|              null|              null|              null|          27216.0|          28074.0|          28932.0|          29814.0|           20064.0|           20664.0|           21306.0|            23934.0|           24654.0|           25374.0|           12348.0|           12702.0|           13062.0|          13440.0|           13824.0|           14220.0|           14478.0|           14796.0|           15114.0|           15444.0|           15786.0|\n",
            "|     Djibouti|               2.0|               2.0|               2.0|               2.0|              2.0|              2.0|              2.0|              2.0|               2.0|               2.0|               2.0|                2.0|               2.0|               2.0|               2.0|               2.0|               2.0|              2.0|               2.0|               2.0|               2.0|               2.0|               2.0|               2.0|               2.0|\n",
            "|        Tonga|               6.0|               6.0|             0.072|              5.16|             9.84|             4.44|             0.72|              0.4|0.5399999999999999|              1.14|              5.46|0.12000000000000001|              3.12|              2.04|               0.3|3.3600000000000003|              0.09|              1.2|               0.6|               0.6|               0.6|               0.0|               0.0|               0.0|              4.26|\n",
            "|     Malaysia|            2172.0|            2064.0|            2064.0|            2066.0|           2180.0|           2178.0|           2106.0|           2124.0|            1956.0|            2094.0|            2112.0|             2056.0|            2158.0|            1569.6|            1569.6|            1569.6|            1078.6|           1085.8|             625.8|             547.8|             450.0|             888.0|            1400.0|            1859.8|            2587.8|\n",
            "|    Singapore|              14.0|               8.0|              12.0|              14.0|              8.0|              6.0|              6.0|              6.0|               0.0|              18.0|               6.0|                0.0|               0.0|               0.6|               1.2|0.7999999999999999|              31.8|              1.8|               5.4|               1.2| 3.000000000000001| 33.39999999999999| 98.09999999999995| 59.32000000000002| 86.20000000000003|\n",
            "|         Fiji|            6316.0|            8920.0|            8854.0|            8874.0|          10698.0|           9062.0|           9372.0|           7330.0|            5564.0|            7512.0|            7132.0|             6504.0|            6568.0|            6474.2|            6478.8|            5993.0|            6360.4|       4914.83428|       5486.179986|        3177.40256|2910.3564799999995|3601.8952400000007|2926.0663999999997| 4119.356879999999|          4666.107|\n",
            "|       Turkey|              null|              null|              null|              null|             null|             null|             null|             null|              null|              null|              null|               null|              null|              null|              null|              null|             132.0|             84.0|              60.0|               6.0|              42.0|              72.0|             932.0|            2802.0|            1044.0|\n",
            "|       Malawi|3988.3999999999996|            4102.6|            4083.8|2680.3999999999996|           4168.8|           4720.4|           4574.6|           4101.8|           4100.19|           3663.54|            4082.0| 4010.6400000000003| 5097.120000000001|            5024.8| 4987.860000000001|           5180.82|           4496.56|          6386.74| 7072.400000000001| 6847.139999999999|            6360.7|            6961.3| 7303.599999999999|            7036.2| 7231.289999999999|\n",
            "|         Iraq|              28.0|              null|              null|              null|             null|             null|             null|             null|              null|              null|              null|               null|              null|              null|              null|              null|              null|             null|              null|              null|              null|              null|              null|              null|              null|\n",
            "|      Germany|              null|            4602.0|            4292.0|            4314.0|           4216.0|           4072.0|           3904.0|           4322.0|            4312.0|            5108.0|            6350.0|             6346.0|            7764.0|           35089.0|           34513.0|           41023.0|           48582.0|          60124.0|           58203.0|           60341.0|           71294.0|           80320.0|           79904.0|           86099.0|           94705.0|\n",
            "+-------------+------------------+------------------+------------------+------------------+-----------------+-----------------+-----------------+-----------------+------------------+------------------+------------------+-------------------+------------------+------------------+------------------+------------------+------------------+-----------------+------------------+------------------+------------------+------------------+------------------+------------------+------------------+\n",
            "only showing top 20 rows\n",
            "\n"
          ]
        }
      ]
    },
    {
      "cell_type": "markdown",
      "metadata": {
        "id": "Q3hDmhO9CFC_"
      },
      "source": [
        "## Практика 2. Выведите максимальную и минимальную (2 датафрейма) количество (Amount) по продукту"
      ]
    },
    {
      "cell_type": "code",
      "metadata": {
        "id": "KW-k4akCCEBH",
        "colab": {
          "base_uri": "https://localhost:8080/"
        },
        "outputId": "d067c142-2962-4de6-bd79-abee3d8166e9"
      },
      "source": [
        "df_pr_max = df_practice.groupby('Product').max('Amount')\n",
        "df_pr_max.show()"
      ],
      "execution_count": 43,
      "outputs": [
        {
          "output_type": "stream",
          "name": "stdout",
          "text": [
            "+-------+-----------+\n",
            "|Product|max(Amount)|\n",
            "+-------+-----------+\n",
            "|     _5|          6|\n",
            "|     _2|          8|\n",
            "|     A2|          2|\n",
            "|     _8|         10|\n",
            "|     _3|          7|\n",
            "|     _4|          3|\n",
            "|     _6|          4|\n",
            "|     A4|          3|\n",
            "|     A5|          7|\n",
            "|     A1|          9|\n",
            "+-------+-----------+\n",
            "\n"
          ]
        }
      ]
    },
    {
      "cell_type": "code",
      "metadata": {
        "id": "0i1cCCNxCPQ8",
        "colab": {
          "base_uri": "https://localhost:8080/"
        },
        "outputId": "ec85ce8e-769a-415b-eb43-c56ef90970e9"
      },
      "source": [
        "df_pr_min = df_practice.groupby('Product').min('Amount')\n",
        "df_pr_min.show()"
      ],
      "execution_count": 44,
      "outputs": [
        {
          "output_type": "stream",
          "name": "stdout",
          "text": [
            "+-------+-----------+\n",
            "|Product|min(Amount)|\n",
            "+-------+-----------+\n",
            "|     _5|          1|\n",
            "|     _2|          1|\n",
            "|     A2|          2|\n",
            "|     _8|          1|\n",
            "|     _3|          2|\n",
            "|     _4|          1|\n",
            "|     _6|          4|\n",
            "|     A4|          1|\n",
            "|     A5|          2|\n",
            "|     A1|          2|\n",
            "+-------+-----------+\n",
            "\n"
          ]
        }
      ]
    },
    {
      "cell_type": "code",
      "metadata": {
        "id": "ZNjDfZq5CRPB"
      },
      "source": [],
      "execution_count": null,
      "outputs": []
    },
    {
      "cell_type": "code",
      "metadata": {
        "id": "ebXiYWMl_UFY"
      },
      "source": [
        "## Подвыборки"
      ],
      "execution_count": null,
      "outputs": []
    },
    {
      "cell_type": "code",
      "metadata": {
        "id": "eVCYLZaI_Vkg",
        "colab": {
          "base_uri": "https://localhost:8080/"
        },
        "outputId": "7db1f168-303a-4c44-f9a1-b72d3785f48a"
      },
      "source": [
        "df['quantity'] > 184264"
      ],
      "execution_count": 45,
      "outputs": [
        {
          "output_type": "execute_result",
          "data": {
            "text/plain": [
              "Column<'(quantity > 184264)'>"
            ]
          },
          "metadata": {},
          "execution_count": 45
        }
      ]
    },
    {
      "cell_type": "code",
      "metadata": {
        "id": "XOYzBPZT_fi8",
        "colab": {
          "base_uri": "https://localhost:8080/"
        },
        "outputId": "da9c879b-fd70-421a-8828-4cbfa46acfbf"
      },
      "source": [
        "df.where((df['quantity'] > 184264)).show()"
      ],
      "execution_count": 46,
      "outputs": [
        {
          "output_type": "stream",
          "name": "stdout",
          "text": [
            "+-------------+----+--------+--------+\n",
            "|      country|year|quantity|category|\n",
            "+-------------+----+--------+--------+\n",
            "|United States|2014|367987.0|       2|\n",
            "|United States|2013|384439.0|       2|\n",
            "|United States|2012|370625.0|       2|\n",
            "|United States|2011|310909.0|       2|\n",
            "|United States|2010|335418.0|       2|\n",
            "|United States|2009|230589.0|       2|\n",
            "|United States|2008|226570.0|       2|\n",
            "|United States|2007|221771.0|       2|\n",
            "|United States|2005|314655.0|       2|\n",
            "|United States|2004|243916.0|       2|\n",
            "|United States|1996|226319.0|       2|\n",
            "|United States|1995|292568.0|       2|\n",
            "|United States|1994|230254.0|       2|\n",
            "|United States|1993|247909.0|       2|\n",
            "|United States|2014|448216.0|       2|\n",
            "|United States|2013|458711.0|       2|\n",
            "|United States|2012|433505.0|       2|\n",
            "|United States|2011|382566.0|       2|\n",
            "|United States|2010|406606.0|       2|\n",
            "|United States|2009|296903.0|       2|\n",
            "+-------------+----+--------+--------+\n",
            "only showing top 20 rows\n",
            "\n"
          ]
        }
      ]
    },
    {
      "cell_type": "code",
      "metadata": {
        "id": "gRaXfT0G_Yv3",
        "colab": {
          "base_uri": "https://localhost:8080/"
        },
        "outputId": "07954200-2bb3-49ec-a482-42f1d10d532b"
      },
      "source": [
        "df_filter = df.where((df['quantity'] > 184264) & (df['country'] != 'United States'))\n",
        "df_filter.show()"
      ],
      "execution_count": 48,
      "outputs": [
        {
          "output_type": "stream",
          "name": "stdout",
          "text": [
            "+-------+----+--------+--------+\n",
            "|country|year|quantity|category|\n",
            "+-------+----+--------+--------+\n",
            "+-------+----+--------+--------+\n",
            "\n"
          ]
        }
      ]
    },
    {
      "cell_type": "markdown",
      "metadata": {
        "id": "eXa1U_hMCZiL"
      },
      "source": [
        "# Практика 3. Выведите список всех, товаров, которых хоть когда-то было больше 5-ти штук\n"
      ]
    },
    {
      "cell_type": "code",
      "metadata": {
        "id": "xkNPdiNuCYzR",
        "colab": {
          "base_uri": "https://localhost:8080/"
        },
        "outputId": "0edb234d-5bdc-44d1-9258-b62eb74c50d9"
      },
      "source": [
        "df_pr_max.where((df_pr_max['max(Amount)'] > 5)).show()"
      ],
      "execution_count": 52,
      "outputs": [
        {
          "output_type": "stream",
          "name": "stdout",
          "text": [
            "+-------+-----------+\n",
            "|Product|max(Amount)|\n",
            "+-------+-----------+\n",
            "|     _5|          6|\n",
            "|     _2|          8|\n",
            "|     _8|         10|\n",
            "|     _3|          7|\n",
            "|     A5|          7|\n",
            "|     A1|          9|\n",
            "+-------+-----------+\n",
            "\n"
          ]
        }
      ]
    },
    {
      "cell_type": "markdown",
      "metadata": {
        "id": "SPtzrDNLARKa"
      },
      "source": [
        "## SQL"
      ]
    },
    {
      "cell_type": "code",
      "metadata": {
        "id": "6XBmRZQV_w0T",
        "colab": {
          "base_uri": "https://localhost:8080/"
        },
        "outputId": "dd3ffa64-1fc7-4aeb-e8f1-a13d5bbb01f0"
      },
      "source": [
        "df.show()"
      ],
      "execution_count": 53,
      "outputs": [
        {
          "output_type": "stream",
          "name": "stdout",
          "text": [
            "+-------+----+--------+--------+\n",
            "|country|year|quantity|category|\n",
            "+-------+----+--------+--------+\n",
            "|Austria|1996|     5.0|       1|\n",
            "|Austria|1995|    17.0|       1|\n",
            "|Belgium|2014|     0.0|       1|\n",
            "|Belgium|2013|     0.0|       1|\n",
            "|Belgium|2012|    35.0|       1|\n",
            "|Belgium|2011|    25.0|       1|\n",
            "|Belgium|2010|    22.0|       1|\n",
            "|Belgium|2009|    45.0|       1|\n",
            "|Czechia|1998|     1.0|       1|\n",
            "|Czechia|1995|     7.0|       1|\n",
            "|Finland|2010|     9.0|       1|\n",
            "|Finland|2009|    13.0|       1|\n",
            "|Finland|2008|    39.0|       1|\n",
            "|Finland|2007|    21.0|       1|\n",
            "|Finland|2006|     0.0|       1|\n",
            "|Finland|2005|     0.0|       1|\n",
            "|Finland|2004|     0.0|       1|\n",
            "|Finland|2003|     0.0|       1|\n",
            "|Finland|2002|     0.0|       1|\n",
            "|Finland|2001|     0.0|       1|\n",
            "+-------+----+--------+--------+\n",
            "only showing top 20 rows\n",
            "\n"
          ]
        }
      ]
    },
    {
      "cell_type": "code",
      "metadata": {
        "id": "Ty8lF2PMAUhb"
      },
      "source": [
        "df.createOrReplaceTempView('power')"
      ],
      "execution_count": 54,
      "outputs": []
    },
    {
      "cell_type": "code",
      "metadata": {
        "id": "QgqTlx1YAYU2",
        "colab": {
          "base_uri": "https://localhost:8080/"
        },
        "outputId": "da037816-f11f-4a84-8fb9-40ee5ce3ab59"
      },
      "source": [
        "spark.sql('SELECT * FROM power').show()"
      ],
      "execution_count": 55,
      "outputs": [
        {
          "output_type": "stream",
          "name": "stdout",
          "text": [
            "+-------+----+--------+--------+\n",
            "|country|year|quantity|category|\n",
            "+-------+----+--------+--------+\n",
            "|Austria|1996|     5.0|       1|\n",
            "|Austria|1995|    17.0|       1|\n",
            "|Belgium|2014|     0.0|       1|\n",
            "|Belgium|2013|     0.0|       1|\n",
            "|Belgium|2012|    35.0|       1|\n",
            "|Belgium|2011|    25.0|       1|\n",
            "|Belgium|2010|    22.0|       1|\n",
            "|Belgium|2009|    45.0|       1|\n",
            "|Czechia|1998|     1.0|       1|\n",
            "|Czechia|1995|     7.0|       1|\n",
            "|Finland|2010|     9.0|       1|\n",
            "|Finland|2009|    13.0|       1|\n",
            "|Finland|2008|    39.0|       1|\n",
            "|Finland|2007|    21.0|       1|\n",
            "|Finland|2006|     0.0|       1|\n",
            "|Finland|2005|     0.0|       1|\n",
            "|Finland|2004|     0.0|       1|\n",
            "|Finland|2003|     0.0|       1|\n",
            "|Finland|2002|     0.0|       1|\n",
            "|Finland|2001|     0.0|       1|\n",
            "+-------+----+--------+--------+\n",
            "only showing top 20 rows\n",
            "\n"
          ]
        }
      ]
    },
    {
      "cell_type": "code",
      "metadata": {
        "id": "jENpgOPmAjLy",
        "colab": {
          "base_uri": "https://localhost:8080/"
        },
        "outputId": "69992f53-5b91-4a75-87d2-a092236510e1"
      },
      "source": [
        "spark.sql('SELECT country, sum(quantity) FROM power GROUP BY country').show()"
      ],
      "execution_count": 56,
      "outputs": [
        {
          "output_type": "stream",
          "name": "stdout",
          "text": [
            "+-------------+------------------+\n",
            "|      country|     sum(quantity)|\n",
            "+-------------+------------------+\n",
            "|Côte d'Ivoire|             116.0|\n",
            "|         Chad|15961.143999999998|\n",
            "|     Paraguay| 58566.31999999997|\n",
            "|        Yemen|              32.0|\n",
            "|      Senegal| 36765.43337646103|\n",
            "|       Sweden|           18754.0|\n",
            "|     Kiribati|57.980000000000004|\n",
            "|       Guyana| 135681.6253494831|\n",
            "|  Philippines| 318522.7851919996|\n",
            "|      Eritrea|          405246.0|\n",
            "|       Jersey|211.46726862302495|\n",
            "|        Tonga| 56.06200000000004|\n",
            "|     Djibouti|              50.0|\n",
            "|    Singapore|            420.82|\n",
            "|     Malaysia| 42562.39999999998|\n",
            "|         Fiji|     159814.598826|\n",
            "|       Turkey|            5174.0|\n",
            "|       Malawi|          128263.7|\n",
            "|         Iraq|              28.0|\n",
            "|      Germany|          809799.0|\n",
            "+-------------+------------------+\n",
            "only showing top 20 rows\n",
            "\n"
          ]
        }
      ]
    },
    {
      "cell_type": "code",
      "metadata": {
        "id": "7Cj3YhNoCkzK"
      },
      "source": [
        "## Соединение\n",
        "from pyspark.sql import Row"
      ],
      "execution_count": 57,
      "outputs": []
    },
    {
      "cell_type": "code",
      "metadata": {
        "id": "qKHz1geoCtyb"
      },
      "source": [
        "row1 = Row(\"name\", \"pet\", \"count\")\n",
        "row2 = Row(\"name\", \"pet2\", \"count2\")"
      ],
      "execution_count": 58,
      "outputs": []
    },
    {
      "cell_type": "code",
      "metadata": {
        "id": "54wmHoIkCxiA"
      },
      "source": [
        "df1 = sc.parallelize([\n",
        "    row1(\"Sue\", \"cat\", 16),\n",
        "    row1(\"Kim\", \"dog\", 1),    \n",
        "    row1(\"Bob\", \"fish\", 5),\n",
        "    row1(\"Libuse\", \"horse\", 1)\n",
        "    ]).toDF()\n",
        "\n",
        "df2 = sc.parallelize([\n",
        "    row2(\"Sue\", \"eagle\", 2),\n",
        "    row2(\"Kim\", \"ant\", 179),    \n",
        "    row2(\"Bob\", \"lizard\", 5),\n",
        "    row2(\"Ferdinand\", \"bees\", 23)\n",
        "    ]).toDF()"
      ],
      "execution_count": 59,
      "outputs": []
    },
    {
      "cell_type": "code",
      "metadata": {
        "id": "2XM0PeqvC1ks",
        "colab": {
          "base_uri": "https://localhost:8080/"
        },
        "outputId": "73b81054-e058-43da-b4b7-e4fb1e79d827"
      },
      "source": [
        "df1.show()"
      ],
      "execution_count": 60,
      "outputs": [
        {
          "output_type": "stream",
          "name": "stdout",
          "text": [
            "+------+-----+-----+\n",
            "|  name|  pet|count|\n",
            "+------+-----+-----+\n",
            "|   Sue|  cat|   16|\n",
            "|   Kim|  dog|    1|\n",
            "|   Bob| fish|    5|\n",
            "|Libuse|horse|    1|\n",
            "+------+-----+-----+\n",
            "\n"
          ]
        }
      ]
    },
    {
      "cell_type": "code",
      "metadata": {
        "id": "oGkBbkOpC3_h",
        "colab": {
          "base_uri": "https://localhost:8080/"
        },
        "outputId": "97eebd90-50fe-48bd-ad90-683928050451"
      },
      "source": [
        "df2.show()"
      ],
      "execution_count": 61,
      "outputs": [
        {
          "output_type": "stream",
          "name": "stdout",
          "text": [
            "+---------+------+------+\n",
            "|     name|  pet2|count2|\n",
            "+---------+------+------+\n",
            "|      Sue| eagle|     2|\n",
            "|      Kim|   ant|   179|\n",
            "|      Bob|lizard|     5|\n",
            "|Ferdinand|  bees|    23|\n",
            "+---------+------+------+\n",
            "\n"
          ]
        }
      ]
    },
    {
      "cell_type": "code",
      "metadata": {
        "id": "lMHYaIc3C5pT",
        "colab": {
          "base_uri": "https://localhost:8080/"
        },
        "outputId": "e890f57a-2274-4d46-b14e-70a972261fe9"
      },
      "source": [
        "df1.join(df2, 'name', how='inner').show()"
      ],
      "execution_count": 62,
      "outputs": [
        {
          "output_type": "stream",
          "name": "stdout",
          "text": [
            "+----+----+-----+------+------+\n",
            "|name| pet|count|  pet2|count2|\n",
            "+----+----+-----+------+------+\n",
            "| Bob|fish|    5|lizard|     5|\n",
            "| Kim| dog|    1|   ant|   179|\n",
            "| Sue| cat|   16| eagle|     2|\n",
            "+----+----+-----+------+------+\n",
            "\n"
          ]
        }
      ]
    },
    {
      "cell_type": "markdown",
      "metadata": {
        "id": "uLqwPLL_DBJP"
      },
      "source": [
        "## Практика 4. При помощи операции соединения выведите максимальное, минимальное и среднее (avg) количество (Amount) по продукту"
      ]
    },
    {
      "cell_type": "code",
      "metadata": {
        "id": "M1b6U2XYDAQe",
        "colab": {
          "base_uri": "https://localhost:8080/"
        },
        "outputId": "58b41476-efff-49bb-fff9-670b62422acb"
      },
      "source": [
        "result = df_pr_max.join(df_pr_min, 'Product', how='inner').show()\n",
        "#max('Amount')."
      ],
      "execution_count": 71,
      "outputs": [
        {
          "output_type": "stream",
          "name": "stdout",
          "text": [
            "+-------+-----------+-----------+\n",
            "|Product|max(Amount)|min(Amount)|\n",
            "+-------+-----------+-----------+\n",
            "|     _5|          6|          1|\n",
            "|     _2|          8|          1|\n",
            "|     A2|          2|          2|\n",
            "|     _8|         10|          1|\n",
            "|     _3|          7|          2|\n",
            "|     _4|          3|          1|\n",
            "|     _6|          4|          4|\n",
            "|     A4|          3|          1|\n",
            "|     A5|          7|          2|\n",
            "|     A1|          9|          2|\n",
            "+-------+-----------+-----------+\n",
            "\n"
          ]
        }
      ]
    },
    {
      "cell_type": "code",
      "source": [
        "df_pr_avg = df_practice.groupBy('Product').avg('Amount').show()\n",
        "#df_pr_max.join(df_pr_min, 'Product', how='inner').show()"
      ],
      "metadata": {
        "colab": {
          "base_uri": "https://localhost:8080/"
        },
        "id": "9rXKbidug7_z",
        "outputId": "b0de5785-8d6c-43b5-f306-d8c34e399ada"
      },
      "execution_count": 72,
      "outputs": [
        {
          "output_type": "stream",
          "name": "stdout",
          "text": [
            "+-------+------------------+\n",
            "|Product|       avg(Amount)|\n",
            "+-------+------------------+\n",
            "|     _5|3.5454545454545454|\n",
            "|     _2|              4.75|\n",
            "|     A2|               2.0|\n",
            "|     _8|               3.5|\n",
            "|     _3| 4.285714285714286|\n",
            "|     _4|               2.0|\n",
            "|     _6|               4.0|\n",
            "|     A4|               2.0|\n",
            "|     A5|               4.0|\n",
            "|     A1|               5.6|\n",
            "+-------+------------------+\n",
            "\n"
          ]
        }
      ]
    },
    {
      "cell_type": "code",
      "source": [
        "result.join(df_pr_avg, 'Product', how='inner').show()"
      ],
      "metadata": {
        "colab": {
          "base_uri": "https://localhost:8080/",
          "height": 166
        },
        "id": "zkTohaduhUw3",
        "outputId": "bcfeef7c-584b-499c-b4ce-881078d67e7e"
      },
      "execution_count": 73,
      "outputs": [
        {
          "output_type": "error",
          "ename": "AttributeError",
          "evalue": "ignored",
          "traceback": [
            "\u001b[0;31m---------------------------------------------------------------------------\u001b[0m",
            "\u001b[0;31mAttributeError\u001b[0m                            Traceback (most recent call last)",
            "\u001b[0;32m<ipython-input-73-cd4ccabad6bb>\u001b[0m in \u001b[0;36m<cell line: 1>\u001b[0;34m()\u001b[0m\n\u001b[0;32m----> 1\u001b[0;31m \u001b[0mresult\u001b[0m\u001b[0;34m.\u001b[0m\u001b[0mjoin\u001b[0m\u001b[0;34m(\u001b[0m\u001b[0mdf_pr_avg\u001b[0m\u001b[0;34m,\u001b[0m \u001b[0;34m'Product'\u001b[0m\u001b[0;34m,\u001b[0m \u001b[0mhow\u001b[0m\u001b[0;34m=\u001b[0m\u001b[0;34m'inner'\u001b[0m\u001b[0;34m)\u001b[0m\u001b[0;34m.\u001b[0m\u001b[0mshow\u001b[0m\u001b[0;34m(\u001b[0m\u001b[0;34m)\u001b[0m\u001b[0;34m\u001b[0m\u001b[0;34m\u001b[0m\u001b[0m\n\u001b[0m",
            "\u001b[0;31mAttributeError\u001b[0m: 'NoneType' object has no attribute 'join'"
          ]
        }
      ]
    },
    {
      "cell_type": "markdown",
      "metadata": {
        "id": "Nrz0MQafAuNE"
      },
      "source": [
        "## Визуализация"
      ]
    },
    {
      "cell_type": "code",
      "metadata": {
        "id": "Zr1qsEHkApOt"
      },
      "source": [
        "import pandas as pd\n",
        "import matplotlib.pyplot as plt\n",
        "%matplotlib inline"
      ],
      "execution_count": 74,
      "outputs": []
    },
    {
      "cell_type": "code",
      "metadata": {
        "id": "O8d78LMDA4SY",
        "colab": {
          "base_uri": "https://localhost:8080/"
        },
        "outputId": "e2c84273-6a91-4da2-8043-7a75d09d2b3e"
      },
      "source": [
        "to_show = df.groupby('year').sum('quantity').orderBy('year')\n",
        "to_show.show()"
      ],
      "execution_count": 75,
      "outputs": [
        {
          "output_type": "stream",
          "name": "stdout",
          "text": [
            "+----+------------------+\n",
            "|year|     sum(quantity)|\n",
            "+----+------------------+\n",
            "|1990| 3534329.185611153|\n",
            "|1991|3603596.1033885516|\n",
            "|1992|4078069.0829531616|\n",
            "|1993|4056995.0016569733|\n",
            "|1994| 4856814.906840888|\n",
            "|1995| 5512704.113805817|\n",
            "|1996| 5199698.165626067|\n",
            "|1997| 4997670.443066493|\n",
            "|1998| 4901531.294064315|\n",
            "|1999| 5314782.684520681|\n",
            "|2000| 5372394.841336022|\n",
            "|2001|  5126504.06117832|\n",
            "|2002|  5129332.49831083|\n",
            "|2003| 5420124.927575693|\n",
            "|2004| 6184140.334759471|\n",
            "|2005| 7154853.910414123|\n",
            "|2006| 6446494.878064644|\n",
            "|2007| 7032882.458447435|\n",
            "|2008| 7146567.517011358|\n",
            "|2009| 6797324.122980741|\n",
            "+----+------------------+\n",
            "only showing top 20 rows\n",
            "\n"
          ]
        }
      ]
    },
    {
      "cell_type": "code",
      "metadata": {
        "id": "24dKhvwoAyP8"
      },
      "source": [
        "pd_df = to_show.toPandas()"
      ],
      "execution_count": 76,
      "outputs": []
    },
    {
      "cell_type": "code",
      "metadata": {
        "id": "JsNS_OWxA0cS",
        "colab": {
          "base_uri": "https://localhost:8080/",
          "height": 462
        },
        "outputId": "1693689d-976f-4a07-e3bb-8a8ceb21c963"
      },
      "source": [
        "pd_df['sum(quantity)'].plot()"
      ],
      "execution_count": 77,
      "outputs": [
        {
          "output_type": "execute_result",
          "data": {
            "text/plain": [
              "<Axes: >"
            ]
          },
          "metadata": {},
          "execution_count": 77
        },
        {
          "output_type": "display_data",
          "data": {
            "text/plain": [
              "<Figure size 640x480 with 1 Axes>"
            ],
            "image/png": "[encoded data removed]"
          },
          "metadata": {}
        }
      ]
    },
    {
      "cell_type": "code",
      "metadata": {
        "id": "l7-hNianA7Gb"
      },
      "source": [
        "years = to_show[['year']].collect()\n",
        "sums = to_show[['sum(quantity)']].collect()"
      ],
      "execution_count": 78,
      "outputs": []
    },
    {
      "cell_type": "code",
      "metadata": {
        "id": "rz0NWYznA_nw",
        "colab": {
          "base_uri": "https://localhost:8080/",
          "height": 445
        },
        "outputId": "67a9eed1-1c34-466a-9782-a46a11f26302"
      },
      "source": [
        "plt.figure()\n",
        "plt.plot(years, sums)\n",
        "plt.show()"
      ],
      "execution_count": 79,
      "outputs": [
        {
          "output_type": "display_data",
          "data": {
            "text/plain": [
              "<Figure size 640x480 with 1 Axes>"
            ],
            "image/png": "[encoded data removed]"
          },
          "metadata": {}
        }
      ]
    },
    {
      "cell_type": "markdown",
      "metadata": {
        "id": "OA44u9RCDO0W"
      },
      "source": [
        "# Домашнее задание\n",
        "- Скачайте dataset iris https://drive.google.com/file/d/18ksAxTxBkp15LToEg46BHhwp3sPIoeUU/view?usp=sharing\n",
        "- Решите домашнее задание - https://colab.research.google.com/drive/1bFOzJNdQzITORtur_m0utqfDJ0QbGe7D?usp=sharing"
      ]
    },
    {
      "cell_type": "code",
      "metadata": {
        "id": "lz0L_tE9Fvls"
      },
      "source": [],
      "execution_count": null,
      "outputs": []
    }
  ]
}